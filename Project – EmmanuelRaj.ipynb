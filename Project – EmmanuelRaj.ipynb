{
 "cells": [
  {
   "cell_type": "markdown",
   "metadata": {},
   "source": [
    "some prereading: \n",
    "\n",
    "[Approaching (Almost) Any Machine Learning Problem](http://blog.kaggle.com/2016/07/21/approaching-almost-any-machine-learning-problem-abhishek-thakur/)\n"
   ]
  },
  {
   "cell_type": "markdown",
   "metadata": {},
   "source": [
    "# Step 1 - get data"
   ]
  },
  {
   "cell_type": "code",
   "execution_count": 1,
   "metadata": {},
   "outputs": [],
   "source": [
    "import datetime as dt\n",
    "import numpy as np\n",
    "import pandas as pd\n",
    "import matplotlib.pyplot as plt\n",
    "# https://stackoverflow.com/a/50970152\n",
    "pd.core.common.is_list_like = pd.api.types.is_list_like\n",
    "# you have to install pandas_datareader module i Anaconda Navigator:\n",
    "# http://docs.anaconda.com/anaconda/navigator/tutorials/manage-packages/\n",
    "from pandas_datareader.data import DataReader"
   ]
  },
  {
   "cell_type": "code",
   "execution_count": 2,
   "metadata": {},
   "outputs": [],
   "source": [
    "# Define timeframe of stocks we retreive \n",
    "end = dt.datetime.now() \n",
    "start = end - dt.timedelta(days=5*365)"
   ]
  },
  {
   "cell_type": "code",
   "execution_count": 3,
   "metadata": {},
   "outputs": [
    {
     "name": "stdout",
     "output_type": "stream",
     "text": [
      "5y\n"
     ]
    },
    {
     "data": {
      "text/html": [
       "<div>\n",
       "<style scoped>\n",
       "    .dataframe tbody tr th:only-of-type {\n",
       "        vertical-align: middle;\n",
       "    }\n",
       "\n",
       "    .dataframe tbody tr th {\n",
       "        vertical-align: top;\n",
       "    }\n",
       "\n",
       "    .dataframe thead th {\n",
       "        text-align: right;\n",
       "    }\n",
       "</style>\n",
       "<table border=\"1\" class=\"dataframe\">\n",
       "  <thead>\n",
       "    <tr style=\"text-align: right;\">\n",
       "      <th></th>\n",
       "      <th>open</th>\n",
       "      <th>high</th>\n",
       "      <th>low</th>\n",
       "      <th>close</th>\n",
       "      <th>volume</th>\n",
       "    </tr>\n",
       "    <tr>\n",
       "      <th>date</th>\n",
       "      <th></th>\n",
       "      <th></th>\n",
       "      <th></th>\n",
       "      <th></th>\n",
       "      <th></th>\n",
       "    </tr>\n",
       "  </thead>\n",
       "  <tbody>\n",
       "    <tr>\n",
       "      <th>2013-10-11</th>\n",
       "      <td>17.89</td>\n",
       "      <td>18.005</td>\n",
       "      <td>16.56</td>\n",
       "      <td>16.840</td>\n",
       "      <td>153906087</td>\n",
       "    </tr>\n",
       "    <tr>\n",
       "      <th>2013-10-14</th>\n",
       "      <td>16.57</td>\n",
       "      <td>17.150</td>\n",
       "      <td>16.17</td>\n",
       "      <td>17.070</td>\n",
       "      <td>62909462</td>\n",
       "    </tr>\n",
       "    <tr>\n",
       "      <th>2013-10-15</th>\n",
       "      <td>17.08</td>\n",
       "      <td>17.430</td>\n",
       "      <td>16.84</td>\n",
       "      <td>16.920</td>\n",
       "      <td>63043897</td>\n",
       "    </tr>\n",
       "    <tr>\n",
       "      <th>2013-10-16</th>\n",
       "      <td>17.08</td>\n",
       "      <td>17.300</td>\n",
       "      <td>16.91</td>\n",
       "      <td>16.960</td>\n",
       "      <td>49096355</td>\n",
       "    </tr>\n",
       "    <tr>\n",
       "      <th>2013-10-17</th>\n",
       "      <td>17.00</td>\n",
       "      <td>17.160</td>\n",
       "      <td>16.74</td>\n",
       "      <td>17.145</td>\n",
       "      <td>40714771</td>\n",
       "    </tr>\n",
       "  </tbody>\n",
       "</table>\n",
       "</div>"
      ],
      "text/plain": [
       "             open    high    low   close     volume\n",
       "date                                               \n",
       "2013-10-11  17.89  18.005  16.56  16.840  153906087\n",
       "2013-10-14  16.57  17.150  16.17  17.070   62909462\n",
       "2013-10-15  17.08  17.430  16.84  16.920   63043897\n",
       "2013-10-16  17.08  17.300  16.91  16.960   49096355\n",
       "2013-10-17  17.00  17.160  16.74  17.145   40714771"
      ]
     },
     "execution_count": 3,
     "metadata": {},
     "output_type": "execute_result"
    }
   ],
   "source": [
    "# Use DataReader to get Apples stock data from IEX https://iextrading.com/developer/\n",
    "# df = DataReader('AAPL','iex', start, end)\n",
    "df = DataReader('MU','iex', start, end)\n",
    "df.head()"
   ]
  },
  {
   "cell_type": "code",
   "execution_count": 4,
   "metadata": {
    "scrolled": true
   },
   "outputs": [
    {
     "data": {
      "text/html": [
       "<div>\n",
       "<style scoped>\n",
       "    .dataframe tbody tr th:only-of-type {\n",
       "        vertical-align: middle;\n",
       "    }\n",
       "\n",
       "    .dataframe tbody tr th {\n",
       "        vertical-align: top;\n",
       "    }\n",
       "\n",
       "    .dataframe thead th {\n",
       "        text-align: right;\n",
       "    }\n",
       "</style>\n",
       "<table border=\"1\" class=\"dataframe\">\n",
       "  <thead>\n",
       "    <tr style=\"text-align: right;\">\n",
       "      <th></th>\n",
       "      <th>open</th>\n",
       "      <th>high</th>\n",
       "      <th>low</th>\n",
       "      <th>close</th>\n",
       "      <th>volume</th>\n",
       "    </tr>\n",
       "    <tr>\n",
       "      <th>date</th>\n",
       "      <th></th>\n",
       "      <th></th>\n",
       "      <th></th>\n",
       "      <th></th>\n",
       "      <th></th>\n",
       "    </tr>\n",
       "  </thead>\n",
       "  <tbody>\n",
       "    <tr>\n",
       "      <th>2018-10-03</th>\n",
       "      <td>46.28</td>\n",
       "      <td>46.415</td>\n",
       "      <td>44.7148</td>\n",
       "      <td>45.15</td>\n",
       "      <td>29505110</td>\n",
       "    </tr>\n",
       "    <tr>\n",
       "      <th>2018-10-04</th>\n",
       "      <td>44.50</td>\n",
       "      <td>44.750</td>\n",
       "      <td>43.5100</td>\n",
       "      <td>44.16</td>\n",
       "      <td>34579572</td>\n",
       "    </tr>\n",
       "    <tr>\n",
       "      <th>2018-10-05</th>\n",
       "      <td>44.08</td>\n",
       "      <td>44.630</td>\n",
       "      <td>42.8100</td>\n",
       "      <td>43.58</td>\n",
       "      <td>35367076</td>\n",
       "    </tr>\n",
       "    <tr>\n",
       "      <th>2018-10-08</th>\n",
       "      <td>43.28</td>\n",
       "      <td>43.850</td>\n",
       "      <td>42.6100</td>\n",
       "      <td>43.07</td>\n",
       "      <td>27426552</td>\n",
       "    </tr>\n",
       "    <tr>\n",
       "      <th>2018-10-09</th>\n",
       "      <td>42.81</td>\n",
       "      <td>43.040</td>\n",
       "      <td>41.9800</td>\n",
       "      <td>42.27</td>\n",
       "      <td>31576374</td>\n",
       "    </tr>\n",
       "  </tbody>\n",
       "</table>\n",
       "</div>"
      ],
      "text/plain": [
       "             open    high      low  close    volume\n",
       "date                                               \n",
       "2018-10-03  46.28  46.415  44.7148  45.15  29505110\n",
       "2018-10-04  44.50  44.750  43.5100  44.16  34579572\n",
       "2018-10-05  44.08  44.630  42.8100  43.58  35367076\n",
       "2018-10-08  43.28  43.850  42.6100  43.07  27426552\n",
       "2018-10-09  42.81  43.040  41.9800  42.27  31576374"
      ]
     },
     "execution_count": 4,
     "metadata": {},
     "output_type": "execute_result"
    }
   ],
   "source": [
    "df.tail()"
   ]
  },
  {
   "cell_type": "code",
   "execution_count": 5,
   "metadata": {},
   "outputs": [],
   "source": [
    "df.index = pd.to_datetime(df.index, format='%Y-%m-%d')"
   ]
  },
  {
   "cell_type": "code",
   "execution_count": 6,
   "metadata": {
    "scrolled": false
   },
   "outputs": [
    {
     "data": {
      "text/plain": [
       "<matplotlib.axes._subplots.AxesSubplot at 0x16a8e0d4940>"
      ]
     },
     "execution_count": 6,
     "metadata": {},
     "output_type": "execute_result"
    },
    {
     "data": {
      "image/png": "[encoded data removed]",
      "text/plain": [
       "<Figure size 864x576 with 1 Axes>"
      ]
     },
     "metadata": {},
     "output_type": "display_data"
    }
   ],
   "source": [
    "df.close.plot(figsize=(12,8), title='MU')"
   ]
  },
  {
   "cell_type": "code",
   "execution_count": null,
   "metadata": {},
   "outputs": [],
   "source": []
  },
  {
   "cell_type": "markdown",
   "metadata": {},
   "source": [
    "# Step 2 - implement 2 features and visualize the price and the features in the same graph"
   ]
  },
  {
   "cell_type": "code",
   "execution_count": 7,
   "metadata": {},
   "outputs": [
    {
     "data": {
      "text/plain": [
       "<matplotlib.axes._subplots.AxesSubplot at 0x16a8e4ce6a0>"
      ]
     },
     "execution_count": 7,
     "metadata": {},
     "output_type": "execute_result"
    },
    {
     "data": {
      "image/png": "[encoded data removed]",
      "text/plain": [
       "<Figure size 864x576 with 1 Axes>"
      ]
     },
     "metadata": {},
     "output_type": "display_data"
    }
   ],
   "source": [
    "# https://www.investopedia.com/articles/technical/081501.asp\n",
    "\n",
    "#Feature 1\n",
    "df['momentum'] = df.close - df.close.shift(4)\n",
    "df[['close', 'momentum']].plot(figsize=(12,8), title='MU')"
   ]
  },
  {
   "cell_type": "code",
   "execution_count": 8,
   "metadata": {},
   "outputs": [],
   "source": [
    "#Feature 2\n",
    "df[\"ROC_3\"] = df.close / df.close.shift(3) * 100"
   ]
  },
  {
   "cell_type": "code",
   "execution_count": 9,
   "metadata": {},
   "outputs": [
    {
     "data": {
      "text/html": [
       "<div>\n",
       "<style scoped>\n",
       "    .dataframe tbody tr th:only-of-type {\n",
       "        vertical-align: middle;\n",
       "    }\n",
       "\n",
       "    .dataframe tbody tr th {\n",
       "        vertical-align: top;\n",
       "    }\n",
       "\n",
       "    .dataframe thead th {\n",
       "        text-align: right;\n",
       "    }\n",
       "</style>\n",
       "<table border=\"1\" class=\"dataframe\">\n",
       "  <thead>\n",
       "    <tr style=\"text-align: right;\">\n",
       "      <th></th>\n",
       "      <th>open</th>\n",
       "      <th>high</th>\n",
       "      <th>low</th>\n",
       "      <th>close</th>\n",
       "      <th>volume</th>\n",
       "      <th>momentum</th>\n",
       "      <th>ROC_3</th>\n",
       "    </tr>\n",
       "    <tr>\n",
       "      <th>date</th>\n",
       "      <th></th>\n",
       "      <th></th>\n",
       "      <th></th>\n",
       "      <th></th>\n",
       "      <th></th>\n",
       "      <th></th>\n",
       "      <th></th>\n",
       "    </tr>\n",
       "  </thead>\n",
       "  <tbody>\n",
       "    <tr>\n",
       "      <th>2013-10-11</th>\n",
       "      <td>17.89</td>\n",
       "      <td>18.005</td>\n",
       "      <td>16.56</td>\n",
       "      <td>16.840</td>\n",
       "      <td>153906087</td>\n",
       "      <td>NaN</td>\n",
       "      <td>NaN</td>\n",
       "    </tr>\n",
       "    <tr>\n",
       "      <th>2013-10-14</th>\n",
       "      <td>16.57</td>\n",
       "      <td>17.150</td>\n",
       "      <td>16.17</td>\n",
       "      <td>17.070</td>\n",
       "      <td>62909462</td>\n",
       "      <td>NaN</td>\n",
       "      <td>NaN</td>\n",
       "    </tr>\n",
       "    <tr>\n",
       "      <th>2013-10-15</th>\n",
       "      <td>17.08</td>\n",
       "      <td>17.430</td>\n",
       "      <td>16.84</td>\n",
       "      <td>16.920</td>\n",
       "      <td>63043897</td>\n",
       "      <td>NaN</td>\n",
       "      <td>NaN</td>\n",
       "    </tr>\n",
       "    <tr>\n",
       "      <th>2013-10-16</th>\n",
       "      <td>17.08</td>\n",
       "      <td>17.300</td>\n",
       "      <td>16.91</td>\n",
       "      <td>16.960</td>\n",
       "      <td>49096355</td>\n",
       "      <td>NaN</td>\n",
       "      <td>100.712589</td>\n",
       "    </tr>\n",
       "    <tr>\n",
       "      <th>2013-10-17</th>\n",
       "      <td>17.00</td>\n",
       "      <td>17.160</td>\n",
       "      <td>16.74</td>\n",
       "      <td>17.145</td>\n",
       "      <td>40714771</td>\n",
       "      <td>0.305</td>\n",
       "      <td>100.439367</td>\n",
       "    </tr>\n",
       "    <tr>\n",
       "      <th>2013-10-18</th>\n",
       "      <td>17.17</td>\n",
       "      <td>17.250</td>\n",
       "      <td>16.96</td>\n",
       "      <td>17.029</td>\n",
       "      <td>34970601</td>\n",
       "      <td>-0.041</td>\n",
       "      <td>100.644208</td>\n",
       "    </tr>\n",
       "    <tr>\n",
       "      <th>2013-10-21</th>\n",
       "      <td>17.03</td>\n",
       "      <td>17.140</td>\n",
       "      <td>16.51</td>\n",
       "      <td>16.565</td>\n",
       "      <td>44886230</td>\n",
       "      <td>-0.355</td>\n",
       "      <td>97.670991</td>\n",
       "    </tr>\n",
       "    <tr>\n",
       "      <th>2013-10-22</th>\n",
       "      <td>16.70</td>\n",
       "      <td>16.940</td>\n",
       "      <td>16.40</td>\n",
       "      <td>16.760</td>\n",
       "      <td>48362787</td>\n",
       "      <td>-0.200</td>\n",
       "      <td>97.754447</td>\n",
       "    </tr>\n",
       "    <tr>\n",
       "      <th>2013-10-23</th>\n",
       "      <td>16.49</td>\n",
       "      <td>16.590</td>\n",
       "      <td>16.35</td>\n",
       "      <td>16.551</td>\n",
       "      <td>39252098</td>\n",
       "      <td>-0.594</td>\n",
       "      <td>97.193024</td>\n",
       "    </tr>\n",
       "    <tr>\n",
       "      <th>2013-10-24</th>\n",
       "      <td>16.43</td>\n",
       "      <td>16.920</td>\n",
       "      <td>16.40</td>\n",
       "      <td>16.830</td>\n",
       "      <td>30291279</td>\n",
       "      <td>-0.199</td>\n",
       "      <td>101.599759</td>\n",
       "    </tr>\n",
       "  </tbody>\n",
       "</table>\n",
       "</div>"
      ],
      "text/plain": [
       "             open    high    low   close     volume  momentum       ROC_3\n",
       "date                                                                     \n",
       "2013-10-11  17.89  18.005  16.56  16.840  153906087       NaN         NaN\n",
       "2013-10-14  16.57  17.150  16.17  17.070   62909462       NaN         NaN\n",
       "2013-10-15  17.08  17.430  16.84  16.920   63043897       NaN         NaN\n",
       "2013-10-16  17.08  17.300  16.91  16.960   49096355       NaN  100.712589\n",
       "2013-10-17  17.00  17.160  16.74  17.145   40714771     0.305  100.439367\n",
       "2013-10-18  17.17  17.250  16.96  17.029   34970601    -0.041  100.644208\n",
       "2013-10-21  17.03  17.140  16.51  16.565   44886230    -0.355   97.670991\n",
       "2013-10-22  16.70  16.940  16.40  16.760   48362787    -0.200   97.754447\n",
       "2013-10-23  16.49  16.590  16.35  16.551   39252098    -0.594   97.193024\n",
       "2013-10-24  16.43  16.920  16.40  16.830   30291279    -0.199  101.599759"
      ]
     },
     "execution_count": 9,
     "metadata": {},
     "output_type": "execute_result"
    }
   ],
   "source": [
    "df.head(10)"
   ]
  },
  {
   "cell_type": "markdown",
   "metadata": {},
   "source": [
    "# Step 3 - do a regression based on the features, forecast 1-day ahead"
   ]
  },
  {
   "cell_type": "code",
   "execution_count": 10,
   "metadata": {},
   "outputs": [],
   "source": [
    "df['Label'] = df[\"close\"].shift(-1)"
   ]
  },
  {
   "cell_type": "code",
   "execution_count": 11,
   "metadata": {},
   "outputs": [
    {
     "data": {
      "text/html": [
       "<div>\n",
       "<style scoped>\n",
       "    .dataframe tbody tr th:only-of-type {\n",
       "        vertical-align: middle;\n",
       "    }\n",
       "\n",
       "    .dataframe tbody tr th {\n",
       "        vertical-align: top;\n",
       "    }\n",
       "\n",
       "    .dataframe thead th {\n",
       "        text-align: right;\n",
       "    }\n",
       "</style>\n",
       "<table border=\"1\" class=\"dataframe\">\n",
       "  <thead>\n",
       "    <tr style=\"text-align: right;\">\n",
       "      <th></th>\n",
       "      <th>open</th>\n",
       "      <th>high</th>\n",
       "      <th>low</th>\n",
       "      <th>close</th>\n",
       "      <th>volume</th>\n",
       "      <th>momentum</th>\n",
       "      <th>ROC_3</th>\n",
       "      <th>Label</th>\n",
       "    </tr>\n",
       "    <tr>\n",
       "      <th>date</th>\n",
       "      <th></th>\n",
       "      <th></th>\n",
       "      <th></th>\n",
       "      <th></th>\n",
       "      <th></th>\n",
       "      <th></th>\n",
       "      <th></th>\n",
       "      <th></th>\n",
       "    </tr>\n",
       "  </thead>\n",
       "  <tbody>\n",
       "    <tr>\n",
       "      <th>2013-10-11</th>\n",
       "      <td>17.89</td>\n",
       "      <td>18.005</td>\n",
       "      <td>16.56</td>\n",
       "      <td>16.840</td>\n",
       "      <td>153906087</td>\n",
       "      <td>NaN</td>\n",
       "      <td>NaN</td>\n",
       "      <td>17.070</td>\n",
       "    </tr>\n",
       "    <tr>\n",
       "      <th>2013-10-14</th>\n",
       "      <td>16.57</td>\n",
       "      <td>17.150</td>\n",
       "      <td>16.17</td>\n",
       "      <td>17.070</td>\n",
       "      <td>62909462</td>\n",
       "      <td>NaN</td>\n",
       "      <td>NaN</td>\n",
       "      <td>16.920</td>\n",
       "    </tr>\n",
       "    <tr>\n",
       "      <th>2013-10-15</th>\n",
       "      <td>17.08</td>\n",
       "      <td>17.430</td>\n",
       "      <td>16.84</td>\n",
       "      <td>16.920</td>\n",
       "      <td>63043897</td>\n",
       "      <td>NaN</td>\n",
       "      <td>NaN</td>\n",
       "      <td>16.960</td>\n",
       "    </tr>\n",
       "    <tr>\n",
       "      <th>2013-10-16</th>\n",
       "      <td>17.08</td>\n",
       "      <td>17.300</td>\n",
       "      <td>16.91</td>\n",
       "      <td>16.960</td>\n",
       "      <td>49096355</td>\n",
       "      <td>NaN</td>\n",
       "      <td>100.712589</td>\n",
       "      <td>17.145</td>\n",
       "    </tr>\n",
       "    <tr>\n",
       "      <th>2013-10-17</th>\n",
       "      <td>17.00</td>\n",
       "      <td>17.160</td>\n",
       "      <td>16.74</td>\n",
       "      <td>17.145</td>\n",
       "      <td>40714771</td>\n",
       "      <td>0.305</td>\n",
       "      <td>100.439367</td>\n",
       "      <td>17.029</td>\n",
       "    </tr>\n",
       "  </tbody>\n",
       "</table>\n",
       "</div>"
      ],
      "text/plain": [
       "             open    high    low   close     volume  momentum       ROC_3  \\\n",
       "date                                                                        \n",
       "2013-10-11  17.89  18.005  16.56  16.840  153906087       NaN         NaN   \n",
       "2013-10-14  16.57  17.150  16.17  17.070   62909462       NaN         NaN   \n",
       "2013-10-15  17.08  17.430  16.84  16.920   63043897       NaN         NaN   \n",
       "2013-10-16  17.08  17.300  16.91  16.960   49096355       NaN  100.712589   \n",
       "2013-10-17  17.00  17.160  16.74  17.145   40714771     0.305  100.439367   \n",
       "\n",
       "             Label  \n",
       "date                \n",
       "2013-10-11  17.070  \n",
       "2013-10-14  16.920  \n",
       "2013-10-15  16.960  \n",
       "2013-10-16  17.145  \n",
       "2013-10-17  17.029  "
      ]
     },
     "execution_count": 11,
     "metadata": {},
     "output_type": "execute_result"
    }
   ],
   "source": [
    "df.head()"
   ]
  },
  {
   "cell_type": "code",
   "execution_count": 12,
   "metadata": {},
   "outputs": [],
   "source": [
    "df.dropna(inplace=True)"
   ]
  },
  {
   "cell_type": "code",
   "execution_count": 13,
   "metadata": {},
   "outputs": [
    {
     "data": {
      "text/html": [
       "<div>\n",
       "<style scoped>\n",
       "    .dataframe tbody tr th:only-of-type {\n",
       "        vertical-align: middle;\n",
       "    }\n",
       "\n",
       "    .dataframe tbody tr th {\n",
       "        vertical-align: top;\n",
       "    }\n",
       "\n",
       "    .dataframe thead th {\n",
       "        text-align: right;\n",
       "    }\n",
       "</style>\n",
       "<table border=\"1\" class=\"dataframe\">\n",
       "  <thead>\n",
       "    <tr style=\"text-align: right;\">\n",
       "      <th></th>\n",
       "      <th>open</th>\n",
       "      <th>high</th>\n",
       "      <th>low</th>\n",
       "      <th>close</th>\n",
       "      <th>volume</th>\n",
       "      <th>momentum</th>\n",
       "      <th>ROC_3</th>\n",
       "      <th>Label</th>\n",
       "    </tr>\n",
       "    <tr>\n",
       "      <th>date</th>\n",
       "      <th></th>\n",
       "      <th></th>\n",
       "      <th></th>\n",
       "      <th></th>\n",
       "      <th></th>\n",
       "      <th></th>\n",
       "      <th></th>\n",
       "      <th></th>\n",
       "    </tr>\n",
       "  </thead>\n",
       "  <tbody>\n",
       "    <tr>\n",
       "      <th>2013-10-17</th>\n",
       "      <td>17.00</td>\n",
       "      <td>17.16</td>\n",
       "      <td>16.74</td>\n",
       "      <td>17.145</td>\n",
       "      <td>40714771</td>\n",
       "      <td>0.305</td>\n",
       "      <td>100.439367</td>\n",
       "      <td>17.029</td>\n",
       "    </tr>\n",
       "    <tr>\n",
       "      <th>2013-10-18</th>\n",
       "      <td>17.17</td>\n",
       "      <td>17.25</td>\n",
       "      <td>16.96</td>\n",
       "      <td>17.029</td>\n",
       "      <td>34970601</td>\n",
       "      <td>-0.041</td>\n",
       "      <td>100.644208</td>\n",
       "      <td>16.565</td>\n",
       "    </tr>\n",
       "    <tr>\n",
       "      <th>2013-10-21</th>\n",
       "      <td>17.03</td>\n",
       "      <td>17.14</td>\n",
       "      <td>16.51</td>\n",
       "      <td>16.565</td>\n",
       "      <td>44886230</td>\n",
       "      <td>-0.355</td>\n",
       "      <td>97.670991</td>\n",
       "      <td>16.760</td>\n",
       "    </tr>\n",
       "    <tr>\n",
       "      <th>2013-10-22</th>\n",
       "      <td>16.70</td>\n",
       "      <td>16.94</td>\n",
       "      <td>16.40</td>\n",
       "      <td>16.760</td>\n",
       "      <td>48362787</td>\n",
       "      <td>-0.200</td>\n",
       "      <td>97.754447</td>\n",
       "      <td>16.551</td>\n",
       "    </tr>\n",
       "    <tr>\n",
       "      <th>2013-10-23</th>\n",
       "      <td>16.49</td>\n",
       "      <td>16.59</td>\n",
       "      <td>16.35</td>\n",
       "      <td>16.551</td>\n",
       "      <td>39252098</td>\n",
       "      <td>-0.594</td>\n",
       "      <td>97.193024</td>\n",
       "      <td>16.830</td>\n",
       "    </tr>\n",
       "  </tbody>\n",
       "</table>\n",
       "</div>"
      ],
      "text/plain": [
       "             open   high    low   close    volume  momentum       ROC_3  \\\n",
       "date                                                                      \n",
       "2013-10-17  17.00  17.16  16.74  17.145  40714771     0.305  100.439367   \n",
       "2013-10-18  17.17  17.25  16.96  17.029  34970601    -0.041  100.644208   \n",
       "2013-10-21  17.03  17.14  16.51  16.565  44886230    -0.355   97.670991   \n",
       "2013-10-22  16.70  16.94  16.40  16.760  48362787    -0.200   97.754447   \n",
       "2013-10-23  16.49  16.59  16.35  16.551  39252098    -0.594   97.193024   \n",
       "\n",
       "             Label  \n",
       "date                \n",
       "2013-10-17  17.029  \n",
       "2013-10-18  16.565  \n",
       "2013-10-21  16.760  \n",
       "2013-10-22  16.551  \n",
       "2013-10-23  16.830  "
      ]
     },
     "execution_count": 13,
     "metadata": {},
     "output_type": "execute_result"
    }
   ],
   "source": [
    "df.head()"
   ]
  },
  {
   "cell_type": "code",
   "execution_count": 14,
   "metadata": {},
   "outputs": [],
   "source": [
    "from sklearn import model_selection\n",
    "from sklearn import preprocessing\n",
    "from sklearn.linear_model import LinearRegression, ElasticNet, ridge\n",
    "from sklearn.neural_network import MLPClassifier"
   ]
  },
  {
   "cell_type": "code",
   "execution_count": 15,
   "metadata": {},
   "outputs": [],
   "source": [
    "X = np.array(df.drop(['Label', 'volume', 'low', 'high', 'open'], 1))"
   ]
  },
  {
   "cell_type": "code",
   "execution_count": 16,
   "metadata": {},
   "outputs": [
    {
     "data": {
      "text/plain": [
       "array([[ 1.71450000e+01,  3.05000000e-01,  1.00439367e+02],\n",
       "       [ 1.70290000e+01, -4.10000000e-02,  1.00644208e+02],\n",
       "       [ 1.65650000e+01, -3.55000000e-01,  9.76709906e+01],\n",
       "       ...,\n",
       "       [ 4.41600000e+01, -1.07000000e+00,  9.78073090e+01],\n",
       "       [ 4.35800000e+01, -1.57000000e+00,  9.52360140e+01],\n",
       "       [ 4.30700000e+01, -2.69000000e+00,  9.53931340e+01]])"
      ]
     },
     "execution_count": 16,
     "metadata": {},
     "output_type": "execute_result"
    }
   ],
   "source": [
    "X"
   ]
  },
  {
   "cell_type": "code",
   "execution_count": 17,
   "metadata": {},
   "outputs": [],
   "source": [
    "y = np.array(df['Label'])"
   ]
  },
  {
   "cell_type": "code",
   "execution_count": 18,
   "metadata": {},
   "outputs": [
    {
     "data": {
      "text/plain": [
       "array([17.029, 16.565, 16.76 , ..., 43.58 , 43.07 , 42.27 ])"
      ]
     },
     "execution_count": 18,
     "metadata": {},
     "output_type": "execute_result"
    }
   ],
   "source": [
    "y"
   ]
  },
  {
   "cell_type": "code",
   "execution_count": 19,
   "metadata": {},
   "outputs": [],
   "source": [
    "y = y.reshape(-1,1)"
   ]
  },
  {
   "cell_type": "code",
   "execution_count": 20,
   "metadata": {},
   "outputs": [
    {
     "data": {
      "text/plain": [
       "array([[17.029],\n",
       "       [16.565],\n",
       "       [16.76 ],\n",
       "       ...,\n",
       "       [43.58 ],\n",
       "       [43.07 ],\n",
       "       [42.27 ]])"
      ]
     },
     "execution_count": 20,
     "metadata": {},
     "output_type": "execute_result"
    }
   ],
   "source": [
    "y"
   ]
  },
  {
   "cell_type": "code",
   "execution_count": 21,
   "metadata": {},
   "outputs": [],
   "source": [
    "scaler = preprocessing.StandardScaler().fit(y)"
   ]
  },
  {
   "cell_type": "code",
   "execution_count": 22,
   "metadata": {},
   "outputs": [],
   "source": [
    "X = scaler.transform(X)\n",
    "y = scaler.transform(y)"
   ]
  },
  {
   "cell_type": "code",
   "execution_count": 23,
   "metadata": {},
   "outputs": [
    {
     "data": {
      "text/plain": [
       "array([[-0.88225569, -2.21040015,  5.68704078],\n",
       "       [-0.89140443, -2.23768863,  5.70319625],\n",
       "       [-0.92799938, -2.26245332,  5.46870323],\n",
       "       ...,\n",
       "       [ 1.24837511, -2.31884425,  5.47945445],\n",
       "       [ 1.20263141, -2.35827847,  5.27666044],\n",
       "       [ 1.16240851, -2.44661112,  5.28905225]])"
      ]
     },
     "execution_count": 23,
     "metadata": {},
     "output_type": "execute_result"
    }
   ],
   "source": [
    "X"
   ]
  },
  {
   "cell_type": "code",
   "execution_count": 24,
   "metadata": {},
   "outputs": [
    {
     "data": {
      "text/plain": [
       "array([[-0.89140443],\n",
       "       [-0.92799938],\n",
       "       [-0.91262004],\n",
       "       ...,\n",
       "       [ 1.20263141],\n",
       "       [ 1.16240851],\n",
       "       [ 1.09931376]])"
      ]
     },
     "execution_count": 24,
     "metadata": {},
     "output_type": "execute_result"
    }
   ],
   "source": [
    "y"
   ]
  },
  {
   "cell_type": "code",
   "execution_count": 25,
   "metadata": {},
   "outputs": [],
   "source": [
    "from sklearn.model_selection import TimeSeriesSplit"
   ]
  },
  {
   "cell_type": "code",
   "execution_count": 26,
   "metadata": {},
   "outputs": [],
   "source": [
    "tscv = TimeSeriesSplit(n_splits=5)"
   ]
  },
  {
   "cell_type": "code",
   "execution_count": 27,
   "metadata": {},
   "outputs": [],
   "source": [
    "for train_index, test_index in tscv.split(X):\n",
    "    X_train, X_test = X[train_index], X[test_index]\n",
    "    y_train, y_test = y[train_index], y[test_index]"
   ]
  },
  {
   "cell_type": "code",
   "execution_count": 28,
   "metadata": {},
   "outputs": [
    {
     "data": {
      "text/plain": [
       "array([[-0.88225569, -2.21040015,  5.68704078],\n",
       "       [-0.89140443, -2.23768863,  5.70319625],\n",
       "       [-0.92799938, -2.26245332,  5.46870323],\n",
       "       ...,\n",
       "       [ 1.04489454, -2.29833846,  5.57537961],\n",
       "       [ 1.17266141, -2.13902422,  6.3046839 ],\n",
       "       [ 1.17345009, -1.9734005 ,  6.03515215]])"
      ]
     },
     "execution_count": 28,
     "metadata": {},
     "output_type": "execute_result"
    }
   ],
   "source": [
    "X_train"
   ]
  },
  {
   "cell_type": "code",
   "execution_count": 29,
   "metadata": {},
   "outputs": [],
   "source": [
    "linear = LinearRegression()"
   ]
  },
  {
   "cell_type": "code",
   "execution_count": 30,
   "metadata": {},
   "outputs": [
    {
     "data": {
      "text/plain": [
       "LinearRegression(copy_X=True, fit_intercept=True, n_jobs=1, normalize=False)"
      ]
     },
     "execution_count": 30,
     "metadata": {},
     "output_type": "execute_result"
    }
   ],
   "source": [
    "linear.fit(X_train, y_train)"
   ]
  },
  {
   "cell_type": "code",
   "execution_count": 31,
   "metadata": {},
   "outputs": [
    {
     "data": {
      "text/plain": [
       "0.9380260430816013"
      ]
     },
     "execution_count": 31,
     "metadata": {},
     "output_type": "execute_result"
    }
   ],
   "source": [
    "linear.score(X_test, y_test)"
   ]
  },
  {
   "cell_type": "code",
   "execution_count": 32,
   "metadata": {},
   "outputs": [
    {
     "data": {
      "text/plain": [
       "array([[16.52507543]])"
      ]
     },
     "execution_count": 32,
     "metadata": {},
     "output_type": "execute_result"
    }
   ],
   "source": [
    "#Single prediction\n",
    "linear.predict(np.array([[16.565, -0.355, 97.670991]]))"
   ]
  },
  {
   "cell_type": "code",
   "execution_count": 33,
   "metadata": {},
   "outputs": [
    {
     "data": {
      "text/plain": [
       "array([[ 1.1576764 , -2.09249184,  5.92362922],\n",
       "       [ 1.0669777 , -2.21237186,  5.40775036],\n",
       "       [ 1.08196271, -2.32515372,  5.44066122],\n",
       "       [ 1.09694771, -2.31095741,  5.51119188],\n",
       "       [ 1.10956666, -2.28256477,  5.75412998]])"
      ]
     },
     "execution_count": 33,
     "metadata": {},
     "output_type": "execute_result"
    }
   ],
   "source": [
    "X_test[: 5]"
   ]
  },
  {
   "cell_type": "code",
   "execution_count": 34,
   "metadata": {},
   "outputs": [],
   "source": [
    "forecast_set = linear.predict(X_test)"
   ]
  },
  {
   "cell_type": "code",
   "execution_count": 35,
   "metadata": {},
   "outputs": [
    {
     "data": {
      "text/plain": [
       "array([[1.16021273],\n",
       "       [1.06796704],\n",
       "       [1.08108444],\n",
       "       [1.09624279],\n",
       "       [1.10916326]])"
      ]
     },
     "execution_count": 35,
     "metadata": {},
     "output_type": "execute_result"
    }
   ],
   "source": [
    "#First 5 predictions\n",
    "forecast_set[: 5]"
   ]
  },
  {
   "cell_type": "code",
   "execution_count": 36,
   "metadata": {},
   "outputs": [
    {
     "data": {
      "text/plain": [
       "array([[1.0669777 ],\n",
       "       [1.08196271],\n",
       "       [1.09694771],\n",
       "       [1.10956666],\n",
       "       [1.21288431]])"
      ]
     },
     "execution_count": 36,
     "metadata": {},
     "output_type": "execute_result"
    }
   ],
   "source": [
    "#Actual values\n",
    "y_test[: 5]"
   ]
  },
  {
   "cell_type": "code",
   "execution_count": 37,
   "metadata": {},
   "outputs": [],
   "source": [
    "y_test_inv = scaler.inverse_transform(y_test)\n",
    "forecast_set_inv = scaler.inverse_transform(forecast_set)"
   ]
  },
  {
   "cell_type": "code",
   "execution_count": 38,
   "metadata": {},
   "outputs": [
    {
     "data": {
      "text/plain": [
       "array([[43.04215895],\n",
       "       [41.8725441 ],\n",
       "       [42.03886413],\n",
       "       [42.2310621 ],\n",
       "       [42.39488517],\n",
       "       [43.74198537],\n",
       "       [44.01292014],\n",
       "       [45.80458885],\n",
       "       [44.45547488],\n",
       "       [44.13039127]])"
      ]
     },
     "execution_count": 38,
     "metadata": {},
     "output_type": "execute_result"
    }
   ],
   "source": [
    "#First 10 predicted prices\n",
    "forecast_set_inv[: 10]"
   ]
  },
  {
   "cell_type": "code",
   "execution_count": 39,
   "metadata": {},
   "outputs": [
    {
     "data": {
      "text/plain": [
       "array([[41.86],\n",
       "       [42.05],\n",
       "       [42.24],\n",
       "       [42.4 ],\n",
       "       [43.71],\n",
       "       [43.98],\n",
       "       [45.75],\n",
       "       [44.42],\n",
       "       [44.12],\n",
       "       [42.25]])"
      ]
     },
     "execution_count": 39,
     "metadata": {},
     "output_type": "execute_result"
    }
   ],
   "source": [
    "#First 10 actual prices\n",
    "y_test_inv[: 10]"
   ]
  },
  {
   "cell_type": "markdown",
   "metadata": {},
   "source": [
    "# Step 4 - plot (as a line) the regression and expected output, make the plot zoomable"
   ]
  },
  {
   "cell_type": "code",
   "execution_count": 40,
   "metadata": {},
   "outputs": [
    {
     "data": {
      "image/png": "[encoded data removed]",
      "text/plain": [
       "<Figure size 432x288 with 1 Axes>"
      ]
     },
     "metadata": {},
     "output_type": "display_data"
    }
   ],
   "source": [
    "#scatter plot of observed and predicted values\n",
    "import matplotlib.pyplot as plt\n",
    "plt.scatter(y_test,forecast_set)\n",
    "plt.xlabel(\"Input Observation values\")\n",
    "plt.ylabel(\"predicted values one step ahead\")\n",
    "plt.title(\"Linear Regression Model between Actual and predicted closing price\")\n",
    "plt.show()\n",
    "#There is a increasing linear regression between them."
   ]
  },
  {
   "cell_type": "code",
   "execution_count": 41,
   "metadata": {},
   "outputs": [
    {
     "name": "stderr",
     "output_type": "stream",
     "text": [
      "C:\\Users\\jnandikonda\\Anaconda3\\lib\\site-packages\\matplotlib\\axes\\_axes.py:6462: UserWarning: The 'normed' kwarg is deprecated, and has been replaced by the 'density' kwarg.\n",
      "  warnings.warn(\"The 'normed' kwarg is deprecated, and has been \"\n"
     ]
    },
    {
     "data": {
      "text/plain": [
       "<matplotlib.axes._subplots.AxesSubplot at 0x16a90855da0>"
      ]
     },
     "execution_count": 41,
     "metadata": {},
     "output_type": "execute_result"
    },
    {
     "data": {
      "image/png": "[encoded data removed]",
      "text/plain": [
       "<Figure size 432x288 with 1 Axes>"
      ]
     },
     "metadata": {},
     "output_type": "display_data"
    }
   ],
   "source": [
    "# Histogram of residuals show they are normally distributed\n",
    "import seaborn as sns\n",
    "sns.distplot((y_test-forecast_set),axlabel = 'Residual')"
   ]
  },
  {
   "cell_type": "code",
   "execution_count": 42,
   "metadata": {},
   "outputs": [],
   "source": [
    "#resetting the index\n",
    "df.reset_index(inplace=True)"
   ]
  },
  {
   "cell_type": "code",
   "execution_count": 43,
   "metadata": {},
   "outputs": [
    {
     "data": {
      "text/html": [
       "<iframe id=\"igraph\" scrolling=\"no\" style=\"border:none;\" seamless=\"seamless\" src=\"https://plot.ly/~jnandikonda/10.embed\" height=\"525px\" width=\"100%\"></iframe>"
      ],
      "text/plain": [
       "<plotly.tools.PlotlyDisplay object>"
      ]
     },
     "execution_count": 43,
     "metadata": {},
     "output_type": "execute_result"
    }
   ],
   "source": [
    "# Visualizing Actual(Close price) and Predicted(+1 day forecast) price\n",
    "\n",
    "from plotly import __version__\n",
    "from plotly.offline import download_plotlyjs, init_notebook_mode, plot, iplot\n",
    "import plotly.plotly as py\n",
    "import plotly.graph_objs as go\n",
    "\n",
    "\n",
    "\n",
    "\n",
    "trace1 = go.Scatter(x=df.date,y=y_test_inv,name = 'observed close price')\n",
    "trace2 = go.Scatter(x=df.date,y=forecast_set_inv,name = 'predicted price')\n",
    "data = [trace1,trace2]\n",
    "layout = go.Layout(title=\"Actual Vs predicted close price\", xaxis={'title':'Date'}, yaxis={'title':'Prices'})\n",
    "figure = go.Figure(data=data,layout=layout)\n",
    "py.iplot(figure,filename =\"Actual Vs predicted close price\")"
   ]
  },
  {
   "cell_type": "markdown",
   "metadata": {},
   "source": [
    "# Step 5 - add 2 more features from the “Type 2” category of features presented in the paper"
   ]
  },
  {
   "cell_type": "code",
   "execution_count": 44,
   "metadata": {},
   "outputs": [],
   "source": [
    "#Feature 1 from type 2 category OBV\n",
    "df[\"OBV\"] = (df['volume'] * (-df['close'].diff().le(0)*2- 1)).cumsum()"
   ]
  },
  {
   "cell_type": "code",
   "execution_count": 45,
   "metadata": {},
   "outputs": [],
   "source": [
    "#Feature 2 from type 2 category MA5\n",
    "df[\"moving_average5\"] = df[\"close\"].rolling(5).mean()"
   ]
  },
  {
   "cell_type": "code",
   "execution_count": 46,
   "metadata": {},
   "outputs": [
    {
     "data": {
      "text/html": [
       "<div>\n",
       "<style scoped>\n",
       "    .dataframe tbody tr th:only-of-type {\n",
       "        vertical-align: middle;\n",
       "    }\n",
       "\n",
       "    .dataframe tbody tr th {\n",
       "        vertical-align: top;\n",
       "    }\n",
       "\n",
       "    .dataframe thead th {\n",
       "        text-align: right;\n",
       "    }\n",
       "</style>\n",
       "<table border=\"1\" class=\"dataframe\">\n",
       "  <thead>\n",
       "    <tr style=\"text-align: right;\">\n",
       "      <th></th>\n",
       "      <th>date</th>\n",
       "      <th>open</th>\n",
       "      <th>high</th>\n",
       "      <th>low</th>\n",
       "      <th>close</th>\n",
       "      <th>volume</th>\n",
       "      <th>momentum</th>\n",
       "      <th>ROC_3</th>\n",
       "      <th>Label</th>\n",
       "      <th>OBV</th>\n",
       "      <th>moving_average5</th>\n",
       "    </tr>\n",
       "  </thead>\n",
       "  <tbody>\n",
       "    <tr>\n",
       "      <th>0</th>\n",
       "      <td>2013-10-17</td>\n",
       "      <td>17.00</td>\n",
       "      <td>17.16</td>\n",
       "      <td>16.74</td>\n",
       "      <td>17.145</td>\n",
       "      <td>40714771</td>\n",
       "      <td>0.305</td>\n",
       "      <td>100.439367</td>\n",
       "      <td>17.029</td>\n",
       "      <td>40714771</td>\n",
       "      <td>NaN</td>\n",
       "    </tr>\n",
       "    <tr>\n",
       "      <th>1</th>\n",
       "      <td>2013-10-18</td>\n",
       "      <td>17.17</td>\n",
       "      <td>17.25</td>\n",
       "      <td>16.96</td>\n",
       "      <td>17.029</td>\n",
       "      <td>34970601</td>\n",
       "      <td>-0.041</td>\n",
       "      <td>100.644208</td>\n",
       "      <td>16.565</td>\n",
       "      <td>5744170</td>\n",
       "      <td>NaN</td>\n",
       "    </tr>\n",
       "    <tr>\n",
       "      <th>2</th>\n",
       "      <td>2013-10-21</td>\n",
       "      <td>17.03</td>\n",
       "      <td>17.14</td>\n",
       "      <td>16.51</td>\n",
       "      <td>16.565</td>\n",
       "      <td>44886230</td>\n",
       "      <td>-0.355</td>\n",
       "      <td>97.670991</td>\n",
       "      <td>16.760</td>\n",
       "      <td>-39142060</td>\n",
       "      <td>NaN</td>\n",
       "    </tr>\n",
       "    <tr>\n",
       "      <th>3</th>\n",
       "      <td>2013-10-22</td>\n",
       "      <td>16.70</td>\n",
       "      <td>16.94</td>\n",
       "      <td>16.40</td>\n",
       "      <td>16.760</td>\n",
       "      <td>48362787</td>\n",
       "      <td>-0.200</td>\n",
       "      <td>97.754447</td>\n",
       "      <td>16.551</td>\n",
       "      <td>9220727</td>\n",
       "      <td>NaN</td>\n",
       "    </tr>\n",
       "    <tr>\n",
       "      <th>4</th>\n",
       "      <td>2013-10-23</td>\n",
       "      <td>16.49</td>\n",
       "      <td>16.59</td>\n",
       "      <td>16.35</td>\n",
       "      <td>16.551</td>\n",
       "      <td>39252098</td>\n",
       "      <td>-0.594</td>\n",
       "      <td>97.193024</td>\n",
       "      <td>16.830</td>\n",
       "      <td>-30031371</td>\n",
       "      <td>16.81</td>\n",
       "    </tr>\n",
       "  </tbody>\n",
       "</table>\n",
       "</div>"
      ],
      "text/plain": [
       "        date   open   high    low   close    volume  momentum       ROC_3  \\\n",
       "0 2013-10-17  17.00  17.16  16.74  17.145  40714771     0.305  100.439367   \n",
       "1 2013-10-18  17.17  17.25  16.96  17.029  34970601    -0.041  100.644208   \n",
       "2 2013-10-21  17.03  17.14  16.51  16.565  44886230    -0.355   97.670991   \n",
       "3 2013-10-22  16.70  16.94  16.40  16.760  48362787    -0.200   97.754447   \n",
       "4 2013-10-23  16.49  16.59  16.35  16.551  39252098    -0.594   97.193024   \n",
       "\n",
       "    Label       OBV  moving_average5  \n",
       "0  17.029  40714771              NaN  \n",
       "1  16.565   5744170              NaN  \n",
       "2  16.760 -39142060              NaN  \n",
       "3  16.551   9220727              NaN  \n",
       "4  16.830 -30031371            16.81  "
      ]
     },
     "execution_count": 46,
     "metadata": {},
     "output_type": "execute_result"
    }
   ],
   "source": [
    "df.head()"
   ]
  },
  {
   "cell_type": "code",
   "execution_count": 47,
   "metadata": {},
   "outputs": [
    {
     "data": {
      "text/html": [
       "<div>\n",
       "<style scoped>\n",
       "    .dataframe tbody tr th:only-of-type {\n",
       "        vertical-align: middle;\n",
       "    }\n",
       "\n",
       "    .dataframe tbody tr th {\n",
       "        vertical-align: top;\n",
       "    }\n",
       "\n",
       "    .dataframe thead th {\n",
       "        text-align: right;\n",
       "    }\n",
       "</style>\n",
       "<table border=\"1\" class=\"dataframe\">\n",
       "  <thead>\n",
       "    <tr style=\"text-align: right;\">\n",
       "      <th></th>\n",
       "      <th>date</th>\n",
       "      <th>open</th>\n",
       "      <th>high</th>\n",
       "      <th>low</th>\n",
       "      <th>close</th>\n",
       "      <th>volume</th>\n",
       "      <th>momentum</th>\n",
       "      <th>ROC_3</th>\n",
       "      <th>Label</th>\n",
       "      <th>OBV</th>\n",
       "      <th>moving_average5</th>\n",
       "    </tr>\n",
       "  </thead>\n",
       "  <tbody>\n",
       "    <tr>\n",
       "      <th>0</th>\n",
       "      <td>2013-10-17</td>\n",
       "      <td>17.00</td>\n",
       "      <td>17.16</td>\n",
       "      <td>16.74</td>\n",
       "      <td>17.145</td>\n",
       "      <td>40714771</td>\n",
       "      <td>0.305</td>\n",
       "      <td>100.439367</td>\n",
       "      <td>17.029</td>\n",
       "      <td>40714771</td>\n",
       "      <td>NaN</td>\n",
       "    </tr>\n",
       "    <tr>\n",
       "      <th>1</th>\n",
       "      <td>2013-10-18</td>\n",
       "      <td>17.17</td>\n",
       "      <td>17.25</td>\n",
       "      <td>16.96</td>\n",
       "      <td>17.029</td>\n",
       "      <td>34970601</td>\n",
       "      <td>-0.041</td>\n",
       "      <td>100.644208</td>\n",
       "      <td>16.565</td>\n",
       "      <td>5744170</td>\n",
       "      <td>NaN</td>\n",
       "    </tr>\n",
       "    <tr>\n",
       "      <th>2</th>\n",
       "      <td>2013-10-21</td>\n",
       "      <td>17.03</td>\n",
       "      <td>17.14</td>\n",
       "      <td>16.51</td>\n",
       "      <td>16.565</td>\n",
       "      <td>44886230</td>\n",
       "      <td>-0.355</td>\n",
       "      <td>97.670991</td>\n",
       "      <td>16.760</td>\n",
       "      <td>-39142060</td>\n",
       "      <td>NaN</td>\n",
       "    </tr>\n",
       "    <tr>\n",
       "      <th>3</th>\n",
       "      <td>2013-10-22</td>\n",
       "      <td>16.70</td>\n",
       "      <td>16.94</td>\n",
       "      <td>16.40</td>\n",
       "      <td>16.760</td>\n",
       "      <td>48362787</td>\n",
       "      <td>-0.200</td>\n",
       "      <td>97.754447</td>\n",
       "      <td>16.551</td>\n",
       "      <td>9220727</td>\n",
       "      <td>NaN</td>\n",
       "    </tr>\n",
       "    <tr>\n",
       "      <th>4</th>\n",
       "      <td>2013-10-23</td>\n",
       "      <td>16.49</td>\n",
       "      <td>16.59</td>\n",
       "      <td>16.35</td>\n",
       "      <td>16.551</td>\n",
       "      <td>39252098</td>\n",
       "      <td>-0.594</td>\n",
       "      <td>97.193024</td>\n",
       "      <td>16.830</td>\n",
       "      <td>-30031371</td>\n",
       "      <td>16.81</td>\n",
       "    </tr>\n",
       "  </tbody>\n",
       "</table>\n",
       "</div>"
      ],
      "text/plain": [
       "        date   open   high    low   close    volume  momentum       ROC_3  \\\n",
       "0 2013-10-17  17.00  17.16  16.74  17.145  40714771     0.305  100.439367   \n",
       "1 2013-10-18  17.17  17.25  16.96  17.029  34970601    -0.041  100.644208   \n",
       "2 2013-10-21  17.03  17.14  16.51  16.565  44886230    -0.355   97.670991   \n",
       "3 2013-10-22  16.70  16.94  16.40  16.760  48362787    -0.200   97.754447   \n",
       "4 2013-10-23  16.49  16.59  16.35  16.551  39252098    -0.594   97.193024   \n",
       "\n",
       "    Label       OBV  moving_average5  \n",
       "0  17.029  40714771              NaN  \n",
       "1  16.565   5744170              NaN  \n",
       "2  16.760 -39142060              NaN  \n",
       "3  16.551   9220727              NaN  \n",
       "4  16.830 -30031371            16.81  "
      ]
     },
     "execution_count": 47,
     "metadata": {},
     "output_type": "execute_result"
    }
   ],
   "source": [
    "df.head()"
   ]
  },
  {
   "cell_type": "code",
   "execution_count": 48,
   "metadata": {},
   "outputs": [],
   "source": [
    "df.dropna(inplace=True)"
   ]
  },
  {
   "cell_type": "code",
   "execution_count": 49,
   "metadata": {},
   "outputs": [
    {
     "data": {
      "text/html": [
       "<div>\n",
       "<style scoped>\n",
       "    .dataframe tbody tr th:only-of-type {\n",
       "        vertical-align: middle;\n",
       "    }\n",
       "\n",
       "    .dataframe tbody tr th {\n",
       "        vertical-align: top;\n",
       "    }\n",
       "\n",
       "    .dataframe thead th {\n",
       "        text-align: right;\n",
       "    }\n",
       "</style>\n",
       "<table border=\"1\" class=\"dataframe\">\n",
       "  <thead>\n",
       "    <tr style=\"text-align: right;\">\n",
       "      <th></th>\n",
       "      <th>date</th>\n",
       "      <th>open</th>\n",
       "      <th>high</th>\n",
       "      <th>low</th>\n",
       "      <th>close</th>\n",
       "      <th>volume</th>\n",
       "      <th>momentum</th>\n",
       "      <th>ROC_3</th>\n",
       "      <th>Label</th>\n",
       "      <th>OBV</th>\n",
       "      <th>moving_average5</th>\n",
       "    </tr>\n",
       "  </thead>\n",
       "  <tbody>\n",
       "    <tr>\n",
       "      <th>4</th>\n",
       "      <td>2013-10-23</td>\n",
       "      <td>16.49</td>\n",
       "      <td>16.59</td>\n",
       "      <td>16.35</td>\n",
       "      <td>16.551</td>\n",
       "      <td>39252098</td>\n",
       "      <td>-0.594</td>\n",
       "      <td>97.193024</td>\n",
       "      <td>16.830</td>\n",
       "      <td>-30031371</td>\n",
       "      <td>16.8100</td>\n",
       "    </tr>\n",
       "    <tr>\n",
       "      <th>5</th>\n",
       "      <td>2013-10-24</td>\n",
       "      <td>16.43</td>\n",
       "      <td>16.92</td>\n",
       "      <td>16.40</td>\n",
       "      <td>16.830</td>\n",
       "      <td>30291279</td>\n",
       "      <td>-0.199</td>\n",
       "      <td>101.599759</td>\n",
       "      <td>16.580</td>\n",
       "      <td>259908</td>\n",
       "      <td>16.7470</td>\n",
       "    </tr>\n",
       "    <tr>\n",
       "      <th>6</th>\n",
       "      <td>2013-10-25</td>\n",
       "      <td>16.92</td>\n",
       "      <td>16.99</td>\n",
       "      <td>16.52</td>\n",
       "      <td>16.580</td>\n",
       "      <td>28678346</td>\n",
       "      <td>0.015</td>\n",
       "      <td>98.926014</td>\n",
       "      <td>16.720</td>\n",
       "      <td>-28418438</td>\n",
       "      <td>16.6572</td>\n",
       "    </tr>\n",
       "    <tr>\n",
       "      <th>7</th>\n",
       "      <td>2013-10-28</td>\n",
       "      <td>16.52</td>\n",
       "      <td>16.75</td>\n",
       "      <td>16.30</td>\n",
       "      <td>16.720</td>\n",
       "      <td>19926898</td>\n",
       "      <td>-0.040</td>\n",
       "      <td>101.021086</td>\n",
       "      <td>17.495</td>\n",
       "      <td>-8491540</td>\n",
       "      <td>16.6882</td>\n",
       "    </tr>\n",
       "    <tr>\n",
       "      <th>8</th>\n",
       "      <td>2013-10-29</td>\n",
       "      <td>17.02</td>\n",
       "      <td>17.50</td>\n",
       "      <td>16.93</td>\n",
       "      <td>17.495</td>\n",
       "      <td>51381371</td>\n",
       "      <td>0.944</td>\n",
       "      <td>103.951277</td>\n",
       "      <td>17.390</td>\n",
       "      <td>42889831</td>\n",
       "      <td>16.8352</td>\n",
       "    </tr>\n",
       "  </tbody>\n",
       "</table>\n",
       "</div>"
      ],
      "text/plain": [
       "        date   open   high    low   close    volume  momentum       ROC_3  \\\n",
       "4 2013-10-23  16.49  16.59  16.35  16.551  39252098    -0.594   97.193024   \n",
       "5 2013-10-24  16.43  16.92  16.40  16.830  30291279    -0.199  101.599759   \n",
       "6 2013-10-25  16.92  16.99  16.52  16.580  28678346     0.015   98.926014   \n",
       "7 2013-10-28  16.52  16.75  16.30  16.720  19926898    -0.040  101.021086   \n",
       "8 2013-10-29  17.02  17.50  16.93  17.495  51381371     0.944  103.951277   \n",
       "\n",
       "    Label       OBV  moving_average5  \n",
       "4  16.830 -30031371          16.8100  \n",
       "5  16.580    259908          16.7470  \n",
       "6  16.720 -28418438          16.6572  \n",
       "7  17.495  -8491540          16.6882  \n",
       "8  17.390  42889831          16.8352  "
      ]
     },
     "execution_count": 49,
     "metadata": {},
     "output_type": "execute_result"
    }
   ],
   "source": [
    "df.head()"
   ]
  },
  {
   "cell_type": "code",
   "execution_count": 50,
   "metadata": {},
   "outputs": [],
   "source": [
    "M = np.array(df.drop(['date', 'open', 'high','low','volume', 'Label'], 1))"
   ]
  },
  {
   "cell_type": "code",
   "execution_count": 51,
   "metadata": {},
   "outputs": [
    {
     "data": {
      "text/plain": [
       "array([[ 1.65510000e+01, -5.94000000e-01,  9.71930237e+01,\n",
       "        -3.00313710e+07,  1.68100000e+01],\n",
       "       [ 1.68300000e+01, -1.99000000e-01,  1.01599759e+02,\n",
       "         2.59908000e+05,  1.67470000e+01],\n",
       "       [ 1.65800000e+01,  1.50000000e-02,  9.89260143e+01,\n",
       "        -2.84184380e+07,  1.66572000e+01],\n",
       "       ...,\n",
       "       [ 4.41600000e+01, -1.07000000e+00,  9.78073090e+01,\n",
       "         1.24792529e+09,  4.50900000e+01],\n",
       "       [ 4.35800000e+01, -1.57000000e+00,  9.52360140e+01,\n",
       "         1.21255821e+09,  4.47600000e+01],\n",
       "       [ 4.30700000e+01, -2.69000000e+00,  9.53931340e+01,\n",
       "         1.18513166e+09,  4.43440000e+01]])"
      ]
     },
     "execution_count": 51,
     "metadata": {},
     "output_type": "execute_result"
    }
   ],
   "source": [
    "M"
   ]
  },
  {
   "cell_type": "code",
   "execution_count": 52,
   "metadata": {},
   "outputs": [],
   "source": [
    "n = np.array(df['Label'])"
   ]
  },
  {
   "cell_type": "code",
   "execution_count": 53,
   "metadata": {},
   "outputs": [
    {
     "data": {
      "text/plain": [
       "array([16.83, 16.58, 16.72, ..., 43.58, 43.07, 42.27])"
      ]
     },
     "execution_count": 53,
     "metadata": {},
     "output_type": "execute_result"
    }
   ],
   "source": [
    "n"
   ]
  },
  {
   "cell_type": "code",
   "execution_count": 54,
   "metadata": {},
   "outputs": [],
   "source": [
    "n = n.reshape(-1,1)"
   ]
  },
  {
   "cell_type": "code",
   "execution_count": 55,
   "metadata": {},
   "outputs": [
    {
     "data": {
      "text/plain": [
       "array([[16.83],\n",
       "       [16.58],\n",
       "       [16.72],\n",
       "       ...,\n",
       "       [43.58],\n",
       "       [43.07],\n",
       "       [42.27]])"
      ]
     },
     "execution_count": 55,
     "metadata": {},
     "output_type": "execute_result"
    }
   ],
   "source": [
    "n"
   ]
  },
  {
   "cell_type": "code",
   "execution_count": 56,
   "metadata": {},
   "outputs": [],
   "source": [
    "scaler2 = preprocessing.StandardScaler().fit(n)"
   ]
  },
  {
   "cell_type": "code",
   "execution_count": 57,
   "metadata": {},
   "outputs": [],
   "source": [
    "M = scaler2.transform(M)"
   ]
  },
  {
   "cell_type": "code",
   "execution_count": 58,
   "metadata": {},
   "outputs": [],
   "source": [
    "n = scaler2.transform(n)"
   ]
  },
  {
   "cell_type": "code",
   "execution_count": 59,
   "metadata": {},
   "outputs": [
    {
     "data": {
      "text/plain": [
       "array([[-9.31797067e-01, -2.28365151e+00,  5.42669102e+00,\n",
       "        -2.36792539e+06, -9.11375352e-01],\n",
       "       [-9.09798385e-01, -2.25250643e+00,  5.77415466e+00,\n",
       "         2.04910723e+04, -9.16342796e-01],\n",
       "       [-9.29510465e-01, -2.23563289e+00,  5.56333442e+00,\n",
       "        -2.24074833e+06, -9.23423375e-01],\n",
       "       ...,\n",
       "       [ 1.24512620e+00, -2.32118331e+00,  5.47512638e+00,\n",
       "         9.83968102e+07,  1.31845514e+00],\n",
       "       [ 1.19939417e+00, -2.36060747e+00,  5.27238409e+00,\n",
       "         9.56081757e+07,  1.29243519e+00],\n",
       "       [ 1.15918153e+00, -2.44891759e+00,  5.28477274e+00,\n",
       "         9.34456381e+07,  1.25963429e+00]])"
      ]
     },
     "execution_count": 59,
     "metadata": {},
     "output_type": "execute_result"
    }
   ],
   "source": [
    "M"
   ]
  },
  {
   "cell_type": "code",
   "execution_count": 60,
   "metadata": {},
   "outputs": [
    {
     "data": {
      "text/plain": [
       "array([[-0.90979839],\n",
       "       [-0.92951047],\n",
       "       [-0.9184717 ],\n",
       "       ...,\n",
       "       [ 1.19939417],\n",
       "       [ 1.15918153],\n",
       "       [ 1.09610288]])"
      ]
     },
     "execution_count": 60,
     "metadata": {},
     "output_type": "execute_result"
    }
   ],
   "source": [
    "n"
   ]
  },
  {
   "cell_type": "code",
   "execution_count": 61,
   "metadata": {},
   "outputs": [],
   "source": [
    "from sklearn.model_selection import TimeSeriesSplit"
   ]
  },
  {
   "cell_type": "code",
   "execution_count": 62,
   "metadata": {},
   "outputs": [],
   "source": [
    "tscv = TimeSeriesSplit(n_splits=5)"
   ]
  },
  {
   "cell_type": "code",
   "execution_count": 63,
   "metadata": {},
   "outputs": [],
   "source": [
    "for train_index, test_index in tscv.split(M):\n",
    "    M_train, M_test = M[train_index], M[test_index]\n",
    "    n_train, n_test = n[train_index], n[test_index]"
   ]
  },
  {
   "cell_type": "code",
   "execution_count": 64,
   "metadata": {},
   "outputs": [
    {
     "data": {
      "text/plain": [
       "1041"
      ]
     },
     "execution_count": 64,
     "metadata": {},
     "output_type": "execute_result"
    }
   ],
   "source": [
    "len(M_train)"
   ]
  },
  {
   "cell_type": "code",
   "execution_count": 65,
   "metadata": {},
   "outputs": [
    {
     "data": {
      "text/plain": [
       "1041"
      ]
     },
     "execution_count": 65,
     "metadata": {},
     "output_type": "execute_result"
    }
   ],
   "source": [
    "len(n_train)"
   ]
  },
  {
   "cell_type": "code",
   "execution_count": 66,
   "metadata": {},
   "outputs": [],
   "source": [
    "linear2 = LinearRegression()"
   ]
  },
  {
   "cell_type": "code",
   "execution_count": 67,
   "metadata": {},
   "outputs": [
    {
     "data": {
      "text/plain": [
       "LinearRegression(copy_X=True, fit_intercept=True, n_jobs=1, normalize=False)"
      ]
     },
     "execution_count": 67,
     "metadata": {},
     "output_type": "execute_result"
    }
   ],
   "source": [
    "linear2.fit(M_train,n_train)"
   ]
  },
  {
   "cell_type": "code",
   "execution_count": 68,
   "metadata": {},
   "outputs": [
    {
     "data": {
      "text/plain": [
       "0.9371102897877015"
      ]
     },
     "execution_count": 68,
     "metadata": {},
     "output_type": "execute_result"
    }
   ],
   "source": [
    "linear2.score(M_test, n_test)"
   ]
  },
  {
   "cell_type": "code",
   "execution_count": 69,
   "metadata": {},
   "outputs": [
    {
     "data": {
      "text/plain": [
       "array([[15.36130299]])"
      ]
     },
     "execution_count": 69,
     "metadata": {},
     "output_type": "execute_result"
    }
   ],
   "source": [
    "#Single prediction\n",
    "linear2.predict(np.array([[16.720, -0.040, 101.021086, -8491540, 16.6882]]))"
   ]
  },
  {
   "cell_type": "markdown",
   "metadata": {},
   "source": [
    "# Step 6 - design a decision for when to invest and when to sell based on your regression. \n",
    "## The model can be naïve, meaning you can create a rule (if .. X .. then .. Y)"
   ]
  },
  {
   "cell_type": "code",
   "execution_count": 70,
   "metadata": {},
   "outputs": [],
   "source": [
    "pred = linear2.predict(np.array([[16.720, -0.040, 101.021086, -8491540, 16.6882]]))\n",
    "actual = 17.495"
   ]
  },
  {
   "cell_type": "code",
   "execution_count": 71,
   "metadata": {},
   "outputs": [
    {
     "data": {
      "text/plain": [
       "array([[15.36130299]])"
      ]
     },
     "execution_count": 71,
     "metadata": {},
     "output_type": "execute_result"
    }
   ],
   "source": [
    "pred"
   ]
  },
  {
   "cell_type": "code",
   "execution_count": 72,
   "metadata": {},
   "outputs": [
    {
     "name": "stdout",
     "output_type": "stream",
     "text": [
      "[15.36130299]\n"
     ]
    }
   ],
   "source": [
    "print(pred[0])"
   ]
  },
  {
   "cell_type": "code",
   "execution_count": 73,
   "metadata": {},
   "outputs": [
    {
     "name": "stdout",
     "output_type": "stream",
     "text": [
      "invest\n"
     ]
    }
   ],
   "source": [
    "if pred[0] < actual:\n",
    "    print(\"invest\")\n",
    "else:\n",
    "    print(\"sell\")\n",
    "   "
   ]
  },
  {
   "cell_type": "code",
   "execution_count": null,
   "metadata": {},
   "outputs": [],
   "source": []
  },
  {
   "cell_type": "code",
   "execution_count": null,
   "metadata": {},
   "outputs": [],
   "source": []
  }
 ],
 "metadata": {
  "anaconda-cloud": {},
  "kernelspec": {
   "display_name": "Python 3",
   "language": "python",
   "name": "python3"
  },
  "language_info": {
   "codemirror_mode": {
    "name": "ipython",
    "version": 3
   },
   "file_extension": ".py",
   "mimetype": "text/x-python",
   "name": "python",
   "nbconvert_exporter": "python",
   "pygments_lexer": "ipython3",
   "version": "3.6.5"
  }
 },
 "nbformat": 4,
 "nbformat_minor": 2
}
