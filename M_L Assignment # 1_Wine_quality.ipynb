{
 "cells": [
  {
   "cell_type": "code",
   "execution_count": 3,
   "metadata": {},
   "outputs": [],
   "source": [
    "import numpy as np\n",
    "import pandas as pd\n",
    "import warnings\n",
    "warnings.simplefilter(\"ignore\")"
   ]
  },
  {
   "cell_type": "code",
   "execution_count": 4,
   "metadata": {},
   "outputs": [],
   "source": [
    "df_white_wine = pd.read_csv('winequality-white.csv', sep=';')"
   ]
  },
  {
   "cell_type": "code",
   "execution_count": 5,
   "metadata": {},
   "outputs": [
    {
     "data": {
      "text/html": [
       "<div>\n",
       "<style scoped>\n",
       "    .dataframe tbody tr th:only-of-type {\n",
       "        vertical-align: middle;\n",
       "    }\n",
       "\n",
       "    .dataframe tbody tr th {\n",
       "        vertical-align: top;\n",
       "    }\n",
       "\n",
       "    .dataframe thead th {\n",
       "        text-align: right;\n",
       "    }\n",
       "</style>\n",
       "<table border=\"1\" class=\"dataframe\">\n",
       "  <thead>\n",
       "    <tr style=\"text-align: right;\">\n",
       "      <th></th>\n",
       "      <th>fixed acidity</th>\n",
       "      <th>volatile acidity</th>\n",
       "      <th>citric acid</th>\n",
       "      <th>residual sugar</th>\n",
       "      <th>chlorides</th>\n",
       "      <th>free sulfur dioxide</th>\n",
       "      <th>total sulfur dioxide</th>\n",
       "      <th>density</th>\n",
       "      <th>pH</th>\n",
       "      <th>sulphates</th>\n",
       "      <th>alcohol</th>\n",
       "      <th>quality</th>\n",
       "    </tr>\n",
       "  </thead>\n",
       "  <tbody>\n",
       "    <tr>\n",
       "      <th>0</th>\n",
       "      <td>7.0</td>\n",
       "      <td>0.27</td>\n",
       "      <td>0.36</td>\n",
       "      <td>20.7</td>\n",
       "      <td>0.045</td>\n",
       "      <td>45.0</td>\n",
       "      <td>170.0</td>\n",
       "      <td>1.0010</td>\n",
       "      <td>3.00</td>\n",
       "      <td>0.45</td>\n",
       "      <td>8.8</td>\n",
       "      <td>6</td>\n",
       "    </tr>\n",
       "    <tr>\n",
       "      <th>1</th>\n",
       "      <td>6.3</td>\n",
       "      <td>0.30</td>\n",
       "      <td>0.34</td>\n",
       "      <td>1.6</td>\n",
       "      <td>0.049</td>\n",
       "      <td>14.0</td>\n",
       "      <td>132.0</td>\n",
       "      <td>0.9940</td>\n",
       "      <td>3.30</td>\n",
       "      <td>0.49</td>\n",
       "      <td>9.5</td>\n",
       "      <td>6</td>\n",
       "    </tr>\n",
       "    <tr>\n",
       "      <th>2</th>\n",
       "      <td>8.1</td>\n",
       "      <td>0.28</td>\n",
       "      <td>0.40</td>\n",
       "      <td>6.9</td>\n",
       "      <td>0.050</td>\n",
       "      <td>30.0</td>\n",
       "      <td>97.0</td>\n",
       "      <td>0.9951</td>\n",
       "      <td>3.26</td>\n",
       "      <td>0.44</td>\n",
       "      <td>10.1</td>\n",
       "      <td>6</td>\n",
       "    </tr>\n",
       "    <tr>\n",
       "      <th>3</th>\n",
       "      <td>7.2</td>\n",
       "      <td>0.23</td>\n",
       "      <td>0.32</td>\n",
       "      <td>8.5</td>\n",
       "      <td>0.058</td>\n",
       "      <td>47.0</td>\n",
       "      <td>186.0</td>\n",
       "      <td>0.9956</td>\n",
       "      <td>3.19</td>\n",
       "      <td>0.40</td>\n",
       "      <td>9.9</td>\n",
       "      <td>6</td>\n",
       "    </tr>\n",
       "    <tr>\n",
       "      <th>4</th>\n",
       "      <td>7.2</td>\n",
       "      <td>0.23</td>\n",
       "      <td>0.32</td>\n",
       "      <td>8.5</td>\n",
       "      <td>0.058</td>\n",
       "      <td>47.0</td>\n",
       "      <td>186.0</td>\n",
       "      <td>0.9956</td>\n",
       "      <td>3.19</td>\n",
       "      <td>0.40</td>\n",
       "      <td>9.9</td>\n",
       "      <td>6</td>\n",
       "    </tr>\n",
       "  </tbody>\n",
       "</table>\n",
       "</div>"
      ],
      "text/plain": [
       "   fixed acidity  volatile acidity  citric acid  residual sugar  chlorides  \\\n",
       "0            7.0              0.27         0.36            20.7      0.045   \n",
       "1            6.3              0.30         0.34             1.6      0.049   \n",
       "2            8.1              0.28         0.40             6.9      0.050   \n",
       "3            7.2              0.23         0.32             8.5      0.058   \n",
       "4            7.2              0.23         0.32             8.5      0.058   \n",
       "\n",
       "   free sulfur dioxide  total sulfur dioxide  density    pH  sulphates  \\\n",
       "0                 45.0                 170.0   1.0010  3.00       0.45   \n",
       "1                 14.0                 132.0   0.9940  3.30       0.49   \n",
       "2                 30.0                  97.0   0.9951  3.26       0.44   \n",
       "3                 47.0                 186.0   0.9956  3.19       0.40   \n",
       "4                 47.0                 186.0   0.9956  3.19       0.40   \n",
       "\n",
       "   alcohol  quality  \n",
       "0      8.8        6  \n",
       "1      9.5        6  \n",
       "2     10.1        6  \n",
       "3      9.9        6  \n",
       "4      9.9        6  "
      ]
     },
     "execution_count": 5,
     "metadata": {},
     "output_type": "execute_result"
    }
   ],
   "source": [
    "df_white_wine.head(5)"
   ]
  },
  {
   "cell_type": "code",
   "execution_count": 6,
   "metadata": {},
   "outputs": [
    {
     "name": "stdout",
     "output_type": "stream",
     "text": [
      "<class 'pandas.core.frame.DataFrame'>\n",
      "RangeIndex: 4898 entries, 0 to 4897\n",
      "Data columns (total 12 columns):\n",
      "fixed acidity           4898 non-null float64\n",
      "volatile acidity        4898 non-null float64\n",
      "citric acid             4898 non-null float64\n",
      "residual sugar          4898 non-null float64\n",
      "chlorides               4898 non-null float64\n",
      "free sulfur dioxide     4898 non-null float64\n",
      "total sulfur dioxide    4898 non-null float64\n",
      "density                 4898 non-null float64\n",
      "pH                      4898 non-null float64\n",
      "sulphates               4898 non-null float64\n",
      "alcohol                 4898 non-null float64\n",
      "quality                 4898 non-null int64\n",
      "dtypes: float64(11), int64(1)\n",
      "memory usage: 459.3 KB\n"
     ]
    }
   ],
   "source": [
    "df_white_wine.info()"
   ]
  },
  {
   "cell_type": "code",
   "execution_count": 7,
   "metadata": {},
   "outputs": [],
   "source": [
    "df_red_wine = pd.read_csv('winequality-red.csv', sep=';')"
   ]
  },
  {
   "cell_type": "code",
   "execution_count": 8,
   "metadata": {},
   "outputs": [
    {
     "data": {
      "text/html": [
       "<div>\n",
       "<style scoped>\n",
       "    .dataframe tbody tr th:only-of-type {\n",
       "        vertical-align: middle;\n",
       "    }\n",
       "\n",
       "    .dataframe tbody tr th {\n",
       "        vertical-align: top;\n",
       "    }\n",
       "\n",
       "    .dataframe thead th {\n",
       "        text-align: right;\n",
       "    }\n",
       "</style>\n",
       "<table border=\"1\" class=\"dataframe\">\n",
       "  <thead>\n",
       "    <tr style=\"text-align: right;\">\n",
       "      <th></th>\n",
       "      <th>fixed acidity</th>\n",
       "      <th>volatile acidity</th>\n",
       "      <th>citric acid</th>\n",
       "      <th>residual sugar</th>\n",
       "      <th>chlorides</th>\n",
       "      <th>free sulfur dioxide</th>\n",
       "      <th>total sulfur dioxide</th>\n",
       "      <th>density</th>\n",
       "      <th>pH</th>\n",
       "      <th>sulphates</th>\n",
       "      <th>alcohol</th>\n",
       "      <th>quality</th>\n",
       "    </tr>\n",
       "  </thead>\n",
       "  <tbody>\n",
       "    <tr>\n",
       "      <th>0</th>\n",
       "      <td>7.4</td>\n",
       "      <td>0.70</td>\n",
       "      <td>0.00</td>\n",
       "      <td>1.9</td>\n",
       "      <td>0.076</td>\n",
       "      <td>11.0</td>\n",
       "      <td>34.0</td>\n",
       "      <td>0.9978</td>\n",
       "      <td>3.51</td>\n",
       "      <td>0.56</td>\n",
       "      <td>9.4</td>\n",
       "      <td>5</td>\n",
       "    </tr>\n",
       "    <tr>\n",
       "      <th>1</th>\n",
       "      <td>7.8</td>\n",
       "      <td>0.88</td>\n",
       "      <td>0.00</td>\n",
       "      <td>2.6</td>\n",
       "      <td>0.098</td>\n",
       "      <td>25.0</td>\n",
       "      <td>67.0</td>\n",
       "      <td>0.9968</td>\n",
       "      <td>3.20</td>\n",
       "      <td>0.68</td>\n",
       "      <td>9.8</td>\n",
       "      <td>5</td>\n",
       "    </tr>\n",
       "    <tr>\n",
       "      <th>2</th>\n",
       "      <td>7.8</td>\n",
       "      <td>0.76</td>\n",
       "      <td>0.04</td>\n",
       "      <td>2.3</td>\n",
       "      <td>0.092</td>\n",
       "      <td>15.0</td>\n",
       "      <td>54.0</td>\n",
       "      <td>0.9970</td>\n",
       "      <td>3.26</td>\n",
       "      <td>0.65</td>\n",
       "      <td>9.8</td>\n",
       "      <td>5</td>\n",
       "    </tr>\n",
       "    <tr>\n",
       "      <th>3</th>\n",
       "      <td>11.2</td>\n",
       "      <td>0.28</td>\n",
       "      <td>0.56</td>\n",
       "      <td>1.9</td>\n",
       "      <td>0.075</td>\n",
       "      <td>17.0</td>\n",
       "      <td>60.0</td>\n",
       "      <td>0.9980</td>\n",
       "      <td>3.16</td>\n",
       "      <td>0.58</td>\n",
       "      <td>9.8</td>\n",
       "      <td>6</td>\n",
       "    </tr>\n",
       "    <tr>\n",
       "      <th>4</th>\n",
       "      <td>7.4</td>\n",
       "      <td>0.70</td>\n",
       "      <td>0.00</td>\n",
       "      <td>1.9</td>\n",
       "      <td>0.076</td>\n",
       "      <td>11.0</td>\n",
       "      <td>34.0</td>\n",
       "      <td>0.9978</td>\n",
       "      <td>3.51</td>\n",
       "      <td>0.56</td>\n",
       "      <td>9.4</td>\n",
       "      <td>5</td>\n",
       "    </tr>\n",
       "  </tbody>\n",
       "</table>\n",
       "</div>"
      ],
      "text/plain": [
       "   fixed acidity  volatile acidity  citric acid  residual sugar  chlorides  \\\n",
       "0            7.4              0.70         0.00             1.9      0.076   \n",
       "1            7.8              0.88         0.00             2.6      0.098   \n",
       "2            7.8              0.76         0.04             2.3      0.092   \n",
       "3           11.2              0.28         0.56             1.9      0.075   \n",
       "4            7.4              0.70         0.00             1.9      0.076   \n",
       "\n",
       "   free sulfur dioxide  total sulfur dioxide  density    pH  sulphates  \\\n",
       "0                 11.0                  34.0   0.9978  3.51       0.56   \n",
       "1                 25.0                  67.0   0.9968  3.20       0.68   \n",
       "2                 15.0                  54.0   0.9970  3.26       0.65   \n",
       "3                 17.0                  60.0   0.9980  3.16       0.58   \n",
       "4                 11.0                  34.0   0.9978  3.51       0.56   \n",
       "\n",
       "   alcohol  quality  \n",
       "0      9.4        5  \n",
       "1      9.8        5  \n",
       "2      9.8        5  \n",
       "3      9.8        6  \n",
       "4      9.4        5  "
      ]
     },
     "execution_count": 8,
     "metadata": {},
     "output_type": "execute_result"
    }
   ],
   "source": [
    "df_red_wine.head()"
   ]
  },
  {
   "cell_type": "code",
   "execution_count": 9,
   "metadata": {},
   "outputs": [
    {
     "name": "stdout",
     "output_type": "stream",
     "text": [
      "<class 'pandas.core.frame.DataFrame'>\n",
      "RangeIndex: 1599 entries, 0 to 1598\n",
      "Data columns (total 12 columns):\n",
      "fixed acidity           1599 non-null float64\n",
      "volatile acidity        1599 non-null float64\n",
      "citric acid             1599 non-null float64\n",
      "residual sugar          1599 non-null float64\n",
      "chlorides               1599 non-null float64\n",
      "free sulfur dioxide     1599 non-null float64\n",
      "total sulfur dioxide    1599 non-null float64\n",
      "density                 1599 non-null float64\n",
      "pH                      1599 non-null float64\n",
      "sulphates               1599 non-null float64\n",
      "alcohol                 1599 non-null float64\n",
      "quality                 1599 non-null int64\n",
      "dtypes: float64(11), int64(1)\n",
      "memory usage: 150.0 KB\n"
     ]
    }
   ],
   "source": [
    "df_red_wine.info()"
   ]
  },
  {
   "cell_type": "code",
   "execution_count": 10,
   "metadata": {},
   "outputs": [],
   "source": [
    "df_white_wine[\"wine_type\"] = 0\n",
    "df_red_wine[\"wine_type\"] = 1"
   ]
  },
  {
   "cell_type": "code",
   "execution_count": 11,
   "metadata": {},
   "outputs": [],
   "source": [
    "df = pd.concat([df_red_wine, df_white_wine], ignore_index=True, sort=True)"
   ]
  },
  {
   "cell_type": "code",
   "execution_count": 12,
   "metadata": {},
   "outputs": [
    {
     "data": {
      "text/html": [
       "<div>\n",
       "<style scoped>\n",
       "    .dataframe tbody tr th:only-of-type {\n",
       "        vertical-align: middle;\n",
       "    }\n",
       "\n",
       "    .dataframe tbody tr th {\n",
       "        vertical-align: top;\n",
       "    }\n",
       "\n",
       "    .dataframe thead th {\n",
       "        text-align: right;\n",
       "    }\n",
       "</style>\n",
       "<table border=\"1\" class=\"dataframe\">\n",
       "  <thead>\n",
       "    <tr style=\"text-align: right;\">\n",
       "      <th></th>\n",
       "      <th>alcohol</th>\n",
       "      <th>chlorides</th>\n",
       "      <th>citric acid</th>\n",
       "      <th>density</th>\n",
       "      <th>fixed acidity</th>\n",
       "      <th>free sulfur dioxide</th>\n",
       "      <th>pH</th>\n",
       "      <th>quality</th>\n",
       "      <th>residual sugar</th>\n",
       "      <th>sulphates</th>\n",
       "      <th>total sulfur dioxide</th>\n",
       "      <th>volatile acidity</th>\n",
       "      <th>wine_type</th>\n",
       "    </tr>\n",
       "  </thead>\n",
       "  <tbody>\n",
       "    <tr>\n",
       "      <th>0</th>\n",
       "      <td>9.4</td>\n",
       "      <td>0.076</td>\n",
       "      <td>0.00</td>\n",
       "      <td>0.9978</td>\n",
       "      <td>7.4</td>\n",
       "      <td>11.0</td>\n",
       "      <td>3.51</td>\n",
       "      <td>5</td>\n",
       "      <td>1.9</td>\n",
       "      <td>0.56</td>\n",
       "      <td>34.0</td>\n",
       "      <td>0.70</td>\n",
       "      <td>1</td>\n",
       "    </tr>\n",
       "    <tr>\n",
       "      <th>1</th>\n",
       "      <td>9.8</td>\n",
       "      <td>0.098</td>\n",
       "      <td>0.00</td>\n",
       "      <td>0.9968</td>\n",
       "      <td>7.8</td>\n",
       "      <td>25.0</td>\n",
       "      <td>3.20</td>\n",
       "      <td>5</td>\n",
       "      <td>2.6</td>\n",
       "      <td>0.68</td>\n",
       "      <td>67.0</td>\n",
       "      <td>0.88</td>\n",
       "      <td>1</td>\n",
       "    </tr>\n",
       "    <tr>\n",
       "      <th>2</th>\n",
       "      <td>9.8</td>\n",
       "      <td>0.092</td>\n",
       "      <td>0.04</td>\n",
       "      <td>0.9970</td>\n",
       "      <td>7.8</td>\n",
       "      <td>15.0</td>\n",
       "      <td>3.26</td>\n",
       "      <td>5</td>\n",
       "      <td>2.3</td>\n",
       "      <td>0.65</td>\n",
       "      <td>54.0</td>\n",
       "      <td>0.76</td>\n",
       "      <td>1</td>\n",
       "    </tr>\n",
       "    <tr>\n",
       "      <th>3</th>\n",
       "      <td>9.8</td>\n",
       "      <td>0.075</td>\n",
       "      <td>0.56</td>\n",
       "      <td>0.9980</td>\n",
       "      <td>11.2</td>\n",
       "      <td>17.0</td>\n",
       "      <td>3.16</td>\n",
       "      <td>6</td>\n",
       "      <td>1.9</td>\n",
       "      <td>0.58</td>\n",
       "      <td>60.0</td>\n",
       "      <td>0.28</td>\n",
       "      <td>1</td>\n",
       "    </tr>\n",
       "    <tr>\n",
       "      <th>4</th>\n",
       "      <td>9.4</td>\n",
       "      <td>0.076</td>\n",
       "      <td>0.00</td>\n",
       "      <td>0.9978</td>\n",
       "      <td>7.4</td>\n",
       "      <td>11.0</td>\n",
       "      <td>3.51</td>\n",
       "      <td>5</td>\n",
       "      <td>1.9</td>\n",
       "      <td>0.56</td>\n",
       "      <td>34.0</td>\n",
       "      <td>0.70</td>\n",
       "      <td>1</td>\n",
       "    </tr>\n",
       "  </tbody>\n",
       "</table>\n",
       "</div>"
      ],
      "text/plain": [
       "   alcohol  chlorides  citric acid  density  fixed acidity  \\\n",
       "0      9.4      0.076         0.00   0.9978            7.4   \n",
       "1      9.8      0.098         0.00   0.9968            7.8   \n",
       "2      9.8      0.092         0.04   0.9970            7.8   \n",
       "3      9.8      0.075         0.56   0.9980           11.2   \n",
       "4      9.4      0.076         0.00   0.9978            7.4   \n",
       "\n",
       "   free sulfur dioxide    pH  quality  residual sugar  sulphates  \\\n",
       "0                 11.0  3.51        5             1.9       0.56   \n",
       "1                 25.0  3.20        5             2.6       0.68   \n",
       "2                 15.0  3.26        5             2.3       0.65   \n",
       "3                 17.0  3.16        6             1.9       0.58   \n",
       "4                 11.0  3.51        5             1.9       0.56   \n",
       "\n",
       "   total sulfur dioxide  volatile acidity  wine_type  \n",
       "0                  34.0              0.70          1  \n",
       "1                  67.0              0.88          1  \n",
       "2                  54.0              0.76          1  \n",
       "3                  60.0              0.28          1  \n",
       "4                  34.0              0.70          1  "
      ]
     },
     "execution_count": 12,
     "metadata": {},
     "output_type": "execute_result"
    }
   ],
   "source": [
    "df.head()"
   ]
  },
  {
   "cell_type": "code",
   "execution_count": 13,
   "metadata": {},
   "outputs": [
    {
     "name": "stdout",
     "output_type": "stream",
     "text": [
      "Index(['alcohol', 'chlorides', 'citric acid', 'density', 'fixed acidity',\n",
      "       'free sulfur dioxide', 'pH', 'quality', 'residual sugar', 'sulphates',\n",
      "       'total sulfur dioxide', 'volatile acidity', 'wine_type'],\n",
      "      dtype='object')\n"
     ]
    }
   ],
   "source": [
    "print(df.columns)"
   ]
  },
  {
   "cell_type": "code",
   "execution_count": 14,
   "metadata": {},
   "outputs": [
    {
     "name": "stdout",
     "output_type": "stream",
     "text": [
      "<class 'pandas.core.frame.DataFrame'>\n",
      "RangeIndex: 6497 entries, 0 to 6496\n",
      "Data columns (total 13 columns):\n",
      "alcohol                 6497 non-null float64\n",
      "chlorides               6497 non-null float64\n",
      "citric acid             6497 non-null float64\n",
      "density                 6497 non-null float64\n",
      "fixed acidity           6497 non-null float64\n",
      "free sulfur dioxide     6497 non-null float64\n",
      "pH                      6497 non-null float64\n",
      "quality                 6497 non-null int64\n",
      "residual sugar          6497 non-null float64\n",
      "sulphates               6497 non-null float64\n",
      "total sulfur dioxide    6497 non-null float64\n",
      "volatile acidity        6497 non-null float64\n",
      "wine_type               6497 non-null int64\n",
      "dtypes: float64(11), int64(2)\n",
      "memory usage: 659.9 KB\n"
     ]
    }
   ],
   "source": [
    "df.info()"
   ]
  },
  {
   "cell_type": "code",
   "execution_count": 15,
   "metadata": {},
   "outputs": [
    {
     "data": {
      "text/html": [
       "<div>\n",
       "<style scoped>\n",
       "    .dataframe tbody tr th:only-of-type {\n",
       "        vertical-align: middle;\n",
       "    }\n",
       "\n",
       "    .dataframe tbody tr th {\n",
       "        vertical-align: top;\n",
       "    }\n",
       "\n",
       "    .dataframe thead th {\n",
       "        text-align: right;\n",
       "    }\n",
       "</style>\n",
       "<table border=\"1\" class=\"dataframe\">\n",
       "  <thead>\n",
       "    <tr style=\"text-align: right;\">\n",
       "      <th></th>\n",
       "      <th>alcohol</th>\n",
       "      <th>chlorides</th>\n",
       "      <th>citric acid</th>\n",
       "      <th>density</th>\n",
       "      <th>fixed acidity</th>\n",
       "      <th>free sulfur dioxide</th>\n",
       "      <th>pH</th>\n",
       "      <th>quality</th>\n",
       "      <th>residual sugar</th>\n",
       "      <th>sulphates</th>\n",
       "      <th>total sulfur dioxide</th>\n",
       "      <th>volatile acidity</th>\n",
       "      <th>wine_type</th>\n",
       "    </tr>\n",
       "  </thead>\n",
       "  <tbody>\n",
       "    <tr>\n",
       "      <th>count</th>\n",
       "      <td>6497.000000</td>\n",
       "      <td>6497.000000</td>\n",
       "      <td>6497.000000</td>\n",
       "      <td>6497.000000</td>\n",
       "      <td>6497.000000</td>\n",
       "      <td>6497.000000</td>\n",
       "      <td>6497.000000</td>\n",
       "      <td>6497.000000</td>\n",
       "      <td>6497.000000</td>\n",
       "      <td>6497.000000</td>\n",
       "      <td>6497.000000</td>\n",
       "      <td>6497.000000</td>\n",
       "      <td>6497.000000</td>\n",
       "    </tr>\n",
       "    <tr>\n",
       "      <th>mean</th>\n",
       "      <td>10.491801</td>\n",
       "      <td>0.056034</td>\n",
       "      <td>0.318633</td>\n",
       "      <td>0.994697</td>\n",
       "      <td>7.215307</td>\n",
       "      <td>30.525319</td>\n",
       "      <td>3.218501</td>\n",
       "      <td>5.818378</td>\n",
       "      <td>5.443235</td>\n",
       "      <td>0.531268</td>\n",
       "      <td>115.744574</td>\n",
       "      <td>0.339666</td>\n",
       "      <td>0.246114</td>\n",
       "    </tr>\n",
       "    <tr>\n",
       "      <th>std</th>\n",
       "      <td>1.192712</td>\n",
       "      <td>0.035034</td>\n",
       "      <td>0.145318</td>\n",
       "      <td>0.002999</td>\n",
       "      <td>1.296434</td>\n",
       "      <td>17.749400</td>\n",
       "      <td>0.160787</td>\n",
       "      <td>0.873255</td>\n",
       "      <td>4.757804</td>\n",
       "      <td>0.148806</td>\n",
       "      <td>56.521855</td>\n",
       "      <td>0.164636</td>\n",
       "      <td>0.430779</td>\n",
       "    </tr>\n",
       "    <tr>\n",
       "      <th>min</th>\n",
       "      <td>8.000000</td>\n",
       "      <td>0.009000</td>\n",
       "      <td>0.000000</td>\n",
       "      <td>0.987110</td>\n",
       "      <td>3.800000</td>\n",
       "      <td>1.000000</td>\n",
       "      <td>2.720000</td>\n",
       "      <td>3.000000</td>\n",
       "      <td>0.600000</td>\n",
       "      <td>0.220000</td>\n",
       "      <td>6.000000</td>\n",
       "      <td>0.080000</td>\n",
       "      <td>0.000000</td>\n",
       "    </tr>\n",
       "    <tr>\n",
       "      <th>25%</th>\n",
       "      <td>9.500000</td>\n",
       "      <td>0.038000</td>\n",
       "      <td>0.250000</td>\n",
       "      <td>0.992340</td>\n",
       "      <td>6.400000</td>\n",
       "      <td>17.000000</td>\n",
       "      <td>3.110000</td>\n",
       "      <td>5.000000</td>\n",
       "      <td>1.800000</td>\n",
       "      <td>0.430000</td>\n",
       "      <td>77.000000</td>\n",
       "      <td>0.230000</td>\n",
       "      <td>0.000000</td>\n",
       "    </tr>\n",
       "    <tr>\n",
       "      <th>50%</th>\n",
       "      <td>10.300000</td>\n",
       "      <td>0.047000</td>\n",
       "      <td>0.310000</td>\n",
       "      <td>0.994890</td>\n",
       "      <td>7.000000</td>\n",
       "      <td>29.000000</td>\n",
       "      <td>3.210000</td>\n",
       "      <td>6.000000</td>\n",
       "      <td>3.000000</td>\n",
       "      <td>0.510000</td>\n",
       "      <td>118.000000</td>\n",
       "      <td>0.290000</td>\n",
       "      <td>0.000000</td>\n",
       "    </tr>\n",
       "    <tr>\n",
       "      <th>75%</th>\n",
       "      <td>11.300000</td>\n",
       "      <td>0.065000</td>\n",
       "      <td>0.390000</td>\n",
       "      <td>0.996990</td>\n",
       "      <td>7.700000</td>\n",
       "      <td>41.000000</td>\n",
       "      <td>3.320000</td>\n",
       "      <td>6.000000</td>\n",
       "      <td>8.100000</td>\n",
       "      <td>0.600000</td>\n",
       "      <td>156.000000</td>\n",
       "      <td>0.400000</td>\n",
       "      <td>0.000000</td>\n",
       "    </tr>\n",
       "    <tr>\n",
       "      <th>max</th>\n",
       "      <td>14.900000</td>\n",
       "      <td>0.611000</td>\n",
       "      <td>1.660000</td>\n",
       "      <td>1.038980</td>\n",
       "      <td>15.900000</td>\n",
       "      <td>289.000000</td>\n",
       "      <td>4.010000</td>\n",
       "      <td>9.000000</td>\n",
       "      <td>65.800000</td>\n",
       "      <td>2.000000</td>\n",
       "      <td>440.000000</td>\n",
       "      <td>1.580000</td>\n",
       "      <td>1.000000</td>\n",
       "    </tr>\n",
       "  </tbody>\n",
       "</table>\n",
       "</div>"
      ],
      "text/plain": [
       "           alcohol    chlorides  citric acid      density  fixed acidity  \\\n",
       "count  6497.000000  6497.000000  6497.000000  6497.000000    6497.000000   \n",
       "mean     10.491801     0.056034     0.318633     0.994697       7.215307   \n",
       "std       1.192712     0.035034     0.145318     0.002999       1.296434   \n",
       "min       8.000000     0.009000     0.000000     0.987110       3.800000   \n",
       "25%       9.500000     0.038000     0.250000     0.992340       6.400000   \n",
       "50%      10.300000     0.047000     0.310000     0.994890       7.000000   \n",
       "75%      11.300000     0.065000     0.390000     0.996990       7.700000   \n",
       "max      14.900000     0.611000     1.660000     1.038980      15.900000   \n",
       "\n",
       "       free sulfur dioxide           pH      quality  residual sugar  \\\n",
       "count          6497.000000  6497.000000  6497.000000     6497.000000   \n",
       "mean             30.525319     3.218501     5.818378        5.443235   \n",
       "std              17.749400     0.160787     0.873255        4.757804   \n",
       "min               1.000000     2.720000     3.000000        0.600000   \n",
       "25%              17.000000     3.110000     5.000000        1.800000   \n",
       "50%              29.000000     3.210000     6.000000        3.000000   \n",
       "75%              41.000000     3.320000     6.000000        8.100000   \n",
       "max             289.000000     4.010000     9.000000       65.800000   \n",
       "\n",
       "         sulphates  total sulfur dioxide  volatile acidity    wine_type  \n",
       "count  6497.000000           6497.000000       6497.000000  6497.000000  \n",
       "mean      0.531268            115.744574          0.339666     0.246114  \n",
       "std       0.148806             56.521855          0.164636     0.430779  \n",
       "min       0.220000              6.000000          0.080000     0.000000  \n",
       "25%       0.430000             77.000000          0.230000     0.000000  \n",
       "50%       0.510000            118.000000          0.290000     0.000000  \n",
       "75%       0.600000            156.000000          0.400000     0.000000  \n",
       "max       2.000000            440.000000          1.580000     1.000000  "
      ]
     },
     "execution_count": 15,
     "metadata": {},
     "output_type": "execute_result"
    }
   ],
   "source": [
    "df.describe()"
   ]
  },
  {
   "cell_type": "code",
   "execution_count": 16,
   "metadata": {},
   "outputs": [
    {
     "data": {
      "text/html": [
       "<div>\n",
       "<style scoped>\n",
       "    .dataframe tbody tr th:only-of-type {\n",
       "        vertical-align: middle;\n",
       "    }\n",
       "\n",
       "    .dataframe tbody tr th {\n",
       "        vertical-align: top;\n",
       "    }\n",
       "\n",
       "    .dataframe thead th {\n",
       "        text-align: right;\n",
       "    }\n",
       "</style>\n",
       "<table border=\"1\" class=\"dataframe\">\n",
       "  <thead>\n",
       "    <tr style=\"text-align: right;\">\n",
       "      <th></th>\n",
       "      <th>alcohol</th>\n",
       "      <th>chlorides</th>\n",
       "      <th>citric acid</th>\n",
       "      <th>density</th>\n",
       "      <th>fixed acidity</th>\n",
       "      <th>free sulfur dioxide</th>\n",
       "      <th>pH</th>\n",
       "      <th>quality</th>\n",
       "      <th>residual sugar</th>\n",
       "      <th>sulphates</th>\n",
       "      <th>total sulfur dioxide</th>\n",
       "      <th>volatile acidity</th>\n",
       "      <th>wine_type</th>\n",
       "    </tr>\n",
       "  </thead>\n",
       "  <tbody>\n",
       "    <tr>\n",
       "      <th>6492</th>\n",
       "      <td>11.2</td>\n",
       "      <td>0.039</td>\n",
       "      <td>0.29</td>\n",
       "      <td>0.99114</td>\n",
       "      <td>6.2</td>\n",
       "      <td>24.0</td>\n",
       "      <td>3.27</td>\n",
       "      <td>6</td>\n",
       "      <td>1.6</td>\n",
       "      <td>0.50</td>\n",
       "      <td>92.0</td>\n",
       "      <td>0.21</td>\n",
       "      <td>0</td>\n",
       "    </tr>\n",
       "    <tr>\n",
       "      <th>6493</th>\n",
       "      <td>9.6</td>\n",
       "      <td>0.047</td>\n",
       "      <td>0.36</td>\n",
       "      <td>0.99490</td>\n",
       "      <td>6.6</td>\n",
       "      <td>57.0</td>\n",
       "      <td>3.15</td>\n",
       "      <td>5</td>\n",
       "      <td>8.0</td>\n",
       "      <td>0.46</td>\n",
       "      <td>168.0</td>\n",
       "      <td>0.32</td>\n",
       "      <td>0</td>\n",
       "    </tr>\n",
       "    <tr>\n",
       "      <th>6494</th>\n",
       "      <td>9.4</td>\n",
       "      <td>0.041</td>\n",
       "      <td>0.19</td>\n",
       "      <td>0.99254</td>\n",
       "      <td>6.5</td>\n",
       "      <td>30.0</td>\n",
       "      <td>2.99</td>\n",
       "      <td>6</td>\n",
       "      <td>1.2</td>\n",
       "      <td>0.46</td>\n",
       "      <td>111.0</td>\n",
       "      <td>0.24</td>\n",
       "      <td>0</td>\n",
       "    </tr>\n",
       "    <tr>\n",
       "      <th>6495</th>\n",
       "      <td>12.8</td>\n",
       "      <td>0.022</td>\n",
       "      <td>0.30</td>\n",
       "      <td>0.98869</td>\n",
       "      <td>5.5</td>\n",
       "      <td>20.0</td>\n",
       "      <td>3.34</td>\n",
       "      <td>7</td>\n",
       "      <td>1.1</td>\n",
       "      <td>0.38</td>\n",
       "      <td>110.0</td>\n",
       "      <td>0.29</td>\n",
       "      <td>0</td>\n",
       "    </tr>\n",
       "    <tr>\n",
       "      <th>6496</th>\n",
       "      <td>11.8</td>\n",
       "      <td>0.020</td>\n",
       "      <td>0.38</td>\n",
       "      <td>0.98941</td>\n",
       "      <td>6.0</td>\n",
       "      <td>22.0</td>\n",
       "      <td>3.26</td>\n",
       "      <td>6</td>\n",
       "      <td>0.8</td>\n",
       "      <td>0.32</td>\n",
       "      <td>98.0</td>\n",
       "      <td>0.21</td>\n",
       "      <td>0</td>\n",
       "    </tr>\n",
       "  </tbody>\n",
       "</table>\n",
       "</div>"
      ],
      "text/plain": [
       "      alcohol  chlorides  citric acid  density  fixed acidity  \\\n",
       "6492     11.2      0.039         0.29  0.99114            6.2   \n",
       "6493      9.6      0.047         0.36  0.99490            6.6   \n",
       "6494      9.4      0.041         0.19  0.99254            6.5   \n",
       "6495     12.8      0.022         0.30  0.98869            5.5   \n",
       "6496     11.8      0.020         0.38  0.98941            6.0   \n",
       "\n",
       "      free sulfur dioxide    pH  quality  residual sugar  sulphates  \\\n",
       "6492                 24.0  3.27        6             1.6       0.50   \n",
       "6493                 57.0  3.15        5             8.0       0.46   \n",
       "6494                 30.0  2.99        6             1.2       0.46   \n",
       "6495                 20.0  3.34        7             1.1       0.38   \n",
       "6496                 22.0  3.26        6             0.8       0.32   \n",
       "\n",
       "      total sulfur dioxide  volatile acidity  wine_type  \n",
       "6492                  92.0              0.21          0  \n",
       "6493                 168.0              0.32          0  \n",
       "6494                 111.0              0.24          0  \n",
       "6495                 110.0              0.29          0  \n",
       "6496                  98.0              0.21          0  "
      ]
     },
     "execution_count": 16,
     "metadata": {},
     "output_type": "execute_result"
    }
   ],
   "source": [
    "df.tail()"
   ]
  },
  {
   "cell_type": "code",
   "execution_count": 17,
   "metadata": {},
   "outputs": [],
   "source": [
    "from sklearn.utils import shuffle\n",
    "df = shuffle(df)"
   ]
  },
  {
   "cell_type": "code",
   "execution_count": 18,
   "metadata": {},
   "outputs": [
    {
     "data": {
      "text/html": [
       "<div>\n",
       "<style scoped>\n",
       "    .dataframe tbody tr th:only-of-type {\n",
       "        vertical-align: middle;\n",
       "    }\n",
       "\n",
       "    .dataframe tbody tr th {\n",
       "        vertical-align: top;\n",
       "    }\n",
       "\n",
       "    .dataframe thead th {\n",
       "        text-align: right;\n",
       "    }\n",
       "</style>\n",
       "<table border=\"1\" class=\"dataframe\">\n",
       "  <thead>\n",
       "    <tr style=\"text-align: right;\">\n",
       "      <th></th>\n",
       "      <th>alcohol</th>\n",
       "      <th>chlorides</th>\n",
       "      <th>citric acid</th>\n",
       "      <th>density</th>\n",
       "      <th>fixed acidity</th>\n",
       "      <th>free sulfur dioxide</th>\n",
       "      <th>pH</th>\n",
       "      <th>quality</th>\n",
       "      <th>residual sugar</th>\n",
       "      <th>sulphates</th>\n",
       "      <th>total sulfur dioxide</th>\n",
       "      <th>volatile acidity</th>\n",
       "      <th>wine_type</th>\n",
       "    </tr>\n",
       "  </thead>\n",
       "  <tbody>\n",
       "    <tr>\n",
       "      <th>5040</th>\n",
       "      <td>11.1</td>\n",
       "      <td>0.040</td>\n",
       "      <td>0.28</td>\n",
       "      <td>0.99174</td>\n",
       "      <td>7.1</td>\n",
       "      <td>31.0</td>\n",
       "      <td>3.18</td>\n",
       "      <td>5</td>\n",
       "      <td>1.2</td>\n",
       "      <td>0.53</td>\n",
       "      <td>111.0</td>\n",
       "      <td>0.25</td>\n",
       "      <td>0</td>\n",
       "    </tr>\n",
       "    <tr>\n",
       "      <th>5112</th>\n",
       "      <td>13.0</td>\n",
       "      <td>0.032</td>\n",
       "      <td>0.28</td>\n",
       "      <td>0.99320</td>\n",
       "      <td>7.9</td>\n",
       "      <td>13.0</td>\n",
       "      <td>2.99</td>\n",
       "      <td>6</td>\n",
       "      <td>12.9</td>\n",
       "      <td>0.43</td>\n",
       "      <td>63.0</td>\n",
       "      <td>0.35</td>\n",
       "      <td>0</td>\n",
       "    </tr>\n",
       "    <tr>\n",
       "      <th>4399</th>\n",
       "      <td>9.2</td>\n",
       "      <td>0.047</td>\n",
       "      <td>0.51</td>\n",
       "      <td>0.99604</td>\n",
       "      <td>6.6</td>\n",
       "      <td>61.0</td>\n",
       "      <td>3.22</td>\n",
       "      <td>5</td>\n",
       "      <td>8.0</td>\n",
       "      <td>0.49</td>\n",
       "      <td>189.0</td>\n",
       "      <td>0.25</td>\n",
       "      <td>0</td>\n",
       "    </tr>\n",
       "    <tr>\n",
       "      <th>4429</th>\n",
       "      <td>10.8</td>\n",
       "      <td>0.050</td>\n",
       "      <td>0.34</td>\n",
       "      <td>0.99526</td>\n",
       "      <td>6.6</td>\n",
       "      <td>59.0</td>\n",
       "      <td>3.22</td>\n",
       "      <td>5</td>\n",
       "      <td>11.6</td>\n",
       "      <td>0.40</td>\n",
       "      <td>140.0</td>\n",
       "      <td>0.22</td>\n",
       "      <td>0</td>\n",
       "    </tr>\n",
       "    <tr>\n",
       "      <th>3875</th>\n",
       "      <td>9.4</td>\n",
       "      <td>0.043</td>\n",
       "      <td>0.18</td>\n",
       "      <td>0.99566</td>\n",
       "      <td>6.7</td>\n",
       "      <td>57.0</td>\n",
       "      <td>3.17</td>\n",
       "      <td>6</td>\n",
       "      <td>7.7</td>\n",
       "      <td>0.44</td>\n",
       "      <td>200.0</td>\n",
       "      <td>0.31</td>\n",
       "      <td>0</td>\n",
       "    </tr>\n",
       "  </tbody>\n",
       "</table>\n",
       "</div>"
      ],
      "text/plain": [
       "      alcohol  chlorides  citric acid  density  fixed acidity  \\\n",
       "5040     11.1      0.040         0.28  0.99174            7.1   \n",
       "5112     13.0      0.032         0.28  0.99320            7.9   \n",
       "4399      9.2      0.047         0.51  0.99604            6.6   \n",
       "4429     10.8      0.050         0.34  0.99526            6.6   \n",
       "3875      9.4      0.043         0.18  0.99566            6.7   \n",
       "\n",
       "      free sulfur dioxide    pH  quality  residual sugar  sulphates  \\\n",
       "5040                 31.0  3.18        5             1.2       0.53   \n",
       "5112                 13.0  2.99        6            12.9       0.43   \n",
       "4399                 61.0  3.22        5             8.0       0.49   \n",
       "4429                 59.0  3.22        5            11.6       0.40   \n",
       "3875                 57.0  3.17        6             7.7       0.44   \n",
       "\n",
       "      total sulfur dioxide  volatile acidity  wine_type  \n",
       "5040                 111.0              0.25          0  \n",
       "5112                  63.0              0.35          0  \n",
       "4399                 189.0              0.25          0  \n",
       "4429                 140.0              0.22          0  \n",
       "3875                 200.0              0.31          0  "
      ]
     },
     "execution_count": 18,
     "metadata": {},
     "output_type": "execute_result"
    }
   ],
   "source": [
    "df.head(5)"
   ]
  },
  {
   "cell_type": "code",
   "execution_count": 19,
   "metadata": {
    "scrolled": true
   },
   "outputs": [],
   "source": [
    "df.reset_index(drop=True, inplace=True)"
   ]
  },
  {
   "cell_type": "code",
   "execution_count": 20,
   "metadata": {},
   "outputs": [
    {
     "data": {
      "text/html": [
       "<div>\n",
       "<style scoped>\n",
       "    .dataframe tbody tr th:only-of-type {\n",
       "        vertical-align: middle;\n",
       "    }\n",
       "\n",
       "    .dataframe tbody tr th {\n",
       "        vertical-align: top;\n",
       "    }\n",
       "\n",
       "    .dataframe thead th {\n",
       "        text-align: right;\n",
       "    }\n",
       "</style>\n",
       "<table border=\"1\" class=\"dataframe\">\n",
       "  <thead>\n",
       "    <tr style=\"text-align: right;\">\n",
       "      <th></th>\n",
       "      <th>alcohol</th>\n",
       "      <th>chlorides</th>\n",
       "      <th>citric acid</th>\n",
       "      <th>density</th>\n",
       "      <th>fixed acidity</th>\n",
       "      <th>free sulfur dioxide</th>\n",
       "      <th>pH</th>\n",
       "      <th>quality</th>\n",
       "      <th>residual sugar</th>\n",
       "      <th>sulphates</th>\n",
       "      <th>total sulfur dioxide</th>\n",
       "      <th>volatile acidity</th>\n",
       "      <th>wine_type</th>\n",
       "    </tr>\n",
       "  </thead>\n",
       "  <tbody>\n",
       "    <tr>\n",
       "      <th>0</th>\n",
       "      <td>11.1</td>\n",
       "      <td>0.040</td>\n",
       "      <td>0.28</td>\n",
       "      <td>0.99174</td>\n",
       "      <td>7.1</td>\n",
       "      <td>31.0</td>\n",
       "      <td>3.18</td>\n",
       "      <td>5</td>\n",
       "      <td>1.20</td>\n",
       "      <td>0.53</td>\n",
       "      <td>111.0</td>\n",
       "      <td>0.250</td>\n",
       "      <td>0</td>\n",
       "    </tr>\n",
       "    <tr>\n",
       "      <th>1</th>\n",
       "      <td>13.0</td>\n",
       "      <td>0.032</td>\n",
       "      <td>0.28</td>\n",
       "      <td>0.99320</td>\n",
       "      <td>7.9</td>\n",
       "      <td>13.0</td>\n",
       "      <td>2.99</td>\n",
       "      <td>6</td>\n",
       "      <td>12.90</td>\n",
       "      <td>0.43</td>\n",
       "      <td>63.0</td>\n",
       "      <td>0.350</td>\n",
       "      <td>0</td>\n",
       "    </tr>\n",
       "    <tr>\n",
       "      <th>2</th>\n",
       "      <td>9.2</td>\n",
       "      <td>0.047</td>\n",
       "      <td>0.51</td>\n",
       "      <td>0.99604</td>\n",
       "      <td>6.6</td>\n",
       "      <td>61.0</td>\n",
       "      <td>3.22</td>\n",
       "      <td>5</td>\n",
       "      <td>8.00</td>\n",
       "      <td>0.49</td>\n",
       "      <td>189.0</td>\n",
       "      <td>0.250</td>\n",
       "      <td>0</td>\n",
       "    </tr>\n",
       "    <tr>\n",
       "      <th>3</th>\n",
       "      <td>10.8</td>\n",
       "      <td>0.050</td>\n",
       "      <td>0.34</td>\n",
       "      <td>0.99526</td>\n",
       "      <td>6.6</td>\n",
       "      <td>59.0</td>\n",
       "      <td>3.22</td>\n",
       "      <td>5</td>\n",
       "      <td>11.60</td>\n",
       "      <td>0.40</td>\n",
       "      <td>140.0</td>\n",
       "      <td>0.220</td>\n",
       "      <td>0</td>\n",
       "    </tr>\n",
       "    <tr>\n",
       "      <th>4</th>\n",
       "      <td>9.4</td>\n",
       "      <td>0.043</td>\n",
       "      <td>0.18</td>\n",
       "      <td>0.99566</td>\n",
       "      <td>6.7</td>\n",
       "      <td>57.0</td>\n",
       "      <td>3.17</td>\n",
       "      <td>6</td>\n",
       "      <td>7.70</td>\n",
       "      <td>0.44</td>\n",
       "      <td>200.0</td>\n",
       "      <td>0.310</td>\n",
       "      <td>0</td>\n",
       "    </tr>\n",
       "    <tr>\n",
       "      <th>5</th>\n",
       "      <td>9.6</td>\n",
       "      <td>0.095</td>\n",
       "      <td>0.00</td>\n",
       "      <td>0.99854</td>\n",
       "      <td>8.1</td>\n",
       "      <td>5.0</td>\n",
       "      <td>3.36</td>\n",
       "      <td>5</td>\n",
       "      <td>4.10</td>\n",
       "      <td>0.53</td>\n",
       "      <td>14.0</td>\n",
       "      <td>0.820</td>\n",
       "      <td>1</td>\n",
       "    </tr>\n",
       "    <tr>\n",
       "      <th>6</th>\n",
       "      <td>10.5</td>\n",
       "      <td>0.083</td>\n",
       "      <td>0.21</td>\n",
       "      <td>0.99532</td>\n",
       "      <td>8.0</td>\n",
       "      <td>14.0</td>\n",
       "      <td>3.34</td>\n",
       "      <td>5</td>\n",
       "      <td>1.90</td>\n",
       "      <td>0.47</td>\n",
       "      <td>41.0</td>\n",
       "      <td>1.180</td>\n",
       "      <td>1</td>\n",
       "    </tr>\n",
       "    <tr>\n",
       "      <th>7</th>\n",
       "      <td>8.8</td>\n",
       "      <td>0.033</td>\n",
       "      <td>0.64</td>\n",
       "      <td>0.99800</td>\n",
       "      <td>7.6</td>\n",
       "      <td>54.0</td>\n",
       "      <td>3.00</td>\n",
       "      <td>5</td>\n",
       "      <td>12.90</td>\n",
       "      <td>0.53</td>\n",
       "      <td>170.0</td>\n",
       "      <td>0.230</td>\n",
       "      <td>0</td>\n",
       "    </tr>\n",
       "    <tr>\n",
       "      <th>8</th>\n",
       "      <td>10.4</td>\n",
       "      <td>0.044</td>\n",
       "      <td>0.29</td>\n",
       "      <td>0.99232</td>\n",
       "      <td>6.8</td>\n",
       "      <td>15.0</td>\n",
       "      <td>3.23</td>\n",
       "      <td>8</td>\n",
       "      <td>2.00</td>\n",
       "      <td>0.64</td>\n",
       "      <td>96.0</td>\n",
       "      <td>0.240</td>\n",
       "      <td>0</td>\n",
       "    </tr>\n",
       "    <tr>\n",
       "      <th>9</th>\n",
       "      <td>10.1</td>\n",
       "      <td>0.041</td>\n",
       "      <td>0.24</td>\n",
       "      <td>0.99560</td>\n",
       "      <td>6.4</td>\n",
       "      <td>29.0</td>\n",
       "      <td>3.29</td>\n",
       "      <td>6</td>\n",
       "      <td>9.80</td>\n",
       "      <td>0.47</td>\n",
       "      <td>109.0</td>\n",
       "      <td>0.330</td>\n",
       "      <td>0</td>\n",
       "    </tr>\n",
       "    <tr>\n",
       "      <th>10</th>\n",
       "      <td>10.7</td>\n",
       "      <td>0.076</td>\n",
       "      <td>0.14</td>\n",
       "      <td>0.99624</td>\n",
       "      <td>7.1</td>\n",
       "      <td>15.0</td>\n",
       "      <td>3.36</td>\n",
       "      <td>5</td>\n",
       "      <td>2.80</td>\n",
       "      <td>0.49</td>\n",
       "      <td>37.0</td>\n",
       "      <td>0.460</td>\n",
       "      <td>1</td>\n",
       "    </tr>\n",
       "    <tr>\n",
       "      <th>11</th>\n",
       "      <td>9.5</td>\n",
       "      <td>0.053</td>\n",
       "      <td>0.43</td>\n",
       "      <td>0.99820</td>\n",
       "      <td>8.0</td>\n",
       "      <td>29.0</td>\n",
       "      <td>3.40</td>\n",
       "      <td>6</td>\n",
       "      <td>10.10</td>\n",
       "      <td>0.46</td>\n",
       "      <td>146.0</td>\n",
       "      <td>0.360</td>\n",
       "      <td>0</td>\n",
       "    </tr>\n",
       "    <tr>\n",
       "      <th>12</th>\n",
       "      <td>10.4</td>\n",
       "      <td>0.064</td>\n",
       "      <td>0.42</td>\n",
       "      <td>0.99758</td>\n",
       "      <td>11.1</td>\n",
       "      <td>14.0</td>\n",
       "      <td>3.25</td>\n",
       "      <td>6</td>\n",
       "      <td>2.20</td>\n",
       "      <td>0.57</td>\n",
       "      <td>19.0</td>\n",
       "      <td>0.440</td>\n",
       "      <td>1</td>\n",
       "    </tr>\n",
       "    <tr>\n",
       "      <th>13</th>\n",
       "      <td>13.0</td>\n",
       "      <td>0.030</td>\n",
       "      <td>0.32</td>\n",
       "      <td>0.98923</td>\n",
       "      <td>6.3</td>\n",
       "      <td>24.0</td>\n",
       "      <td>3.21</td>\n",
       "      <td>5</td>\n",
       "      <td>1.50</td>\n",
       "      <td>0.42</td>\n",
       "      <td>101.0</td>\n",
       "      <td>0.320</td>\n",
       "      <td>0</td>\n",
       "    </tr>\n",
       "    <tr>\n",
       "      <th>14</th>\n",
       "      <td>10.9</td>\n",
       "      <td>0.066</td>\n",
       "      <td>0.48</td>\n",
       "      <td>0.99724</td>\n",
       "      <td>10.4</td>\n",
       "      <td>6.0</td>\n",
       "      <td>3.33</td>\n",
       "      <td>6</td>\n",
       "      <td>1.90</td>\n",
       "      <td>0.87</td>\n",
       "      <td>10.0</td>\n",
       "      <td>0.260</td>\n",
       "      <td>1</td>\n",
       "    </tr>\n",
       "    <tr>\n",
       "      <th>15</th>\n",
       "      <td>9.1</td>\n",
       "      <td>0.086</td>\n",
       "      <td>0.47</td>\n",
       "      <td>0.99700</td>\n",
       "      <td>7.4</td>\n",
       "      <td>21.0</td>\n",
       "      <td>3.36</td>\n",
       "      <td>5</td>\n",
       "      <td>2.00</td>\n",
       "      <td>0.57</td>\n",
       "      <td>73.0</td>\n",
       "      <td>0.500</td>\n",
       "      <td>1</td>\n",
       "    </tr>\n",
       "    <tr>\n",
       "      <th>16</th>\n",
       "      <td>10.4</td>\n",
       "      <td>0.047</td>\n",
       "      <td>0.30</td>\n",
       "      <td>0.99200</td>\n",
       "      <td>5.8</td>\n",
       "      <td>36.0</td>\n",
       "      <td>3.26</td>\n",
       "      <td>5</td>\n",
       "      <td>1.10</td>\n",
       "      <td>0.45</td>\n",
       "      <td>131.0</td>\n",
       "      <td>0.220</td>\n",
       "      <td>0</td>\n",
       "    </tr>\n",
       "    <tr>\n",
       "      <th>17</th>\n",
       "      <td>11.4</td>\n",
       "      <td>0.041</td>\n",
       "      <td>0.23</td>\n",
       "      <td>0.99246</td>\n",
       "      <td>6.9</td>\n",
       "      <td>20.0</td>\n",
       "      <td>3.10</td>\n",
       "      <td>6</td>\n",
       "      <td>7.10</td>\n",
       "      <td>0.85</td>\n",
       "      <td>97.0</td>\n",
       "      <td>0.240</td>\n",
       "      <td>0</td>\n",
       "    </tr>\n",
       "    <tr>\n",
       "      <th>18</th>\n",
       "      <td>9.1</td>\n",
       "      <td>0.050</td>\n",
       "      <td>0.34</td>\n",
       "      <td>0.99554</td>\n",
       "      <td>8.9</td>\n",
       "      <td>4.0</td>\n",
       "      <td>3.12</td>\n",
       "      <td>6</td>\n",
       "      <td>1.40</td>\n",
       "      <td>0.48</td>\n",
       "      <td>10.0</td>\n",
       "      <td>0.840</td>\n",
       "      <td>1</td>\n",
       "    </tr>\n",
       "    <tr>\n",
       "      <th>19</th>\n",
       "      <td>9.4</td>\n",
       "      <td>0.208</td>\n",
       "      <td>0.30</td>\n",
       "      <td>0.99478</td>\n",
       "      <td>6.3</td>\n",
       "      <td>60.0</td>\n",
       "      <td>3.10</td>\n",
       "      <td>6</td>\n",
       "      <td>6.60</td>\n",
       "      <td>0.40</td>\n",
       "      <td>154.0</td>\n",
       "      <td>0.280</td>\n",
       "      <td>0</td>\n",
       "    </tr>\n",
       "    <tr>\n",
       "      <th>20</th>\n",
       "      <td>11.3</td>\n",
       "      <td>0.042</td>\n",
       "      <td>0.49</td>\n",
       "      <td>0.99170</td>\n",
       "      <td>7.4</td>\n",
       "      <td>35.0</td>\n",
       "      <td>3.13</td>\n",
       "      <td>5</td>\n",
       "      <td>1.10</td>\n",
       "      <td>0.55</td>\n",
       "      <td>156.0</td>\n",
       "      <td>0.250</td>\n",
       "      <td>0</td>\n",
       "    </tr>\n",
       "    <tr>\n",
       "      <th>21</th>\n",
       "      <td>10.0</td>\n",
       "      <td>0.041</td>\n",
       "      <td>0.36</td>\n",
       "      <td>0.99820</td>\n",
       "      <td>8.5</td>\n",
       "      <td>47.0</td>\n",
       "      <td>3.08</td>\n",
       "      <td>6</td>\n",
       "      <td>14.90</td>\n",
       "      <td>0.31</td>\n",
       "      <td>190.0</td>\n",
       "      <td>0.320</td>\n",
       "      <td>0</td>\n",
       "    </tr>\n",
       "    <tr>\n",
       "      <th>22</th>\n",
       "      <td>10.5</td>\n",
       "      <td>0.046</td>\n",
       "      <td>0.19</td>\n",
       "      <td>0.99184</td>\n",
       "      <td>6.1</td>\n",
       "      <td>51.0</td>\n",
       "      <td>3.22</td>\n",
       "      <td>5</td>\n",
       "      <td>1.40</td>\n",
       "      <td>0.39</td>\n",
       "      <td>131.0</td>\n",
       "      <td>0.210</td>\n",
       "      <td>0</td>\n",
       "    </tr>\n",
       "    <tr>\n",
       "      <th>23</th>\n",
       "      <td>11.0</td>\n",
       "      <td>0.080</td>\n",
       "      <td>0.65</td>\n",
       "      <td>0.99817</td>\n",
       "      <td>8.6</td>\n",
       "      <td>3.0</td>\n",
       "      <td>3.27</td>\n",
       "      <td>5</td>\n",
       "      <td>6.40</td>\n",
       "      <td>0.58</td>\n",
       "      <td>8.0</td>\n",
       "      <td>0.370</td>\n",
       "      <td>1</td>\n",
       "    </tr>\n",
       "    <tr>\n",
       "      <th>24</th>\n",
       "      <td>9.0</td>\n",
       "      <td>0.071</td>\n",
       "      <td>0.52</td>\n",
       "      <td>1.00060</td>\n",
       "      <td>13.2</td>\n",
       "      <td>12.0</td>\n",
       "      <td>3.10</td>\n",
       "      <td>6</td>\n",
       "      <td>2.20</td>\n",
       "      <td>0.56</td>\n",
       "      <td>35.0</td>\n",
       "      <td>0.460</td>\n",
       "      <td>1</td>\n",
       "    </tr>\n",
       "    <tr>\n",
       "      <th>25</th>\n",
       "      <td>9.0</td>\n",
       "      <td>0.047</td>\n",
       "      <td>0.17</td>\n",
       "      <td>0.99830</td>\n",
       "      <td>6.8</td>\n",
       "      <td>49.0</td>\n",
       "      <td>3.21</td>\n",
       "      <td>6</td>\n",
       "      <td>13.90</td>\n",
       "      <td>0.51</td>\n",
       "      <td>162.0</td>\n",
       "      <td>0.280</td>\n",
       "      <td>0</td>\n",
       "    </tr>\n",
       "    <tr>\n",
       "      <th>26</th>\n",
       "      <td>8.8</td>\n",
       "      <td>0.050</td>\n",
       "      <td>0.42</td>\n",
       "      <td>0.99990</td>\n",
       "      <td>7.0</td>\n",
       "      <td>35.0</td>\n",
       "      <td>3.22</td>\n",
       "      <td>5</td>\n",
       "      <td>18.05</td>\n",
       "      <td>0.42</td>\n",
       "      <td>144.0</td>\n",
       "      <td>0.230</td>\n",
       "      <td>0</td>\n",
       "    </tr>\n",
       "    <tr>\n",
       "      <th>27</th>\n",
       "      <td>9.6</td>\n",
       "      <td>0.086</td>\n",
       "      <td>0.19</td>\n",
       "      <td>0.99300</td>\n",
       "      <td>6.8</td>\n",
       "      <td>30.0</td>\n",
       "      <td>2.83</td>\n",
       "      <td>5</td>\n",
       "      <td>3.50</td>\n",
       "      <td>0.44</td>\n",
       "      <td>130.0</td>\n",
       "      <td>0.310</td>\n",
       "      <td>0</td>\n",
       "    </tr>\n",
       "    <tr>\n",
       "      <th>28</th>\n",
       "      <td>10.3</td>\n",
       "      <td>0.035</td>\n",
       "      <td>0.36</td>\n",
       "      <td>0.99520</td>\n",
       "      <td>8.2</td>\n",
       "      <td>60.0</td>\n",
       "      <td>3.05</td>\n",
       "      <td>6</td>\n",
       "      <td>8.10</td>\n",
       "      <td>0.30</td>\n",
       "      <td>163.0</td>\n",
       "      <td>0.200</td>\n",
       "      <td>0</td>\n",
       "    </tr>\n",
       "    <tr>\n",
       "      <th>29</th>\n",
       "      <td>13.8</td>\n",
       "      <td>0.022</td>\n",
       "      <td>0.22</td>\n",
       "      <td>0.98889</td>\n",
       "      <td>5.4</td>\n",
       "      <td>29.0</td>\n",
       "      <td>3.33</td>\n",
       "      <td>6</td>\n",
       "      <td>4.60</td>\n",
       "      <td>0.54</td>\n",
       "      <td>107.0</td>\n",
       "      <td>0.270</td>\n",
       "      <td>0</td>\n",
       "    </tr>\n",
       "    <tr>\n",
       "      <th>...</th>\n",
       "      <td>...</td>\n",
       "      <td>...</td>\n",
       "      <td>...</td>\n",
       "      <td>...</td>\n",
       "      <td>...</td>\n",
       "      <td>...</td>\n",
       "      <td>...</td>\n",
       "      <td>...</td>\n",
       "      <td>...</td>\n",
       "      <td>...</td>\n",
       "      <td>...</td>\n",
       "      <td>...</td>\n",
       "      <td>...</td>\n",
       "    </tr>\n",
       "    <tr>\n",
       "      <th>6467</th>\n",
       "      <td>10.0</td>\n",
       "      <td>0.102</td>\n",
       "      <td>0.24</td>\n",
       "      <td>1.00000</td>\n",
       "      <td>10.0</td>\n",
       "      <td>13.0</td>\n",
       "      <td>3.28</td>\n",
       "      <td>6</td>\n",
       "      <td>2.70</td>\n",
       "      <td>0.56</td>\n",
       "      <td>32.0</td>\n",
       "      <td>0.480</td>\n",
       "      <td>1</td>\n",
       "    </tr>\n",
       "    <tr>\n",
       "      <th>6468</th>\n",
       "      <td>9.1</td>\n",
       "      <td>0.044</td>\n",
       "      <td>0.34</td>\n",
       "      <td>0.99752</td>\n",
       "      <td>6.4</td>\n",
       "      <td>45.0</td>\n",
       "      <td>3.06</td>\n",
       "      <td>6</td>\n",
       "      <td>13.40</td>\n",
       "      <td>0.43</td>\n",
       "      <td>139.0</td>\n",
       "      <td>0.170</td>\n",
       "      <td>0</td>\n",
       "    </tr>\n",
       "    <tr>\n",
       "      <th>6469</th>\n",
       "      <td>12.5</td>\n",
       "      <td>0.017</td>\n",
       "      <td>0.23</td>\n",
       "      <td>0.98920</td>\n",
       "      <td>7.4</td>\n",
       "      <td>31.0</td>\n",
       "      <td>2.93</td>\n",
       "      <td>6</td>\n",
       "      <td>1.90</td>\n",
       "      <td>0.36</td>\n",
       "      <td>69.0</td>\n",
       "      <td>0.360</td>\n",
       "      <td>0</td>\n",
       "    </tr>\n",
       "    <tr>\n",
       "      <th>6470</th>\n",
       "      <td>12.5</td>\n",
       "      <td>0.029</td>\n",
       "      <td>0.34</td>\n",
       "      <td>0.98954</td>\n",
       "      <td>6.5</td>\n",
       "      <td>39.0</td>\n",
       "      <td>3.21</td>\n",
       "      <td>6</td>\n",
       "      <td>1.60</td>\n",
       "      <td>0.68</td>\n",
       "      <td>116.0</td>\n",
       "      <td>0.190</td>\n",
       "      <td>0</td>\n",
       "    </tr>\n",
       "    <tr>\n",
       "      <th>6471</th>\n",
       "      <td>9.9</td>\n",
       "      <td>0.080</td>\n",
       "      <td>0.26</td>\n",
       "      <td>0.99622</td>\n",
       "      <td>7.8</td>\n",
       "      <td>31.0</td>\n",
       "      <td>3.21</td>\n",
       "      <td>5</td>\n",
       "      <td>2.00</td>\n",
       "      <td>0.52</td>\n",
       "      <td>131.0</td>\n",
       "      <td>0.600</td>\n",
       "      <td>1</td>\n",
       "    </tr>\n",
       "    <tr>\n",
       "      <th>6472</th>\n",
       "      <td>10.2</td>\n",
       "      <td>0.044</td>\n",
       "      <td>0.24</td>\n",
       "      <td>0.99348</td>\n",
       "      <td>6.7</td>\n",
       "      <td>28.0</td>\n",
       "      <td>3.12</td>\n",
       "      <td>6</td>\n",
       "      <td>6.50</td>\n",
       "      <td>0.33</td>\n",
       "      <td>100.0</td>\n",
       "      <td>0.200</td>\n",
       "      <td>0</td>\n",
       "    </tr>\n",
       "    <tr>\n",
       "      <th>6473</th>\n",
       "      <td>11.3</td>\n",
       "      <td>0.036</td>\n",
       "      <td>0.29</td>\n",
       "      <td>0.99040</td>\n",
       "      <td>5.9</td>\n",
       "      <td>23.0</td>\n",
       "      <td>3.19</td>\n",
       "      <td>5</td>\n",
       "      <td>1.10</td>\n",
       "      <td>0.38</td>\n",
       "      <td>56.0</td>\n",
       "      <td>0.300</td>\n",
       "      <td>0</td>\n",
       "    </tr>\n",
       "    <tr>\n",
       "      <th>6474</th>\n",
       "      <td>10.6</td>\n",
       "      <td>0.038</td>\n",
       "      <td>0.30</td>\n",
       "      <td>0.99280</td>\n",
       "      <td>6.7</td>\n",
       "      <td>18.0</td>\n",
       "      <td>3.36</td>\n",
       "      <td>6</td>\n",
       "      <td>2.10</td>\n",
       "      <td>0.63</td>\n",
       "      <td>130.0</td>\n",
       "      <td>0.310</td>\n",
       "      <td>0</td>\n",
       "    </tr>\n",
       "    <tr>\n",
       "      <th>6475</th>\n",
       "      <td>8.8</td>\n",
       "      <td>0.055</td>\n",
       "      <td>0.24</td>\n",
       "      <td>0.99880</td>\n",
       "      <td>7.1</td>\n",
       "      <td>46.0</td>\n",
       "      <td>3.12</td>\n",
       "      <td>5</td>\n",
       "      <td>15.40</td>\n",
       "      <td>0.49</td>\n",
       "      <td>198.0</td>\n",
       "      <td>0.350</td>\n",
       "      <td>0</td>\n",
       "    </tr>\n",
       "    <tr>\n",
       "      <th>6476</th>\n",
       "      <td>10.5</td>\n",
       "      <td>0.042</td>\n",
       "      <td>0.49</td>\n",
       "      <td>0.99300</td>\n",
       "      <td>7.9</td>\n",
       "      <td>26.0</td>\n",
       "      <td>3.10</td>\n",
       "      <td>5</td>\n",
       "      <td>3.80</td>\n",
       "      <td>0.39</td>\n",
       "      <td>105.0</td>\n",
       "      <td>0.220</td>\n",
       "      <td>0</td>\n",
       "    </tr>\n",
       "    <tr>\n",
       "      <th>6477</th>\n",
       "      <td>10.3</td>\n",
       "      <td>0.175</td>\n",
       "      <td>0.67</td>\n",
       "      <td>0.99244</td>\n",
       "      <td>6.8</td>\n",
       "      <td>16.0</td>\n",
       "      <td>3.06</td>\n",
       "      <td>6</td>\n",
       "      <td>1.50</td>\n",
       "      <td>0.56</td>\n",
       "      <td>98.0</td>\n",
       "      <td>0.370</td>\n",
       "      <td>0</td>\n",
       "    </tr>\n",
       "    <tr>\n",
       "      <th>6478</th>\n",
       "      <td>9.4</td>\n",
       "      <td>0.089</td>\n",
       "      <td>0.18</td>\n",
       "      <td>0.99738</td>\n",
       "      <td>8.8</td>\n",
       "      <td>12.0</td>\n",
       "      <td>3.14</td>\n",
       "      <td>5</td>\n",
       "      <td>2.90</td>\n",
       "      <td>0.54</td>\n",
       "      <td>74.0</td>\n",
       "      <td>0.590</td>\n",
       "      <td>1</td>\n",
       "    </tr>\n",
       "    <tr>\n",
       "      <th>6479</th>\n",
       "      <td>9.0</td>\n",
       "      <td>0.046</td>\n",
       "      <td>0.38</td>\n",
       "      <td>0.99550</td>\n",
       "      <td>6.4</td>\n",
       "      <td>35.0</td>\n",
       "      <td>3.10</td>\n",
       "      <td>5</td>\n",
       "      <td>7.80</td>\n",
       "      <td>0.37</td>\n",
       "      <td>192.0</td>\n",
       "      <td>0.300</td>\n",
       "      <td>0</td>\n",
       "    </tr>\n",
       "    <tr>\n",
       "      <th>6480</th>\n",
       "      <td>8.8</td>\n",
       "      <td>0.046</td>\n",
       "      <td>0.36</td>\n",
       "      <td>1.00000</td>\n",
       "      <td>6.8</td>\n",
       "      <td>32.0</td>\n",
       "      <td>3.27</td>\n",
       "      <td>5</td>\n",
       "      <td>18.10</td>\n",
       "      <td>0.48</td>\n",
       "      <td>133.0</td>\n",
       "      <td>0.210</td>\n",
       "      <td>0</td>\n",
       "    </tr>\n",
       "    <tr>\n",
       "      <th>6481</th>\n",
       "      <td>9.0</td>\n",
       "      <td>0.033</td>\n",
       "      <td>0.12</td>\n",
       "      <td>0.99740</td>\n",
       "      <td>6.5</td>\n",
       "      <td>35.0</td>\n",
       "      <td>3.22</td>\n",
       "      <td>5</td>\n",
       "      <td>11.50</td>\n",
       "      <td>0.32</td>\n",
       "      <td>165.0</td>\n",
       "      <td>0.320</td>\n",
       "      <td>0</td>\n",
       "    </tr>\n",
       "    <tr>\n",
       "      <th>6482</th>\n",
       "      <td>10.4</td>\n",
       "      <td>0.046</td>\n",
       "      <td>0.22</td>\n",
       "      <td>0.99280</td>\n",
       "      <td>7.4</td>\n",
       "      <td>16.0</td>\n",
       "      <td>3.08</td>\n",
       "      <td>7</td>\n",
       "      <td>1.40</td>\n",
       "      <td>0.77</td>\n",
       "      <td>135.0</td>\n",
       "      <td>0.300</td>\n",
       "      <td>0</td>\n",
       "    </tr>\n",
       "    <tr>\n",
       "      <th>6483</th>\n",
       "      <td>9.6</td>\n",
       "      <td>0.045</td>\n",
       "      <td>0.16</td>\n",
       "      <td>0.99490</td>\n",
       "      <td>6.2</td>\n",
       "      <td>30.0</td>\n",
       "      <td>3.18</td>\n",
       "      <td>6</td>\n",
       "      <td>7.00</td>\n",
       "      <td>0.47</td>\n",
       "      <td>136.0</td>\n",
       "      <td>0.320</td>\n",
       "      <td>0</td>\n",
       "    </tr>\n",
       "    <tr>\n",
       "      <th>6484</th>\n",
       "      <td>9.0</td>\n",
       "      <td>0.055</td>\n",
       "      <td>0.28</td>\n",
       "      <td>0.99860</td>\n",
       "      <td>7.2</td>\n",
       "      <td>55.0</td>\n",
       "      <td>3.12</td>\n",
       "      <td>7</td>\n",
       "      <td>14.40</td>\n",
       "      <td>0.38</td>\n",
       "      <td>205.0</td>\n",
       "      <td>0.250</td>\n",
       "      <td>0</td>\n",
       "    </tr>\n",
       "    <tr>\n",
       "      <th>6485</th>\n",
       "      <td>11.6</td>\n",
       "      <td>0.038</td>\n",
       "      <td>0.29</td>\n",
       "      <td>0.99120</td>\n",
       "      <td>6.5</td>\n",
       "      <td>26.0</td>\n",
       "      <td>3.32</td>\n",
       "      <td>7</td>\n",
       "      <td>2.70</td>\n",
       "      <td>0.41</td>\n",
       "      <td>107.0</td>\n",
       "      <td>0.280</td>\n",
       "      <td>0</td>\n",
       "    </tr>\n",
       "    <tr>\n",
       "      <th>6486</th>\n",
       "      <td>11.4</td>\n",
       "      <td>0.034</td>\n",
       "      <td>0.31</td>\n",
       "      <td>0.99305</td>\n",
       "      <td>7.2</td>\n",
       "      <td>17.0</td>\n",
       "      <td>3.15</td>\n",
       "      <td>7</td>\n",
       "      <td>6.30</td>\n",
       "      <td>0.52</td>\n",
       "      <td>103.0</td>\n",
       "      <td>0.190</td>\n",
       "      <td>0</td>\n",
       "    </tr>\n",
       "    <tr>\n",
       "      <th>6487</th>\n",
       "      <td>11.5</td>\n",
       "      <td>0.032</td>\n",
       "      <td>0.31</td>\n",
       "      <td>0.99189</td>\n",
       "      <td>8.5</td>\n",
       "      <td>11.0</td>\n",
       "      <td>3.06</td>\n",
       "      <td>6</td>\n",
       "      <td>2.80</td>\n",
       "      <td>0.44</td>\n",
       "      <td>61.0</td>\n",
       "      <td>0.250</td>\n",
       "      <td>0</td>\n",
       "    </tr>\n",
       "    <tr>\n",
       "      <th>6488</th>\n",
       "      <td>12.1</td>\n",
       "      <td>0.040</td>\n",
       "      <td>0.34</td>\n",
       "      <td>0.99111</td>\n",
       "      <td>6.5</td>\n",
       "      <td>29.0</td>\n",
       "      <td>3.28</td>\n",
       "      <td>7</td>\n",
       "      <td>3.60</td>\n",
       "      <td>0.48</td>\n",
       "      <td>121.0</td>\n",
       "      <td>0.280</td>\n",
       "      <td>0</td>\n",
       "    </tr>\n",
       "    <tr>\n",
       "      <th>6489</th>\n",
       "      <td>9.5</td>\n",
       "      <td>0.083</td>\n",
       "      <td>0.49</td>\n",
       "      <td>0.99820</td>\n",
       "      <td>8.8</td>\n",
       "      <td>18.0</td>\n",
       "      <td>3.30</td>\n",
       "      <td>5</td>\n",
       "      <td>2.80</td>\n",
       "      <td>0.60</td>\n",
       "      <td>111.0</td>\n",
       "      <td>0.440</td>\n",
       "      <td>1</td>\n",
       "    </tr>\n",
       "    <tr>\n",
       "      <th>6490</th>\n",
       "      <td>10.2</td>\n",
       "      <td>0.082</td>\n",
       "      <td>0.05</td>\n",
       "      <td>0.99808</td>\n",
       "      <td>7.1</td>\n",
       "      <td>3.0</td>\n",
       "      <td>3.40</td>\n",
       "      <td>3</td>\n",
       "      <td>5.70</td>\n",
       "      <td>0.52</td>\n",
       "      <td>14.0</td>\n",
       "      <td>0.875</td>\n",
       "      <td>1</td>\n",
       "    </tr>\n",
       "    <tr>\n",
       "      <th>6491</th>\n",
       "      <td>9.6</td>\n",
       "      <td>0.056</td>\n",
       "      <td>0.32</td>\n",
       "      <td>0.99980</td>\n",
       "      <td>7.1</td>\n",
       "      <td>49.0</td>\n",
       "      <td>3.37</td>\n",
       "      <td>6</td>\n",
       "      <td>16.90</td>\n",
       "      <td>0.38</td>\n",
       "      <td>158.0</td>\n",
       "      <td>0.220</td>\n",
       "      <td>0</td>\n",
       "    </tr>\n",
       "    <tr>\n",
       "      <th>6492</th>\n",
       "      <td>10.5</td>\n",
       "      <td>0.047</td>\n",
       "      <td>0.25</td>\n",
       "      <td>0.99314</td>\n",
       "      <td>6.1</td>\n",
       "      <td>289.0</td>\n",
       "      <td>3.44</td>\n",
       "      <td>3</td>\n",
       "      <td>2.90</td>\n",
       "      <td>0.64</td>\n",
       "      <td>440.0</td>\n",
       "      <td>0.260</td>\n",
       "      <td>0</td>\n",
       "    </tr>\n",
       "    <tr>\n",
       "      <th>6493</th>\n",
       "      <td>10.1</td>\n",
       "      <td>0.095</td>\n",
       "      <td>0.03</td>\n",
       "      <td>0.99500</td>\n",
       "      <td>7.5</td>\n",
       "      <td>25.0</td>\n",
       "      <td>3.35</td>\n",
       "      <td>5</td>\n",
       "      <td>1.80</td>\n",
       "      <td>0.54</td>\n",
       "      <td>99.0</td>\n",
       "      <td>0.600</td>\n",
       "      <td>1</td>\n",
       "    </tr>\n",
       "    <tr>\n",
       "      <th>6494</th>\n",
       "      <td>9.0</td>\n",
       "      <td>0.054</td>\n",
       "      <td>0.46</td>\n",
       "      <td>0.99848</td>\n",
       "      <td>6.7</td>\n",
       "      <td>67.0</td>\n",
       "      <td>3.23</td>\n",
       "      <td>5</td>\n",
       "      <td>9.70</td>\n",
       "      <td>0.50</td>\n",
       "      <td>234.0</td>\n",
       "      <td>0.420</td>\n",
       "      <td>0</td>\n",
       "    </tr>\n",
       "    <tr>\n",
       "      <th>6495</th>\n",
       "      <td>9.2</td>\n",
       "      <td>0.107</td>\n",
       "      <td>0.26</td>\n",
       "      <td>0.99668</td>\n",
       "      <td>7.8</td>\n",
       "      <td>31.0</td>\n",
       "      <td>3.26</td>\n",
       "      <td>5</td>\n",
       "      <td>3.80</td>\n",
       "      <td>0.46</td>\n",
       "      <td>67.0</td>\n",
       "      <td>0.870</td>\n",
       "      <td>1</td>\n",
       "    </tr>\n",
       "    <tr>\n",
       "      <th>6496</th>\n",
       "      <td>9.8</td>\n",
       "      <td>0.053</td>\n",
       "      <td>0.26</td>\n",
       "      <td>0.99676</td>\n",
       "      <td>6.7</td>\n",
       "      <td>44.0</td>\n",
       "      <td>3.20</td>\n",
       "      <td>6</td>\n",
       "      <td>14.80</td>\n",
       "      <td>0.35</td>\n",
       "      <td>95.0</td>\n",
       "      <td>0.110</td>\n",
       "      <td>0</td>\n",
       "    </tr>\n",
       "  </tbody>\n",
       "</table>\n",
       "<p>6497 rows × 13 columns</p>\n",
       "</div>"
      ],
      "text/plain": [
       "      alcohol  chlorides  citric acid  density  fixed acidity  \\\n",
       "0        11.1      0.040         0.28  0.99174            7.1   \n",
       "1        13.0      0.032         0.28  0.99320            7.9   \n",
       "2         9.2      0.047         0.51  0.99604            6.6   \n",
       "3        10.8      0.050         0.34  0.99526            6.6   \n",
       "4         9.4      0.043         0.18  0.99566            6.7   \n",
       "5         9.6      0.095         0.00  0.99854            8.1   \n",
       "6        10.5      0.083         0.21  0.99532            8.0   \n",
       "7         8.8      0.033         0.64  0.99800            7.6   \n",
       "8        10.4      0.044         0.29  0.99232            6.8   \n",
       "9        10.1      0.041         0.24  0.99560            6.4   \n",
       "10       10.7      0.076         0.14  0.99624            7.1   \n",
       "11        9.5      0.053         0.43  0.99820            8.0   \n",
       "12       10.4      0.064         0.42  0.99758           11.1   \n",
       "13       13.0      0.030         0.32  0.98923            6.3   \n",
       "14       10.9      0.066         0.48  0.99724           10.4   \n",
       "15        9.1      0.086         0.47  0.99700            7.4   \n",
       "16       10.4      0.047         0.30  0.99200            5.8   \n",
       "17       11.4      0.041         0.23  0.99246            6.9   \n",
       "18        9.1      0.050         0.34  0.99554            8.9   \n",
       "19        9.4      0.208         0.30  0.99478            6.3   \n",
       "20       11.3      0.042         0.49  0.99170            7.4   \n",
       "21       10.0      0.041         0.36  0.99820            8.5   \n",
       "22       10.5      0.046         0.19  0.99184            6.1   \n",
       "23       11.0      0.080         0.65  0.99817            8.6   \n",
       "24        9.0      0.071         0.52  1.00060           13.2   \n",
       "25        9.0      0.047         0.17  0.99830            6.8   \n",
       "26        8.8      0.050         0.42  0.99990            7.0   \n",
       "27        9.6      0.086         0.19  0.99300            6.8   \n",
       "28       10.3      0.035         0.36  0.99520            8.2   \n",
       "29       13.8      0.022         0.22  0.98889            5.4   \n",
       "...       ...        ...          ...      ...            ...   \n",
       "6467     10.0      0.102         0.24  1.00000           10.0   \n",
       "6468      9.1      0.044         0.34  0.99752            6.4   \n",
       "6469     12.5      0.017         0.23  0.98920            7.4   \n",
       "6470     12.5      0.029         0.34  0.98954            6.5   \n",
       "6471      9.9      0.080         0.26  0.99622            7.8   \n",
       "6472     10.2      0.044         0.24  0.99348            6.7   \n",
       "6473     11.3      0.036         0.29  0.99040            5.9   \n",
       "6474     10.6      0.038         0.30  0.99280            6.7   \n",
       "6475      8.8      0.055         0.24  0.99880            7.1   \n",
       "6476     10.5      0.042         0.49  0.99300            7.9   \n",
       "6477     10.3      0.175         0.67  0.99244            6.8   \n",
       "6478      9.4      0.089         0.18  0.99738            8.8   \n",
       "6479      9.0      0.046         0.38  0.99550            6.4   \n",
       "6480      8.8      0.046         0.36  1.00000            6.8   \n",
       "6481      9.0      0.033         0.12  0.99740            6.5   \n",
       "6482     10.4      0.046         0.22  0.99280            7.4   \n",
       "6483      9.6      0.045         0.16  0.99490            6.2   \n",
       "6484      9.0      0.055         0.28  0.99860            7.2   \n",
       "6485     11.6      0.038         0.29  0.99120            6.5   \n",
       "6486     11.4      0.034         0.31  0.99305            7.2   \n",
       "6487     11.5      0.032         0.31  0.99189            8.5   \n",
       "6488     12.1      0.040         0.34  0.99111            6.5   \n",
       "6489      9.5      0.083         0.49  0.99820            8.8   \n",
       "6490     10.2      0.082         0.05  0.99808            7.1   \n",
       "6491      9.6      0.056         0.32  0.99980            7.1   \n",
       "6492     10.5      0.047         0.25  0.99314            6.1   \n",
       "6493     10.1      0.095         0.03  0.99500            7.5   \n",
       "6494      9.0      0.054         0.46  0.99848            6.7   \n",
       "6495      9.2      0.107         0.26  0.99668            7.8   \n",
       "6496      9.8      0.053         0.26  0.99676            6.7   \n",
       "\n",
       "      free sulfur dioxide    pH  quality  residual sugar  sulphates  \\\n",
       "0                    31.0  3.18        5            1.20       0.53   \n",
       "1                    13.0  2.99        6           12.90       0.43   \n",
       "2                    61.0  3.22        5            8.00       0.49   \n",
       "3                    59.0  3.22        5           11.60       0.40   \n",
       "4                    57.0  3.17        6            7.70       0.44   \n",
       "5                     5.0  3.36        5            4.10       0.53   \n",
       "6                    14.0  3.34        5            1.90       0.47   \n",
       "7                    54.0  3.00        5           12.90       0.53   \n",
       "8                    15.0  3.23        8            2.00       0.64   \n",
       "9                    29.0  3.29        6            9.80       0.47   \n",
       "10                   15.0  3.36        5            2.80       0.49   \n",
       "11                   29.0  3.40        6           10.10       0.46   \n",
       "12                   14.0  3.25        6            2.20       0.57   \n",
       "13                   24.0  3.21        5            1.50       0.42   \n",
       "14                    6.0  3.33        6            1.90       0.87   \n",
       "15                   21.0  3.36        5            2.00       0.57   \n",
       "16                   36.0  3.26        5            1.10       0.45   \n",
       "17                   20.0  3.10        6            7.10       0.85   \n",
       "18                    4.0  3.12        6            1.40       0.48   \n",
       "19                   60.0  3.10        6            6.60       0.40   \n",
       "20                   35.0  3.13        5            1.10       0.55   \n",
       "21                   47.0  3.08        6           14.90       0.31   \n",
       "22                   51.0  3.22        5            1.40       0.39   \n",
       "23                    3.0  3.27        5            6.40       0.58   \n",
       "24                   12.0  3.10        6            2.20       0.56   \n",
       "25                   49.0  3.21        6           13.90       0.51   \n",
       "26                   35.0  3.22        5           18.05       0.42   \n",
       "27                   30.0  2.83        5            3.50       0.44   \n",
       "28                   60.0  3.05        6            8.10       0.30   \n",
       "29                   29.0  3.33        6            4.60       0.54   \n",
       "...                   ...   ...      ...             ...        ...   \n",
       "6467                 13.0  3.28        6            2.70       0.56   \n",
       "6468                 45.0  3.06        6           13.40       0.43   \n",
       "6469                 31.0  2.93        6            1.90       0.36   \n",
       "6470                 39.0  3.21        6            1.60       0.68   \n",
       "6471                 31.0  3.21        5            2.00       0.52   \n",
       "6472                 28.0  3.12        6            6.50       0.33   \n",
       "6473                 23.0  3.19        5            1.10       0.38   \n",
       "6474                 18.0  3.36        6            2.10       0.63   \n",
       "6475                 46.0  3.12        5           15.40       0.49   \n",
       "6476                 26.0  3.10        5            3.80       0.39   \n",
       "6477                 16.0  3.06        6            1.50       0.56   \n",
       "6478                 12.0  3.14        5            2.90       0.54   \n",
       "6479                 35.0  3.10        5            7.80       0.37   \n",
       "6480                 32.0  3.27        5           18.10       0.48   \n",
       "6481                 35.0  3.22        5           11.50       0.32   \n",
       "6482                 16.0  3.08        7            1.40       0.77   \n",
       "6483                 30.0  3.18        6            7.00       0.47   \n",
       "6484                 55.0  3.12        7           14.40       0.38   \n",
       "6485                 26.0  3.32        7            2.70       0.41   \n",
       "6486                 17.0  3.15        7            6.30       0.52   \n",
       "6487                 11.0  3.06        6            2.80       0.44   \n",
       "6488                 29.0  3.28        7            3.60       0.48   \n",
       "6489                 18.0  3.30        5            2.80       0.60   \n",
       "6490                  3.0  3.40        3            5.70       0.52   \n",
       "6491                 49.0  3.37        6           16.90       0.38   \n",
       "6492                289.0  3.44        3            2.90       0.64   \n",
       "6493                 25.0  3.35        5            1.80       0.54   \n",
       "6494                 67.0  3.23        5            9.70       0.50   \n",
       "6495                 31.0  3.26        5            3.80       0.46   \n",
       "6496                 44.0  3.20        6           14.80       0.35   \n",
       "\n",
       "      total sulfur dioxide  volatile acidity  wine_type  \n",
       "0                    111.0             0.250          0  \n",
       "1                     63.0             0.350          0  \n",
       "2                    189.0             0.250          0  \n",
       "3                    140.0             0.220          0  \n",
       "4                    200.0             0.310          0  \n",
       "5                     14.0             0.820          1  \n",
       "6                     41.0             1.180          1  \n",
       "7                    170.0             0.230          0  \n",
       "8                     96.0             0.240          0  \n",
       "9                    109.0             0.330          0  \n",
       "10                    37.0             0.460          1  \n",
       "11                   146.0             0.360          0  \n",
       "12                    19.0             0.440          1  \n",
       "13                   101.0             0.320          0  \n",
       "14                    10.0             0.260          1  \n",
       "15                    73.0             0.500          1  \n",
       "16                   131.0             0.220          0  \n",
       "17                    97.0             0.240          0  \n",
       "18                    10.0             0.840          1  \n",
       "19                   154.0             0.280          0  \n",
       "20                   156.0             0.250          0  \n",
       "21                   190.0             0.320          0  \n",
       "22                   131.0             0.210          0  \n",
       "23                     8.0             0.370          1  \n",
       "24                    35.0             0.460          1  \n",
       "25                   162.0             0.280          0  \n",
       "26                   144.0             0.230          0  \n",
       "27                   130.0             0.310          0  \n",
       "28                   163.0             0.200          0  \n",
       "29                   107.0             0.270          0  \n",
       "...                    ...               ...        ...  \n",
       "6467                  32.0             0.480          1  \n",
       "6468                 139.0             0.170          0  \n",
       "6469                  69.0             0.360          0  \n",
       "6470                 116.0             0.190          0  \n",
       "6471                 131.0             0.600          1  \n",
       "6472                 100.0             0.200          0  \n",
       "6473                  56.0             0.300          0  \n",
       "6474                 130.0             0.310          0  \n",
       "6475                 198.0             0.350          0  \n",
       "6476                 105.0             0.220          0  \n",
       "6477                  98.0             0.370          0  \n",
       "6478                  74.0             0.590          1  \n",
       "6479                 192.0             0.300          0  \n",
       "6480                 133.0             0.210          0  \n",
       "6481                 165.0             0.320          0  \n",
       "6482                 135.0             0.300          0  \n",
       "6483                 136.0             0.320          0  \n",
       "6484                 205.0             0.250          0  \n",
       "6485                 107.0             0.280          0  \n",
       "6486                 103.0             0.190          0  \n",
       "6487                  61.0             0.250          0  \n",
       "6488                 121.0             0.280          0  \n",
       "6489                 111.0             0.440          1  \n",
       "6490                  14.0             0.875          1  \n",
       "6491                 158.0             0.220          0  \n",
       "6492                 440.0             0.260          0  \n",
       "6493                  99.0             0.600          1  \n",
       "6494                 234.0             0.420          0  \n",
       "6495                  67.0             0.870          1  \n",
       "6496                  95.0             0.110          0  \n",
       "\n",
       "[6497 rows x 13 columns]"
      ]
     },
     "execution_count": 20,
     "metadata": {},
     "output_type": "execute_result"
    }
   ],
   "source": [
    "df.dropna()"
   ]
  },
  {
   "cell_type": "code",
   "execution_count": 21,
   "metadata": {},
   "outputs": [],
   "source": [
    "#regression to predict the alcohol level in the wine\n",
    "X = np.array(df.drop(columns=['alcohol']))"
   ]
  },
  {
   "cell_type": "code",
   "execution_count": 22,
   "metadata": {},
   "outputs": [],
   "source": [
    "y = np.array(df.alcohol)"
   ]
  },
  {
   "cell_type": "code",
   "execution_count": 23,
   "metadata": {},
   "outputs": [
    {
     "data": {
      "text/plain": [
       "array([11.1, 13. ,  9.2, ...,  9. ,  9.2,  9.8])"
      ]
     },
     "execution_count": 23,
     "metadata": {},
     "output_type": "execute_result"
    }
   ],
   "source": [
    "y"
   ]
  },
  {
   "cell_type": "code",
   "execution_count": 24,
   "metadata": {},
   "outputs": [
    {
     "data": {
      "text/plain": [
       "array([[11.1],\n",
       "       [13. ],\n",
       "       [ 9.2],\n",
       "       ...,\n",
       "       [ 9. ],\n",
       "       [ 9.2],\n",
       "       [ 9.8]])"
      ]
     },
     "execution_count": 24,
     "metadata": {},
     "output_type": "execute_result"
    }
   ],
   "source": [
    "y = y.reshape(-1, 1)\n",
    "y\n"
   ]
  },
  {
   "cell_type": "code",
   "execution_count": 22,
   "metadata": {},
   "outputs": [],
   "source": [
    "from sklearn import preprocessing"
   ]
  },
  {
   "cell_type": "code",
   "execution_count": 23,
   "metadata": {},
   "outputs": [],
   "source": [
    "scaler = preprocessing.StandardScaler().fit(y)"
   ]
  },
  {
   "cell_type": "code",
   "execution_count": 24,
   "metadata": {},
   "outputs": [],
   "source": [
    "X = scaler.transform(X)\n",
    "y = scaler.transform(y)"
   ]
  },
  {
   "cell_type": "code",
   "execution_count": 25,
   "metadata": {},
   "outputs": [
    {
     "data": {
      "text/plain": [
       "array([[ -8.75702337,  -8.56249368,  -7.96250372, ..., 105.23737973,\n",
       "         -8.62957288,  -8.7972709 ],\n",
       "       [ -8.76540828,  -8.49541447,  -7.95941807, ..., 102.72190949,\n",
       "         -8.60441818,  -8.7972709 ],\n",
       "       [ -8.7637313 ,  -8.32771645,  -7.96397946, ...,  61.63589566,\n",
       "         -8.42414281,  -8.7972709 ],\n",
       "       ...,\n",
       "       [ -8.76037734,  -8.49541447,  -7.96129629, ..., 127.03812176,\n",
       "         -8.62957288,  -8.7972709 ],\n",
       "       [ -8.77966261,  -8.48702957,  -7.96652847, ...,  58.28193535,\n",
       "         -8.62118798,  -8.7972709 ],\n",
       "       [ -8.75618488,  -8.58764838,  -7.96431485, ..., 109.42983012,\n",
       "         -8.60441818,  -8.7972709 ]])"
      ]
     },
     "execution_count": 25,
     "metadata": {},
     "output_type": "execute_result"
    }
   ],
   "source": [
    "X"
   ]
  },
  {
   "cell_type": "code",
   "execution_count": 26,
   "metadata": {},
   "outputs": [],
   "source": [
    "from sklearn.linear_model import LinearRegression\n",
    "from sklearn.model_selection import train_test_split"
   ]
  },
  {
   "cell_type": "code",
   "execution_count": 27,
   "metadata": {},
   "outputs": [],
   "source": [
    "X_train, X_test, y_train, y_test = train_test_split(X, y, test_size=0.25, random_state=42)"
   ]
  },
  {
   "cell_type": "code",
   "execution_count": 28,
   "metadata": {},
   "outputs": [
    {
     "data": {
      "text/plain": [
       "4872"
      ]
     },
     "execution_count": 28,
     "metadata": {},
     "output_type": "execute_result"
    }
   ],
   "source": [
    "len(X_train)"
   ]
  },
  {
   "cell_type": "code",
   "execution_count": 29,
   "metadata": {},
   "outputs": [
    {
     "data": {
      "text/plain": [
       "1625"
      ]
     },
     "execution_count": 29,
     "metadata": {},
     "output_type": "execute_result"
    }
   ],
   "source": [
    "len(X_test)"
   ]
  },
  {
   "cell_type": "code",
   "execution_count": 30,
   "metadata": {},
   "outputs": [],
   "source": [
    "linear = LinearRegression()"
   ]
  },
  {
   "cell_type": "code",
   "execution_count": 31,
   "metadata": {},
   "outputs": [
    {
     "data": {
      "text/plain": [
       "LinearRegression(copy_X=True, fit_intercept=True, n_jobs=1, normalize=False)"
      ]
     },
     "execution_count": 31,
     "metadata": {},
     "output_type": "execute_result"
    }
   ],
   "source": [
    "linear.fit(X_train, y_train)"
   ]
  },
  {
   "cell_type": "code",
   "execution_count": 32,
   "metadata": {},
   "outputs": [
    {
     "data": {
      "text/plain": [
       "0.7358908514422172"
      ]
     },
     "execution_count": 32,
     "metadata": {},
     "output_type": "execute_result"
    }
   ],
   "source": [
    "linear.score(X_test, y_test)"
   ]
  },
  {
   "cell_type": "code",
   "execution_count": 33,
   "metadata": {},
   "outputs": [],
   "source": [
    "forecast_set = linear.predict(X_test)"
   ]
  },
  {
   "cell_type": "code",
   "execution_count": null,
   "metadata": {},
   "outputs": [],
   "source": []
  },
  {
   "cell_type": "code",
   "execution_count": 36,
   "metadata": {},
   "outputs": [
    {
     "name": "stdout",
     "output_type": "stream",
     "text": [
      "Size of training set: 3654 size of validation set: 1218 size of test set: 1625\n",
      "\n"
     ]
    }
   ],
   "source": [
    "from sklearn.svm import SVC\n",
    "\n",
    "# split data into train+validation set and test set\n",
    "X_trainval, X_test, y_trainval, y_test = train_test_split(X, y, random_state=0)\n",
    "\n",
    "# split train+validation set into training and validation sets\n",
    "X_train, X_valid, y_train, y_valid = train_test_split(X_trainval, y_trainval, random_state=1)\n",
    "\n",
    "print(\"Size of training set: {} size of validation set: {} size of test set:\" \n",
    "      \" {}\\n\".format(X_train.shape[0], X_valid.shape[0], X_test.shape[0]))"
   ]
  },
  {
   "cell_type": "code",
   "execution_count": null,
   "metadata": {},
   "outputs": [],
   "source": []
  },
  {
   "cell_type": "code",
   "execution_count": 37,
   "metadata": {},
   "outputs": [
    {
     "data": {
      "text/plain": [
       "array([[ 0.14894932],\n",
       "       [ 1.17329663],\n",
       "       [-0.47012006],\n",
       "       [ 1.82094535],\n",
       "       [ 0.61115395]])"
      ]
     },
     "execution_count": 37,
     "metadata": {},
     "output_type": "execute_result"
    }
   ],
   "source": [
    "#predictions\n",
    "forecast_set[: 5]"
   ]
  },
  {
   "cell_type": "code",
   "execution_count": 38,
   "metadata": {
    "scrolled": true
   },
   "outputs": [
    {
     "data": {
      "text/plain": [
       "array([[ 1.68385508],\n",
       "       [-0.99931317],\n",
       "       [ 2.01925111],\n",
       "       [ 1.51615706],\n",
       "       [ 0.845365  ]])"
      ]
     },
     "execution_count": 38,
     "metadata": {},
     "output_type": "execute_result"
    }
   ],
   "source": [
    "#reall values\n",
    "y_test[: 5]"
   ]
  },
  {
   "cell_type": "code",
   "execution_count": 39,
   "metadata": {},
   "outputs": [],
   "source": [
    "y_test_inv = scaler.inverse_transform(y_test)\n",
    "forecast_set_inv = scaler.inverse_transform(forecast_set)"
   ]
  },
  {
   "cell_type": "code",
   "execution_count": 40,
   "metadata": {
    "scrolled": true
   },
   "outputs": [
    {
     "data": {
      "text/plain": [
       "array([[10.66944076],\n",
       "       [11.89109781],\n",
       "       [ 9.93112627],\n",
       "       [12.6634966 ],\n",
       "       [11.22067523]])"
      ]
     },
     "execution_count": 40,
     "metadata": {},
     "output_type": "execute_result"
    }
   ],
   "source": [
    "#First 5 predicted alcohol levels\n",
    "forecast_set_inv[: 5]"
   ]
  },
  {
   "cell_type": "code",
   "execution_count": 41,
   "metadata": {},
   "outputs": [
    {
     "data": {
      "text/plain": [
       "array([[12.5],\n",
       "       [ 9.3],\n",
       "       [12.9],\n",
       "       [12.3],\n",
       "       [11.5]])"
      ]
     },
     "execution_count": 41,
     "metadata": {},
     "output_type": "execute_result"
    }
   ],
   "source": [
    "#First 5 actual alcohol levels\n",
    "y_test_inv[: 5]"
   ]
  },
  {
   "cell_type": "code",
   "execution_count": 42,
   "metadata": {},
   "outputs": [],
   "source": [
    "# Binary clasiffication to predict the type of wine\n",
    "from sklearn.utils import shuffle\n",
    "df = shuffle(df)"
   ]
  },
  {
   "cell_type": "code",
   "execution_count": 43,
   "metadata": {},
   "outputs": [],
   "source": [
    "df.reset_index(drop=True, inplace=True)"
   ]
  },
  {
   "cell_type": "code",
   "execution_count": 44,
   "metadata": {},
   "outputs": [
    {
     "data": {
      "text/html": [
       "<div>\n",
       "<style scoped>\n",
       "    .dataframe tbody tr th:only-of-type {\n",
       "        vertical-align: middle;\n",
       "    }\n",
       "\n",
       "    .dataframe tbody tr th {\n",
       "        vertical-align: top;\n",
       "    }\n",
       "\n",
       "    .dataframe thead th {\n",
       "        text-align: right;\n",
       "    }\n",
       "</style>\n",
       "<table border=\"1\" class=\"dataframe\">\n",
       "  <thead>\n",
       "    <tr style=\"text-align: right;\">\n",
       "      <th></th>\n",
       "      <th>alcohol</th>\n",
       "      <th>chlorides</th>\n",
       "      <th>citric acid</th>\n",
       "      <th>density</th>\n",
       "      <th>fixed acidity</th>\n",
       "      <th>free sulfur dioxide</th>\n",
       "      <th>pH</th>\n",
       "      <th>quality</th>\n",
       "      <th>residual sugar</th>\n",
       "      <th>sulphates</th>\n",
       "      <th>total sulfur dioxide</th>\n",
       "      <th>volatile acidity</th>\n",
       "      <th>wine_type</th>\n",
       "    </tr>\n",
       "  </thead>\n",
       "  <tbody>\n",
       "    <tr>\n",
       "      <th>0</th>\n",
       "      <td>9.5</td>\n",
       "      <td>0.100</td>\n",
       "      <td>0.48</td>\n",
       "      <td>0.99610</td>\n",
       "      <td>7.8</td>\n",
       "      <td>14.0</td>\n",
       "      <td>3.19</td>\n",
       "      <td>5</td>\n",
       "      <td>1.7</td>\n",
       "      <td>0.62</td>\n",
       "      <td>96.0</td>\n",
       "      <td>0.630</td>\n",
       "      <td>1</td>\n",
       "    </tr>\n",
       "    <tr>\n",
       "      <th>1</th>\n",
       "      <td>10.7</td>\n",
       "      <td>0.035</td>\n",
       "      <td>0.29</td>\n",
       "      <td>0.99142</td>\n",
       "      <td>6.4</td>\n",
       "      <td>44.0</td>\n",
       "      <td>3.17</td>\n",
       "      <td>7</td>\n",
       "      <td>1.1</td>\n",
       "      <td>0.55</td>\n",
       "      <td>140.0</td>\n",
       "      <td>0.105</td>\n",
       "      <td>0</td>\n",
       "    </tr>\n",
       "    <tr>\n",
       "      <th>2</th>\n",
       "      <td>9.5</td>\n",
       "      <td>0.048</td>\n",
       "      <td>0.42</td>\n",
       "      <td>0.99740</td>\n",
       "      <td>6.9</td>\n",
       "      <td>10.0</td>\n",
       "      <td>3.32</td>\n",
       "      <td>6</td>\n",
       "      <td>8.5</td>\n",
       "      <td>0.46</td>\n",
       "      <td>147.0</td>\n",
       "      <td>0.440</td>\n",
       "      <td>0</td>\n",
       "    </tr>\n",
       "    <tr>\n",
       "      <th>3</th>\n",
       "      <td>9.3</td>\n",
       "      <td>0.047</td>\n",
       "      <td>0.29</td>\n",
       "      <td>0.99820</td>\n",
       "      <td>7.0</td>\n",
       "      <td>40.0</td>\n",
       "      <td>3.22</td>\n",
       "      <td>5</td>\n",
       "      <td>15.2</td>\n",
       "      <td>0.45</td>\n",
       "      <td>171.0</td>\n",
       "      <td>0.250</td>\n",
       "      <td>0</td>\n",
       "    </tr>\n",
       "    <tr>\n",
       "      <th>4</th>\n",
       "      <td>9.7</td>\n",
       "      <td>0.095</td>\n",
       "      <td>0.23</td>\n",
       "      <td>0.99980</td>\n",
       "      <td>9.1</td>\n",
       "      <td>13.0</td>\n",
       "      <td>3.28</td>\n",
       "      <td>5</td>\n",
       "      <td>3.1</td>\n",
       "      <td>0.59</td>\n",
       "      <td>38.0</td>\n",
       "      <td>0.640</td>\n",
       "      <td>1</td>\n",
       "    </tr>\n",
       "  </tbody>\n",
       "</table>\n",
       "</div>"
      ],
      "text/plain": [
       "   alcohol  chlorides  citric acid  density  fixed acidity  \\\n",
       "0      9.5      0.100         0.48  0.99610            7.8   \n",
       "1     10.7      0.035         0.29  0.99142            6.4   \n",
       "2      9.5      0.048         0.42  0.99740            6.9   \n",
       "3      9.3      0.047         0.29  0.99820            7.0   \n",
       "4      9.7      0.095         0.23  0.99980            9.1   \n",
       "\n",
       "   free sulfur dioxide    pH  quality  residual sugar  sulphates  \\\n",
       "0                 14.0  3.19        5             1.7       0.62   \n",
       "1                 44.0  3.17        7             1.1       0.55   \n",
       "2                 10.0  3.32        6             8.5       0.46   \n",
       "3                 40.0  3.22        5            15.2       0.45   \n",
       "4                 13.0  3.28        5             3.1       0.59   \n",
       "\n",
       "   total sulfur dioxide  volatile acidity  wine_type  \n",
       "0                  96.0             0.630          1  \n",
       "1                 140.0             0.105          0  \n",
       "2                 147.0             0.440          0  \n",
       "3                 171.0             0.250          0  \n",
       "4                  38.0             0.640          1  "
      ]
     },
     "execution_count": 44,
     "metadata": {},
     "output_type": "execute_result"
    }
   ],
   "source": [
    "df.head()"
   ]
  },
  {
   "cell_type": "code",
   "execution_count": 45,
   "metadata": {},
   "outputs": [],
   "source": [
    "X = np.array(df.drop(columns=['wine_type']))"
   ]
  },
  {
   "cell_type": "code",
   "execution_count": 46,
   "metadata": {},
   "outputs": [],
   "source": [
    "y = np.array(df.wine_type)"
   ]
  },
  {
   "cell_type": "code",
   "execution_count": 47,
   "metadata": {},
   "outputs": [
    {
     "data": {
      "text/html": [
       "<div>\n",
       "<style scoped>\n",
       "    .dataframe tbody tr th:only-of-type {\n",
       "        vertical-align: middle;\n",
       "    }\n",
       "\n",
       "    .dataframe tbody tr th {\n",
       "        vertical-align: top;\n",
       "    }\n",
       "\n",
       "    .dataframe thead th {\n",
       "        text-align: right;\n",
       "    }\n",
       "</style>\n",
       "<table border=\"1\" class=\"dataframe\">\n",
       "  <thead>\n",
       "    <tr style=\"text-align: right;\">\n",
       "      <th></th>\n",
       "      <th>alcohol</th>\n",
       "      <th>chlorides</th>\n",
       "      <th>citric acid</th>\n",
       "      <th>density</th>\n",
       "      <th>fixed acidity</th>\n",
       "      <th>free sulfur dioxide</th>\n",
       "      <th>pH</th>\n",
       "      <th>quality</th>\n",
       "      <th>residual sugar</th>\n",
       "      <th>sulphates</th>\n",
       "      <th>total sulfur dioxide</th>\n",
       "      <th>volatile acidity</th>\n",
       "      <th>wine_type</th>\n",
       "    </tr>\n",
       "  </thead>\n",
       "  <tbody>\n",
       "    <tr>\n",
       "      <th>0</th>\n",
       "      <td>9.5</td>\n",
       "      <td>0.100</td>\n",
       "      <td>0.48</td>\n",
       "      <td>0.99610</td>\n",
       "      <td>7.8</td>\n",
       "      <td>14.0</td>\n",
       "      <td>3.19</td>\n",
       "      <td>5</td>\n",
       "      <td>1.7</td>\n",
       "      <td>0.62</td>\n",
       "      <td>96.0</td>\n",
       "      <td>0.630</td>\n",
       "      <td>1</td>\n",
       "    </tr>\n",
       "    <tr>\n",
       "      <th>1</th>\n",
       "      <td>10.7</td>\n",
       "      <td>0.035</td>\n",
       "      <td>0.29</td>\n",
       "      <td>0.99142</td>\n",
       "      <td>6.4</td>\n",
       "      <td>44.0</td>\n",
       "      <td>3.17</td>\n",
       "      <td>7</td>\n",
       "      <td>1.1</td>\n",
       "      <td>0.55</td>\n",
       "      <td>140.0</td>\n",
       "      <td>0.105</td>\n",
       "      <td>0</td>\n",
       "    </tr>\n",
       "    <tr>\n",
       "      <th>2</th>\n",
       "      <td>9.5</td>\n",
       "      <td>0.048</td>\n",
       "      <td>0.42</td>\n",
       "      <td>0.99740</td>\n",
       "      <td>6.9</td>\n",
       "      <td>10.0</td>\n",
       "      <td>3.32</td>\n",
       "      <td>6</td>\n",
       "      <td>8.5</td>\n",
       "      <td>0.46</td>\n",
       "      <td>147.0</td>\n",
       "      <td>0.440</td>\n",
       "      <td>0</td>\n",
       "    </tr>\n",
       "    <tr>\n",
       "      <th>3</th>\n",
       "      <td>9.3</td>\n",
       "      <td>0.047</td>\n",
       "      <td>0.29</td>\n",
       "      <td>0.99820</td>\n",
       "      <td>7.0</td>\n",
       "      <td>40.0</td>\n",
       "      <td>3.22</td>\n",
       "      <td>5</td>\n",
       "      <td>15.2</td>\n",
       "      <td>0.45</td>\n",
       "      <td>171.0</td>\n",
       "      <td>0.250</td>\n",
       "      <td>0</td>\n",
       "    </tr>\n",
       "    <tr>\n",
       "      <th>4</th>\n",
       "      <td>9.7</td>\n",
       "      <td>0.095</td>\n",
       "      <td>0.23</td>\n",
       "      <td>0.99980</td>\n",
       "      <td>9.1</td>\n",
       "      <td>13.0</td>\n",
       "      <td>3.28</td>\n",
       "      <td>5</td>\n",
       "      <td>3.1</td>\n",
       "      <td>0.59</td>\n",
       "      <td>38.0</td>\n",
       "      <td>0.640</td>\n",
       "      <td>1</td>\n",
       "    </tr>\n",
       "  </tbody>\n",
       "</table>\n",
       "</div>"
      ],
      "text/plain": [
       "   alcohol  chlorides  citric acid  density  fixed acidity  \\\n",
       "0      9.5      0.100         0.48  0.99610            7.8   \n",
       "1     10.7      0.035         0.29  0.99142            6.4   \n",
       "2      9.5      0.048         0.42  0.99740            6.9   \n",
       "3      9.3      0.047         0.29  0.99820            7.0   \n",
       "4      9.7      0.095         0.23  0.99980            9.1   \n",
       "\n",
       "   free sulfur dioxide    pH  quality  residual sugar  sulphates  \\\n",
       "0                 14.0  3.19        5             1.7       0.62   \n",
       "1                 44.0  3.17        7             1.1       0.55   \n",
       "2                 10.0  3.32        6             8.5       0.46   \n",
       "3                 40.0  3.22        5            15.2       0.45   \n",
       "4                 13.0  3.28        5             3.1       0.59   \n",
       "\n",
       "   total sulfur dioxide  volatile acidity  wine_type  \n",
       "0                  96.0             0.630          1  \n",
       "1                 140.0             0.105          0  \n",
       "2                 147.0             0.440          0  \n",
       "3                 171.0             0.250          0  \n",
       "4                  38.0             0.640          1  "
      ]
     },
     "execution_count": 47,
     "metadata": {},
     "output_type": "execute_result"
    }
   ],
   "source": [
    "df.head()"
   ]
  },
  {
   "cell_type": "code",
   "execution_count": 48,
   "metadata": {},
   "outputs": [
    {
     "data": {
      "text/plain": [
       "array([1, 0, 0, ..., 0, 0, 0], dtype=int64)"
      ]
     },
     "execution_count": 48,
     "metadata": {},
     "output_type": "execute_result"
    }
   ],
   "source": [
    "y"
   ]
  },
  {
   "cell_type": "code",
   "execution_count": 49,
   "metadata": {},
   "outputs": [],
   "source": [
    "y = y.reshape(-1,1)"
   ]
  },
  {
   "cell_type": "code",
   "execution_count": 50,
   "metadata": {},
   "outputs": [
    {
     "data": {
      "text/plain": [
       "array([[1],\n",
       "       [0],\n",
       "       [0],\n",
       "       ...,\n",
       "       [0],\n",
       "       [0],\n",
       "       [0]], dtype=int64)"
      ]
     },
     "execution_count": 50,
     "metadata": {},
     "output_type": "execute_result"
    }
   ],
   "source": [
    "y"
   ]
  },
  {
   "cell_type": "code",
   "execution_count": 51,
   "metadata": {},
   "outputs": [],
   "source": [
    "scaler = preprocessing.StandardScaler().fit(y)"
   ]
  },
  {
   "cell_type": "code",
   "execution_count": null,
   "metadata": {},
   "outputs": [],
   "source": []
  },
  {
   "cell_type": "code",
   "execution_count": 52,
   "metadata": {},
   "outputs": [],
   "source": [
    "from sklearn import preprocessing"
   ]
  },
  {
   "cell_type": "code",
   "execution_count": 53,
   "metadata": {},
   "outputs": [],
   "source": [
    "X = scaler.transform(X)"
   ]
  },
  {
   "cell_type": "code",
   "execution_count": 54,
   "metadata": {},
   "outputs": [
    {
     "data": {
      "text/plain": [
       "array([[1],\n",
       "       [0],\n",
       "       [0],\n",
       "       ...,\n",
       "       [0],\n",
       "       [0],\n",
       "       [0]], dtype=int64)"
      ]
     },
     "execution_count": 54,
     "metadata": {},
     "output_type": "execute_result"
    }
   ],
   "source": [
    "y"
   ]
  },
  {
   "cell_type": "code",
   "execution_count": 55,
   "metadata": {},
   "outputs": [],
   "source": [
    "from sklearn import preprocessing"
   ]
  },
  {
   "cell_type": "code",
   "execution_count": 56,
   "metadata": {},
   "outputs": [],
   "source": [
    "scaler = preprocessing.StandardScaler().fit(y)"
   ]
  },
  {
   "cell_type": "code",
   "execution_count": 57,
   "metadata": {},
   "outputs": [],
   "source": [
    "X = scaler.transform(X)"
   ]
  },
  {
   "cell_type": "code",
   "execution_count": 58,
   "metadata": {},
   "outputs": [
    {
     "data": {
      "text/plain": [
       "array([[1],\n",
       "       [0],\n",
       "       [0],\n",
       "       ...,\n",
       "       [0],\n",
       "       [0],\n",
       "       [0]], dtype=int64)"
      ]
     },
     "execution_count": 58,
     "metadata": {},
     "output_type": "execute_result"
    }
   ],
   "source": [
    "y"
   ]
  },
  {
   "cell_type": "code",
   "execution_count": 59,
   "metadata": {},
   "outputs": [],
   "source": [
    "from sklearn.model_selection import train_test_split"
   ]
  },
  {
   "cell_type": "code",
   "execution_count": null,
   "metadata": {},
   "outputs": [],
   "source": []
  },
  {
   "cell_type": "code",
   "execution_count": 60,
   "metadata": {},
   "outputs": [],
   "source": [
    "X_train, X_test, y_train, y_test = train_test_split(X, y, test_size=0.25, random_state=42)"
   ]
  },
  {
   "cell_type": "code",
   "execution_count": 61,
   "metadata": {},
   "outputs": [
    {
     "data": {
      "text/plain": [
       "array([[ 4.93036041e+01, -1.53672154e+00, -1.14327897e+00, ...,\n",
       "         1.28205194e+00,  2.24466392e+02,  1.38984443e+00],\n",
       "       [ 6.65504017e+01, -1.70379990e+00, -1.73146607e-01, ...,\n",
       "         6.89193275e-01,  3.75375872e+02, -1.73146607e-01],\n",
       "       [ 6.00828526e+01, -1.59600741e+00, -1.14327897e+00, ...,\n",
       "         1.17425946e+00,  1.81349398e+02,  8.50882002e-01],\n",
       "       ...,\n",
       "       [ 4.93036041e+01, -1.59600741e+00, -3.88731577e-01, ...,\n",
       "         4.19712062e-01,  9.41286419e+02, -5.50420305e-01],\n",
       "       [ 6.54724768e+01, -1.73613764e+00,  4.19712062e-01, ...,\n",
       "         1.28205194e+00,  5.90960842e+02, -3.88731577e-01],\n",
       "       [ 5.63101156e+01, -1.71996877e+00, -4.42627819e-01, ...,\n",
       "         2.04127091e-01,  6.23298587e+02,  1.22815570e+00]])"
      ]
     },
     "execution_count": 61,
     "metadata": {},
     "output_type": "execute_result"
    }
   ],
   "source": [
    "X_train"
   ]
  },
  {
   "cell_type": "code",
   "execution_count": 62,
   "metadata": {},
   "outputs": [],
   "source": [
    "from sklearn import svm"
   ]
  },
  {
   "cell_type": "code",
   "execution_count": 63,
   "metadata": {},
   "outputs": [],
   "source": [
    "clf = svm.SVC()"
   ]
  },
  {
   "cell_type": "code",
   "execution_count": 64,
   "metadata": {},
   "outputs": [
    {
     "data": {
      "text/plain": [
       "SVC(C=1.0, cache_size=200, class_weight=None, coef0=0.0,\n",
       "  decision_function_shape='ovr', degree=3, gamma='auto', kernel='rbf',\n",
       "  max_iter=-1, probability=False, random_state=None, shrinking=True,\n",
       "  tol=0.001, verbose=False)"
      ]
     },
     "execution_count": 64,
     "metadata": {},
     "output_type": "execute_result"
    }
   ],
   "source": [
    "clf.fit(X_train, y_train)"
   ]
  },
  {
   "cell_type": "code",
   "execution_count": 65,
   "metadata": {
    "scrolled": true
   },
   "outputs": [
    {
     "data": {
      "text/plain": [
       "0.7981538461538461"
      ]
     },
     "execution_count": 65,
     "metadata": {},
     "output_type": "execute_result"
    }
   ],
   "source": [
    "clf.score(X_test, y_test)"
   ]
  },
  {
   "cell_type": "code",
   "execution_count": 66,
   "metadata": {},
   "outputs": [],
   "source": [
    "forecast_set = clf.predict(X_test)"
   ]
  },
  {
   "cell_type": "code",
   "execution_count": 67,
   "metadata": {},
   "outputs": [
    {
     "data": {
      "text/plain": [
       "array([0, 0, 1, 0, 0, 0, 0, 0, 0, 0], dtype=int64)"
      ]
     },
     "execution_count": 67,
     "metadata": {},
     "output_type": "execute_result"
    }
   ],
   "source": [
    "forecast_set[: 10]"
   ]
  },
  {
   "cell_type": "code",
   "execution_count": 68,
   "metadata": {},
   "outputs": [],
   "source": [
    "actual_set = y_test"
   ]
  },
  {
   "cell_type": "code",
   "execution_count": 69,
   "metadata": {},
   "outputs": [
    {
     "data": {
      "text/plain": [
       "array([[0],\n",
       "       [0],\n",
       "       [1],\n",
       "       [1],\n",
       "       [0],\n",
       "       [0],\n",
       "       [0],\n",
       "       [0],\n",
       "       [0],\n",
       "       [0]], dtype=int64)"
      ]
     },
     "execution_count": 69,
     "metadata": {},
     "output_type": "execute_result"
    }
   ],
   "source": [
    "actual_set[: 10]"
   ]
  },
  {
   "cell_type": "code",
   "execution_count": 70,
   "metadata": {},
   "outputs": [],
   "source": [
    "accuracy=clf.score(X_test, y_test)"
   ]
  },
  {
   "cell_type": "code",
   "execution_count": 71,
   "metadata": {},
   "outputs": [
    {
     "name": "stdout",
     "output_type": "stream",
     "text": [
      "0.7981538461538461\n"
     ]
    }
   ],
   "source": [
    "print(accuracy)"
   ]
  },
  {
   "cell_type": "code",
   "execution_count": 72,
   "metadata": {},
   "outputs": [
    {
     "name": "stdout",
     "output_type": "stream",
     "text": [
      "Size of training set: 4872 size of test set: 1625\n",
      "Best score: 0.97\n",
      "Best parameters: {'C': 100, 'gamma': 0.001}\n"
     ]
    }
   ],
   "source": [
    "from sklearn.svm import SVC\n",
    "X_train, X_test, y_train, y_test = train_test_split(\n",
    "X, y, random_state=0)\n",
    "print(\"Size of training set: {} size of test set: {}\".format(\n",
    "          X_train.shape[0], X_test.shape[0]))\n",
    "best_score = 0\n",
    "for gamma in [0.001, 0.01, 0.1, 1, 10, 100]:\n",
    "    for C in [0.001, 0.01, 0.1, 1, 10, 100]:\n",
    "        # for each combination of parameters, train an SVC\n",
    "        svm = SVC(gamma=gamma, C=C)\n",
    "        svm.fit(X_train, y_train)\n",
    "        # evaluate the SVC on the test set\n",
    "        score = svm.score(X_test, y_test)\n",
    "        # if we got a better score, store the score and parameters\n",
    "        if score > best_score:\n",
    "            best_score = score\n",
    "            best_parameters = {'C': C, 'gamma': gamma}\n",
    "\n",
    "print(\"Best score: {:.2f}\".format(best_score))\n",
    "print(\"Best parameters: {}\".format(best_parameters))"
   ]
  },
  {
   "cell_type": "code",
   "execution_count": 73,
   "metadata": {},
   "outputs": [
    {
     "name": "stdout",
     "output_type": "stream",
     "text": [
      "Size of training set: 3654 size of validation set: 1218 size of test set: 1625\n",
      "\n"
     ]
    }
   ],
   "source": [
    "from sklearn.svm import SVC\n",
    "\n",
    "# split data into train+validation set and test set\n",
    "X_trainval, X_test, y_trainval, y_test = train_test_split(X, y, random_state=0)\n",
    "\n",
    "# split train+validation set into training and validation sets\n",
    "X_train, X_valid, y_train, y_valid = train_test_split(X_trainval, y_trainval, random_state=1)\n",
    "\n",
    "print(\"Size of training set: {} size of validation set: {} size of test set:\" \n",
    "      \" {}\\n\".format(X_train.shape[0], X_valid.shape[0], X_test.shape[0]))"
   ]
  },
  {
   "cell_type": "code",
   "execution_count": 74,
   "metadata": {},
   "outputs": [],
   "source": [
    "best_score = 0\n",
    "for gamma in [0.001, 0.01, 0.1, 1, 10, 100]:\n",
    "    for C in [0.001, 0.01, 0.1, 1, 10, 100]:\n",
    "        # for each combination of parameters, train an SVC\n",
    "        svm = SVC(gamma=gamma, C=C)\n",
    "        svm.fit(X_train, y_train)\n",
    "        # evaluate the SVC on the test set\n",
    "        score = svm.score(X_valid, y_valid)\n",
    "        # if we got a better score, store the score and parameters\n",
    "        if score > best_score:\n",
    "            best_score = score\n",
    "            best_parameters = {'C': C, 'gamma': gamma}"
   ]
  },
  {
   "cell_type": "code",
   "execution_count": 75,
   "metadata": {},
   "outputs": [
    {
     "name": "stdout",
     "output_type": "stream",
     "text": [
      "Best score on validation set: 0.96\n",
      "Best parameters:  {'C': 100, 'gamma': 0.001}\n",
      "Test set score with best parameters: 0.97\n"
     ]
    }
   ],
   "source": [
    "svm = SVC(**best_parameters)\n",
    "svm.fit(X_trainval, y_trainval)\n",
    "test_score = svm.score(X_test, y_test)\n",
    "print(\"Best score on validation set: {:.2f}\".format(best_score))\n",
    "print(\"Best parameters: \", best_parameters)\n",
    "print(\"Test set score with best parameters: {:.2f}\".format(test_score))"
   ]
  },
  {
   "cell_type": "code",
   "execution_count": 76,
   "metadata": {},
   "outputs": [],
   "source": [
    "from sklearn.model_selection import cross_val_score\n",
    "\n",
    "for gamma in [0.001, 0.01, 0.1, 1, 10, 100]:\n",
    "    for C in [0.001, 0.01, 0.1, 1, 10, 100]:\n",
    "        # for each combination of parameters,\n",
    "        # train an SVC\n",
    "        svm = SVC(gamma=gamma, C=C)\n",
    "        # perform cross-validation\n",
    "        scores = cross_val_score(svm, X_trainval, y_trainval, cv=5)\n",
    "        # compute mean cross-validation accuracy\n",
    "        score = np.mean(scores)\n",
    "        \n",
    "        # if we got a better score, store the score and parameters\n",
    "        if score > best_score:\n",
    "            best_score = score\n",
    "            best_parameters = {'C': C, 'gamma': gamma}"
   ]
  },
  {
   "cell_type": "code",
   "execution_count": 77,
   "metadata": {},
   "outputs": [
    {
     "name": "stdout",
     "output_type": "stream",
     "text": [
      "Best score on validation set: 0.96\n",
      "Best parameters:  {'C': 100, 'gamma': 0.001}\n",
      "Test set score with best parameters: 0.97\n"
     ]
    }
   ],
   "source": [
    "# rebuild a model on the combined training and validation set\n",
    "svm = SVC(**best_parameters)\n",
    "svm.fit(X_trainval, y_trainval)\n",
    "\n",
    "test_score = svm.score(X_test, y_test)\n",
    "print(\"Best score on validation set: {:.2f}\".format(best_score))\n",
    "print(\"Best parameters: \", best_parameters)\n",
    "print(\"Test set score with best parameters: {:.2f}\".format(test_score))"
   ]
  },
  {
   "cell_type": "code",
   "execution_count": 78,
   "metadata": {},
   "outputs": [
    {
     "name": "stdout",
     "output_type": "stream",
     "text": [
      "Test set score: 0.98\n",
      "Best parameters: {'C': 10, 'gamma': 0.001}\n",
      "Best cross-validation score: 0.98\n",
      "\n",
      "Best estimator:\n",
      "SVC(C=10, cache_size=200, class_weight=None, coef0=0.0,\n",
      "  decision_function_shape='ovr', degree=3, gamma=0.001, kernel='rbf',\n",
      "  max_iter=-1, probability=False, random_state=None, shrinking=True,\n",
      "  tol=0.001, verbose=False)\n"
     ]
    }
   ],
   "source": [
    "from sklearn.model_selection import GridSearchCV\n",
    "from sklearn.svm import SVC\n",
    "\n",
    "param_grid = {'C': [0.001, 0.01, 0.1, 1, 10,99],\n",
    "              'gamma': [0.001, 0.01, 0.1, 1, 10, 100]}\n",
    "\n",
    "grid_search = GridSearchCV(SVC(), param_grid, cv=5,scoring='roc_auc')\n",
    "X_train, X_test, y_train, y_test = train_test_split(X, y, random_state=0)\n",
    "grid_search.fit(X_train, y_train)\n",
    "\n",
    "print(\"Test set score: {:.2f}\".format(grid_search.score(X_test, y_test)))\n",
    "print(\"Best parameters: {}\".format(grid_search.best_params_))\n",
    "print(\"Best cross-validation score: {:.2f}\\n\".format(grid_search.best_score_))\n",
    "print(\"Best estimator:\\n{}\".format(grid_search.best_estimator_))"
   ]
  },
  {
   "cell_type": "code",
   "execution_count": 79,
   "metadata": {},
   "outputs": [],
   "source": [
    "results = pd.DataFrame(grid_search.cv_results_)\n"
   ]
  },
  {
   "cell_type": "code",
   "execution_count": 80,
   "metadata": {},
   "outputs": [
    {
     "data": {
      "text/html": [
       "<div>\n",
       "<style scoped>\n",
       "    .dataframe tbody tr th:only-of-type {\n",
       "        vertical-align: middle;\n",
       "    }\n",
       "\n",
       "    .dataframe tbody tr th {\n",
       "        vertical-align: top;\n",
       "    }\n",
       "\n",
       "    .dataframe thead th {\n",
       "        text-align: right;\n",
       "    }\n",
       "</style>\n",
       "<table border=\"1\" class=\"dataframe\">\n",
       "  <thead>\n",
       "    <tr style=\"text-align: right;\">\n",
       "      <th></th>\n",
       "      <th>mean_fit_time</th>\n",
       "      <th>std_fit_time</th>\n",
       "      <th>mean_score_time</th>\n",
       "      <th>std_score_time</th>\n",
       "      <th>param_C</th>\n",
       "      <th>param_gamma</th>\n",
       "      <th>params</th>\n",
       "      <th>split0_test_score</th>\n",
       "      <th>split1_test_score</th>\n",
       "      <th>split2_test_score</th>\n",
       "      <th>...</th>\n",
       "      <th>mean_test_score</th>\n",
       "      <th>std_test_score</th>\n",
       "      <th>rank_test_score</th>\n",
       "      <th>split0_train_score</th>\n",
       "      <th>split1_train_score</th>\n",
       "      <th>split2_train_score</th>\n",
       "      <th>split3_train_score</th>\n",
       "      <th>split4_train_score</th>\n",
       "      <th>mean_train_score</th>\n",
       "      <th>std_train_score</th>\n",
       "    </tr>\n",
       "  </thead>\n",
       "  <tbody>\n",
       "    <tr>\n",
       "      <th>0</th>\n",
       "      <td>0.338139</td>\n",
       "      <td>0.031838</td>\n",
       "      <td>0.065596</td>\n",
       "      <td>0.011683</td>\n",
       "      <td>0.001</td>\n",
       "      <td>0.001</td>\n",
       "      <td>{'C': 0.001, 'gamma': 0.001}</td>\n",
       "      <td>0.938898</td>\n",
       "      <td>0.944384</td>\n",
       "      <td>0.951013</td>\n",
       "      <td>...</td>\n",
       "      <td>0.949694</td>\n",
       "      <td>0.010775</td>\n",
       "      <td>12</td>\n",
       "      <td>0.973939</td>\n",
       "      <td>0.969346</td>\n",
       "      <td>0.968914</td>\n",
       "      <td>0.967894</td>\n",
       "      <td>0.965872</td>\n",
       "      <td>0.969193</td>\n",
       "      <td>2.658789e-03</td>\n",
       "    </tr>\n",
       "    <tr>\n",
       "      <th>1</th>\n",
       "      <td>0.515964</td>\n",
       "      <td>0.009786</td>\n",
       "      <td>0.115655</td>\n",
       "      <td>0.007622</td>\n",
       "      <td>0.001</td>\n",
       "      <td>0.01</td>\n",
       "      <td>{'C': 0.001, 'gamma': 0.01}</td>\n",
       "      <td>0.927631</td>\n",
       "      <td>0.948645</td>\n",
       "      <td>0.961922</td>\n",
       "      <td>...</td>\n",
       "      <td>0.950904</td>\n",
       "      <td>0.013936</td>\n",
       "      <td>11</td>\n",
       "      <td>0.999556</td>\n",
       "      <td>0.999309</td>\n",
       "      <td>0.998720</td>\n",
       "      <td>0.998847</td>\n",
       "      <td>0.999396</td>\n",
       "      <td>0.999166</td>\n",
       "      <td>3.242556e-04</td>\n",
       "    </tr>\n",
       "    <tr>\n",
       "      <th>2</th>\n",
       "      <td>0.779474</td>\n",
       "      <td>0.028290</td>\n",
       "      <td>0.170514</td>\n",
       "      <td>0.007953</td>\n",
       "      <td>0.001</td>\n",
       "      <td>0.1</td>\n",
       "      <td>{'C': 0.001, 'gamma': 0.1}</td>\n",
       "      <td>0.903254</td>\n",
       "      <td>0.924345</td>\n",
       "      <td>0.943848</td>\n",
       "      <td>...</td>\n",
       "      <td>0.930600</td>\n",
       "      <td>0.015343</td>\n",
       "      <td>18</td>\n",
       "      <td>1.000000</td>\n",
       "      <td>1.000000</td>\n",
       "      <td>1.000000</td>\n",
       "      <td>1.000000</td>\n",
       "      <td>1.000000</td>\n",
       "      <td>1.000000</td>\n",
       "      <td>4.965068e-17</td>\n",
       "    </tr>\n",
       "    <tr>\n",
       "      <th>3</th>\n",
       "      <td>0.868598</td>\n",
       "      <td>0.058733</td>\n",
       "      <td>0.221409</td>\n",
       "      <td>0.044135</td>\n",
       "      <td>0.001</td>\n",
       "      <td>1</td>\n",
       "      <td>{'C': 0.001, 'gamma': 1}</td>\n",
       "      <td>0.681195</td>\n",
       "      <td>0.715385</td>\n",
       "      <td>0.684006</td>\n",
       "      <td>...</td>\n",
       "      <td>0.690523</td>\n",
       "      <td>0.012699</td>\n",
       "      <td>29</td>\n",
       "      <td>1.000000</td>\n",
       "      <td>1.000000</td>\n",
       "      <td>1.000000</td>\n",
       "      <td>1.000000</td>\n",
       "      <td>1.000000</td>\n",
       "      <td>1.000000</td>\n",
       "      <td>4.965068e-17</td>\n",
       "    </tr>\n",
       "    <tr>\n",
       "      <th>4</th>\n",
       "      <td>0.876399</td>\n",
       "      <td>0.057195</td>\n",
       "      <td>0.206193</td>\n",
       "      <td>0.006252</td>\n",
       "      <td>0.001</td>\n",
       "      <td>10</td>\n",
       "      <td>{'C': 0.001, 'gamma': 10}</td>\n",
       "      <td>0.653823</td>\n",
       "      <td>0.693881</td>\n",
       "      <td>0.661456</td>\n",
       "      <td>...</td>\n",
       "      <td>0.668906</td>\n",
       "      <td>0.014158</td>\n",
       "      <td>35</td>\n",
       "      <td>1.000000</td>\n",
       "      <td>1.000000</td>\n",
       "      <td>1.000000</td>\n",
       "      <td>1.000000</td>\n",
       "      <td>1.000000</td>\n",
       "      <td>1.000000</td>\n",
       "      <td>0.000000e+00</td>\n",
       "    </tr>\n",
       "  </tbody>\n",
       "</table>\n",
       "<p>5 rows × 22 columns</p>\n",
       "</div>"
      ],
      "text/plain": [
       "   mean_fit_time  std_fit_time  mean_score_time  std_score_time param_C  \\\n",
       "0       0.338139      0.031838         0.065596        0.011683   0.001   \n",
       "1       0.515964      0.009786         0.115655        0.007622   0.001   \n",
       "2       0.779474      0.028290         0.170514        0.007953   0.001   \n",
       "3       0.868598      0.058733         0.221409        0.044135   0.001   \n",
       "4       0.876399      0.057195         0.206193        0.006252   0.001   \n",
       "\n",
       "  param_gamma                        params  split0_test_score  \\\n",
       "0       0.001  {'C': 0.001, 'gamma': 0.001}           0.938898   \n",
       "1        0.01   {'C': 0.001, 'gamma': 0.01}           0.927631   \n",
       "2         0.1    {'C': 0.001, 'gamma': 0.1}           0.903254   \n",
       "3           1      {'C': 0.001, 'gamma': 1}           0.681195   \n",
       "4          10     {'C': 0.001, 'gamma': 10}           0.653823   \n",
       "\n",
       "   split1_test_score  split2_test_score       ...         mean_test_score  \\\n",
       "0           0.944384           0.951013       ...                0.949694   \n",
       "1           0.948645           0.961922       ...                0.950904   \n",
       "2           0.924345           0.943848       ...                0.930600   \n",
       "3           0.715385           0.684006       ...                0.690523   \n",
       "4           0.693881           0.661456       ...                0.668906   \n",
       "\n",
       "   std_test_score  rank_test_score  split0_train_score  split1_train_score  \\\n",
       "0        0.010775               12            0.973939            0.969346   \n",
       "1        0.013936               11            0.999556            0.999309   \n",
       "2        0.015343               18            1.000000            1.000000   \n",
       "3        0.012699               29            1.000000            1.000000   \n",
       "4        0.014158               35            1.000000            1.000000   \n",
       "\n",
       "   split2_train_score  split3_train_score  split4_train_score  \\\n",
       "0            0.968914            0.967894            0.965872   \n",
       "1            0.998720            0.998847            0.999396   \n",
       "2            1.000000            1.000000            1.000000   \n",
       "3            1.000000            1.000000            1.000000   \n",
       "4            1.000000            1.000000            1.000000   \n",
       "\n",
       "   mean_train_score  std_train_score  \n",
       "0          0.969193     2.658789e-03  \n",
       "1          0.999166     3.242556e-04  \n",
       "2          1.000000     4.965068e-17  \n",
       "3          1.000000     4.965068e-17  \n",
       "4          1.000000     0.000000e+00  \n",
       "\n",
       "[5 rows x 22 columns]"
      ]
     },
     "metadata": {},
     "output_type": "display_data"
    }
   ],
   "source": [
    "display(results.head())"
   ]
  },
  {
   "cell_type": "code",
   "execution_count": 81,
   "metadata": {},
   "outputs": [
    {
     "data": {
      "text/plain": [
       "<function IPython.core.display.display(*objs, include=None, exclude=None, metadata=None, transient=None, display_id=None, **kwargs)>"
      ]
     },
     "execution_count": 81,
     "metadata": {},
     "output_type": "execute_result"
    }
   ],
   "source": [
    "\n",
    "import mglearn\n",
    "scores = np.array(results.mean_test_score).reshape(6, 6)\n",
    "# plot the mean cross-validation scores\n",
    "mglearn.tools.heatmap(scores, xlabel='gamma', xticklabels=param_grid['gamma'],\n",
    "ylabel='C', yticklabels=param_grid['C'], cmap=\"viridis\")\n",
    "display"
   ]
  },
  {
   "cell_type": "code",
   "execution_count": 82,
   "metadata": {},
   "outputs": [],
   "source": [
    "from sklearn.metrics import precision_recall_curve\n",
    "from sklearn.ensemble import RandomForestClassifier\n",
    "\n",
    "X_train, X_test, y_train, y_test = train_test_split(X, y, random_state=0)\n",
    "svc = SVC(gamma=.05).fit(X_train, y_train)\n",
    "precision, recall, thresholds = precision_recall_curve(\n",
    "y_test, svc.decision_function(X_test))\n",
    "# find threshold closest to zero\n",
    "close_zero = np.argmin(np.abs(thresholds))\n",
    "\n",
    "rf = RandomForestClassifier(n_estimators=100, random_state=0, max_features=2)\n",
    "rf.fit(X_train, y_train)\n",
    "# RandomForestClassifier has predict_proba, but not decision_function\n",
    "precision_rf, recall_rf, thresholds_rf = precision_recall_curve(\n",
    "y_test, rf.predict_proba(X_test)[:, 1])"
   ]
  },
  {
   "cell_type": "code",
   "execution_count": 83,
   "metadata": {},
   "outputs": [],
   "source": [
    "def foo1():\n",
    "    plt.plot(precision, recall, label=\"svc\")\n",
    "    plt.plot(precision[close_zero], recall[close_zero], 'o',\n",
    "             label=\"threshold zero svc\", fillstyle=\"none\", c='k', mew=2)\n",
    "    plt.plot(precision_rf, recall_rf, label=\"rf\")\n",
    "    close_default_rf = np.argmin(np.abs(thresholds_rf - 0.5))\n",
    "    plt.plot(precision_rf[close_default_rf], recall_rf[close_default_rf], '^', c='k', \n",
    "             label=\"threshold 0.5 rf\", fillstyle=\"none\", mew=2)\n",
    "    plt.xlabel(\"Precision\")\n",
    "    plt.ylabel(\"Recall\")\n",
    "    plt.legend(loc=\"best\")\n",
    "    display\n",
    "    "
   ]
  },
  {
   "cell_type": "code",
   "execution_count": 84,
   "metadata": {},
   "outputs": [
    {
     "data": {
      "image/png": "[encoded data removed]",
      "text/plain": [
       "<Figure size 432x288 with 1 Axes>"
      ]
     },
     "metadata": {},
     "output_type": "display_data"
    }
   ],
   "source": [
    "import matplotlib.pyplot as plt\n",
    "%matplotlib inline\n",
    "foo1()"
   ]
  },
  {
   "cell_type": "code",
   "execution_count": 85,
   "metadata": {},
   "outputs": [
    {
     "name": "stdout",
     "output_type": "stream",
     "text": [
      "Average precision of random forest: 0.998\n",
      "Average precision of svc: 0.927\n"
     ]
    }
   ],
   "source": [
    "from sklearn.metrics import average_precision_score\n",
    "ap_rf = average_precision_score(y_test, rf.predict_proba(X_test)[:, 1])\n",
    "ap_svc = average_precision_score(y_test, svc.decision_function(X_test))\n",
    "print(\"Average precision of random forest: {:.3f}\".format(ap_rf))\n",
    "print(\"Average precision of svc: {:.3f}\".format(ap_svc))"
   ]
  },
  {
   "cell_type": "code",
   "execution_count": 86,
   "metadata": {},
   "outputs": [
    {
     "name": "stdout",
     "output_type": "stream",
     "text": [
      "AUC for Random Forest: 0.999\n",
      "AUC for SVC: 0.962\n"
     ]
    }
   ],
   "source": [
    "from sklearn.metrics import roc_auc_score\n",
    "rf_auc = roc_auc_score(y_test, rf.predict_proba(X_test)[:, 1])\n",
    "svc_auc = roc_auc_score(y_test, svc.decision_function(X_test))\n",
    "print(\"AUC for Random Forest: {:.3f}\".format(rf_auc))\n",
    "print(\"AUC for SVC: {:.3f}\".format(svc_auc))"
   ]
  },
  {
   "cell_type": "code",
   "execution_count": 87,
   "metadata": {
    "scrolled": true
   },
   "outputs": [
    {
     "name": "stdout",
     "output_type": "stream",
     "text": [
      "Grid-Search with accuracy\n",
      "Best parameters: {'gamma': 0.0001}\n",
      "Best cross-validation score (accuracy)): 0.939\n",
      "Test set AUC: 0.969\n",
      "Test set accuracy: 0.943\n"
     ]
    }
   ],
   "source": [
    "X_train, X_test, y_train, y_test = train_test_split(X, y, random_state=0)\n",
    "# we provide a somewhat bad grid to illustrate the point:\n",
    "param_grid = {'gamma': [0.0001, 0.01, 0.1, 1, 10]}\n",
    "# using the default scoring of accuracy:\n",
    "grid = GridSearchCV(SVC(), param_grid=param_grid)\n",
    "grid.fit(X_train, y_train)\n",
    "print(\"Grid-Search with accuracy\")\n",
    "print(\"Best parameters:\", grid.best_params_)\n",
    "print(\"Best cross-validation score (accuracy)): {:.3f}\".format(grid.best_score_))\n",
    "print(\"Test set AUC: {:.3f}\".format(\n",
    "roc_auc_score(y_test, grid.decision_function(X_test))))\n",
    "print(\"Test set accuracy: {:.3f}\".format(grid.score(X_test, y_test)))"
   ]
  },
  {
   "cell_type": "code",
   "execution_count": 88,
   "metadata": {},
   "outputs": [],
   "source": [
    "from sklearn.metrics import accuracy_score"
   ]
  },
  {
   "cell_type": "markdown",
   "metadata": {},
   "source": [
    "# compare ROC curve of SVM with different gamma setting "
   ]
  },
  {
   "cell_type": "code",
   "execution_count": 89,
   "metadata": {},
   "outputs": [
    {
     "name": "stdout",
     "output_type": "stream",
     "text": [
      "gamma = 1.00 accuracy = 0.81 AUC = 0.77\n",
      "gamma = 0.05 accuracy = 0.82 AUC = 0.96\n",
      "gamma = 0.01 accuracy = 0.91 AUC = 0.98\n"
     ]
    },
    {
     "data": {
      "text/plain": [
       "<matplotlib.legend.Legend at 0x17a505f64e0>"
      ]
     },
     "execution_count": 89,
     "metadata": {},
     "output_type": "execute_result"
    },
    {
     "data": {
      "image/png": "[encoded data removed]",
      "text/plain": [
       "<Figure size 432x288 with 1 Axes>"
      ]
     },
     "metadata": {},
     "output_type": "display_data"
    }
   ],
   "source": [
    "import matplotlib.pyplot as plt\n",
    "from sklearn.metrics import roc_auc_score\n",
    "from sklearn.metrics import roc_curve\n",
    "X_train, X_test, y_train, y_test = train_test_split(\n",
    "        X, y, random_state=0)\n",
    "plt.figure()\n",
    "    \n",
    "for gamma in [1, 0.05, 0.01]:\n",
    "    svc = SVC(gamma=gamma).fit(X_train, y_train)\n",
    "    accuracy = svc.score(X_test, y_test)\n",
    "    auc = roc_auc_score(y_test, svc.decision_function(X_test)) \n",
    "    fpr, tpr, _ = roc_curve(y_test , svc.decision_function(X_test)) \n",
    "    print(\"gamma = {:.2f} accuracy = {:.2f} AUC = {:.2f}\".format( gamma, accuracy, auc))\n",
    "    plt.plot(fpr, tpr, label=\"gamma={:.3f}\".format(gamma))\n",
    "plt.xlabel(\"FPR\")\n",
    "plt.ylabel(\"TPR\")\n",
    "plt.xlim(-0.01, 1)\n",
    "plt.ylim(0, 1.02)\n",
    "plt.legend(loc=\"best\")"
   ]
  },
  {
   "cell_type": "markdown",
   "metadata": {},
   "source": [
    "# Evaluation metrics"
   ]
  },
  {
   "cell_type": "code",
   "execution_count": 90,
   "metadata": {},
   "outputs": [
    {
     "name": "stdout",
     "output_type": "stream",
     "text": [
      "Default scoring: [0.80701754 0.80655586 0.80323326]\n",
      "Explicit accuracy scoring: [0.80701754 0.80655586 0.80323326]\n",
      "AUC scoring: [0.95390854 0.94940423 0.94809256]\n"
     ]
    }
   ],
   "source": [
    "from sklearn.metrics import accuracy_score\n",
    "# default scoring for classification is accuracy\n",
    "print(\"Default scoring: {}\".format(cross_val_score(SVC(), X, y)))\n",
    "# providing scoring=\"accuracy\" doesn't change the results\n",
    "explicit_accuracy =  cross_val_score(SVC(), X, y,scoring=\"accuracy\")\n",
    "print(\"Explicit accuracy scoring: {}\".format(explicit_accuracy)) \n",
    "roc_auc = cross_val_score(SVC(), X, y ,scoring=\"roc_auc\")\n",
    "print(\"AUC scoring: {}\".format(roc_auc))"
   ]
  },
  {
   "cell_type": "code",
   "execution_count": 91,
   "metadata": {},
   "outputs": [
    {
     "name": "stdout",
     "output_type": "stream",
     "text": [
      "Grid-Search with accuracy\n",
      "Best parameters: {'gamma': 0.0001}\n",
      "Best cross-validation score (accuracy)): 0.939\n",
      "Test set AUC: 0.969\n",
      "Test set accuracy: 0.943\n"
     ]
    }
   ],
   "source": [
    "X_train, X_test, y_train, y_test = train_test_split(\n",
    "        X, y, random_state=0)\n",
    "# we provide a somewhat bad grid to illustrate the point:\n",
    "param_grid = {'gamma': [0.0001, 0.01, 0.1, 1, 10]} # using the default scoring of accuracy:\n",
    "grid = GridSearchCV(SVC(), param_grid=param_grid) \n",
    "grid.fit(X_train, y_train)\n",
    "print(\"Grid-Search with accuracy\")\n",
    "print(\"Best parameters:\", grid.best_params_)\n",
    "print(\"Best cross-validation score (accuracy)): {:.3f}\".format(grid.best_score_))\n",
    "print(\"Test set AUC: {:.3f}\".format(\n",
    "roc_auc_score(y_test, grid.decision_function(X_test)))) \n",
    "print(\"Test set accuracy: {:.3f}\".format(grid.score(X_test, y_test)))"
   ]
  },
  {
   "cell_type": "code",
   "execution_count": 92,
   "metadata": {},
   "outputs": [
    {
     "name": "stdout",
     "output_type": "stream",
     "text": [
      "\n",
      "Grid-Search with AUC\n",
      "Best parameters: {'gamma': 0.0001}\n",
      "Best cross-validation score (AUC): 0.969\n",
      "Test set AUC: 0.969\n",
      "Test set accuracy: 0.969\n"
     ]
    }
   ],
   "source": [
    "# using AUC scoring instead:\n",
    "grid = GridSearchCV(SVC(), param_grid=param_grid, scoring=\"roc_auc\") \n",
    "grid.fit(X_train, y_train)\n",
    "print(\"\\nGrid-Search with AUC\")\n",
    "print(\"Best parameters:\", grid.best_params_)\n",
    "print(\"Best cross-validation score (AUC): {:.3f}\".format(grid.best_score_))\n",
    "print(\"Test set AUC: {:.3f}\".format(\n",
    "    roc_auc_score(y_test, grid.decision_function(X_test))))\n",
    "print(\"Test set accuracy: {:.3f}\".format(grid.score(X_test, y_test)))\n",
    "\n"
   ]
  },
  {
   "cell_type": "code",
   "execution_count": 93,
   "metadata": {},
   "outputs": [],
   "source": [
    "#Multiclass classification \n",
    "from sklearn.utils import shuffle\n",
    "df = shuffle(df)"
   ]
  },
  {
   "cell_type": "code",
   "execution_count": 94,
   "metadata": {},
   "outputs": [],
   "source": [
    "df.reset_index(drop=True, inplace=True)"
   ]
  },
  {
   "cell_type": "code",
   "execution_count": 95,
   "metadata": {},
   "outputs": [
    {
     "data": {
      "text/plain": [
       "(6497, 13)"
      ]
     },
     "execution_count": 95,
     "metadata": {},
     "output_type": "execute_result"
    }
   ],
   "source": [
    "df.shape"
   ]
  },
  {
   "cell_type": "code",
   "execution_count": 96,
   "metadata": {},
   "outputs": [],
   "source": [
    "X = np.array(df.drop(columns=['quality']))"
   ]
  },
  {
   "cell_type": "code",
   "execution_count": 97,
   "metadata": {},
   "outputs": [],
   "source": [
    "y = np.array(df.quality)"
   ]
  },
  {
   "cell_type": "code",
   "execution_count": 98,
   "metadata": {
    "scrolled": false
   },
   "outputs": [
    {
     "data": {
      "text/plain": [
       "array([3, 4, 5, 6, 7, 8, 9], dtype=int64)"
      ]
     },
     "execution_count": 98,
     "metadata": {},
     "output_type": "execute_result"
    }
   ],
   "source": [
    "np.unique(df.quality)"
   ]
  },
  {
   "cell_type": "code",
   "execution_count": 99,
   "metadata": {},
   "outputs": [],
   "source": [
    "le = preprocessing.LabelEncoder()"
   ]
  },
  {
   "cell_type": "code",
   "execution_count": 100,
   "metadata": {},
   "outputs": [
    {
     "data": {
      "text/plain": [
       "array([2, 3, 4, ..., 3, 2, 2], dtype=int64)"
      ]
     },
     "execution_count": 100,
     "metadata": {},
     "output_type": "execute_result"
    }
   ],
   "source": [
    "le.fit_transform(y)"
   ]
  },
  {
   "cell_type": "code",
   "execution_count": 101,
   "metadata": {},
   "outputs": [
    {
     "data": {
      "text/plain": [
       "array([3, 4, 5, 6, 7, 8, 9], dtype=int64)"
      ]
     },
     "execution_count": 101,
     "metadata": {},
     "output_type": "execute_result"
    }
   ],
   "source": [
    "np.unique(y)"
   ]
  },
  {
   "cell_type": "code",
   "execution_count": 102,
   "metadata": {},
   "outputs": [],
   "source": [
    "y = y.reshape(-1, 1)"
   ]
  },
  {
   "cell_type": "code",
   "execution_count": 103,
   "metadata": {},
   "outputs": [
    {
     "data": {
      "text/plain": [
       "array([[5],\n",
       "       [6],\n",
       "       [7],\n",
       "       ...,\n",
       "       [6],\n",
       "       [5],\n",
       "       [5]], dtype=int64)"
      ]
     },
     "execution_count": 103,
     "metadata": {},
     "output_type": "execute_result"
    }
   ],
   "source": [
    "y"
   ]
  },
  {
   "cell_type": "code",
   "execution_count": 104,
   "metadata": {},
   "outputs": [],
   "source": [
    "#df.columns.differences(test.columns)"
   ]
  },
  {
   "cell_type": "code",
   "execution_count": 105,
   "metadata": {},
   "outputs": [],
   "source": [
    "scaler_multiclass = preprocessing.StandardScaler().fit(y)"
   ]
  },
  {
   "cell_type": "code",
   "execution_count": 106,
   "metadata": {},
   "outputs": [],
   "source": [
    "X = scaler_multiclass.transform(X)"
   ]
  },
  {
   "cell_type": "code",
   "execution_count": 107,
   "metadata": {},
   "outputs": [
    {
     "data": {
      "text/plain": [
       "array([[  4.7889137 ,  -6.61870901,  -6.39997034, ..., 117.02132272,\n",
       "         -6.46868406,  -6.66337293],\n",
       "       [  6.5067567 ,  -6.54426915,  -6.28544747, ...,  55.1789749 ,\n",
       "         -6.50304092,  -6.66337293],\n",
       "       [  3.75820791,  -6.60267581,  -6.31980433, ..., 255.593991  ,\n",
       "         -6.44577949,  -6.66337293],\n",
       "       ...,\n",
       "       [  3.75820791,  -6.60725673,  -6.18237689, ..., 229.25373174,\n",
       "         -6.37706577,  -6.66337293],\n",
       "       [  5.01795944,  -6.52136458,  -6.66337293, ...,  59.75988955,\n",
       "         -5.87316515,  -5.51814427],\n",
       "       [  4.67439084,  -6.52365503,  -6.64046836, ..., 135.34498134,\n",
       "         -5.82162986,  -5.51814427]])"
      ]
     },
     "execution_count": 107,
     "metadata": {},
     "output_type": "execute_result"
    }
   ],
   "source": [
    "X"
   ]
  },
  {
   "cell_type": "code",
   "execution_count": 108,
   "metadata": {},
   "outputs": [],
   "source": [
    "X_train, X_test, y_train, y_test = train_test_split(X, y, test_size=0.25, random_state=42)"
   ]
  },
  {
   "cell_type": "code",
   "execution_count": 109,
   "metadata": {},
   "outputs": [],
   "source": [
    "X_train, X_test, y_train, y_test = train_test_split(X, y, test_size=0.25, random_state=42)"
   ]
  },
  {
   "cell_type": "code",
   "execution_count": 110,
   "metadata": {},
   "outputs": [
    {
     "data": {
      "text/plain": [
       "array([[5],\n",
       "       [6],\n",
       "       [7],\n",
       "       ...,\n",
       "       [6],\n",
       "       [5],\n",
       "       [5]], dtype=int64)"
      ]
     },
     "execution_count": 110,
     "metadata": {},
     "output_type": "execute_result"
    }
   ],
   "source": [
    "y"
   ]
  },
  {
   "cell_type": "code",
   "execution_count": 113,
   "metadata": {},
   "outputs": [],
   "source": [
    "from sklearn import svm\n",
    "clf = svm.SVC()"
   ]
  },
  {
   "cell_type": "code",
   "execution_count": 114,
   "metadata": {},
   "outputs": [
    {
     "data": {
      "text/plain": [
       "SVC(C=1.0, cache_size=200, class_weight=None, coef0=0.0,\n",
       "  decision_function_shape='ovr', degree=3, gamma='auto', kernel='rbf',\n",
       "  max_iter=-1, probability=False, random_state=None, shrinking=True,\n",
       "  tol=0.001, verbose=False)"
      ]
     },
     "execution_count": 114,
     "metadata": {},
     "output_type": "execute_result"
    }
   ],
   "source": [
    "clf.fit(X_train, y_train)"
   ]
  },
  {
   "cell_type": "code",
   "execution_count": 115,
   "metadata": {},
   "outputs": [
    {
     "data": {
      "text/plain": [
       "0.5513846153846154"
      ]
     },
     "execution_count": 115,
     "metadata": {},
     "output_type": "execute_result"
    }
   ],
   "source": [
    "clf.score(X_test, y_test)"
   ]
  },
  {
   "cell_type": "code",
   "execution_count": 116,
   "metadata": {},
   "outputs": [],
   "source": [
    "forecast_set = clf.predict(X_test)"
   ]
  },
  {
   "cell_type": "code",
   "execution_count": 117,
   "metadata": {},
   "outputs": [
    {
     "data": {
      "text/plain": [
       "array([6, 6, 6, 6, 6, 5, 6, 6, 6, 6], dtype=int64)"
      ]
     },
     "execution_count": 117,
     "metadata": {},
     "output_type": "execute_result"
    }
   ],
   "source": [
    "forecast_set[: 10]"
   ]
  },
  {
   "cell_type": "code",
   "execution_count": 118,
   "metadata": {},
   "outputs": [
    {
     "data": {
      "text/plain": [
       "array([[6],\n",
       "       [6],\n",
       "       [6],\n",
       "       ...,\n",
       "       [5],\n",
       "       [6],\n",
       "       [6]], dtype=int64)"
      ]
     },
     "execution_count": 118,
     "metadata": {},
     "output_type": "execute_result"
    }
   ],
   "source": [
    "forecast_set.reshape(-1, 1)"
   ]
  },
  {
   "cell_type": "code",
   "execution_count": 119,
   "metadata": {},
   "outputs": [],
   "source": [
    " actual_set = y_test"
   ]
  },
  {
   "cell_type": "code",
   "execution_count": 120,
   "metadata": {},
   "outputs": [
    {
     "data": {
      "text/plain": [
       "array([[3],\n",
       "       [6],\n",
       "       [6],\n",
       "       [5],\n",
       "       [5],\n",
       "       [5],\n",
       "       [6],\n",
       "       [7],\n",
       "       [6],\n",
       "       [5]], dtype=int64)"
      ]
     },
     "execution_count": 120,
     "metadata": {},
     "output_type": "execute_result"
    }
   ],
   "source": [
    "actual_set[: 10]"
   ]
  },
  {
   "cell_type": "code",
   "execution_count": 121,
   "metadata": {},
   "outputs": [
    {
     "data": {
      "text/html": [
       "<div>\n",
       "<style scoped>\n",
       "    .dataframe tbody tr th:only-of-type {\n",
       "        vertical-align: middle;\n",
       "    }\n",
       "\n",
       "    .dataframe tbody tr th {\n",
       "        vertical-align: top;\n",
       "    }\n",
       "\n",
       "    .dataframe thead th {\n",
       "        text-align: right;\n",
       "    }\n",
       "</style>\n",
       "<table border=\"1\" class=\"dataframe\">\n",
       "  <thead>\n",
       "    <tr style=\"text-align: right;\">\n",
       "      <th></th>\n",
       "      <th>alcohol</th>\n",
       "      <th>chlorides</th>\n",
       "      <th>citric acid</th>\n",
       "      <th>density</th>\n",
       "      <th>fixed acidity</th>\n",
       "      <th>free sulfur dioxide</th>\n",
       "      <th>pH</th>\n",
       "      <th>quality</th>\n",
       "      <th>residual sugar</th>\n",
       "      <th>sulphates</th>\n",
       "      <th>total sulfur dioxide</th>\n",
       "      <th>volatile acidity</th>\n",
       "      <th>wine_type</th>\n",
       "    </tr>\n",
       "  </thead>\n",
       "  <tbody>\n",
       "    <tr>\n",
       "      <th>0</th>\n",
       "      <td>10.0</td>\n",
       "      <td>0.039</td>\n",
       "      <td>0.23</td>\n",
       "      <td>0.99243</td>\n",
       "      <td>5.5</td>\n",
       "      <td>10.0</td>\n",
       "      <td>3.28</td>\n",
       "      <td>5</td>\n",
       "      <td>2.9</td>\n",
       "      <td>0.5</td>\n",
       "      <td>108.0</td>\n",
       "      <td>0.17</td>\n",
       "      <td>0</td>\n",
       "    </tr>\n",
       "  </tbody>\n",
       "</table>\n",
       "</div>"
      ],
      "text/plain": [
       "   alcohol  chlorides  citric acid  density  fixed acidity  \\\n",
       "0     10.0      0.039         0.23  0.99243            5.5   \n",
       "\n",
       "   free sulfur dioxide    pH  quality  residual sugar  sulphates  \\\n",
       "0                 10.0  3.28        5             2.9        0.5   \n",
       "\n",
       "   total sulfur dioxide  volatile acidity  wine_type  \n",
       "0                 108.0              0.17          0  "
      ]
     },
     "execution_count": 121,
     "metadata": {},
     "output_type": "execute_result"
    }
   ],
   "source": [
    "df.head(1)"
   ]
  },
  {
   "cell_type": "code",
   "execution_count": 122,
   "metadata": {},
   "outputs": [],
   "source": [
    "import mglearn\n",
    "X_train, X_test, y_train, y_test = train_test_split(X, y, random_state=0)\n",
    "svc = SVC(gamma=.1).fit(X_train, y_train)"
   ]
  },
  {
   "cell_type": "code",
   "execution_count": 123,
   "metadata": {},
   "outputs": [
    {
     "ename": "NameError",
     "evalue": "name 'rc' is not defined",
     "output_type": "error",
     "traceback": [
      "\u001b[1;31m---------------------------------------------------------------------------\u001b[0m",
      "\u001b[1;31mNameError\u001b[0m                                 Traceback (most recent call last)",
      "\u001b[1;32m<ipython-input-123-0235f193e370>\u001b[0m in \u001b[0;36m<module>\u001b[1;34m()\u001b[0m\n\u001b[0;32m      1\u001b[0m \u001b[0mfont\u001b[0m \u001b[1;33m=\u001b[0m \u001b[1;33m{\u001b[0m\u001b[1;34m'quality'\u001b[0m \u001b[1;33m:\u001b[0m \u001b[1;34m'pH'\u001b[0m\u001b[1;33m,\u001b[0m \u001b[1;34m'density'\u001b[0m \u001b[1;33m:\u001b[0m \u001b[1;34m'alcohol'\u001b[0m\u001b[1;33m,\u001b[0m \u001b[1;34m'fixed acidity'\u001b[0m   \u001b[1;33m:\u001b[0m \u001b[1;36m12\u001b[0m\u001b[1;33m}\u001b[0m\u001b[1;33m\u001b[0m\u001b[0m\n\u001b[1;32m----> 2\u001b[1;33m \u001b[0mrc\u001b[0m\u001b[1;33m(\u001b[0m\u001b[1;34m'font'\u001b[0m\u001b[1;33m,\u001b[0m \u001b[1;33m**\u001b[0m\u001b[0mfont\u001b[0m\u001b[1;33m)\u001b[0m\u001b[1;33m\u001b[0m\u001b[0m\n\u001b[0m\u001b[0;32m      3\u001b[0m \u001b[0mplt\u001b[0m\u001b[1;33m.\u001b[0m\u001b[0mrcParams\u001b[0m\u001b[1;33m[\u001b[0m\u001b[1;34m'figure.figsize'\u001b[0m\u001b[1;33m]\u001b[0m \u001b[1;33m=\u001b[0m \u001b[1;33m[\u001b[0m\u001b[1;36m30\u001b[0m\u001b[1;33m,\u001b[0m \u001b[1;36m10\u001b[0m\u001b[1;33m]\u001b[0m\u001b[1;33m\u001b[0m\u001b[0m\n",
      "\u001b[1;31mNameError\u001b[0m: name 'rc' is not defined"
     ]
    }
   ],
   "source": [
    "font = {'quality' : 'pH', 'density' : 'alcohol', 'fixed acidity'   : 12}\n",
    "rc('font', **font) \n",
    "plt.rcParams['figure.figsize'] = [30, 10]"
   ]
  },
  {
   "cell_type": "code",
   "execution_count": null,
   "metadata": {},
   "outputs": [],
   "source": [
    "mglearn.plots.plot_decision_threshold()"
   ]
  },
  {
   "cell_type": "code",
   "execution_count": null,
   "metadata": {},
   "outputs": [],
   "source": [
    "from sklearn.metrics import precision_recall_curve\n",
    "from sklearn.ensemble import RandomForestClassifier\n",
    "\n",
    "X_train, X_test, y_train, y_test = train_test_split(X, y, random_state=0)\n",
    "svc = SVC(gamma=.05).fit(X_train, y_train)\n",
    "precision, recall, thresholds = precision_recall_curve(\n",
    "y_test, svc.decision_function(X_test))\n",
    "# find threshold closest to zero\n",
    "close_zero = np.argmin(np.abs(thresholds))\n",
    "\n",
    "rf = RandomForestClassifier(n_estimators=100, random_state=0, max_features=2)\n",
    "rf.fit(X_train, y_train)\n",
    "# RandomForestClassifier has predict_proba, but not decision_function\n",
    "precision_rf, recall_rf, thresholds_rf = precision_recall_curve(\n",
    "y_test, rf.predict_proba(X_test)[:, 1])"
   ]
  },
  {
   "cell_type": "code",
   "execution_count": null,
   "metadata": {},
   "outputs": [],
   "source": []
  },
  {
   "cell_type": "code",
   "execution_count": null,
   "metadata": {},
   "outputs": [],
   "source": []
  },
  {
   "cell_type": "code",
   "execution_count": null,
   "metadata": {},
   "outputs": [],
   "source": []
  },
  {
   "cell_type": "code",
   "execution_count": null,
   "metadata": {},
   "outputs": [],
   "source": []
  }
 ],
 "metadata": {
  "kernelspec": {
   "display_name": "Python 3",
   "language": "python",
   "name": "python3"
  },
  "language_info": {
   "codemirror_mode": {
    "name": "ipython",
    "version": 3
   },
   "file_extension": ".py",
   "mimetype": "text/x-python",
   "name": "python",
   "nbconvert_exporter": "python",
   "pygments_lexer": "ipython3",
   "version": "3.6.5"
  }
 },
 "nbformat": 4,
 "nbformat_minor": 2
}
