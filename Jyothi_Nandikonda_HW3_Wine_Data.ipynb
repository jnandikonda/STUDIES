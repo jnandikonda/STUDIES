{
 "cells": [
  {
   "cell_type": "code",
   "execution_count": 1,
   "metadata": {},
   "outputs": [],
   "source": [
    "##################################################################################################################3333\n",
    "#\n",
    "#                         COURSE: 2\n",
    "#                         Course Name: Machine Learning for Predictive Problems\n",
    "#                         Student Name: Jyothi Nandikonda\n",
    "#                         Dataset: Winedata\n",
    "#                         Homework: 3\n",
    "#                         Due Date: 16.11.18\n",
    "#\n",
    "##########################################################################################################################3"
   ]
  },
  {
   "cell_type": "code",
   "execution_count": 2,
   "metadata": {},
   "outputs": [],
   "source": [
    "import pandas as pd\n",
    "import numpy as np\n",
    "import warnings\n",
    "warnings.simplefilter(\"ignore\")"
   ]
  },
  {
   "cell_type": "code",
   "execution_count": 3,
   "metadata": {},
   "outputs": [],
   "source": [
    "df_white_wine = pd.read_csv('winequality-white.csv', sep=';')"
   ]
  },
  {
   "cell_type": "code",
   "execution_count": 4,
   "metadata": {},
   "outputs": [],
   "source": [
    "df_red_wine = pd.read_csv('winequality-red.csv', sep=';')"
   ]
  },
  {
   "cell_type": "code",
   "execution_count": 5,
   "metadata": {},
   "outputs": [
    {
     "data": {
      "text/html": [
       "<div>\n",
       "<style scoped>\n",
       "    .dataframe tbody tr th:only-of-type {\n",
       "        vertical-align: middle;\n",
       "    }\n",
       "\n",
       "    .dataframe tbody tr th {\n",
       "        vertical-align: top;\n",
       "    }\n",
       "\n",
       "    .dataframe thead th {\n",
       "        text-align: right;\n",
       "    }\n",
       "</style>\n",
       "<table border=\"1\" class=\"dataframe\">\n",
       "  <thead>\n",
       "    <tr style=\"text-align: right;\">\n",
       "      <th></th>\n",
       "      <th>fixed acidity</th>\n",
       "      <th>volatile acidity</th>\n",
       "      <th>citric acid</th>\n",
       "      <th>residual sugar</th>\n",
       "      <th>chlorides</th>\n",
       "      <th>free sulfur dioxide</th>\n",
       "      <th>total sulfur dioxide</th>\n",
       "      <th>density</th>\n",
       "      <th>pH</th>\n",
       "      <th>sulphates</th>\n",
       "      <th>alcohol</th>\n",
       "      <th>quality</th>\n",
       "    </tr>\n",
       "  </thead>\n",
       "  <tbody>\n",
       "    <tr>\n",
       "      <th>0</th>\n",
       "      <td>7.4</td>\n",
       "      <td>0.70</td>\n",
       "      <td>0.00</td>\n",
       "      <td>1.9</td>\n",
       "      <td>0.076</td>\n",
       "      <td>11.0</td>\n",
       "      <td>34.0</td>\n",
       "      <td>0.9978</td>\n",
       "      <td>3.51</td>\n",
       "      <td>0.56</td>\n",
       "      <td>9.4</td>\n",
       "      <td>5</td>\n",
       "    </tr>\n",
       "    <tr>\n",
       "      <th>1</th>\n",
       "      <td>7.8</td>\n",
       "      <td>0.88</td>\n",
       "      <td>0.00</td>\n",
       "      <td>2.6</td>\n",
       "      <td>0.098</td>\n",
       "      <td>25.0</td>\n",
       "      <td>67.0</td>\n",
       "      <td>0.9968</td>\n",
       "      <td>3.20</td>\n",
       "      <td>0.68</td>\n",
       "      <td>9.8</td>\n",
       "      <td>5</td>\n",
       "    </tr>\n",
       "    <tr>\n",
       "      <th>2</th>\n",
       "      <td>7.8</td>\n",
       "      <td>0.76</td>\n",
       "      <td>0.04</td>\n",
       "      <td>2.3</td>\n",
       "      <td>0.092</td>\n",
       "      <td>15.0</td>\n",
       "      <td>54.0</td>\n",
       "      <td>0.9970</td>\n",
       "      <td>3.26</td>\n",
       "      <td>0.65</td>\n",
       "      <td>9.8</td>\n",
       "      <td>5</td>\n",
       "    </tr>\n",
       "    <tr>\n",
       "      <th>3</th>\n",
       "      <td>11.2</td>\n",
       "      <td>0.28</td>\n",
       "      <td>0.56</td>\n",
       "      <td>1.9</td>\n",
       "      <td>0.075</td>\n",
       "      <td>17.0</td>\n",
       "      <td>60.0</td>\n",
       "      <td>0.9980</td>\n",
       "      <td>3.16</td>\n",
       "      <td>0.58</td>\n",
       "      <td>9.8</td>\n",
       "      <td>6</td>\n",
       "    </tr>\n",
       "    <tr>\n",
       "      <th>4</th>\n",
       "      <td>7.4</td>\n",
       "      <td>0.70</td>\n",
       "      <td>0.00</td>\n",
       "      <td>1.9</td>\n",
       "      <td>0.076</td>\n",
       "      <td>11.0</td>\n",
       "      <td>34.0</td>\n",
       "      <td>0.9978</td>\n",
       "      <td>3.51</td>\n",
       "      <td>0.56</td>\n",
       "      <td>9.4</td>\n",
       "      <td>5</td>\n",
       "    </tr>\n",
       "  </tbody>\n",
       "</table>\n",
       "</div>"
      ],
      "text/plain": [
       "   fixed acidity  volatile acidity  citric acid  residual sugar  chlorides  \\\n",
       "0            7.4              0.70         0.00             1.9      0.076   \n",
       "1            7.8              0.88         0.00             2.6      0.098   \n",
       "2            7.8              0.76         0.04             2.3      0.092   \n",
       "3           11.2              0.28         0.56             1.9      0.075   \n",
       "4            7.4              0.70         0.00             1.9      0.076   \n",
       "\n",
       "   free sulfur dioxide  total sulfur dioxide  density    pH  sulphates  \\\n",
       "0                 11.0                  34.0   0.9978  3.51       0.56   \n",
       "1                 25.0                  67.0   0.9968  3.20       0.68   \n",
       "2                 15.0                  54.0   0.9970  3.26       0.65   \n",
       "3                 17.0                  60.0   0.9980  3.16       0.58   \n",
       "4                 11.0                  34.0   0.9978  3.51       0.56   \n",
       "\n",
       "   alcohol  quality  \n",
       "0      9.4        5  \n",
       "1      9.8        5  \n",
       "2      9.8        5  \n",
       "3      9.8        6  \n",
       "4      9.4        5  "
      ]
     },
     "execution_count": 5,
     "metadata": {},
     "output_type": "execute_result"
    }
   ],
   "source": [
    "df_red_wine.head()"
   ]
  },
  {
   "cell_type": "code",
   "execution_count": 6,
   "metadata": {},
   "outputs": [],
   "source": [
    "df_white_wine[\"wine_type\"] = 0\n",
    "df_red_wine[\"wine_type\"] = 1"
   ]
  },
  {
   "cell_type": "code",
   "execution_count": 7,
   "metadata": {},
   "outputs": [
    {
     "data": {
      "text/plain": [
       "4898"
      ]
     },
     "execution_count": 7,
     "metadata": {},
     "output_type": "execute_result"
    }
   ],
   "source": [
    "len(df_white_wine)"
   ]
  },
  {
   "cell_type": "code",
   "execution_count": 8,
   "metadata": {},
   "outputs": [
    {
     "data": {
      "text/plain": [
       "1599"
      ]
     },
     "execution_count": 8,
     "metadata": {},
     "output_type": "execute_result"
    }
   ],
   "source": [
    "len(df_red_wine)"
   ]
  },
  {
   "cell_type": "code",
   "execution_count": 9,
   "metadata": {},
   "outputs": [],
   "source": [
    "df = pd.concat([df_red_wine, df_white_wine], ignore_index=True, sort=True)"
   ]
  },
  {
   "cell_type": "code",
   "execution_count": 10,
   "metadata": {},
   "outputs": [
    {
     "data": {
      "text/html": [
       "<div>\n",
       "<style scoped>\n",
       "    .dataframe tbody tr th:only-of-type {\n",
       "        vertical-align: middle;\n",
       "    }\n",
       "\n",
       "    .dataframe tbody tr th {\n",
       "        vertical-align: top;\n",
       "    }\n",
       "\n",
       "    .dataframe thead th {\n",
       "        text-align: right;\n",
       "    }\n",
       "</style>\n",
       "<table border=\"1\" class=\"dataframe\">\n",
       "  <thead>\n",
       "    <tr style=\"text-align: right;\">\n",
       "      <th></th>\n",
       "      <th>alcohol</th>\n",
       "      <th>chlorides</th>\n",
       "      <th>citric acid</th>\n",
       "      <th>density</th>\n",
       "      <th>fixed acidity</th>\n",
       "      <th>free sulfur dioxide</th>\n",
       "      <th>pH</th>\n",
       "      <th>quality</th>\n",
       "      <th>residual sugar</th>\n",
       "      <th>sulphates</th>\n",
       "      <th>total sulfur dioxide</th>\n",
       "      <th>volatile acidity</th>\n",
       "      <th>wine_type</th>\n",
       "    </tr>\n",
       "  </thead>\n",
       "  <tbody>\n",
       "    <tr>\n",
       "      <th>0</th>\n",
       "      <td>9.4</td>\n",
       "      <td>0.076</td>\n",
       "      <td>0.00</td>\n",
       "      <td>0.9978</td>\n",
       "      <td>7.4</td>\n",
       "      <td>11.0</td>\n",
       "      <td>3.51</td>\n",
       "      <td>5</td>\n",
       "      <td>1.9</td>\n",
       "      <td>0.56</td>\n",
       "      <td>34.0</td>\n",
       "      <td>0.70</td>\n",
       "      <td>1</td>\n",
       "    </tr>\n",
       "    <tr>\n",
       "      <th>1</th>\n",
       "      <td>9.8</td>\n",
       "      <td>0.098</td>\n",
       "      <td>0.00</td>\n",
       "      <td>0.9968</td>\n",
       "      <td>7.8</td>\n",
       "      <td>25.0</td>\n",
       "      <td>3.20</td>\n",
       "      <td>5</td>\n",
       "      <td>2.6</td>\n",
       "      <td>0.68</td>\n",
       "      <td>67.0</td>\n",
       "      <td>0.88</td>\n",
       "      <td>1</td>\n",
       "    </tr>\n",
       "    <tr>\n",
       "      <th>2</th>\n",
       "      <td>9.8</td>\n",
       "      <td>0.092</td>\n",
       "      <td>0.04</td>\n",
       "      <td>0.9970</td>\n",
       "      <td>7.8</td>\n",
       "      <td>15.0</td>\n",
       "      <td>3.26</td>\n",
       "      <td>5</td>\n",
       "      <td>2.3</td>\n",
       "      <td>0.65</td>\n",
       "      <td>54.0</td>\n",
       "      <td>0.76</td>\n",
       "      <td>1</td>\n",
       "    </tr>\n",
       "    <tr>\n",
       "      <th>3</th>\n",
       "      <td>9.8</td>\n",
       "      <td>0.075</td>\n",
       "      <td>0.56</td>\n",
       "      <td>0.9980</td>\n",
       "      <td>11.2</td>\n",
       "      <td>17.0</td>\n",
       "      <td>3.16</td>\n",
       "      <td>6</td>\n",
       "      <td>1.9</td>\n",
       "      <td>0.58</td>\n",
       "      <td>60.0</td>\n",
       "      <td>0.28</td>\n",
       "      <td>1</td>\n",
       "    </tr>\n",
       "    <tr>\n",
       "      <th>4</th>\n",
       "      <td>9.4</td>\n",
       "      <td>0.076</td>\n",
       "      <td>0.00</td>\n",
       "      <td>0.9978</td>\n",
       "      <td>7.4</td>\n",
       "      <td>11.0</td>\n",
       "      <td>3.51</td>\n",
       "      <td>5</td>\n",
       "      <td>1.9</td>\n",
       "      <td>0.56</td>\n",
       "      <td>34.0</td>\n",
       "      <td>0.70</td>\n",
       "      <td>1</td>\n",
       "    </tr>\n",
       "  </tbody>\n",
       "</table>\n",
       "</div>"
      ],
      "text/plain": [
       "   alcohol  chlorides  citric acid  density  fixed acidity  \\\n",
       "0      9.4      0.076         0.00   0.9978            7.4   \n",
       "1      9.8      0.098         0.00   0.9968            7.8   \n",
       "2      9.8      0.092         0.04   0.9970            7.8   \n",
       "3      9.8      0.075         0.56   0.9980           11.2   \n",
       "4      9.4      0.076         0.00   0.9978            7.4   \n",
       "\n",
       "   free sulfur dioxide    pH  quality  residual sugar  sulphates  \\\n",
       "0                 11.0  3.51        5             1.9       0.56   \n",
       "1                 25.0  3.20        5             2.6       0.68   \n",
       "2                 15.0  3.26        5             2.3       0.65   \n",
       "3                 17.0  3.16        6             1.9       0.58   \n",
       "4                 11.0  3.51        5             1.9       0.56   \n",
       "\n",
       "   total sulfur dioxide  volatile acidity  wine_type  \n",
       "0                  34.0              0.70          1  \n",
       "1                  67.0              0.88          1  \n",
       "2                  54.0              0.76          1  \n",
       "3                  60.0              0.28          1  \n",
       "4                  34.0              0.70          1  "
      ]
     },
     "execution_count": 10,
     "metadata": {},
     "output_type": "execute_result"
    }
   ],
   "source": [
    "df.head()"
   ]
  },
  {
   "cell_type": "code",
   "execution_count": 11,
   "metadata": {},
   "outputs": [
    {
     "data": {
      "text/html": [
       "<div>\n",
       "<style scoped>\n",
       "    .dataframe tbody tr th:only-of-type {\n",
       "        vertical-align: middle;\n",
       "    }\n",
       "\n",
       "    .dataframe tbody tr th {\n",
       "        vertical-align: top;\n",
       "    }\n",
       "\n",
       "    .dataframe thead th {\n",
       "        text-align: right;\n",
       "    }\n",
       "</style>\n",
       "<table border=\"1\" class=\"dataframe\">\n",
       "  <thead>\n",
       "    <tr style=\"text-align: right;\">\n",
       "      <th></th>\n",
       "      <th>alcohol</th>\n",
       "      <th>chlorides</th>\n",
       "      <th>citric acid</th>\n",
       "      <th>density</th>\n",
       "      <th>fixed acidity</th>\n",
       "      <th>free sulfur dioxide</th>\n",
       "      <th>pH</th>\n",
       "      <th>quality</th>\n",
       "      <th>residual sugar</th>\n",
       "      <th>sulphates</th>\n",
       "      <th>total sulfur dioxide</th>\n",
       "      <th>volatile acidity</th>\n",
       "      <th>wine_type</th>\n",
       "    </tr>\n",
       "  </thead>\n",
       "  <tbody>\n",
       "    <tr>\n",
       "      <th>6492</th>\n",
       "      <td>11.2</td>\n",
       "      <td>0.039</td>\n",
       "      <td>0.29</td>\n",
       "      <td>0.99114</td>\n",
       "      <td>6.2</td>\n",
       "      <td>24.0</td>\n",
       "      <td>3.27</td>\n",
       "      <td>6</td>\n",
       "      <td>1.6</td>\n",
       "      <td>0.50</td>\n",
       "      <td>92.0</td>\n",
       "      <td>0.21</td>\n",
       "      <td>0</td>\n",
       "    </tr>\n",
       "    <tr>\n",
       "      <th>6493</th>\n",
       "      <td>9.6</td>\n",
       "      <td>0.047</td>\n",
       "      <td>0.36</td>\n",
       "      <td>0.99490</td>\n",
       "      <td>6.6</td>\n",
       "      <td>57.0</td>\n",
       "      <td>3.15</td>\n",
       "      <td>5</td>\n",
       "      <td>8.0</td>\n",
       "      <td>0.46</td>\n",
       "      <td>168.0</td>\n",
       "      <td>0.32</td>\n",
       "      <td>0</td>\n",
       "    </tr>\n",
       "    <tr>\n",
       "      <th>6494</th>\n",
       "      <td>9.4</td>\n",
       "      <td>0.041</td>\n",
       "      <td>0.19</td>\n",
       "      <td>0.99254</td>\n",
       "      <td>6.5</td>\n",
       "      <td>30.0</td>\n",
       "      <td>2.99</td>\n",
       "      <td>6</td>\n",
       "      <td>1.2</td>\n",
       "      <td>0.46</td>\n",
       "      <td>111.0</td>\n",
       "      <td>0.24</td>\n",
       "      <td>0</td>\n",
       "    </tr>\n",
       "    <tr>\n",
       "      <th>6495</th>\n",
       "      <td>12.8</td>\n",
       "      <td>0.022</td>\n",
       "      <td>0.30</td>\n",
       "      <td>0.98869</td>\n",
       "      <td>5.5</td>\n",
       "      <td>20.0</td>\n",
       "      <td>3.34</td>\n",
       "      <td>7</td>\n",
       "      <td>1.1</td>\n",
       "      <td>0.38</td>\n",
       "      <td>110.0</td>\n",
       "      <td>0.29</td>\n",
       "      <td>0</td>\n",
       "    </tr>\n",
       "    <tr>\n",
       "      <th>6496</th>\n",
       "      <td>11.8</td>\n",
       "      <td>0.020</td>\n",
       "      <td>0.38</td>\n",
       "      <td>0.98941</td>\n",
       "      <td>6.0</td>\n",
       "      <td>22.0</td>\n",
       "      <td>3.26</td>\n",
       "      <td>6</td>\n",
       "      <td>0.8</td>\n",
       "      <td>0.32</td>\n",
       "      <td>98.0</td>\n",
       "      <td>0.21</td>\n",
       "      <td>0</td>\n",
       "    </tr>\n",
       "  </tbody>\n",
       "</table>\n",
       "</div>"
      ],
      "text/plain": [
       "      alcohol  chlorides  citric acid  density  fixed acidity  \\\n",
       "6492     11.2      0.039         0.29  0.99114            6.2   \n",
       "6493      9.6      0.047         0.36  0.99490            6.6   \n",
       "6494      9.4      0.041         0.19  0.99254            6.5   \n",
       "6495     12.8      0.022         0.30  0.98869            5.5   \n",
       "6496     11.8      0.020         0.38  0.98941            6.0   \n",
       "\n",
       "      free sulfur dioxide    pH  quality  residual sugar  sulphates  \\\n",
       "6492                 24.0  3.27        6             1.6       0.50   \n",
       "6493                 57.0  3.15        5             8.0       0.46   \n",
       "6494                 30.0  2.99        6             1.2       0.46   \n",
       "6495                 20.0  3.34        7             1.1       0.38   \n",
       "6496                 22.0  3.26        6             0.8       0.32   \n",
       "\n",
       "      total sulfur dioxide  volatile acidity  wine_type  \n",
       "6492                  92.0              0.21          0  \n",
       "6493                 168.0              0.32          0  \n",
       "6494                 111.0              0.24          0  \n",
       "6495                 110.0              0.29          0  \n",
       "6496                  98.0              0.21          0  "
      ]
     },
     "execution_count": 11,
     "metadata": {},
     "output_type": "execute_result"
    }
   ],
   "source": [
    "df.tail()"
   ]
  },
  {
   "cell_type": "code",
   "execution_count": 12,
   "metadata": {},
   "outputs": [
    {
     "data": {
      "text/plain": [
       "6497"
      ]
     },
     "execution_count": 12,
     "metadata": {},
     "output_type": "execute_result"
    }
   ],
   "source": [
    "len(df)"
   ]
  },
  {
   "cell_type": "code",
   "execution_count": 13,
   "metadata": {},
   "outputs": [],
   "source": [
    "from sklearn.utils import shuffle\n",
    "df = shuffle(df)"
   ]
  },
  {
   "cell_type": "code",
   "execution_count": 14,
   "metadata": {},
   "outputs": [
    {
     "data": {
      "text/html": [
       "<div>\n",
       "<style scoped>\n",
       "    .dataframe tbody tr th:only-of-type {\n",
       "        vertical-align: middle;\n",
       "    }\n",
       "\n",
       "    .dataframe tbody tr th {\n",
       "        vertical-align: top;\n",
       "    }\n",
       "\n",
       "    .dataframe thead th {\n",
       "        text-align: right;\n",
       "    }\n",
       "</style>\n",
       "<table border=\"1\" class=\"dataframe\">\n",
       "  <thead>\n",
       "    <tr style=\"text-align: right;\">\n",
       "      <th></th>\n",
       "      <th>alcohol</th>\n",
       "      <th>chlorides</th>\n",
       "      <th>citric acid</th>\n",
       "      <th>density</th>\n",
       "      <th>fixed acidity</th>\n",
       "      <th>free sulfur dioxide</th>\n",
       "      <th>pH</th>\n",
       "      <th>quality</th>\n",
       "      <th>residual sugar</th>\n",
       "      <th>sulphates</th>\n",
       "      <th>total sulfur dioxide</th>\n",
       "      <th>volatile acidity</th>\n",
       "      <th>wine_type</th>\n",
       "    </tr>\n",
       "  </thead>\n",
       "  <tbody>\n",
       "    <tr>\n",
       "      <th>2340</th>\n",
       "      <td>11.0</td>\n",
       "      <td>0.031</td>\n",
       "      <td>0.30</td>\n",
       "      <td>0.99115</td>\n",
       "      <td>5.8</td>\n",
       "      <td>21.0</td>\n",
       "      <td>3.44</td>\n",
       "      <td>6</td>\n",
       "      <td>1.5</td>\n",
       "      <td>0.55</td>\n",
       "      <td>57.0</td>\n",
       "      <td>0.20</td>\n",
       "      <td>0</td>\n",
       "    </tr>\n",
       "    <tr>\n",
       "      <th>264</th>\n",
       "      <td>10.9</td>\n",
       "      <td>0.064</td>\n",
       "      <td>0.49</td>\n",
       "      <td>0.99990</td>\n",
       "      <td>12.5</td>\n",
       "      <td>5.0</td>\n",
       "      <td>3.08</td>\n",
       "      <td>5</td>\n",
       "      <td>2.4</td>\n",
       "      <td>0.87</td>\n",
       "      <td>27.0</td>\n",
       "      <td>0.56</td>\n",
       "      <td>1</td>\n",
       "    </tr>\n",
       "    <tr>\n",
       "      <th>2761</th>\n",
       "      <td>10.2</td>\n",
       "      <td>0.043</td>\n",
       "      <td>0.41</td>\n",
       "      <td>0.99460</td>\n",
       "      <td>6.6</td>\n",
       "      <td>29.0</td>\n",
       "      <td>3.15</td>\n",
       "      <td>7</td>\n",
       "      <td>7.4</td>\n",
       "      <td>0.60</td>\n",
       "      <td>151.0</td>\n",
       "      <td>0.25</td>\n",
       "      <td>0</td>\n",
       "    </tr>\n",
       "    <tr>\n",
       "      <th>3896</th>\n",
       "      <td>9.5</td>\n",
       "      <td>0.042</td>\n",
       "      <td>0.42</td>\n",
       "      <td>0.99674</td>\n",
       "      <td>6.5</td>\n",
       "      <td>66.0</td>\n",
       "      <td>3.24</td>\n",
       "      <td>6</td>\n",
       "      <td>10.6</td>\n",
       "      <td>0.53</td>\n",
       "      <td>202.0</td>\n",
       "      <td>0.29</td>\n",
       "      <td>0</td>\n",
       "    </tr>\n",
       "    <tr>\n",
       "      <th>2609</th>\n",
       "      <td>10.3</td>\n",
       "      <td>0.043</td>\n",
       "      <td>0.44</td>\n",
       "      <td>0.99320</td>\n",
       "      <td>7.6</td>\n",
       "      <td>25.0</td>\n",
       "      <td>3.11</td>\n",
       "      <td>6</td>\n",
       "      <td>1.4</td>\n",
       "      <td>0.75</td>\n",
       "      <td>109.0</td>\n",
       "      <td>0.16</td>\n",
       "      <td>0</td>\n",
       "    </tr>\n",
       "  </tbody>\n",
       "</table>\n",
       "</div>"
      ],
      "text/plain": [
       "      alcohol  chlorides  citric acid  density  fixed acidity  \\\n",
       "2340     11.0      0.031         0.30  0.99115            5.8   \n",
       "264      10.9      0.064         0.49  0.99990           12.5   \n",
       "2761     10.2      0.043         0.41  0.99460            6.6   \n",
       "3896      9.5      0.042         0.42  0.99674            6.5   \n",
       "2609     10.3      0.043         0.44  0.99320            7.6   \n",
       "\n",
       "      free sulfur dioxide    pH  quality  residual sugar  sulphates  \\\n",
       "2340                 21.0  3.44        6             1.5       0.55   \n",
       "264                   5.0  3.08        5             2.4       0.87   \n",
       "2761                 29.0  3.15        7             7.4       0.60   \n",
       "3896                 66.0  3.24        6            10.6       0.53   \n",
       "2609                 25.0  3.11        6             1.4       0.75   \n",
       "\n",
       "      total sulfur dioxide  volatile acidity  wine_type  \n",
       "2340                  57.0              0.20          0  \n",
       "264                   27.0              0.56          1  \n",
       "2761                 151.0              0.25          0  \n",
       "3896                 202.0              0.29          0  \n",
       "2609                 109.0              0.16          0  "
      ]
     },
     "execution_count": 14,
     "metadata": {},
     "output_type": "execute_result"
    }
   ],
   "source": [
    "df.head()"
   ]
  },
  {
   "cell_type": "code",
   "execution_count": 15,
   "metadata": {},
   "outputs": [],
   "source": [
    "df.reset_index(drop=True, inplace=True)"
   ]
  },
  {
   "cell_type": "code",
   "execution_count": 16,
   "metadata": {},
   "outputs": [
    {
     "data": {
      "text/html": [
       "<div>\n",
       "<style scoped>\n",
       "    .dataframe tbody tr th:only-of-type {\n",
       "        vertical-align: middle;\n",
       "    }\n",
       "\n",
       "    .dataframe tbody tr th {\n",
       "        vertical-align: top;\n",
       "    }\n",
       "\n",
       "    .dataframe thead th {\n",
       "        text-align: right;\n",
       "    }\n",
       "</style>\n",
       "<table border=\"1\" class=\"dataframe\">\n",
       "  <thead>\n",
       "    <tr style=\"text-align: right;\">\n",
       "      <th></th>\n",
       "      <th>alcohol</th>\n",
       "      <th>chlorides</th>\n",
       "      <th>citric acid</th>\n",
       "      <th>density</th>\n",
       "      <th>fixed acidity</th>\n",
       "      <th>free sulfur dioxide</th>\n",
       "      <th>pH</th>\n",
       "      <th>quality</th>\n",
       "      <th>residual sugar</th>\n",
       "      <th>sulphates</th>\n",
       "      <th>total sulfur dioxide</th>\n",
       "      <th>volatile acidity</th>\n",
       "      <th>wine_type</th>\n",
       "    </tr>\n",
       "  </thead>\n",
       "  <tbody>\n",
       "    <tr>\n",
       "      <th>0</th>\n",
       "      <td>11.000000</td>\n",
       "      <td>0.031</td>\n",
       "      <td>0.30</td>\n",
       "      <td>0.99115</td>\n",
       "      <td>5.8</td>\n",
       "      <td>21.0</td>\n",
       "      <td>3.44</td>\n",
       "      <td>6</td>\n",
       "      <td>1.50</td>\n",
       "      <td>0.55</td>\n",
       "      <td>57.0</td>\n",
       "      <td>0.200</td>\n",
       "      <td>0</td>\n",
       "    </tr>\n",
       "    <tr>\n",
       "      <th>1</th>\n",
       "      <td>10.900000</td>\n",
       "      <td>0.064</td>\n",
       "      <td>0.49</td>\n",
       "      <td>0.99990</td>\n",
       "      <td>12.5</td>\n",
       "      <td>5.0</td>\n",
       "      <td>3.08</td>\n",
       "      <td>5</td>\n",
       "      <td>2.40</td>\n",
       "      <td>0.87</td>\n",
       "      <td>27.0</td>\n",
       "      <td>0.560</td>\n",
       "      <td>1</td>\n",
       "    </tr>\n",
       "    <tr>\n",
       "      <th>2</th>\n",
       "      <td>10.200000</td>\n",
       "      <td>0.043</td>\n",
       "      <td>0.41</td>\n",
       "      <td>0.99460</td>\n",
       "      <td>6.6</td>\n",
       "      <td>29.0</td>\n",
       "      <td>3.15</td>\n",
       "      <td>7</td>\n",
       "      <td>7.40</td>\n",
       "      <td>0.60</td>\n",
       "      <td>151.0</td>\n",
       "      <td>0.250</td>\n",
       "      <td>0</td>\n",
       "    </tr>\n",
       "    <tr>\n",
       "      <th>3</th>\n",
       "      <td>9.500000</td>\n",
       "      <td>0.042</td>\n",
       "      <td>0.42</td>\n",
       "      <td>0.99674</td>\n",
       "      <td>6.5</td>\n",
       "      <td>66.0</td>\n",
       "      <td>3.24</td>\n",
       "      <td>6</td>\n",
       "      <td>10.60</td>\n",
       "      <td>0.53</td>\n",
       "      <td>202.0</td>\n",
       "      <td>0.290</td>\n",
       "      <td>0</td>\n",
       "    </tr>\n",
       "    <tr>\n",
       "      <th>4</th>\n",
       "      <td>10.300000</td>\n",
       "      <td>0.043</td>\n",
       "      <td>0.44</td>\n",
       "      <td>0.99320</td>\n",
       "      <td>7.6</td>\n",
       "      <td>25.0</td>\n",
       "      <td>3.11</td>\n",
       "      <td>6</td>\n",
       "      <td>1.40</td>\n",
       "      <td>0.75</td>\n",
       "      <td>109.0</td>\n",
       "      <td>0.160</td>\n",
       "      <td>0</td>\n",
       "    </tr>\n",
       "    <tr>\n",
       "      <th>5</th>\n",
       "      <td>8.700000</td>\n",
       "      <td>0.056</td>\n",
       "      <td>0.40</td>\n",
       "      <td>0.99670</td>\n",
       "      <td>7.9</td>\n",
       "      <td>11.0</td>\n",
       "      <td>3.32</td>\n",
       "      <td>6</td>\n",
       "      <td>1.60</td>\n",
       "      <td>0.87</td>\n",
       "      <td>25.0</td>\n",
       "      <td>0.240</td>\n",
       "      <td>1</td>\n",
       "    </tr>\n",
       "    <tr>\n",
       "      <th>6</th>\n",
       "      <td>11.500000</td>\n",
       "      <td>0.121</td>\n",
       "      <td>0.66</td>\n",
       "      <td>0.99780</td>\n",
       "      <td>11.6</td>\n",
       "      <td>6.0</td>\n",
       "      <td>3.05</td>\n",
       "      <td>7</td>\n",
       "      <td>3.65</td>\n",
       "      <td>0.74</td>\n",
       "      <td>14.0</td>\n",
       "      <td>0.530</td>\n",
       "      <td>1</td>\n",
       "    </tr>\n",
       "    <tr>\n",
       "      <th>7</th>\n",
       "      <td>9.400000</td>\n",
       "      <td>0.464</td>\n",
       "      <td>0.70</td>\n",
       "      <td>0.99740</td>\n",
       "      <td>7.8</td>\n",
       "      <td>22.0</td>\n",
       "      <td>3.13</td>\n",
       "      <td>5</td>\n",
       "      <td>1.90</td>\n",
       "      <td>1.28</td>\n",
       "      <td>67.0</td>\n",
       "      <td>0.430</td>\n",
       "      <td>1</td>\n",
       "    </tr>\n",
       "    <tr>\n",
       "      <th>8</th>\n",
       "      <td>9.600000</td>\n",
       "      <td>0.097</td>\n",
       "      <td>0.21</td>\n",
       "      <td>0.99880</td>\n",
       "      <td>9.2</td>\n",
       "      <td>29.0</td>\n",
       "      <td>3.28</td>\n",
       "      <td>5</td>\n",
       "      <td>2.70</td>\n",
       "      <td>0.58</td>\n",
       "      <td>65.0</td>\n",
       "      <td>0.630</td>\n",
       "      <td>1</td>\n",
       "    </tr>\n",
       "    <tr>\n",
       "      <th>9</th>\n",
       "      <td>9.500000</td>\n",
       "      <td>0.032</td>\n",
       "      <td>0.16</td>\n",
       "      <td>0.99274</td>\n",
       "      <td>6.3</td>\n",
       "      <td>25.0</td>\n",
       "      <td>3.16</td>\n",
       "      <td>5</td>\n",
       "      <td>0.90</td>\n",
       "      <td>0.42</td>\n",
       "      <td>98.0</td>\n",
       "      <td>0.410</td>\n",
       "      <td>0</td>\n",
       "    </tr>\n",
       "    <tr>\n",
       "      <th>10</th>\n",
       "      <td>8.800000</td>\n",
       "      <td>0.053</td>\n",
       "      <td>0.44</td>\n",
       "      <td>1.00060</td>\n",
       "      <td>8.1</td>\n",
       "      <td>43.0</td>\n",
       "      <td>3.28</td>\n",
       "      <td>8</td>\n",
       "      <td>14.10</td>\n",
       "      <td>0.75</td>\n",
       "      <td>145.0</td>\n",
       "      <td>0.170</td>\n",
       "      <td>0</td>\n",
       "    </tr>\n",
       "    <tr>\n",
       "      <th>11</th>\n",
       "      <td>10.500000</td>\n",
       "      <td>0.029</td>\n",
       "      <td>0.50</td>\n",
       "      <td>0.99428</td>\n",
       "      <td>5.6</td>\n",
       "      <td>25.0</td>\n",
       "      <td>3.23</td>\n",
       "      <td>6</td>\n",
       "      <td>11.40</td>\n",
       "      <td>0.49</td>\n",
       "      <td>93.0</td>\n",
       "      <td>0.260</td>\n",
       "      <td>0</td>\n",
       "    </tr>\n",
       "    <tr>\n",
       "      <th>12</th>\n",
       "      <td>9.000000</td>\n",
       "      <td>0.038</td>\n",
       "      <td>0.39</td>\n",
       "      <td>0.99990</td>\n",
       "      <td>7.2</td>\n",
       "      <td>42.0</td>\n",
       "      <td>2.97</td>\n",
       "      <td>6</td>\n",
       "      <td>18.95</td>\n",
       "      <td>0.47</td>\n",
       "      <td>155.0</td>\n",
       "      <td>0.250</td>\n",
       "      <td>0</td>\n",
       "    </tr>\n",
       "    <tr>\n",
       "      <th>13</th>\n",
       "      <td>9.400000</td>\n",
       "      <td>0.172</td>\n",
       "      <td>0.39</td>\n",
       "      <td>0.99370</td>\n",
       "      <td>6.7</td>\n",
       "      <td>63.0</td>\n",
       "      <td>3.11</td>\n",
       "      <td>6</td>\n",
       "      <td>2.50</td>\n",
       "      <td>0.36</td>\n",
       "      <td>158.0</td>\n",
       "      <td>0.230</td>\n",
       "      <td>0</td>\n",
       "    </tr>\n",
       "    <tr>\n",
       "      <th>14</th>\n",
       "      <td>11.400000</td>\n",
       "      <td>0.037</td>\n",
       "      <td>0.37</td>\n",
       "      <td>0.99020</td>\n",
       "      <td>7.6</td>\n",
       "      <td>4.0</td>\n",
       "      <td>3.03</td>\n",
       "      <td>4</td>\n",
       "      <td>0.80</td>\n",
       "      <td>0.39</td>\n",
       "      <td>100.0</td>\n",
       "      <td>0.480</td>\n",
       "      <td>0</td>\n",
       "    </tr>\n",
       "    <tr>\n",
       "      <th>15</th>\n",
       "      <td>10.700000</td>\n",
       "      <td>0.063</td>\n",
       "      <td>0.35</td>\n",
       "      <td>0.99184</td>\n",
       "      <td>7.0</td>\n",
       "      <td>13.0</td>\n",
       "      <td>3.22</td>\n",
       "      <td>5</td>\n",
       "      <td>1.60</td>\n",
       "      <td>0.50</td>\n",
       "      <td>119.0</td>\n",
       "      <td>0.310</td>\n",
       "      <td>0</td>\n",
       "    </tr>\n",
       "    <tr>\n",
       "      <th>16</th>\n",
       "      <td>12.700000</td>\n",
       "      <td>0.021</td>\n",
       "      <td>0.32</td>\n",
       "      <td>0.98890</td>\n",
       "      <td>6.7</td>\n",
       "      <td>22.0</td>\n",
       "      <td>3.15</td>\n",
       "      <td>7</td>\n",
       "      <td>1.40</td>\n",
       "      <td>0.53</td>\n",
       "      <td>121.0</td>\n",
       "      <td>0.480</td>\n",
       "      <td>0</td>\n",
       "    </tr>\n",
       "    <tr>\n",
       "      <th>17</th>\n",
       "      <td>9.300000</td>\n",
       "      <td>0.048</td>\n",
       "      <td>0.37</td>\n",
       "      <td>0.99380</td>\n",
       "      <td>7.5</td>\n",
       "      <td>22.0</td>\n",
       "      <td>3.09</td>\n",
       "      <td>5</td>\n",
       "      <td>1.20</td>\n",
       "      <td>0.43</td>\n",
       "      <td>184.0</td>\n",
       "      <td>0.320</td>\n",
       "      <td>0</td>\n",
       "    </tr>\n",
       "    <tr>\n",
       "      <th>18</th>\n",
       "      <td>11.300000</td>\n",
       "      <td>0.039</td>\n",
       "      <td>0.27</td>\n",
       "      <td>0.99360</td>\n",
       "      <td>6.9</td>\n",
       "      <td>37.0</td>\n",
       "      <td>3.27</td>\n",
       "      <td>8</td>\n",
       "      <td>9.05</td>\n",
       "      <td>0.34</td>\n",
       "      <td>128.0</td>\n",
       "      <td>0.250</td>\n",
       "      <td>0</td>\n",
       "    </tr>\n",
       "    <tr>\n",
       "      <th>19</th>\n",
       "      <td>8.900000</td>\n",
       "      <td>0.048</td>\n",
       "      <td>0.35</td>\n",
       "      <td>0.99750</td>\n",
       "      <td>6.1</td>\n",
       "      <td>63.0</td>\n",
       "      <td>3.08</td>\n",
       "      <td>5</td>\n",
       "      <td>12.80</td>\n",
       "      <td>0.40</td>\n",
       "      <td>229.0</td>\n",
       "      <td>0.280</td>\n",
       "      <td>0</td>\n",
       "    </tr>\n",
       "    <tr>\n",
       "      <th>20</th>\n",
       "      <td>12.300000</td>\n",
       "      <td>0.042</td>\n",
       "      <td>0.26</td>\n",
       "      <td>0.99067</td>\n",
       "      <td>6.5</td>\n",
       "      <td>33.0</td>\n",
       "      <td>3.06</td>\n",
       "      <td>7</td>\n",
       "      <td>5.20</td>\n",
       "      <td>0.50</td>\n",
       "      <td>112.0</td>\n",
       "      <td>0.380</td>\n",
       "      <td>0</td>\n",
       "    </tr>\n",
       "    <tr>\n",
       "      <th>21</th>\n",
       "      <td>11.200000</td>\n",
       "      <td>0.057</td>\n",
       "      <td>0.42</td>\n",
       "      <td>0.99400</td>\n",
       "      <td>7.9</td>\n",
       "      <td>18.0</td>\n",
       "      <td>3.29</td>\n",
       "      <td>6</td>\n",
       "      <td>1.60</td>\n",
       "      <td>0.69</td>\n",
       "      <td>30.0</td>\n",
       "      <td>0.190</td>\n",
       "      <td>1</td>\n",
       "    </tr>\n",
       "    <tr>\n",
       "      <th>22</th>\n",
       "      <td>9.100000</td>\n",
       "      <td>0.042</td>\n",
       "      <td>0.30</td>\n",
       "      <td>0.99540</td>\n",
       "      <td>9.4</td>\n",
       "      <td>26.0</td>\n",
       "      <td>3.15</td>\n",
       "      <td>5</td>\n",
       "      <td>1.40</td>\n",
       "      <td>0.46</td>\n",
       "      <td>176.0</td>\n",
       "      <td>0.160</td>\n",
       "      <td>0</td>\n",
       "    </tr>\n",
       "    <tr>\n",
       "      <th>23</th>\n",
       "      <td>11.300000</td>\n",
       "      <td>0.038</td>\n",
       "      <td>0.24</td>\n",
       "      <td>0.99139</td>\n",
       "      <td>5.9</td>\n",
       "      <td>61.0</td>\n",
       "      <td>3.31</td>\n",
       "      <td>7</td>\n",
       "      <td>3.80</td>\n",
       "      <td>0.50</td>\n",
       "      <td>152.0</td>\n",
       "      <td>0.230</td>\n",
       "      <td>0</td>\n",
       "    </tr>\n",
       "    <tr>\n",
       "      <th>24</th>\n",
       "      <td>9.900000</td>\n",
       "      <td>0.080</td>\n",
       "      <td>0.26</td>\n",
       "      <td>0.99584</td>\n",
       "      <td>7.3</td>\n",
       "      <td>17.0</td>\n",
       "      <td>3.28</td>\n",
       "      <td>5</td>\n",
       "      <td>2.00</td>\n",
       "      <td>0.52</td>\n",
       "      <td>104.0</td>\n",
       "      <td>0.590</td>\n",
       "      <td>1</td>\n",
       "    </tr>\n",
       "    <tr>\n",
       "      <th>25</th>\n",
       "      <td>10.800000</td>\n",
       "      <td>0.043</td>\n",
       "      <td>0.33</td>\n",
       "      <td>0.99118</td>\n",
       "      <td>7.0</td>\n",
       "      <td>46.0</td>\n",
       "      <td>3.04</td>\n",
       "      <td>6</td>\n",
       "      <td>1.00</td>\n",
       "      <td>0.65</td>\n",
       "      <td>110.0</td>\n",
       "      <td>0.230</td>\n",
       "      <td>0</td>\n",
       "    </tr>\n",
       "    <tr>\n",
       "      <th>26</th>\n",
       "      <td>11.400000</td>\n",
       "      <td>0.041</td>\n",
       "      <td>0.42</td>\n",
       "      <td>0.99250</td>\n",
       "      <td>8.6</td>\n",
       "      <td>35.0</td>\n",
       "      <td>3.11</td>\n",
       "      <td>7</td>\n",
       "      <td>1.50</td>\n",
       "      <td>0.49</td>\n",
       "      <td>125.0</td>\n",
       "      <td>0.200</td>\n",
       "      <td>0</td>\n",
       "    </tr>\n",
       "    <tr>\n",
       "      <th>27</th>\n",
       "      <td>11.000000</td>\n",
       "      <td>0.036</td>\n",
       "      <td>0.32</td>\n",
       "      <td>0.99096</td>\n",
       "      <td>6.2</td>\n",
       "      <td>74.0</td>\n",
       "      <td>3.22</td>\n",
       "      <td>6</td>\n",
       "      <td>1.10</td>\n",
       "      <td>0.41</td>\n",
       "      <td>184.0</td>\n",
       "      <td>0.160</td>\n",
       "      <td>0</td>\n",
       "    </tr>\n",
       "    <tr>\n",
       "      <th>28</th>\n",
       "      <td>9.533333</td>\n",
       "      <td>0.050</td>\n",
       "      <td>0.20</td>\n",
       "      <td>0.99504</td>\n",
       "      <td>6.5</td>\n",
       "      <td>44.0</td>\n",
       "      <td>3.18</td>\n",
       "      <td>5</td>\n",
       "      <td>7.50</td>\n",
       "      <td>0.48</td>\n",
       "      <td>179.0</td>\n",
       "      <td>0.230</td>\n",
       "      <td>0</td>\n",
       "    </tr>\n",
       "    <tr>\n",
       "      <th>29</th>\n",
       "      <td>9.200000</td>\n",
       "      <td>0.074</td>\n",
       "      <td>0.32</td>\n",
       "      <td>0.99800</td>\n",
       "      <td>7.1</td>\n",
       "      <td>29.0</td>\n",
       "      <td>2.96</td>\n",
       "      <td>6</td>\n",
       "      <td>14.45</td>\n",
       "      <td>0.42</td>\n",
       "      <td>107.0</td>\n",
       "      <td>0.260</td>\n",
       "      <td>0</td>\n",
       "    </tr>\n",
       "    <tr>\n",
       "      <th>...</th>\n",
       "      <td>...</td>\n",
       "      <td>...</td>\n",
       "      <td>...</td>\n",
       "      <td>...</td>\n",
       "      <td>...</td>\n",
       "      <td>...</td>\n",
       "      <td>...</td>\n",
       "      <td>...</td>\n",
       "      <td>...</td>\n",
       "      <td>...</td>\n",
       "      <td>...</td>\n",
       "      <td>...</td>\n",
       "      <td>...</td>\n",
       "    </tr>\n",
       "    <tr>\n",
       "      <th>6467</th>\n",
       "      <td>9.500000</td>\n",
       "      <td>0.045</td>\n",
       "      <td>0.32</td>\n",
       "      <td>1.00000</td>\n",
       "      <td>6.5</td>\n",
       "      <td>44.0</td>\n",
       "      <td>3.38</td>\n",
       "      <td>6</td>\n",
       "      <td>16.50</td>\n",
       "      <td>0.46</td>\n",
       "      <td>166.0</td>\n",
       "      <td>0.260</td>\n",
       "      <td>0</td>\n",
       "    </tr>\n",
       "    <tr>\n",
       "      <th>6468</th>\n",
       "      <td>12.800000</td>\n",
       "      <td>0.030</td>\n",
       "      <td>0.29</td>\n",
       "      <td>0.99110</td>\n",
       "      <td>8.2</td>\n",
       "      <td>31.0</td>\n",
       "      <td>3.00</td>\n",
       "      <td>7</td>\n",
       "      <td>4.10</td>\n",
       "      <td>0.32</td>\n",
       "      <td>100.0</td>\n",
       "      <td>0.420</td>\n",
       "      <td>0</td>\n",
       "    </tr>\n",
       "    <tr>\n",
       "      <th>6469</th>\n",
       "      <td>10.000000</td>\n",
       "      <td>0.039</td>\n",
       "      <td>0.23</td>\n",
       "      <td>0.99243</td>\n",
       "      <td>5.5</td>\n",
       "      <td>10.0</td>\n",
       "      <td>3.28</td>\n",
       "      <td>5</td>\n",
       "      <td>2.90</td>\n",
       "      <td>0.50</td>\n",
       "      <td>108.0</td>\n",
       "      <td>0.170</td>\n",
       "      <td>0</td>\n",
       "    </tr>\n",
       "    <tr>\n",
       "      <th>6470</th>\n",
       "      <td>11.200000</td>\n",
       "      <td>0.040</td>\n",
       "      <td>0.26</td>\n",
       "      <td>0.99194</td>\n",
       "      <td>7.3</td>\n",
       "      <td>32.0</td>\n",
       "      <td>3.27</td>\n",
       "      <td>6</td>\n",
       "      <td>1.50</td>\n",
       "      <td>0.48</td>\n",
       "      <td>172.0</td>\n",
       "      <td>0.220</td>\n",
       "      <td>0</td>\n",
       "    </tr>\n",
       "    <tr>\n",
       "      <th>6471</th>\n",
       "      <td>9.500000</td>\n",
       "      <td>0.066</td>\n",
       "      <td>0.02</td>\n",
       "      <td>0.99720</td>\n",
       "      <td>7.0</td>\n",
       "      <td>8.0</td>\n",
       "      <td>3.47</td>\n",
       "      <td>6</td>\n",
       "      <td>2.10</td>\n",
       "      <td>0.67</td>\n",
       "      <td>25.0</td>\n",
       "      <td>0.650</td>\n",
       "      <td>1</td>\n",
       "    </tr>\n",
       "    <tr>\n",
       "      <th>6472</th>\n",
       "      <td>10.300000</td>\n",
       "      <td>0.039</td>\n",
       "      <td>0.34</td>\n",
       "      <td>0.99590</td>\n",
       "      <td>7.8</td>\n",
       "      <td>55.0</td>\n",
       "      <td>3.02</td>\n",
       "      <td>6</td>\n",
       "      <td>11.90</td>\n",
       "      <td>0.31</td>\n",
       "      <td>140.0</td>\n",
       "      <td>0.210</td>\n",
       "      <td>0</td>\n",
       "    </tr>\n",
       "    <tr>\n",
       "      <th>6473</th>\n",
       "      <td>11.200000</td>\n",
       "      <td>0.048</td>\n",
       "      <td>0.21</td>\n",
       "      <td>0.99138</td>\n",
       "      <td>5.7</td>\n",
       "      <td>30.0</td>\n",
       "      <td>3.29</td>\n",
       "      <td>6</td>\n",
       "      <td>1.90</td>\n",
       "      <td>0.55</td>\n",
       "      <td>112.0</td>\n",
       "      <td>0.410</td>\n",
       "      <td>0</td>\n",
       "    </tr>\n",
       "    <tr>\n",
       "      <th>6474</th>\n",
       "      <td>11.200000</td>\n",
       "      <td>0.045</td>\n",
       "      <td>0.34</td>\n",
       "      <td>0.99132</td>\n",
       "      <td>7.1</td>\n",
       "      <td>6.0</td>\n",
       "      <td>3.16</td>\n",
       "      <td>4</td>\n",
       "      <td>1.20</td>\n",
       "      <td>0.46</td>\n",
       "      <td>132.0</td>\n",
       "      <td>0.240</td>\n",
       "      <td>0</td>\n",
       "    </tr>\n",
       "    <tr>\n",
       "      <th>6475</th>\n",
       "      <td>12.800000</td>\n",
       "      <td>0.047</td>\n",
       "      <td>0.40</td>\n",
       "      <td>0.99000</td>\n",
       "      <td>6.8</td>\n",
       "      <td>34.0</td>\n",
       "      <td>3.13</td>\n",
       "      <td>8</td>\n",
       "      <td>1.80</td>\n",
       "      <td>0.49</td>\n",
       "      <td>105.0</td>\n",
       "      <td>0.240</td>\n",
       "      <td>0</td>\n",
       "    </tr>\n",
       "    <tr>\n",
       "      <th>6476</th>\n",
       "      <td>12.300000</td>\n",
       "      <td>0.021</td>\n",
       "      <td>0.33</td>\n",
       "      <td>0.99021</td>\n",
       "      <td>7.0</td>\n",
       "      <td>17.0</td>\n",
       "      <td>3.26</td>\n",
       "      <td>6</td>\n",
       "      <td>2.10</td>\n",
       "      <td>0.45</td>\n",
       "      <td>76.0</td>\n",
       "      <td>0.250</td>\n",
       "      <td>0</td>\n",
       "    </tr>\n",
       "    <tr>\n",
       "      <th>6477</th>\n",
       "      <td>11.900000</td>\n",
       "      <td>0.026</td>\n",
       "      <td>0.27</td>\n",
       "      <td>0.98994</td>\n",
       "      <td>5.8</td>\n",
       "      <td>15.0</td>\n",
       "      <td>3.37</td>\n",
       "      <td>8</td>\n",
       "      <td>1.55</td>\n",
       "      <td>0.40</td>\n",
       "      <td>70.0</td>\n",
       "      <td>0.315</td>\n",
       "      <td>0</td>\n",
       "    </tr>\n",
       "    <tr>\n",
       "      <th>6478</th>\n",
       "      <td>9.500000</td>\n",
       "      <td>0.067</td>\n",
       "      <td>0.02</td>\n",
       "      <td>0.99700</td>\n",
       "      <td>6.4</td>\n",
       "      <td>4.0</td>\n",
       "      <td>3.46</td>\n",
       "      <td>5</td>\n",
       "      <td>1.80</td>\n",
       "      <td>0.68</td>\n",
       "      <td>11.0</td>\n",
       "      <td>0.570</td>\n",
       "      <td>1</td>\n",
       "    </tr>\n",
       "    <tr>\n",
       "      <th>6479</th>\n",
       "      <td>9.400000</td>\n",
       "      <td>0.075</td>\n",
       "      <td>0.00</td>\n",
       "      <td>0.99780</td>\n",
       "      <td>7.4</td>\n",
       "      <td>13.0</td>\n",
       "      <td>3.51</td>\n",
       "      <td>5</td>\n",
       "      <td>1.80</td>\n",
       "      <td>0.56</td>\n",
       "      <td>40.0</td>\n",
       "      <td>0.660</td>\n",
       "      <td>1</td>\n",
       "    </tr>\n",
       "    <tr>\n",
       "      <th>6480</th>\n",
       "      <td>11.200000</td>\n",
       "      <td>0.045</td>\n",
       "      <td>0.28</td>\n",
       "      <td>0.99130</td>\n",
       "      <td>5.7</td>\n",
       "      <td>57.0</td>\n",
       "      <td>3.22</td>\n",
       "      <td>6</td>\n",
       "      <td>3.70</td>\n",
       "      <td>0.27</td>\n",
       "      <td>151.0</td>\n",
       "      <td>0.150</td>\n",
       "      <td>0</td>\n",
       "    </tr>\n",
       "    <tr>\n",
       "      <th>6481</th>\n",
       "      <td>9.300000</td>\n",
       "      <td>0.097</td>\n",
       "      <td>0.26</td>\n",
       "      <td>0.99760</td>\n",
       "      <td>8.7</td>\n",
       "      <td>7.0</td>\n",
       "      <td>3.27</td>\n",
       "      <td>6</td>\n",
       "      <td>2.50</td>\n",
       "      <td>0.60</td>\n",
       "      <td>31.0</td>\n",
       "      <td>0.540</td>\n",
       "      <td>1</td>\n",
       "    </tr>\n",
       "    <tr>\n",
       "      <th>6482</th>\n",
       "      <td>11.000000</td>\n",
       "      <td>0.034</td>\n",
       "      <td>0.36</td>\n",
       "      <td>0.99074</td>\n",
       "      <td>6.3</td>\n",
       "      <td>26.0</td>\n",
       "      <td>3.16</td>\n",
       "      <td>6</td>\n",
       "      <td>1.20</td>\n",
       "      <td>0.51</td>\n",
       "      <td>111.0</td>\n",
       "      <td>0.180</td>\n",
       "      <td>0</td>\n",
       "    </tr>\n",
       "    <tr>\n",
       "      <th>6483</th>\n",
       "      <td>8.700000</td>\n",
       "      <td>0.085</td>\n",
       "      <td>0.25</td>\n",
       "      <td>1.00044</td>\n",
       "      <td>7.2</td>\n",
       "      <td>19.0</td>\n",
       "      <td>3.10</td>\n",
       "      <td>5</td>\n",
       "      <td>18.80</td>\n",
       "      <td>0.51</td>\n",
       "      <td>111.0</td>\n",
       "      <td>0.230</td>\n",
       "      <td>0</td>\n",
       "    </tr>\n",
       "    <tr>\n",
       "      <th>6484</th>\n",
       "      <td>9.800000</td>\n",
       "      <td>0.050</td>\n",
       "      <td>0.25</td>\n",
       "      <td>0.99840</td>\n",
       "      <td>7.6</td>\n",
       "      <td>45.0</td>\n",
       "      <td>3.34</td>\n",
       "      <td>6</td>\n",
       "      <td>13.90</td>\n",
       "      <td>0.50</td>\n",
       "      <td>199.0</td>\n",
       "      <td>0.270</td>\n",
       "      <td>0</td>\n",
       "    </tr>\n",
       "    <tr>\n",
       "      <th>6485</th>\n",
       "      <td>12.100000</td>\n",
       "      <td>0.040</td>\n",
       "      <td>0.34</td>\n",
       "      <td>0.99111</td>\n",
       "      <td>6.5</td>\n",
       "      <td>29.0</td>\n",
       "      <td>3.28</td>\n",
       "      <td>7</td>\n",
       "      <td>3.60</td>\n",
       "      <td>0.48</td>\n",
       "      <td>121.0</td>\n",
       "      <td>0.280</td>\n",
       "      <td>0</td>\n",
       "    </tr>\n",
       "    <tr>\n",
       "      <th>6486</th>\n",
       "      <td>9.500000</td>\n",
       "      <td>0.080</td>\n",
       "      <td>0.00</td>\n",
       "      <td>0.99760</td>\n",
       "      <td>8.0</td>\n",
       "      <td>11.0</td>\n",
       "      <td>3.44</td>\n",
       "      <td>5</td>\n",
       "      <td>2.60</td>\n",
       "      <td>0.53</td>\n",
       "      <td>34.0</td>\n",
       "      <td>0.710</td>\n",
       "      <td>1</td>\n",
       "    </tr>\n",
       "    <tr>\n",
       "      <th>6487</th>\n",
       "      <td>9.000000</td>\n",
       "      <td>0.051</td>\n",
       "      <td>0.30</td>\n",
       "      <td>0.99835</td>\n",
       "      <td>6.6</td>\n",
       "      <td>33.0</td>\n",
       "      <td>3.04</td>\n",
       "      <td>6</td>\n",
       "      <td>14.90</td>\n",
       "      <td>0.54</td>\n",
       "      <td>118.0</td>\n",
       "      <td>0.230</td>\n",
       "      <td>0</td>\n",
       "    </tr>\n",
       "    <tr>\n",
       "      <th>6488</th>\n",
       "      <td>11.300000</td>\n",
       "      <td>0.062</td>\n",
       "      <td>0.32</td>\n",
       "      <td>0.99470</td>\n",
       "      <td>7.2</td>\n",
       "      <td>15.0</td>\n",
       "      <td>3.23</td>\n",
       "      <td>7</td>\n",
       "      <td>2.00</td>\n",
       "      <td>0.73</td>\n",
       "      <td>28.0</td>\n",
       "      <td>0.370</td>\n",
       "      <td>1</td>\n",
       "    </tr>\n",
       "    <tr>\n",
       "      <th>6489</th>\n",
       "      <td>9.200000</td>\n",
       "      <td>0.038</td>\n",
       "      <td>0.05</td>\n",
       "      <td>0.99240</td>\n",
       "      <td>5.8</td>\n",
       "      <td>11.0</td>\n",
       "      <td>3.36</td>\n",
       "      <td>5</td>\n",
       "      <td>0.80</td>\n",
       "      <td>0.35</td>\n",
       "      <td>30.0</td>\n",
       "      <td>0.290</td>\n",
       "      <td>0</td>\n",
       "    </tr>\n",
       "    <tr>\n",
       "      <th>6490</th>\n",
       "      <td>8.900000</td>\n",
       "      <td>0.070</td>\n",
       "      <td>0.30</td>\n",
       "      <td>0.99666</td>\n",
       "      <td>6.7</td>\n",
       "      <td>44.0</td>\n",
       "      <td>2.86</td>\n",
       "      <td>6</td>\n",
       "      <td>10.20</td>\n",
       "      <td>0.46</td>\n",
       "      <td>179.0</td>\n",
       "      <td>0.240</td>\n",
       "      <td>0</td>\n",
       "    </tr>\n",
       "    <tr>\n",
       "      <th>6491</th>\n",
       "      <td>10.600000</td>\n",
       "      <td>0.031</td>\n",
       "      <td>0.24</td>\n",
       "      <td>0.99397</td>\n",
       "      <td>7.5</td>\n",
       "      <td>28.0</td>\n",
       "      <td>3.16</td>\n",
       "      <td>7</td>\n",
       "      <td>7.10</td>\n",
       "      <td>0.38</td>\n",
       "      <td>141.0</td>\n",
       "      <td>0.310</td>\n",
       "      <td>0</td>\n",
       "    </tr>\n",
       "    <tr>\n",
       "      <th>6492</th>\n",
       "      <td>11.600000</td>\n",
       "      <td>0.045</td>\n",
       "      <td>0.32</td>\n",
       "      <td>0.99350</td>\n",
       "      <td>7.0</td>\n",
       "      <td>35.0</td>\n",
       "      <td>3.09</td>\n",
       "      <td>8</td>\n",
       "      <td>10.50</td>\n",
       "      <td>0.33</td>\n",
       "      <td>135.0</td>\n",
       "      <td>0.360</td>\n",
       "      <td>0</td>\n",
       "    </tr>\n",
       "    <tr>\n",
       "      <th>6493</th>\n",
       "      <td>10.200000</td>\n",
       "      <td>0.040</td>\n",
       "      <td>0.38</td>\n",
       "      <td>0.99320</td>\n",
       "      <td>8.6</td>\n",
       "      <td>41.0</td>\n",
       "      <td>2.95</td>\n",
       "      <td>6</td>\n",
       "      <td>3.40</td>\n",
       "      <td>0.39</td>\n",
       "      <td>143.0</td>\n",
       "      <td>0.160</td>\n",
       "      <td>0</td>\n",
       "    </tr>\n",
       "    <tr>\n",
       "      <th>6494</th>\n",
       "      <td>12.700000</td>\n",
       "      <td>0.049</td>\n",
       "      <td>0.37</td>\n",
       "      <td>0.99007</td>\n",
       "      <td>8.0</td>\n",
       "      <td>36.0</td>\n",
       "      <td>2.89</td>\n",
       "      <td>6</td>\n",
       "      <td>0.90</td>\n",
       "      <td>0.44</td>\n",
       "      <td>109.0</td>\n",
       "      <td>0.180</td>\n",
       "      <td>1</td>\n",
       "    </tr>\n",
       "    <tr>\n",
       "      <th>6495</th>\n",
       "      <td>9.800000</td>\n",
       "      <td>0.102</td>\n",
       "      <td>0.07</td>\n",
       "      <td>1.00015</td>\n",
       "      <td>9.9</td>\n",
       "      <td>32.0</td>\n",
       "      <td>3.31</td>\n",
       "      <td>5</td>\n",
       "      <td>3.40</td>\n",
       "      <td>0.71</td>\n",
       "      <td>71.0</td>\n",
       "      <td>0.590</td>\n",
       "      <td>1</td>\n",
       "    </tr>\n",
       "    <tr>\n",
       "      <th>6496</th>\n",
       "      <td>10.600000</td>\n",
       "      <td>0.047</td>\n",
       "      <td>0.49</td>\n",
       "      <td>0.99252</td>\n",
       "      <td>7.7</td>\n",
       "      <td>31.0</td>\n",
       "      <td>3.07</td>\n",
       "      <td>6</td>\n",
       "      <td>2.50</td>\n",
       "      <td>0.57</td>\n",
       "      <td>169.0</td>\n",
       "      <td>0.250</td>\n",
       "      <td>0</td>\n",
       "    </tr>\n",
       "  </tbody>\n",
       "</table>\n",
       "<p>6497 rows × 13 columns</p>\n",
       "</div>"
      ],
      "text/plain": [
       "        alcohol  chlorides  citric acid  density  fixed acidity  \\\n",
       "0     11.000000      0.031         0.30  0.99115            5.8   \n",
       "1     10.900000      0.064         0.49  0.99990           12.5   \n",
       "2     10.200000      0.043         0.41  0.99460            6.6   \n",
       "3      9.500000      0.042         0.42  0.99674            6.5   \n",
       "4     10.300000      0.043         0.44  0.99320            7.6   \n",
       "5      8.700000      0.056         0.40  0.99670            7.9   \n",
       "6     11.500000      0.121         0.66  0.99780           11.6   \n",
       "7      9.400000      0.464         0.70  0.99740            7.8   \n",
       "8      9.600000      0.097         0.21  0.99880            9.2   \n",
       "9      9.500000      0.032         0.16  0.99274            6.3   \n",
       "10     8.800000      0.053         0.44  1.00060            8.1   \n",
       "11    10.500000      0.029         0.50  0.99428            5.6   \n",
       "12     9.000000      0.038         0.39  0.99990            7.2   \n",
       "13     9.400000      0.172         0.39  0.99370            6.7   \n",
       "14    11.400000      0.037         0.37  0.99020            7.6   \n",
       "15    10.700000      0.063         0.35  0.99184            7.0   \n",
       "16    12.700000      0.021         0.32  0.98890            6.7   \n",
       "17     9.300000      0.048         0.37  0.99380            7.5   \n",
       "18    11.300000      0.039         0.27  0.99360            6.9   \n",
       "19     8.900000      0.048         0.35  0.99750            6.1   \n",
       "20    12.300000      0.042         0.26  0.99067            6.5   \n",
       "21    11.200000      0.057         0.42  0.99400            7.9   \n",
       "22     9.100000      0.042         0.30  0.99540            9.4   \n",
       "23    11.300000      0.038         0.24  0.99139            5.9   \n",
       "24     9.900000      0.080         0.26  0.99584            7.3   \n",
       "25    10.800000      0.043         0.33  0.99118            7.0   \n",
       "26    11.400000      0.041         0.42  0.99250            8.6   \n",
       "27    11.000000      0.036         0.32  0.99096            6.2   \n",
       "28     9.533333      0.050         0.20  0.99504            6.5   \n",
       "29     9.200000      0.074         0.32  0.99800            7.1   \n",
       "...         ...        ...          ...      ...            ...   \n",
       "6467   9.500000      0.045         0.32  1.00000            6.5   \n",
       "6468  12.800000      0.030         0.29  0.99110            8.2   \n",
       "6469  10.000000      0.039         0.23  0.99243            5.5   \n",
       "6470  11.200000      0.040         0.26  0.99194            7.3   \n",
       "6471   9.500000      0.066         0.02  0.99720            7.0   \n",
       "6472  10.300000      0.039         0.34  0.99590            7.8   \n",
       "6473  11.200000      0.048         0.21  0.99138            5.7   \n",
       "6474  11.200000      0.045         0.34  0.99132            7.1   \n",
       "6475  12.800000      0.047         0.40  0.99000            6.8   \n",
       "6476  12.300000      0.021         0.33  0.99021            7.0   \n",
       "6477  11.900000      0.026         0.27  0.98994            5.8   \n",
       "6478   9.500000      0.067         0.02  0.99700            6.4   \n",
       "6479   9.400000      0.075         0.00  0.99780            7.4   \n",
       "6480  11.200000      0.045         0.28  0.99130            5.7   \n",
       "6481   9.300000      0.097         0.26  0.99760            8.7   \n",
       "6482  11.000000      0.034         0.36  0.99074            6.3   \n",
       "6483   8.700000      0.085         0.25  1.00044            7.2   \n",
       "6484   9.800000      0.050         0.25  0.99840            7.6   \n",
       "6485  12.100000      0.040         0.34  0.99111            6.5   \n",
       "6486   9.500000      0.080         0.00  0.99760            8.0   \n",
       "6487   9.000000      0.051         0.30  0.99835            6.6   \n",
       "6488  11.300000      0.062         0.32  0.99470            7.2   \n",
       "6489   9.200000      0.038         0.05  0.99240            5.8   \n",
       "6490   8.900000      0.070         0.30  0.99666            6.7   \n",
       "6491  10.600000      0.031         0.24  0.99397            7.5   \n",
       "6492  11.600000      0.045         0.32  0.99350            7.0   \n",
       "6493  10.200000      0.040         0.38  0.99320            8.6   \n",
       "6494  12.700000      0.049         0.37  0.99007            8.0   \n",
       "6495   9.800000      0.102         0.07  1.00015            9.9   \n",
       "6496  10.600000      0.047         0.49  0.99252            7.7   \n",
       "\n",
       "      free sulfur dioxide    pH  quality  residual sugar  sulphates  \\\n",
       "0                    21.0  3.44        6            1.50       0.55   \n",
       "1                     5.0  3.08        5            2.40       0.87   \n",
       "2                    29.0  3.15        7            7.40       0.60   \n",
       "3                    66.0  3.24        6           10.60       0.53   \n",
       "4                    25.0  3.11        6            1.40       0.75   \n",
       "5                    11.0  3.32        6            1.60       0.87   \n",
       "6                     6.0  3.05        7            3.65       0.74   \n",
       "7                    22.0  3.13        5            1.90       1.28   \n",
       "8                    29.0  3.28        5            2.70       0.58   \n",
       "9                    25.0  3.16        5            0.90       0.42   \n",
       "10                   43.0  3.28        8           14.10       0.75   \n",
       "11                   25.0  3.23        6           11.40       0.49   \n",
       "12                   42.0  2.97        6           18.95       0.47   \n",
       "13                   63.0  3.11        6            2.50       0.36   \n",
       "14                    4.0  3.03        4            0.80       0.39   \n",
       "15                   13.0  3.22        5            1.60       0.50   \n",
       "16                   22.0  3.15        7            1.40       0.53   \n",
       "17                   22.0  3.09        5            1.20       0.43   \n",
       "18                   37.0  3.27        8            9.05       0.34   \n",
       "19                   63.0  3.08        5           12.80       0.40   \n",
       "20                   33.0  3.06        7            5.20       0.50   \n",
       "21                   18.0  3.29        6            1.60       0.69   \n",
       "22                   26.0  3.15        5            1.40       0.46   \n",
       "23                   61.0  3.31        7            3.80       0.50   \n",
       "24                   17.0  3.28        5            2.00       0.52   \n",
       "25                   46.0  3.04        6            1.00       0.65   \n",
       "26                   35.0  3.11        7            1.50       0.49   \n",
       "27                   74.0  3.22        6            1.10       0.41   \n",
       "28                   44.0  3.18        5            7.50       0.48   \n",
       "29                   29.0  2.96        6           14.45       0.42   \n",
       "...                   ...   ...      ...             ...        ...   \n",
       "6467                 44.0  3.38        6           16.50       0.46   \n",
       "6468                 31.0  3.00        7            4.10       0.32   \n",
       "6469                 10.0  3.28        5            2.90       0.50   \n",
       "6470                 32.0  3.27        6            1.50       0.48   \n",
       "6471                  8.0  3.47        6            2.10       0.67   \n",
       "6472                 55.0  3.02        6           11.90       0.31   \n",
       "6473                 30.0  3.29        6            1.90       0.55   \n",
       "6474                  6.0  3.16        4            1.20       0.46   \n",
       "6475                 34.0  3.13        8            1.80       0.49   \n",
       "6476                 17.0  3.26        6            2.10       0.45   \n",
       "6477                 15.0  3.37        8            1.55       0.40   \n",
       "6478                  4.0  3.46        5            1.80       0.68   \n",
       "6479                 13.0  3.51        5            1.80       0.56   \n",
       "6480                 57.0  3.22        6            3.70       0.27   \n",
       "6481                  7.0  3.27        6            2.50       0.60   \n",
       "6482                 26.0  3.16        6            1.20       0.51   \n",
       "6483                 19.0  3.10        5           18.80       0.51   \n",
       "6484                 45.0  3.34        6           13.90       0.50   \n",
       "6485                 29.0  3.28        7            3.60       0.48   \n",
       "6486                 11.0  3.44        5            2.60       0.53   \n",
       "6487                 33.0  3.04        6           14.90       0.54   \n",
       "6488                 15.0  3.23        7            2.00       0.73   \n",
       "6489                 11.0  3.36        5            0.80       0.35   \n",
       "6490                 44.0  2.86        6           10.20       0.46   \n",
       "6491                 28.0  3.16        7            7.10       0.38   \n",
       "6492                 35.0  3.09        8           10.50       0.33   \n",
       "6493                 41.0  2.95        6            3.40       0.39   \n",
       "6494                 36.0  2.89        6            0.90       0.44   \n",
       "6495                 32.0  3.31        5            3.40       0.71   \n",
       "6496                 31.0  3.07        6            2.50       0.57   \n",
       "\n",
       "      total sulfur dioxide  volatile acidity  wine_type  \n",
       "0                     57.0             0.200          0  \n",
       "1                     27.0             0.560          1  \n",
       "2                    151.0             0.250          0  \n",
       "3                    202.0             0.290          0  \n",
       "4                    109.0             0.160          0  \n",
       "5                     25.0             0.240          1  \n",
       "6                     14.0             0.530          1  \n",
       "7                     67.0             0.430          1  \n",
       "8                     65.0             0.630          1  \n",
       "9                     98.0             0.410          0  \n",
       "10                   145.0             0.170          0  \n",
       "11                    93.0             0.260          0  \n",
       "12                   155.0             0.250          0  \n",
       "13                   158.0             0.230          0  \n",
       "14                   100.0             0.480          0  \n",
       "15                   119.0             0.310          0  \n",
       "16                   121.0             0.480          0  \n",
       "17                   184.0             0.320          0  \n",
       "18                   128.0             0.250          0  \n",
       "19                   229.0             0.280          0  \n",
       "20                   112.0             0.380          0  \n",
       "21                    30.0             0.190          1  \n",
       "22                   176.0             0.160          0  \n",
       "23                   152.0             0.230          0  \n",
       "24                   104.0             0.590          1  \n",
       "25                   110.0             0.230          0  \n",
       "26                   125.0             0.200          0  \n",
       "27                   184.0             0.160          0  \n",
       "28                   179.0             0.230          0  \n",
       "29                   107.0             0.260          0  \n",
       "...                    ...               ...        ...  \n",
       "6467                 166.0             0.260          0  \n",
       "6468                 100.0             0.420          0  \n",
       "6469                 108.0             0.170          0  \n",
       "6470                 172.0             0.220          0  \n",
       "6471                  25.0             0.650          1  \n",
       "6472                 140.0             0.210          0  \n",
       "6473                 112.0             0.410          0  \n",
       "6474                 132.0             0.240          0  \n",
       "6475                 105.0             0.240          0  \n",
       "6476                  76.0             0.250          0  \n",
       "6477                  70.0             0.315          0  \n",
       "6478                  11.0             0.570          1  \n",
       "6479                  40.0             0.660          1  \n",
       "6480                 151.0             0.150          0  \n",
       "6481                  31.0             0.540          1  \n",
       "6482                 111.0             0.180          0  \n",
       "6483                 111.0             0.230          0  \n",
       "6484                 199.0             0.270          0  \n",
       "6485                 121.0             0.280          0  \n",
       "6486                  34.0             0.710          1  \n",
       "6487                 118.0             0.230          0  \n",
       "6488                  28.0             0.370          1  \n",
       "6489                  30.0             0.290          0  \n",
       "6490                 179.0             0.240          0  \n",
       "6491                 141.0             0.310          0  \n",
       "6492                 135.0             0.360          0  \n",
       "6493                 143.0             0.160          0  \n",
       "6494                 109.0             0.180          1  \n",
       "6495                  71.0             0.590          1  \n",
       "6496                 169.0             0.250          0  \n",
       "\n",
       "[6497 rows x 13 columns]"
      ]
     },
     "execution_count": 16,
     "metadata": {},
     "output_type": "execute_result"
    }
   ],
   "source": [
    "df.dropna()"
   ]
  },
  {
   "cell_type": "code",
   "execution_count": 17,
   "metadata": {},
   "outputs": [
    {
     "data": {
      "text/html": [
       "<div>\n",
       "<style scoped>\n",
       "    .dataframe tbody tr th:only-of-type {\n",
       "        vertical-align: middle;\n",
       "    }\n",
       "\n",
       "    .dataframe tbody tr th {\n",
       "        vertical-align: top;\n",
       "    }\n",
       "\n",
       "    .dataframe thead th {\n",
       "        text-align: right;\n",
       "    }\n",
       "</style>\n",
       "<table border=\"1\" class=\"dataframe\">\n",
       "  <thead>\n",
       "    <tr style=\"text-align: right;\">\n",
       "      <th></th>\n",
       "      <th>alcohol</th>\n",
       "      <th>chlorides</th>\n",
       "      <th>citric acid</th>\n",
       "      <th>density</th>\n",
       "      <th>fixed acidity</th>\n",
       "      <th>free sulfur dioxide</th>\n",
       "      <th>pH</th>\n",
       "      <th>quality</th>\n",
       "      <th>residual sugar</th>\n",
       "      <th>sulphates</th>\n",
       "      <th>total sulfur dioxide</th>\n",
       "      <th>volatile acidity</th>\n",
       "      <th>wine_type</th>\n",
       "    </tr>\n",
       "  </thead>\n",
       "  <tbody>\n",
       "    <tr>\n",
       "      <th>6492</th>\n",
       "      <td>11.6</td>\n",
       "      <td>0.045</td>\n",
       "      <td>0.32</td>\n",
       "      <td>0.99350</td>\n",
       "      <td>7.0</td>\n",
       "      <td>35.0</td>\n",
       "      <td>3.09</td>\n",
       "      <td>8</td>\n",
       "      <td>10.5</td>\n",
       "      <td>0.33</td>\n",
       "      <td>135.0</td>\n",
       "      <td>0.36</td>\n",
       "      <td>0</td>\n",
       "    </tr>\n",
       "    <tr>\n",
       "      <th>6493</th>\n",
       "      <td>10.2</td>\n",
       "      <td>0.040</td>\n",
       "      <td>0.38</td>\n",
       "      <td>0.99320</td>\n",
       "      <td>8.6</td>\n",
       "      <td>41.0</td>\n",
       "      <td>2.95</td>\n",
       "      <td>6</td>\n",
       "      <td>3.4</td>\n",
       "      <td>0.39</td>\n",
       "      <td>143.0</td>\n",
       "      <td>0.16</td>\n",
       "      <td>0</td>\n",
       "    </tr>\n",
       "    <tr>\n",
       "      <th>6494</th>\n",
       "      <td>12.7</td>\n",
       "      <td>0.049</td>\n",
       "      <td>0.37</td>\n",
       "      <td>0.99007</td>\n",
       "      <td>8.0</td>\n",
       "      <td>36.0</td>\n",
       "      <td>2.89</td>\n",
       "      <td>6</td>\n",
       "      <td>0.9</td>\n",
       "      <td>0.44</td>\n",
       "      <td>109.0</td>\n",
       "      <td>0.18</td>\n",
       "      <td>1</td>\n",
       "    </tr>\n",
       "    <tr>\n",
       "      <th>6495</th>\n",
       "      <td>9.8</td>\n",
       "      <td>0.102</td>\n",
       "      <td>0.07</td>\n",
       "      <td>1.00015</td>\n",
       "      <td>9.9</td>\n",
       "      <td>32.0</td>\n",
       "      <td>3.31</td>\n",
       "      <td>5</td>\n",
       "      <td>3.4</td>\n",
       "      <td>0.71</td>\n",
       "      <td>71.0</td>\n",
       "      <td>0.59</td>\n",
       "      <td>1</td>\n",
       "    </tr>\n",
       "    <tr>\n",
       "      <th>6496</th>\n",
       "      <td>10.6</td>\n",
       "      <td>0.047</td>\n",
       "      <td>0.49</td>\n",
       "      <td>0.99252</td>\n",
       "      <td>7.7</td>\n",
       "      <td>31.0</td>\n",
       "      <td>3.07</td>\n",
       "      <td>6</td>\n",
       "      <td>2.5</td>\n",
       "      <td>0.57</td>\n",
       "      <td>169.0</td>\n",
       "      <td>0.25</td>\n",
       "      <td>0</td>\n",
       "    </tr>\n",
       "  </tbody>\n",
       "</table>\n",
       "</div>"
      ],
      "text/plain": [
       "      alcohol  chlorides  citric acid  density  fixed acidity  \\\n",
       "6492     11.6      0.045         0.32  0.99350            7.0   \n",
       "6493     10.2      0.040         0.38  0.99320            8.6   \n",
       "6494     12.7      0.049         0.37  0.99007            8.0   \n",
       "6495      9.8      0.102         0.07  1.00015            9.9   \n",
       "6496     10.6      0.047         0.49  0.99252            7.7   \n",
       "\n",
       "      free sulfur dioxide    pH  quality  residual sugar  sulphates  \\\n",
       "6492                 35.0  3.09        8            10.5       0.33   \n",
       "6493                 41.0  2.95        6             3.4       0.39   \n",
       "6494                 36.0  2.89        6             0.9       0.44   \n",
       "6495                 32.0  3.31        5             3.4       0.71   \n",
       "6496                 31.0  3.07        6             2.5       0.57   \n",
       "\n",
       "      total sulfur dioxide  volatile acidity  wine_type  \n",
       "6492                 135.0              0.36          0  \n",
       "6493                 143.0              0.16          0  \n",
       "6494                 109.0              0.18          1  \n",
       "6495                  71.0              0.59          1  \n",
       "6496                 169.0              0.25          0  "
      ]
     },
     "execution_count": 17,
     "metadata": {},
     "output_type": "execute_result"
    }
   ],
   "source": [
    "df.tail()"
   ]
  },
  {
   "cell_type": "markdown",
   "metadata": {},
   "source": [
    "# Using regression to predict the alcohol level of the wine."
   ]
  },
  {
   "cell_type": "markdown",
   "metadata": {},
   "source": [
    "Prepring dependent and independent variables for regression"
   ]
  },
  {
   "cell_type": "code",
   "execution_count": 18,
   "metadata": {},
   "outputs": [],
   "source": [
    "X = np.array(df.drop(columns=['alcohol'])) # Feature: Train data"
   ]
  },
  {
   "cell_type": "code",
   "execution_count": 19,
   "metadata": {},
   "outputs": [],
   "source": [
    "y = np.array(df.alcohol) # Target: test data"
   ]
  },
  {
   "cell_type": "code",
   "execution_count": 20,
   "metadata": {},
   "outputs": [],
   "source": [
    "y = y.reshape(-1, 1)"
   ]
  },
  {
   "cell_type": "code",
   "execution_count": 21,
   "metadata": {},
   "outputs": [],
   "source": [
    "from sklearn import preprocessing"
   ]
  },
  {
   "cell_type": "code",
   "execution_count": 22,
   "metadata": {},
   "outputs": [],
   "source": [
    "scaler = preprocessing.StandardScaler().fit(y)"
   ]
  },
  {
   "cell_type": "code",
   "execution_count": 23,
   "metadata": {},
   "outputs": [],
   "source": [
    "X = scaler.transform(X)\n",
    "y = scaler.transform(y)"
   ]
  },
  {
   "cell_type": "code",
   "execution_count": 25,
   "metadata": {},
   "outputs": [
    {
     "data": {
      "text/plain": [
       "array([[ 0.42611996],\n",
       "       [ 0.34227095],\n",
       "       [-0.2446721 ],\n",
       "       ...,\n",
       "       [ 1.85155309],\n",
       "       [-0.58006813],\n",
       "       [ 0.09072393]])"
      ]
     },
     "execution_count": 25,
     "metadata": {},
     "output_type": "execute_result"
    }
   ],
   "source": [
    "y"
   ]
  },
  {
   "cell_type": "markdown",
   "metadata": {},
   "source": [
    "# Split the Dataset into Train and Test (75 to train and 25 to test)"
   ]
  },
  {
   "cell_type": "code",
   "execution_count": 26,
   "metadata": {},
   "outputs": [],
   "source": [
    "from sklearn.model_selection import train_test_split"
   ]
  },
  {
   "cell_type": "code",
   "execution_count": 27,
   "metadata": {},
   "outputs": [],
   "source": [
    "X_train, X_test, y_train, y_test = train_test_split(X, y, test_size=0.25, random_state=42)"
   ]
  },
  {
   "cell_type": "code",
   "execution_count": 28,
   "metadata": {},
   "outputs": [
    {
     "data": {
      "text/plain": [
       "4872"
      ]
     },
     "execution_count": 28,
     "metadata": {},
     "output_type": "execute_result"
    }
   ],
   "source": [
    "len(X_train) #Train data"
   ]
  },
  {
   "cell_type": "code",
   "execution_count": 29,
   "metadata": {},
   "outputs": [
    {
     "data": {
      "text/plain": [
       "1625"
      ]
     },
     "execution_count": 29,
     "metadata": {},
     "output_type": "execute_result"
    }
   ],
   "source": [
    "len(X_test) #Test Data"
   ]
  },
  {
   "cell_type": "markdown",
   "metadata": {},
   "source": [
    "# Model:Linear Regression"
   ]
  },
  {
   "cell_type": "code",
   "execution_count": 30,
   "metadata": {},
   "outputs": [],
   "source": [
    "from sklearn.linear_model import LinearRegression\n"
   ]
  },
  {
   "cell_type": "code",
   "execution_count": 30,
   "metadata": {},
   "outputs": [
    {
     "data": {
      "text/plain": [
       "LinearRegression(copy_X=True, fit_intercept=True, n_jobs=1, normalize=False)"
      ]
     },
     "execution_count": 30,
     "metadata": {},
     "output_type": "execute_result"
    }
   ],
   "source": [
    "\n",
    "linear = LinearRegression()\n",
    "linear.fit(X_train, y_train)\n"
   ]
  },
  {
   "cell_type": "code",
   "execution_count": 31,
   "metadata": {},
   "outputs": [
    {
     "data": {
      "text/plain": [
       "0.8528852557683432"
      ]
     },
     "execution_count": 31,
     "metadata": {},
     "output_type": "execute_result"
    }
   ],
   "source": [
    "linear.score(X_test, y_test)"
   ]
  },
  {
   "cell_type": "code",
   "execution_count": 32,
   "metadata": {},
   "outputs": [],
   "source": [
    "prediction = linear.predict(X_test)"
   ]
  },
  {
   "cell_type": "code",
   "execution_count": 33,
   "metadata": {},
   "outputs": [
    {
     "data": {
      "text/plain": [
       "array([[-0.63296654],\n",
       "       [ 0.65071892],\n",
       "       [ 1.27559558],\n",
       "       [ 0.72957075],\n",
       "       [ 1.52245281]])"
      ]
     },
     "execution_count": 33,
     "metadata": {},
     "output_type": "execute_result"
    }
   ],
   "source": [
    "#First 5 predictions\n",
    "prediction[: 5]"
   ]
  },
  {
   "cell_type": "code",
   "execution_count": 34,
   "metadata": {},
   "outputs": [
    {
     "data": {
      "text/plain": [
       "array([[0.00687492],\n",
       "       [0.50996897],\n",
       "       [1.51615706],\n",
       "       [0.42611996],\n",
       "       [1.51615706]])"
      ]
     },
     "execution_count": 34,
     "metadata": {},
     "output_type": "execute_result"
    }
   ],
   "source": [
    "#Actual values\n",
    "y_test[: 5]"
   ]
  },
  {
   "cell_type": "code",
   "execution_count": 35,
   "metadata": {},
   "outputs": [],
   "source": [
    "y_test_inv = scaler.inverse_transform(y_test)\n",
    "prediction_inv = scaler.inverse_transform(prediction)"
   ]
  },
  {
   "cell_type": "code",
   "execution_count": 36,
   "metadata": {},
   "outputs": [
    {
     "data": {
      "text/plain": [
       "array([[ 9.7369123 ],\n",
       "       [11.2678612 ],\n",
       "       [12.01310158],\n",
       "       [11.36190147],\n",
       "       [12.30750843]])"
      ]
     },
     "execution_count": 36,
     "metadata": {},
     "output_type": "execute_result"
    }
   ],
   "source": [
    "#First 5 predicted alcohol levels\n",
    "prediction_inv[: 5]"
   ]
  },
  {
   "cell_type": "code",
   "execution_count": 37,
   "metadata": {},
   "outputs": [
    {
     "data": {
      "text/plain": [
       "array([[10.5],\n",
       "       [11.1],\n",
       "       [12.3],\n",
       "       [11. ],\n",
       "       [12.3]])"
      ]
     },
     "execution_count": 37,
     "metadata": {},
     "output_type": "execute_result"
    }
   ],
   "source": [
    "#First 5 actual alcohol levels\n",
    "y_test_inv[: 5]"
   ]
  },
  {
   "cell_type": "markdown",
   "metadata": {},
   "source": [
    "# Binary classification to predict the type of wine."
   ]
  },
  {
   "cell_type": "code",
   "execution_count": 31,
   "metadata": {},
   "outputs": [],
   "source": [
    "from sklearn.utils import shuffle\n",
    "df = shuffle(df)"
   ]
  },
  {
   "cell_type": "code",
   "execution_count": 32,
   "metadata": {},
   "outputs": [],
   "source": [
    "df.reset_index(drop=True, inplace=True)"
   ]
  },
  {
   "cell_type": "code",
   "execution_count": 33,
   "metadata": {},
   "outputs": [
    {
     "data": {
      "text/html": [
       "<div>\n",
       "<style scoped>\n",
       "    .dataframe tbody tr th:only-of-type {\n",
       "        vertical-align: middle;\n",
       "    }\n",
       "\n",
       "    .dataframe tbody tr th {\n",
       "        vertical-align: top;\n",
       "    }\n",
       "\n",
       "    .dataframe thead th {\n",
       "        text-align: right;\n",
       "    }\n",
       "</style>\n",
       "<table border=\"1\" class=\"dataframe\">\n",
       "  <thead>\n",
       "    <tr style=\"text-align: right;\">\n",
       "      <th></th>\n",
       "      <th>alcohol</th>\n",
       "      <th>chlorides</th>\n",
       "      <th>citric acid</th>\n",
       "      <th>density</th>\n",
       "      <th>fixed acidity</th>\n",
       "      <th>free sulfur dioxide</th>\n",
       "      <th>pH</th>\n",
       "      <th>quality</th>\n",
       "      <th>residual sugar</th>\n",
       "      <th>sulphates</th>\n",
       "      <th>total sulfur dioxide</th>\n",
       "      <th>volatile acidity</th>\n",
       "      <th>wine_type</th>\n",
       "    </tr>\n",
       "  </thead>\n",
       "  <tbody>\n",
       "    <tr>\n",
       "      <th>0</th>\n",
       "      <td>9.2</td>\n",
       "      <td>0.052</td>\n",
       "      <td>0.48</td>\n",
       "      <td>0.99782</td>\n",
       "      <td>6.1</td>\n",
       "      <td>25.0</td>\n",
       "      <td>3.07</td>\n",
       "      <td>6</td>\n",
       "      <td>15.8</td>\n",
       "      <td>0.45</td>\n",
       "      <td>94.0</td>\n",
       "      <td>0.250</td>\n",
       "      <td>0</td>\n",
       "    </tr>\n",
       "    <tr>\n",
       "      <th>1</th>\n",
       "      <td>11.4</td>\n",
       "      <td>0.046</td>\n",
       "      <td>0.51</td>\n",
       "      <td>0.99300</td>\n",
       "      <td>8.3</td>\n",
       "      <td>11.0</td>\n",
       "      <td>3.02</td>\n",
       "      <td>5</td>\n",
       "      <td>2.0</td>\n",
       "      <td>0.55</td>\n",
       "      <td>207.0</td>\n",
       "      <td>0.410</td>\n",
       "      <td>0</td>\n",
       "    </tr>\n",
       "    <tr>\n",
       "      <th>2</th>\n",
       "      <td>11.7</td>\n",
       "      <td>0.030</td>\n",
       "      <td>0.28</td>\n",
       "      <td>0.99062</td>\n",
       "      <td>5.7</td>\n",
       "      <td>22.0</td>\n",
       "      <td>3.31</td>\n",
       "      <td>7</td>\n",
       "      <td>4.1</td>\n",
       "      <td>0.38</td>\n",
       "      <td>86.0</td>\n",
       "      <td>0.310</td>\n",
       "      <td>0</td>\n",
       "    </tr>\n",
       "    <tr>\n",
       "      <th>3</th>\n",
       "      <td>12.3</td>\n",
       "      <td>0.059</td>\n",
       "      <td>0.03</td>\n",
       "      <td>0.99520</td>\n",
       "      <td>6.6</td>\n",
       "      <td>32.0</td>\n",
       "      <td>3.52</td>\n",
       "      <td>7</td>\n",
       "      <td>2.3</td>\n",
       "      <td>0.56</td>\n",
       "      <td>48.0</td>\n",
       "      <td>0.840</td>\n",
       "      <td>1</td>\n",
       "    </tr>\n",
       "    <tr>\n",
       "      <th>4</th>\n",
       "      <td>11.3</td>\n",
       "      <td>0.043</td>\n",
       "      <td>0.22</td>\n",
       "      <td>0.99238</td>\n",
       "      <td>5.0</td>\n",
       "      <td>46.0</td>\n",
       "      <td>3.75</td>\n",
       "      <td>6</td>\n",
       "      <td>2.7</td>\n",
       "      <td>0.76</td>\n",
       "      <td>153.0</td>\n",
       "      <td>0.255</td>\n",
       "      <td>0</td>\n",
       "    </tr>\n",
       "  </tbody>\n",
       "</table>\n",
       "</div>"
      ],
      "text/plain": [
       "   alcohol  chlorides  citric acid  density  fixed acidity  \\\n",
       "0      9.2      0.052         0.48  0.99782            6.1   \n",
       "1     11.4      0.046         0.51  0.99300            8.3   \n",
       "2     11.7      0.030         0.28  0.99062            5.7   \n",
       "3     12.3      0.059         0.03  0.99520            6.6   \n",
       "4     11.3      0.043         0.22  0.99238            5.0   \n",
       "\n",
       "   free sulfur dioxide    pH  quality  residual sugar  sulphates  \\\n",
       "0                 25.0  3.07        6            15.8       0.45   \n",
       "1                 11.0  3.02        5             2.0       0.55   \n",
       "2                 22.0  3.31        7             4.1       0.38   \n",
       "3                 32.0  3.52        7             2.3       0.56   \n",
       "4                 46.0  3.75        6             2.7       0.76   \n",
       "\n",
       "   total sulfur dioxide  volatile acidity  wine_type  \n",
       "0                  94.0             0.250          0  \n",
       "1                 207.0             0.410          0  \n",
       "2                  86.0             0.310          0  \n",
       "3                  48.0             0.840          1  \n",
       "4                 153.0             0.255          0  "
      ]
     },
     "execution_count": 33,
     "metadata": {},
     "output_type": "execute_result"
    }
   ],
   "source": [
    "df.head()"
   ]
  },
  {
   "cell_type": "code",
   "execution_count": 34,
   "metadata": {},
   "outputs": [],
   "source": [
    "X = np.array(df.drop(columns=['wine_type']))"
   ]
  },
  {
   "cell_type": "code",
   "execution_count": 35,
   "metadata": {},
   "outputs": [],
   "source": [
    "y = np.array(df.wine_type)"
   ]
  },
  {
   "cell_type": "code",
   "execution_count": 36,
   "metadata": {},
   "outputs": [
    {
     "data": {
      "text/plain": [
       "array([0, 0, 0, ..., 0, 0, 1], dtype=int64)"
      ]
     },
     "execution_count": 36,
     "metadata": {},
     "output_type": "execute_result"
    }
   ],
   "source": [
    "y"
   ]
  },
  {
   "cell_type": "code",
   "execution_count": 37,
   "metadata": {},
   "outputs": [],
   "source": [
    "y = y.reshape(-1,1)"
   ]
  },
  {
   "cell_type": "code",
   "execution_count": 38,
   "metadata": {},
   "outputs": [
    {
     "data": {
      "text/plain": [
       "array([[0],\n",
       "       [0],\n",
       "       [0],\n",
       "       ...,\n",
       "       [0],\n",
       "       [0],\n",
       "       [1]], dtype=int64)"
      ]
     },
     "execution_count": 38,
     "metadata": {},
     "output_type": "execute_result"
    }
   ],
   "source": [
    "y # It has to be one dimensional vector"
   ]
  },
  {
   "cell_type": "code",
   "execution_count": 39,
   "metadata": {},
   "outputs": [],
   "source": [
    "from sklearn import preprocessing"
   ]
  },
  {
   "cell_type": "code",
   "execution_count": 40,
   "metadata": {},
   "outputs": [],
   "source": [
    "scaler = preprocessing.StandardScaler().fit(y)"
   ]
  },
  {
   "cell_type": "code",
   "execution_count": 41,
   "metadata": {},
   "outputs": [],
   "source": [
    "X = scaler.transform(X)"
   ]
  },
  {
   "cell_type": "code",
   "execution_count": 42,
   "metadata": {},
   "outputs": [
    {
     "data": {
      "text/plain": [
       "array([[0],\n",
       "       [0],\n",
       "       [0],\n",
       "       ...,\n",
       "       [0],\n",
       "       [0],\n",
       "       [1]], dtype=int64)"
      ]
     },
     "execution_count": 42,
     "metadata": {},
     "output_type": "execute_result"
    }
   ],
   "source": [
    "y"
   ]
  },
  {
   "cell_type": "code",
   "execution_count": 50,
   "metadata": {},
   "outputs": [],
   "source": [
    "from sklearn.model_selection import train_test_split"
   ]
  },
  {
   "cell_type": "code",
   "execution_count": 43,
   "metadata": {},
   "outputs": [],
   "source": [
    "X_train, X_test, y_train, y_test = train_test_split(X, y, test_size=0.25, random_state=42)"
   ]
  },
  {
   "cell_type": "code",
   "execution_count": 44,
   "metadata": {},
   "outputs": [
    {
     "data": {
      "text/plain": [
       "array([[ 2.05547969e+01, -3.29924721e-01,  9.02251806e-03, ...,\n",
       "         7.51920576e-01,  2.08368712e+02,  4.03687111e-01],\n",
       "       [ 2.17155751e+01, -4.64574994e-01,  4.96549368e-01, ...,\n",
       "         9.84076219e-01,  3.01230969e+02, -1.99917561e-01],\n",
       "       [ 2.14834195e+01, -4.08857639e-01, -1.53486432e-01, ...,\n",
       "         1.12336960e+00,  6.44322134e+01,  6.12627190e-01],\n",
       "       ...,\n",
       "       [ 2.03226413e+01, -4.25108534e-01,  5.19764933e-01, ...,\n",
       "         7.28705011e-01,  4.01057896e+02,  1.71531468e-01],\n",
       "       [ 2.17155751e+01, -4.64574994e-01,  3.80471547e-01, ...,\n",
       "         6.12627190e-01,  3.96414783e+02,  1.01884775e-01],\n",
       "       [ 2.82159331e+01, -4.83147445e-01, -5.71366589e-01, ...,\n",
       "         4.96549368e-01,  2.57121397e+02,  3.22380824e-02]])"
      ]
     },
     "execution_count": 44,
     "metadata": {},
     "output_type": "execute_result"
    }
   ],
   "source": [
    "X_train"
   ]
  },
  {
   "cell_type": "code",
   "execution_count": 45,
   "metadata": {},
   "outputs": [],
   "source": [
    "from sklearn import svm"
   ]
  },
  {
   "cell_type": "code",
   "execution_count": null,
   "metadata": {},
   "outputs": [],
   "source": []
  },
  {
   "cell_type": "code",
   "execution_count": 46,
   "metadata": {},
   "outputs": [],
   "source": [
    "clf = svm.SVC()"
   ]
  },
  {
   "cell_type": "code",
   "execution_count": 47,
   "metadata": {},
   "outputs": [
    {
     "data": {
      "text/plain": [
       "SVC(C=1.0, cache_size=200, class_weight=None, coef0=0.0,\n",
       "  decision_function_shape='ovr', degree=3, gamma='auto', kernel='rbf',\n",
       "  max_iter=-1, probability=False, random_state=None, shrinking=True,\n",
       "  tol=0.001, verbose=False)"
      ]
     },
     "execution_count": 47,
     "metadata": {},
     "output_type": "execute_result"
    }
   ],
   "source": [
    "clf.fit(X_train, y_train)"
   ]
  },
  {
   "cell_type": "code",
   "execution_count": 56,
   "metadata": {},
   "outputs": [
    {
     "data": {
      "text/plain": [
       "0.8892307692307693"
      ]
     },
     "execution_count": 56,
     "metadata": {},
     "output_type": "execute_result"
    }
   ],
   "source": [
    "clf.score(X_test, y_test)"
   ]
  },
  {
   "cell_type": "code",
   "execution_count": 57,
   "metadata": {},
   "outputs": [],
   "source": [
    "prediction = clf.predict(X_test)"
   ]
  },
  {
   "cell_type": "code",
   "execution_count": 58,
   "metadata": {},
   "outputs": [
    {
     "data": {
      "text/plain": [
       "array([0, 0, 0, 0, 0, 1, 1, 0, 0, 1], dtype=int64)"
      ]
     },
     "execution_count": 58,
     "metadata": {},
     "output_type": "execute_result"
    }
   ],
   "source": [
    "prediction[: 10]"
   ]
  },
  {
   "cell_type": "code",
   "execution_count": 59,
   "metadata": {},
   "outputs": [],
   "source": [
    "actual_set = y_test"
   ]
  },
  {
   "cell_type": "code",
   "execution_count": 60,
   "metadata": {},
   "outputs": [
    {
     "data": {
      "text/plain": [
       "array([[0],\n",
       "       [0],\n",
       "       [0],\n",
       "       [0],\n",
       "       [0],\n",
       "       [1],\n",
       "       [1],\n",
       "       [0],\n",
       "       [0],\n",
       "       [1]], dtype=int64)"
      ]
     },
     "execution_count": 60,
     "metadata": {},
     "output_type": "execute_result"
    }
   ],
   "source": [
    "actual_set[: 10]"
   ]
  },
  {
   "cell_type": "markdown",
   "metadata": {},
   "source": [
    "# Multiclass classification to predict the quality of the wine."
   ]
  },
  {
   "cell_type": "code",
   "execution_count": 51,
   "metadata": {},
   "outputs": [],
   "source": [
    "from sklearn.utils import shuffle\n",
    "df = shuffle(df)"
   ]
  },
  {
   "cell_type": "code",
   "execution_count": 52,
   "metadata": {},
   "outputs": [],
   "source": [
    "df.reset_index(drop=True, inplace=True)"
   ]
  },
  {
   "cell_type": "code",
   "execution_count": 53,
   "metadata": {},
   "outputs": [
    {
     "data": {
      "text/plain": [
       "(6497, 13)"
      ]
     },
     "execution_count": 53,
     "metadata": {},
     "output_type": "execute_result"
    }
   ],
   "source": [
    "df.shape"
   ]
  },
  {
   "cell_type": "code",
   "execution_count": 54,
   "metadata": {},
   "outputs": [],
   "source": [
    "X = np.array(df.drop(columns=['quality']))"
   ]
  },
  {
   "cell_type": "code",
   "execution_count": 55,
   "metadata": {},
   "outputs": [],
   "source": [
    "y = np.array(df.quality)"
   ]
  },
  {
   "cell_type": "code",
   "execution_count": 56,
   "metadata": {},
   "outputs": [
    {
     "data": {
      "text/plain": [
       "array([3, 4, 5, 6, 7, 8, 9], dtype=int64)"
      ]
     },
     "execution_count": 56,
     "metadata": {},
     "output_type": "execute_result"
    }
   ],
   "source": [
    "np.unique(df.quality)"
   ]
  },
  {
   "cell_type": "code",
   "execution_count": 57,
   "metadata": {},
   "outputs": [],
   "source": [
    "le = preprocessing.LabelEncoder()"
   ]
  },
  {
   "cell_type": "code",
   "execution_count": 58,
   "metadata": {},
   "outputs": [
    {
     "data": {
      "text/plain": [
       "array([2, 3, 3, ..., 3, 3, 3], dtype=int64)"
      ]
     },
     "execution_count": 58,
     "metadata": {},
     "output_type": "execute_result"
    }
   ],
   "source": [
    "le.fit_transform(y)"
   ]
  },
  {
   "cell_type": "code",
   "execution_count": 59,
   "metadata": {},
   "outputs": [
    {
     "data": {
      "text/plain": [
       "array([3, 4, 5, 6, 7, 8, 9], dtype=int64)"
      ]
     },
     "execution_count": 59,
     "metadata": {},
     "output_type": "execute_result"
    }
   ],
   "source": [
    "np.unique(y)"
   ]
  },
  {
   "cell_type": "code",
   "execution_count": null,
   "metadata": {},
   "outputs": [],
   "source": []
  },
  {
   "cell_type": "code",
   "execution_count": 60,
   "metadata": {},
   "outputs": [],
   "source": [
    "y = y.reshape(-1, 1)"
   ]
  },
  {
   "cell_type": "code",
   "execution_count": 61,
   "metadata": {},
   "outputs": [
    {
     "data": {
      "text/plain": [
       "array([[5],\n",
       "       [6],\n",
       "       [6],\n",
       "       ...,\n",
       "       [6],\n",
       "       [6],\n",
       "       [6]], dtype=int64)"
      ]
     },
     "execution_count": 61,
     "metadata": {},
     "output_type": "execute_result"
    }
   ],
   "source": [
    "y"
   ]
  },
  {
   "cell_type": "code",
   "execution_count": 72,
   "metadata": {},
   "outputs": [],
   "source": [
    "scaler_multiclass = preprocessing.StandardScaler().fit(y)"
   ]
  },
  {
   "cell_type": "code",
   "execution_count": 73,
   "metadata": {},
   "outputs": [],
   "source": [
    "X = scaler_multiclass.transform(X)"
   ]
  },
  {
   "cell_type": "code",
   "execution_count": 74,
   "metadata": {},
   "outputs": [
    {
     "data": {
      "text/plain": [
       "array([[  5.01795944,  -6.61298287,  -6.34270891, ..., 135.34498134,\n",
       "         -6.31980433,  -6.66337293],\n",
       "       [  3.52916217,  -6.62099947,  -5.89606973, ..., 183.4445852 ,\n",
       "         -6.33125662,  -6.66337293],\n",
       "       [  7.65198536,  -6.62328993,  -6.35416119, ...,  84.95492015,\n",
       "         -6.14802003,  -6.66337293],\n",
       "       ...,\n",
       "       [  5.70509663,  -6.63474221,  -6.23963833, ..., 120.45700871,\n",
       "         -6.46868406,  -6.66337293],\n",
       "       [  5.36152803,  -6.56259281,  -6.65192064, ...,  13.95074301,\n",
       "         -5.99914031,  -5.51814427],\n",
       "       [  4.21629937,  -6.60038536,  -6.23963833, ..., 213.22053045,\n",
       "         -6.35416119,  -6.66337293]])"
      ]
     },
     "execution_count": 74,
     "metadata": {},
     "output_type": "execute_result"
    }
   ],
   "source": [
    "X"
   ]
  },
  {
   "cell_type": "code",
   "execution_count": 75,
   "metadata": {},
   "outputs": [],
   "source": [
    "X_train, X_test, y_train, y_test = train_test_split(X, y, test_size=0.25, random_state=42)"
   ]
  },
  {
   "cell_type": "code",
   "execution_count": 76,
   "metadata": {},
   "outputs": [],
   "source": [
    "clf = svm.SVC()"
   ]
  },
  {
   "cell_type": "code",
   "execution_count": 77,
   "metadata": {},
   "outputs": [
    {
     "data": {
      "text/plain": [
       "SVC(C=1.0, cache_size=200, class_weight=None, coef0=0.0,\n",
       "  decision_function_shape='ovr', degree=3, gamma='auto', kernel='rbf',\n",
       "  max_iter=-1, probability=False, random_state=None, shrinking=True,\n",
       "  tol=0.001, verbose=False)"
      ]
     },
     "execution_count": 77,
     "metadata": {},
     "output_type": "execute_result"
    }
   ],
   "source": [
    "clf.fit(X_train, y_train)"
   ]
  },
  {
   "cell_type": "code",
   "execution_count": 78,
   "metadata": {},
   "outputs": [
    {
     "data": {
      "text/plain": [
       "0.571076923076923"
      ]
     },
     "execution_count": 78,
     "metadata": {},
     "output_type": "execute_result"
    }
   ],
   "source": [
    "clf.score(X_test, y_test)"
   ]
  },
  {
   "cell_type": "code",
   "execution_count": 79,
   "metadata": {},
   "outputs": [],
   "source": [
    "forecast_set = clf.predict(X_test)"
   ]
  },
  {
   "cell_type": "code",
   "execution_count": 80,
   "metadata": {},
   "outputs": [
    {
     "data": {
      "text/plain": [
       "array([[5],\n",
       "       [6],\n",
       "       [7],\n",
       "       [6],\n",
       "       [5],\n",
       "       [7],\n",
       "       [6],\n",
       "       [6],\n",
       "       [5],\n",
       "       [6]], dtype=int64)"
      ]
     },
     "execution_count": 80,
     "metadata": {},
     "output_type": "execute_result"
    }
   ],
   "source": [
    "forecast_set[: 10].reshape(-1, 1)"
   ]
  },
  {
   "cell_type": "code",
   "execution_count": 81,
   "metadata": {},
   "outputs": [],
   "source": [
    "actual_set = y_test"
   ]
  },
  {
   "cell_type": "code",
   "execution_count": 82,
   "metadata": {},
   "outputs": [
    {
     "data": {
      "text/plain": [
       "array([[5],\n",
       "       [4],\n",
       "       [8],\n",
       "       [6],\n",
       "       [5],\n",
       "       [5],\n",
       "       [6],\n",
       "       [6],\n",
       "       [6],\n",
       "       [7]], dtype=int64)"
      ]
     },
     "execution_count": 82,
     "metadata": {},
     "output_type": "execute_result"
    }
   ],
   "source": [
    "actual_set[: 10]"
   ]
  },
  {
   "cell_type": "code",
   "execution_count": 83,
   "metadata": {},
   "outputs": [],
   "source": [
    "accuracy=clf.score(X_test, y_test)"
   ]
  },
  {
   "cell_type": "code",
   "execution_count": 84,
   "metadata": {},
   "outputs": [
    {
     "name": "stdout",
     "output_type": "stream",
     "text": [
      "0.571076923076923\n"
     ]
    }
   ],
   "source": [
    "print(accuracy)"
   ]
  },
  {
   "cell_type": "code",
   "execution_count": null,
   "metadata": {},
   "outputs": [],
   "source": []
  },
  {
   "cell_type": "code",
   "execution_count": 85,
   "metadata": {},
   "outputs": [],
   "source": [
    "#\n",
    "# Grid Search With Cross Validation using SVC with Train+ Validation and test sets\n",
    "# Rebuild a model with Training and Validation sets\n",
    "#"
   ]
  },
  {
   "cell_type": "code",
   "execution_count": null,
   "metadata": {},
   "outputs": [],
   "source": []
  },
  {
   "cell_type": "code",
   "execution_count": 86,
   "metadata": {},
   "outputs": [
    {
     "ename": "KeyboardInterrupt",
     "evalue": "",
     "output_type": "error",
     "traceback": [
      "\u001b[1;31m---------------------------------------------------------------------------\u001b[0m",
      "\u001b[1;31mKeyboardInterrupt\u001b[0m                         Traceback (most recent call last)",
      "\u001b[1;32m<ipython-input-86-2c56c99388f7>\u001b[0m in \u001b[0;36m<module>\u001b[1;34m()\u001b[0m\n\u001b[0;32m      5\u001b[0m \u001b[0mX_train\u001b[0m\u001b[1;33m,\u001b[0m \u001b[0mX_test\u001b[0m\u001b[1;33m,\u001b[0m \u001b[0my_train\u001b[0m\u001b[1;33m,\u001b[0m \u001b[0my_test\u001b[0m \u001b[1;33m=\u001b[0m \u001b[0mtrain_test_split\u001b[0m\u001b[1;33m(\u001b[0m\u001b[0mX\u001b[0m\u001b[1;33m,\u001b[0m \u001b[0my\u001b[0m\u001b[1;33m,\u001b[0m \u001b[0mrandom_state\u001b[0m\u001b[1;33m=\u001b[0m\u001b[1;36m0\u001b[0m\u001b[1;33m)\u001b[0m\u001b[1;33m\u001b[0m\u001b[0m\n\u001b[0;32m      6\u001b[0m \u001b[0mgrid_search\u001b[0m \u001b[1;33m=\u001b[0m \u001b[0mGridSearchCV\u001b[0m\u001b[1;33m(\u001b[0m\u001b[0mSVC\u001b[0m\u001b[1;33m(\u001b[0m\u001b[1;33m)\u001b[0m\u001b[1;33m,\u001b[0m \u001b[0mparam_grid\u001b[0m\u001b[1;33m,\u001b[0m \u001b[0mcv\u001b[0m\u001b[1;33m=\u001b[0m\u001b[1;36m5\u001b[0m\u001b[1;33m,\u001b[0m\u001b[0mreturn_train_score\u001b[0m\u001b[1;33m=\u001b[0m\u001b[1;32mTrue\u001b[0m\u001b[1;33m)\u001b[0m\u001b[1;33m\u001b[0m\u001b[0m\n\u001b[1;32m----> 7\u001b[1;33m \u001b[0mgrid_search\u001b[0m\u001b[1;33m.\u001b[0m\u001b[0mfit\u001b[0m\u001b[1;33m(\u001b[0m\u001b[0mX_train\u001b[0m\u001b[1;33m,\u001b[0m \u001b[0my_train\u001b[0m\u001b[1;33m)\u001b[0m\u001b[1;33m\u001b[0m\u001b[0m\n\u001b[0m\u001b[0;32m      8\u001b[0m \u001b[1;33m\u001b[0m\u001b[0m\n\u001b[0;32m      9\u001b[0m \u001b[0mprint\u001b[0m\u001b[1;33m(\u001b[0m\u001b[1;34m\"Test set score: {:.2f}\"\u001b[0m\u001b[1;33m.\u001b[0m\u001b[0mformat\u001b[0m\u001b[1;33m(\u001b[0m\u001b[0mgrid_search\u001b[0m\u001b[1;33m.\u001b[0m\u001b[0mscore\u001b[0m\u001b[1;33m(\u001b[0m\u001b[0mX_test\u001b[0m\u001b[1;33m,\u001b[0m \u001b[0my_test\u001b[0m\u001b[1;33m)\u001b[0m\u001b[1;33m)\u001b[0m\u001b[1;33m)\u001b[0m\u001b[1;33m\u001b[0m\u001b[0m\n",
      "\u001b[1;32m~\\Anaconda3\\lib\\site-packages\\sklearn\\model_selection\\_search.py\u001b[0m in \u001b[0;36mfit\u001b[1;34m(self, X, y, groups, **fit_params)\u001b[0m\n\u001b[0;32m    637\u001b[0m                                   error_score=self.error_score)\n\u001b[0;32m    638\u001b[0m           for parameters, (train, test) in product(candidate_params,\n\u001b[1;32m--> 639\u001b[1;33m                                                    cv.split(X, y, groups)))\n\u001b[0m\u001b[0;32m    640\u001b[0m \u001b[1;33m\u001b[0m\u001b[0m\n\u001b[0;32m    641\u001b[0m         \u001b[1;31m# if one choose to see train score, \"out\" will contain train score info\u001b[0m\u001b[1;33m\u001b[0m\u001b[1;33m\u001b[0m\u001b[0m\n",
      "\u001b[1;32m~\\Anaconda3\\lib\\site-packages\\sklearn\\externals\\joblib\\parallel.py\u001b[0m in \u001b[0;36m__call__\u001b[1;34m(self, iterable)\u001b[0m\n\u001b[0;32m    777\u001b[0m             \u001b[1;31m# was dispatched. In particular this covers the edge\u001b[0m\u001b[1;33m\u001b[0m\u001b[1;33m\u001b[0m\u001b[0m\n\u001b[0;32m    778\u001b[0m             \u001b[1;31m# case of Parallel used with an exhausted iterator.\u001b[0m\u001b[1;33m\u001b[0m\u001b[1;33m\u001b[0m\u001b[0m\n\u001b[1;32m--> 779\u001b[1;33m             \u001b[1;32mwhile\u001b[0m \u001b[0mself\u001b[0m\u001b[1;33m.\u001b[0m\u001b[0mdispatch_one_batch\u001b[0m\u001b[1;33m(\u001b[0m\u001b[0miterator\u001b[0m\u001b[1;33m)\u001b[0m\u001b[1;33m:\u001b[0m\u001b[1;33m\u001b[0m\u001b[0m\n\u001b[0m\u001b[0;32m    780\u001b[0m                 \u001b[0mself\u001b[0m\u001b[1;33m.\u001b[0m\u001b[0m_iterating\u001b[0m \u001b[1;33m=\u001b[0m \u001b[1;32mTrue\u001b[0m\u001b[1;33m\u001b[0m\u001b[0m\n\u001b[0;32m    781\u001b[0m             \u001b[1;32melse\u001b[0m\u001b[1;33m:\u001b[0m\u001b[1;33m\u001b[0m\u001b[0m\n",
      "\u001b[1;32m~\\Anaconda3\\lib\\site-packages\\sklearn\\externals\\joblib\\parallel.py\u001b[0m in \u001b[0;36mdispatch_one_batch\u001b[1;34m(self, iterator)\u001b[0m\n\u001b[0;32m    623\u001b[0m                 \u001b[1;32mreturn\u001b[0m \u001b[1;32mFalse\u001b[0m\u001b[1;33m\u001b[0m\u001b[0m\n\u001b[0;32m    624\u001b[0m             \u001b[1;32melse\u001b[0m\u001b[1;33m:\u001b[0m\u001b[1;33m\u001b[0m\u001b[0m\n\u001b[1;32m--> 625\u001b[1;33m                 \u001b[0mself\u001b[0m\u001b[1;33m.\u001b[0m\u001b[0m_dispatch\u001b[0m\u001b[1;33m(\u001b[0m\u001b[0mtasks\u001b[0m\u001b[1;33m)\u001b[0m\u001b[1;33m\u001b[0m\u001b[0m\n\u001b[0m\u001b[0;32m    626\u001b[0m                 \u001b[1;32mreturn\u001b[0m \u001b[1;32mTrue\u001b[0m\u001b[1;33m\u001b[0m\u001b[0m\n\u001b[0;32m    627\u001b[0m \u001b[1;33m\u001b[0m\u001b[0m\n",
      "\u001b[1;32m~\\Anaconda3\\lib\\site-packages\\sklearn\\externals\\joblib\\parallel.py\u001b[0m in \u001b[0;36m_dispatch\u001b[1;34m(self, batch)\u001b[0m\n\u001b[0;32m    586\u001b[0m         \u001b[0mdispatch_timestamp\u001b[0m \u001b[1;33m=\u001b[0m \u001b[0mtime\u001b[0m\u001b[1;33m.\u001b[0m\u001b[0mtime\u001b[0m\u001b[1;33m(\u001b[0m\u001b[1;33m)\u001b[0m\u001b[1;33m\u001b[0m\u001b[0m\n\u001b[0;32m    587\u001b[0m         \u001b[0mcb\u001b[0m \u001b[1;33m=\u001b[0m \u001b[0mBatchCompletionCallBack\u001b[0m\u001b[1;33m(\u001b[0m\u001b[0mdispatch_timestamp\u001b[0m\u001b[1;33m,\u001b[0m \u001b[0mlen\u001b[0m\u001b[1;33m(\u001b[0m\u001b[0mbatch\u001b[0m\u001b[1;33m)\u001b[0m\u001b[1;33m,\u001b[0m \u001b[0mself\u001b[0m\u001b[1;33m)\u001b[0m\u001b[1;33m\u001b[0m\u001b[0m\n\u001b[1;32m--> 588\u001b[1;33m         \u001b[0mjob\u001b[0m \u001b[1;33m=\u001b[0m \u001b[0mself\u001b[0m\u001b[1;33m.\u001b[0m\u001b[0m_backend\u001b[0m\u001b[1;33m.\u001b[0m\u001b[0mapply_async\u001b[0m\u001b[1;33m(\u001b[0m\u001b[0mbatch\u001b[0m\u001b[1;33m,\u001b[0m \u001b[0mcallback\u001b[0m\u001b[1;33m=\u001b[0m\u001b[0mcb\u001b[0m\u001b[1;33m)\u001b[0m\u001b[1;33m\u001b[0m\u001b[0m\n\u001b[0m\u001b[0;32m    589\u001b[0m         \u001b[0mself\u001b[0m\u001b[1;33m.\u001b[0m\u001b[0m_jobs\u001b[0m\u001b[1;33m.\u001b[0m\u001b[0mappend\u001b[0m\u001b[1;33m(\u001b[0m\u001b[0mjob\u001b[0m\u001b[1;33m)\u001b[0m\u001b[1;33m\u001b[0m\u001b[0m\n\u001b[0;32m    590\u001b[0m \u001b[1;33m\u001b[0m\u001b[0m\n",
      "\u001b[1;32m~\\Anaconda3\\lib\\site-packages\\sklearn\\externals\\joblib\\_parallel_backends.py\u001b[0m in \u001b[0;36mapply_async\u001b[1;34m(self, func, callback)\u001b[0m\n\u001b[0;32m    109\u001b[0m     \u001b[1;32mdef\u001b[0m \u001b[0mapply_async\u001b[0m\u001b[1;33m(\u001b[0m\u001b[0mself\u001b[0m\u001b[1;33m,\u001b[0m \u001b[0mfunc\u001b[0m\u001b[1;33m,\u001b[0m \u001b[0mcallback\u001b[0m\u001b[1;33m=\u001b[0m\u001b[1;32mNone\u001b[0m\u001b[1;33m)\u001b[0m\u001b[1;33m:\u001b[0m\u001b[1;33m\u001b[0m\u001b[0m\n\u001b[0;32m    110\u001b[0m         \u001b[1;34m\"\"\"Schedule a func to be run\"\"\"\u001b[0m\u001b[1;33m\u001b[0m\u001b[0m\n\u001b[1;32m--> 111\u001b[1;33m         \u001b[0mresult\u001b[0m \u001b[1;33m=\u001b[0m \u001b[0mImmediateResult\u001b[0m\u001b[1;33m(\u001b[0m\u001b[0mfunc\u001b[0m\u001b[1;33m)\u001b[0m\u001b[1;33m\u001b[0m\u001b[0m\n\u001b[0m\u001b[0;32m    112\u001b[0m         \u001b[1;32mif\u001b[0m \u001b[0mcallback\u001b[0m\u001b[1;33m:\u001b[0m\u001b[1;33m\u001b[0m\u001b[0m\n\u001b[0;32m    113\u001b[0m             \u001b[0mcallback\u001b[0m\u001b[1;33m(\u001b[0m\u001b[0mresult\u001b[0m\u001b[1;33m)\u001b[0m\u001b[1;33m\u001b[0m\u001b[0m\n",
      "\u001b[1;32m~\\Anaconda3\\lib\\site-packages\\sklearn\\externals\\joblib\\_parallel_backends.py\u001b[0m in \u001b[0;36m__init__\u001b[1;34m(self, batch)\u001b[0m\n\u001b[0;32m    330\u001b[0m         \u001b[1;31m# Don't delay the application, to avoid keeping the input\u001b[0m\u001b[1;33m\u001b[0m\u001b[1;33m\u001b[0m\u001b[0m\n\u001b[0;32m    331\u001b[0m         \u001b[1;31m# arguments in memory\u001b[0m\u001b[1;33m\u001b[0m\u001b[1;33m\u001b[0m\u001b[0m\n\u001b[1;32m--> 332\u001b[1;33m         \u001b[0mself\u001b[0m\u001b[1;33m.\u001b[0m\u001b[0mresults\u001b[0m \u001b[1;33m=\u001b[0m \u001b[0mbatch\u001b[0m\u001b[1;33m(\u001b[0m\u001b[1;33m)\u001b[0m\u001b[1;33m\u001b[0m\u001b[0m\n\u001b[0m\u001b[0;32m    333\u001b[0m \u001b[1;33m\u001b[0m\u001b[0m\n\u001b[0;32m    334\u001b[0m     \u001b[1;32mdef\u001b[0m \u001b[0mget\u001b[0m\u001b[1;33m(\u001b[0m\u001b[0mself\u001b[0m\u001b[1;33m)\u001b[0m\u001b[1;33m:\u001b[0m\u001b[1;33m\u001b[0m\u001b[0m\n",
      "\u001b[1;32m~\\Anaconda3\\lib\\site-packages\\sklearn\\externals\\joblib\\parallel.py\u001b[0m in \u001b[0;36m__call__\u001b[1;34m(self)\u001b[0m\n\u001b[0;32m    129\u001b[0m \u001b[1;33m\u001b[0m\u001b[0m\n\u001b[0;32m    130\u001b[0m     \u001b[1;32mdef\u001b[0m \u001b[0m__call__\u001b[0m\u001b[1;33m(\u001b[0m\u001b[0mself\u001b[0m\u001b[1;33m)\u001b[0m\u001b[1;33m:\u001b[0m\u001b[1;33m\u001b[0m\u001b[0m\n\u001b[1;32m--> 131\u001b[1;33m         \u001b[1;32mreturn\u001b[0m \u001b[1;33m[\u001b[0m\u001b[0mfunc\u001b[0m\u001b[1;33m(\u001b[0m\u001b[1;33m*\u001b[0m\u001b[0margs\u001b[0m\u001b[1;33m,\u001b[0m \u001b[1;33m**\u001b[0m\u001b[0mkwargs\u001b[0m\u001b[1;33m)\u001b[0m \u001b[1;32mfor\u001b[0m \u001b[0mfunc\u001b[0m\u001b[1;33m,\u001b[0m \u001b[0margs\u001b[0m\u001b[1;33m,\u001b[0m \u001b[0mkwargs\u001b[0m \u001b[1;32min\u001b[0m \u001b[0mself\u001b[0m\u001b[1;33m.\u001b[0m\u001b[0mitems\u001b[0m\u001b[1;33m]\u001b[0m\u001b[1;33m\u001b[0m\u001b[0m\n\u001b[0m\u001b[0;32m    132\u001b[0m \u001b[1;33m\u001b[0m\u001b[0m\n\u001b[0;32m    133\u001b[0m     \u001b[1;32mdef\u001b[0m \u001b[0m__len__\u001b[0m\u001b[1;33m(\u001b[0m\u001b[0mself\u001b[0m\u001b[1;33m)\u001b[0m\u001b[1;33m:\u001b[0m\u001b[1;33m\u001b[0m\u001b[0m\n",
      "\u001b[1;32m~\\Anaconda3\\lib\\site-packages\\sklearn\\externals\\joblib\\parallel.py\u001b[0m in \u001b[0;36m<listcomp>\u001b[1;34m(.0)\u001b[0m\n\u001b[0;32m    129\u001b[0m \u001b[1;33m\u001b[0m\u001b[0m\n\u001b[0;32m    130\u001b[0m     \u001b[1;32mdef\u001b[0m \u001b[0m__call__\u001b[0m\u001b[1;33m(\u001b[0m\u001b[0mself\u001b[0m\u001b[1;33m)\u001b[0m\u001b[1;33m:\u001b[0m\u001b[1;33m\u001b[0m\u001b[0m\n\u001b[1;32m--> 131\u001b[1;33m         \u001b[1;32mreturn\u001b[0m \u001b[1;33m[\u001b[0m\u001b[0mfunc\u001b[0m\u001b[1;33m(\u001b[0m\u001b[1;33m*\u001b[0m\u001b[0margs\u001b[0m\u001b[1;33m,\u001b[0m \u001b[1;33m**\u001b[0m\u001b[0mkwargs\u001b[0m\u001b[1;33m)\u001b[0m \u001b[1;32mfor\u001b[0m \u001b[0mfunc\u001b[0m\u001b[1;33m,\u001b[0m \u001b[0margs\u001b[0m\u001b[1;33m,\u001b[0m \u001b[0mkwargs\u001b[0m \u001b[1;32min\u001b[0m \u001b[0mself\u001b[0m\u001b[1;33m.\u001b[0m\u001b[0mitems\u001b[0m\u001b[1;33m]\u001b[0m\u001b[1;33m\u001b[0m\u001b[0m\n\u001b[0m\u001b[0;32m    132\u001b[0m \u001b[1;33m\u001b[0m\u001b[0m\n\u001b[0;32m    133\u001b[0m     \u001b[1;32mdef\u001b[0m \u001b[0m__len__\u001b[0m\u001b[1;33m(\u001b[0m\u001b[0mself\u001b[0m\u001b[1;33m)\u001b[0m\u001b[1;33m:\u001b[0m\u001b[1;33m\u001b[0m\u001b[0m\n",
      "\u001b[1;32m~\\Anaconda3\\lib\\site-packages\\sklearn\\model_selection\\_validation.py\u001b[0m in \u001b[0;36m_fit_and_score\u001b[1;34m(estimator, X, y, scorer, train, test, verbose, parameters, fit_params, return_train_score, return_parameters, return_n_test_samples, return_times, error_score)\u001b[0m\n\u001b[0;32m    456\u001b[0m             \u001b[0mestimator\u001b[0m\u001b[1;33m.\u001b[0m\u001b[0mfit\u001b[0m\u001b[1;33m(\u001b[0m\u001b[0mX_train\u001b[0m\u001b[1;33m,\u001b[0m \u001b[1;33m**\u001b[0m\u001b[0mfit_params\u001b[0m\u001b[1;33m)\u001b[0m\u001b[1;33m\u001b[0m\u001b[0m\n\u001b[0;32m    457\u001b[0m         \u001b[1;32melse\u001b[0m\u001b[1;33m:\u001b[0m\u001b[1;33m\u001b[0m\u001b[0m\n\u001b[1;32m--> 458\u001b[1;33m             \u001b[0mestimator\u001b[0m\u001b[1;33m.\u001b[0m\u001b[0mfit\u001b[0m\u001b[1;33m(\u001b[0m\u001b[0mX_train\u001b[0m\u001b[1;33m,\u001b[0m \u001b[0my_train\u001b[0m\u001b[1;33m,\u001b[0m \u001b[1;33m**\u001b[0m\u001b[0mfit_params\u001b[0m\u001b[1;33m)\u001b[0m\u001b[1;33m\u001b[0m\u001b[0m\n\u001b[0m\u001b[0;32m    459\u001b[0m \u001b[1;33m\u001b[0m\u001b[0m\n\u001b[0;32m    460\u001b[0m     \u001b[1;32mexcept\u001b[0m \u001b[0mException\u001b[0m \u001b[1;32mas\u001b[0m \u001b[0me\u001b[0m\u001b[1;33m:\u001b[0m\u001b[1;33m\u001b[0m\u001b[0m\n",
      "\u001b[1;32m~\\Anaconda3\\lib\\site-packages\\sklearn\\svm\\base.py\u001b[0m in \u001b[0;36mfit\u001b[1;34m(self, X, y, sample_weight)\u001b[0m\n\u001b[0;32m    185\u001b[0m \u001b[1;33m\u001b[0m\u001b[0m\n\u001b[0;32m    186\u001b[0m         \u001b[0mseed\u001b[0m \u001b[1;33m=\u001b[0m \u001b[0mrnd\u001b[0m\u001b[1;33m.\u001b[0m\u001b[0mrandint\u001b[0m\u001b[1;33m(\u001b[0m\u001b[0mnp\u001b[0m\u001b[1;33m.\u001b[0m\u001b[0miinfo\u001b[0m\u001b[1;33m(\u001b[0m\u001b[1;34m'i'\u001b[0m\u001b[1;33m)\u001b[0m\u001b[1;33m.\u001b[0m\u001b[0mmax\u001b[0m\u001b[1;33m)\u001b[0m\u001b[1;33m\u001b[0m\u001b[0m\n\u001b[1;32m--> 187\u001b[1;33m         \u001b[0mfit\u001b[0m\u001b[1;33m(\u001b[0m\u001b[0mX\u001b[0m\u001b[1;33m,\u001b[0m \u001b[0my\u001b[0m\u001b[1;33m,\u001b[0m \u001b[0msample_weight\u001b[0m\u001b[1;33m,\u001b[0m \u001b[0msolver_type\u001b[0m\u001b[1;33m,\u001b[0m \u001b[0mkernel\u001b[0m\u001b[1;33m,\u001b[0m \u001b[0mrandom_seed\u001b[0m\u001b[1;33m=\u001b[0m\u001b[0mseed\u001b[0m\u001b[1;33m)\u001b[0m\u001b[1;33m\u001b[0m\u001b[0m\n\u001b[0m\u001b[0;32m    188\u001b[0m         \u001b[1;31m# see comment on the other call to np.iinfo in this file\u001b[0m\u001b[1;33m\u001b[0m\u001b[1;33m\u001b[0m\u001b[0m\n\u001b[0;32m    189\u001b[0m \u001b[1;33m\u001b[0m\u001b[0m\n",
      "\u001b[1;32m~\\Anaconda3\\lib\\site-packages\\sklearn\\svm\\base.py\u001b[0m in \u001b[0;36m_dense_fit\u001b[1;34m(self, X, y, sample_weight, solver_type, kernel, random_seed)\u001b[0m\n\u001b[0;32m    252\u001b[0m                 \u001b[0mcache_size\u001b[0m\u001b[1;33m=\u001b[0m\u001b[0mself\u001b[0m\u001b[1;33m.\u001b[0m\u001b[0mcache_size\u001b[0m\u001b[1;33m,\u001b[0m \u001b[0mcoef0\u001b[0m\u001b[1;33m=\u001b[0m\u001b[0mself\u001b[0m\u001b[1;33m.\u001b[0m\u001b[0mcoef0\u001b[0m\u001b[1;33m,\u001b[0m\u001b[1;33m\u001b[0m\u001b[0m\n\u001b[0;32m    253\u001b[0m                 \u001b[0mgamma\u001b[0m\u001b[1;33m=\u001b[0m\u001b[0mself\u001b[0m\u001b[1;33m.\u001b[0m\u001b[0m_gamma\u001b[0m\u001b[1;33m,\u001b[0m \u001b[0mepsilon\u001b[0m\u001b[1;33m=\u001b[0m\u001b[0mself\u001b[0m\u001b[1;33m.\u001b[0m\u001b[0mepsilon\u001b[0m\u001b[1;33m,\u001b[0m\u001b[1;33m\u001b[0m\u001b[0m\n\u001b[1;32m--> 254\u001b[1;33m                 max_iter=self.max_iter, random_seed=random_seed)\n\u001b[0m\u001b[0;32m    255\u001b[0m \u001b[1;33m\u001b[0m\u001b[0m\n\u001b[0;32m    256\u001b[0m         \u001b[0mself\u001b[0m\u001b[1;33m.\u001b[0m\u001b[0m_warn_from_fit_status\u001b[0m\u001b[1;33m(\u001b[0m\u001b[1;33m)\u001b[0m\u001b[1;33m\u001b[0m\u001b[0m\n",
      "\u001b[1;31mKeyboardInterrupt\u001b[0m: "
     ]
    }
   ],
   "source": [
    "from sklearn.model_selection import GridSearchCV\n",
    "from sklearn.svm import SVC\n",
    "param_grid = {'C': [0.001, 0.01, 0.1, 1, 10, 100],'gamma': [0.001, 0.01, 0.1, 1, 10, 100]}\n",
    "\n",
    "X_train, X_test, y_train, y_test = train_test_split(X, y, random_state=0)\n",
    "grid_search = GridSearchCV(SVC(), param_grid, cv=5,return_train_score=True)\n",
    "grid_search.fit(X_train, y_train)\n",
    "\n",
    "print(\"Test set score: {:.2f}\".format(grid_search.score(X_test, y_test)))\n",
    "print(\"Best parameters: {}\".format(grid_search.best_params_))\n",
    "print(\"Best cross-validation score: {:.2f}\\n\".format(grid_search.best_score_))\n",
    "print(\"Best estimator:\\n{}\".format(grid_search.best_estimator_))\n"
   ]
  },
  {
   "cell_type": "code",
   "execution_count": null,
   "metadata": {},
   "outputs": [],
   "source": [
    "##\n",
    "## Analyzing the result of cross-validation\n",
    "##"
   ]
  },
  {
   "cell_type": "code",
   "execution_count": null,
   "metadata": {},
   "outputs": [],
   "source": [
    "import pandas as pd\n",
    "# convert to DataFrame\n",
    "results = pd.DataFrame(grid_search.cv_results_)\n",
    "# show the first 5 rows\n",
    "display(results.head())"
   ]
  },
  {
   "cell_type": "code",
   "execution_count": null,
   "metadata": {},
   "outputs": [],
   "source": [
    "results.mean_test_score"
   ]
  },
  {
   "cell_type": "code",
   "execution_count": null,
   "metadata": {},
   "outputs": [],
   "source": [
    "import mglearn\n",
    "scores = np.array(results.mean_test_score).reshape(6, 6)\n",
    "\n",
    "# plot the mean cross-validation scores\n",
    "mglearn.tools.heatmap(scores, \n",
    "                      xlabel='gamma',\n",
    "                      xticklabels=param_grid['gamma'],\n",
    "                      ylabel='C',\n",
    "                      yticklabels=param_grid['C'],\n",
    "                      cmap=\"viridis\")\n",
    "display"
   ]
  },
  {
   "cell_type": "code",
   "execution_count": null,
   "metadata": {},
   "outputs": [],
   "source": [
    "X_mul = np.array(df.drop(columns=['quality']))"
   ]
  },
  {
   "cell_type": "code",
   "execution_count": null,
   "metadata": {},
   "outputs": [],
   "source": [
    "y_mul = np.array(df.quality)"
   ]
  },
  {
   "cell_type": "code",
   "execution_count": null,
   "metadata": {},
   "outputs": [],
   "source": [
    "from sklearn.preprocessing import label_binarize\n",
    "y_mul = label_binarize(y_mul, classes=[0, 1, 2, 3])"
   ]
  },
  {
   "cell_type": "code",
   "execution_count": null,
   "metadata": {},
   "outputs": [],
   "source": [
    "np.unique(y_mul)"
   ]
  },
  {
   "cell_type": "markdown",
   "metadata": {},
   "source": [
    "# Using evaluation metrics in model selection"
   ]
  },
  {
   "cell_type": "code",
   "execution_count": null,
   "metadata": {},
   "outputs": [],
   "source": [
    "from sklearn.metrics import roc_auc_score\n",
    "from sklearn.metrics import roc_curve\n",
    "from sklearn.metrics import accuracy_score\n",
    "from sklearn.model_selection import cross_val_score"
   ]
  },
  {
   "cell_type": "code",
   "execution_count": 107,
   "metadata": {},
   "outputs": [
    {
     "name": "stdout",
     "output_type": "stream",
     "text": [
      "Default scoring: [0.56319188 0.56740536 0.55293574]\n",
      "Explicit accuracy scoring: [0.56319188 0.56740536 0.55293574]\n",
      "AUC scoring: [0.56319188 0.56740536 0.55293574]\n"
     ]
    }
   ],
   "source": [
    "# default scoring for classification is accuracy\n",
    "print(\"Default scoring: {}\".format(cross_val_score(SVC(), X, y)))\n",
    "# providing scoring=\"accuracy\" doesn't change the results\n",
    "explicit_accuracy =  cross_val_score(SVC(), X, y,scoring=\"accuracy\")\n",
    "print(\"Explicit accuracy scoring: {}\".format(explicit_accuracy)) \n",
    "roc_auc = cross_val_score(SVC(), X, y ,scoring=None)\n",
    "print(\"AUC scoring: {}\".format(roc_auc))"
   ]
  },
  {
   "cell_type": "code",
   "execution_count": 112,
   "metadata": {},
   "outputs": [
    {
     "name": "stdout",
     "output_type": "stream",
     "text": [
      "Grid-Search with accuracy\n",
      "Best parameters: {'gamma': 1}\n",
      "Best cross-validation score (accuracy): 0.564\n"
     ]
    },
    {
     "ename": "ValueError",
     "evalue": "multiclass format is not supported",
     "output_type": "error",
     "traceback": [
      "\u001b[1;31m---------------------------------------------------------------------------\u001b[0m",
      "\u001b[1;31mValueError\u001b[0m                                Traceback (most recent call last)",
      "\u001b[1;32m<ipython-input-112-089724aa62a5>\u001b[0m in \u001b[0;36m<module>\u001b[1;34m()\u001b[0m\n\u001b[0;32m      9\u001b[0m \u001b[0mprint\u001b[0m\u001b[1;33m(\u001b[0m\u001b[1;34m\"Best parameters:\"\u001b[0m\u001b[1;33m,\u001b[0m \u001b[0mgrid\u001b[0m\u001b[1;33m.\u001b[0m\u001b[0mbest_params_\u001b[0m\u001b[1;33m)\u001b[0m\u001b[1;33m\u001b[0m\u001b[0m\n\u001b[0;32m     10\u001b[0m \u001b[0mprint\u001b[0m\u001b[1;33m(\u001b[0m\u001b[1;34m\"Best cross-validation score (accuracy): {:.3f}\"\u001b[0m\u001b[1;33m.\u001b[0m\u001b[0mformat\u001b[0m\u001b[1;33m(\u001b[0m\u001b[0mgrid\u001b[0m\u001b[1;33m.\u001b[0m\u001b[0mbest_score_\u001b[0m\u001b[1;33m)\u001b[0m\u001b[1;33m)\u001b[0m\u001b[1;33m\u001b[0m\u001b[0m\n\u001b[1;32m---> 11\u001b[1;33m \u001b[0mprint\u001b[0m\u001b[1;33m(\u001b[0m\u001b[1;34m\"Test set AUC: {:.3f}\"\u001b[0m\u001b[1;33m.\u001b[0m\u001b[0mformat\u001b[0m\u001b[1;33m(\u001b[0m\u001b[0mroc_auc_score\u001b[0m\u001b[1;33m(\u001b[0m\u001b[0my_test\u001b[0m\u001b[1;33m.\u001b[0m\u001b[0mreshape\u001b[0m\u001b[1;33m(\u001b[0m\u001b[1;33m-\u001b[0m\u001b[1;36m1\u001b[0m\u001b[1;33m,\u001b[0m\u001b[1;36m1\u001b[0m\u001b[1;33m)\u001b[0m\u001b[1;33m,\u001b[0m \u001b[0mgrid\u001b[0m\u001b[1;33m.\u001b[0m\u001b[0mdecision_function\u001b[0m\u001b[1;33m(\u001b[0m\u001b[0mX_test\u001b[0m\u001b[1;33m)\u001b[0m\u001b[1;33m)\u001b[0m\u001b[1;33m)\u001b[0m\u001b[1;33m)\u001b[0m\u001b[1;33m\u001b[0m\u001b[0m\n\u001b[0m\u001b[0;32m     12\u001b[0m \u001b[0mprint\u001b[0m\u001b[1;33m(\u001b[0m\u001b[1;34m\"Test set accuracy: {:.3f}\"\u001b[0m\u001b[1;33m.\u001b[0m\u001b[0mformat\u001b[0m\u001b[1;33m(\u001b[0m\u001b[0mgrid\u001b[0m\u001b[1;33m.\u001b[0m\u001b[0mscore\u001b[0m\u001b[1;33m(\u001b[0m\u001b[0mX_test\u001b[0m\u001b[1;33m,\u001b[0m \u001b[0my_test\u001b[0m\u001b[1;33m)\u001b[0m\u001b[1;33m)\u001b[0m\u001b[1;33m)\u001b[0m\u001b[1;33m\u001b[0m\u001b[0m\n",
      "\u001b[1;32m~\\Anaconda3\\lib\\site-packages\\sklearn\\metrics\\ranking.py\u001b[0m in \u001b[0;36mroc_auc_score\u001b[1;34m(y_true, y_score, average, sample_weight)\u001b[0m\n\u001b[0;32m    275\u001b[0m     return _average_binary_score(\n\u001b[0;32m    276\u001b[0m         \u001b[0m_binary_roc_auc_score\u001b[0m\u001b[1;33m,\u001b[0m \u001b[0my_true\u001b[0m\u001b[1;33m,\u001b[0m \u001b[0my_score\u001b[0m\u001b[1;33m,\u001b[0m \u001b[0maverage\u001b[0m\u001b[1;33m,\u001b[0m\u001b[1;33m\u001b[0m\u001b[0m\n\u001b[1;32m--> 277\u001b[1;33m         sample_weight=sample_weight)\n\u001b[0m\u001b[0;32m    278\u001b[0m \u001b[1;33m\u001b[0m\u001b[0m\n\u001b[0;32m    279\u001b[0m \u001b[1;33m\u001b[0m\u001b[0m\n",
      "\u001b[1;32m~\\Anaconda3\\lib\\site-packages\\sklearn\\metrics\\base.py\u001b[0m in \u001b[0;36m_average_binary_score\u001b[1;34m(binary_metric, y_true, y_score, average, sample_weight)\u001b[0m\n\u001b[0;32m     70\u001b[0m     \u001b[0my_type\u001b[0m \u001b[1;33m=\u001b[0m \u001b[0mtype_of_target\u001b[0m\u001b[1;33m(\u001b[0m\u001b[0my_true\u001b[0m\u001b[1;33m)\u001b[0m\u001b[1;33m\u001b[0m\u001b[0m\n\u001b[0;32m     71\u001b[0m     \u001b[1;32mif\u001b[0m \u001b[0my_type\u001b[0m \u001b[1;32mnot\u001b[0m \u001b[1;32min\u001b[0m \u001b[1;33m(\u001b[0m\u001b[1;34m\"binary\"\u001b[0m\u001b[1;33m,\u001b[0m \u001b[1;34m\"multilabel-indicator\"\u001b[0m\u001b[1;33m)\u001b[0m\u001b[1;33m:\u001b[0m\u001b[1;33m\u001b[0m\u001b[0m\n\u001b[1;32m---> 72\u001b[1;33m         \u001b[1;32mraise\u001b[0m \u001b[0mValueError\u001b[0m\u001b[1;33m(\u001b[0m\u001b[1;34m\"{0} format is not supported\"\u001b[0m\u001b[1;33m.\u001b[0m\u001b[0mformat\u001b[0m\u001b[1;33m(\u001b[0m\u001b[0my_type\u001b[0m\u001b[1;33m)\u001b[0m\u001b[1;33m)\u001b[0m\u001b[1;33m\u001b[0m\u001b[0m\n\u001b[0m\u001b[0;32m     73\u001b[0m \u001b[1;33m\u001b[0m\u001b[0m\n\u001b[0;32m     74\u001b[0m     \u001b[1;32mif\u001b[0m \u001b[0my_type\u001b[0m \u001b[1;33m==\u001b[0m \u001b[1;34m\"binary\"\u001b[0m\u001b[1;33m:\u001b[0m\u001b[1;33m\u001b[0m\u001b[0m\n",
      "\u001b[1;31mValueError\u001b[0m: multiclass format is not supported"
     ]
    }
   ],
   "source": [
    "X_train, X_test, y_train, y_test = train_test_split( X, y, random_state=0)\n",
    "\n",
    "# we provide a somewhat bad grid to illustrate the point:\n",
    "param_grid = {'gamma': [0.0001, 0.01, 0.1, 1, 10]}\n",
    "# using the default scoring of accuracy:\n",
    "grid = GridSearchCV(SVC(), param_grid=param_grid,cv=5)\n",
    "grid.fit(X_train, y_train)\n",
    "print(\"Grid-Search with accuracy\")\n",
    "print(\"Best parameters:\", grid.best_params_)\n",
    "print(\"Best cross-validation score (accuracy): {:.3f}\".format(grid.best_score_))\n",
    "print(\"Test set AUC: {:.3f}\".format(roc_auc_score(y_test.reshape(-1,1), grid.decision_function(X_test))))\n",
    "print(\"Test set accuracy: {:.3f}\".format(grid.score(X_test, y_test)))"
   ]
  },
  {
   "cell_type": "code",
   "execution_count": null,
   "metadata": {},
   "outputs": [],
   "source": [
    "y"
   ]
  },
  {
   "cell_type": "code",
   "execution_count": 110,
   "metadata": {},
   "outputs": [
    {
     "data": {
      "text/plain": [
       "array([[ 0.68360864,  2.95346978,  5.3337017 , ...,  4.20313742,\n",
       "         1.91841062, -0.47887681],\n",
       "       [ 0.68328337,  2.95618211,  5.33193701, ...,  4.20691946,\n",
       "         1.91640431, -0.47893483],\n",
       "       [ 0.68365073,  2.95376868,  5.33470919, ...,  4.20042154,\n",
       "         1.9186731 , -0.47886956],\n",
       "       ...,\n",
       "       [ 0.68364867,  2.95375404,  5.33493248, ...,  4.20035609,\n",
       "         1.91865961, -0.47886993],\n",
       "       [ 0.68365063,  2.95376802,  5.33470615, ...,  4.20043743,\n",
       "         1.91867252, -0.47886958],\n",
       "       [ 0.68362377,  2.95357143,  5.33308204, ...,  4.19953418,\n",
       "         1.91849108, -0.47887408]])"
      ]
     },
     "execution_count": 110,
     "metadata": {},
     "output_type": "execute_result"
    }
   ],
   "source": [
    "grid.decision_function(X_test)"
   ]
  },
  {
   "cell_type": "code",
   "execution_count": 111,
   "metadata": {},
   "outputs": [
    {
     "data": {
      "text/plain": [
       "array([6, 6, 7, ..., 6, 6, 6], dtype=int64)"
      ]
     },
     "execution_count": 111,
     "metadata": {},
     "output_type": "execute_result"
    }
   ],
   "source": [
    "y_test"
   ]
  },
  {
   "cell_type": "code",
   "execution_count": null,
   "metadata": {},
   "outputs": [],
   "source": [
    "# using AUC scoring instead:\n",
    "grid = GridSearchCV(SVC(), param_grid=param_grid, scoring=\"roc_auc\") \n",
    "grid.fit(X_train, y_train)\n",
    "print(\"\\nGrid-Search with AUC\")\n",
    "print(\"Best parameters:\", grid.best_params_)\n",
    "print(\"Best cross-validation score (AUC): {:.3f}\".format(grid.best_score_))\n",
    "print(\"Test set AUC: {:.3f}\".format(\n",
    "    roc_auc_score(y_test, grid.decision_function(X_test))))\n",
    "print(\"Test set accuracy: {:.3f}\".format(grid.score(X_test, y_test)))"
   ]
  },
  {
   "cell_type": "code",
   "execution_count": null,
   "metadata": {},
   "outputs": [],
   "source": []
  }
 ],
 "metadata": {
  "kernelspec": {
   "display_name": "Python 3",
   "language": "python",
   "name": "python3"
  },
  "language_info": {
   "codemirror_mode": {
    "name": "ipython",
    "version": 3
   },
   "file_extension": ".py",
   "mimetype": "text/x-python",
   "name": "python",
   "nbconvert_exporter": "python",
   "pygments_lexer": "ipython3",
   "version": "3.6.5"
  }
 },
 "nbformat": 4,
 "nbformat_minor": 2
}
