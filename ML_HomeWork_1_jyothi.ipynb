{
 "cells": [
  {
   "cell_type": "code",
   "execution_count": null,
   "metadata": {},
   "outputs": [],
   "source": []
  },
  {
   "cell_type": "code",
   "execution_count": 1,
   "metadata": {},
   "outputs": [],
   "source": [
    "import pandas as pd\n",
    "import numpy as np\n",
    "%matplotlib inline\n",
    "import matplotlib.pyplot as plt\n",
    "\n",
    "#import mglearn\n",
    "from IPython.display import display\n",
    "from matplotlib import rc"
   ]
  },
  {
   "cell_type": "code",
   "execution_count": 2,
   "metadata": {},
   "outputs": [],
   "source": [
    "from sklearn import preprocessing\n",
    "from sklearn.model_selection import train_test_split\n",
    "from sklearn.pipeline import make_pipeline,Pipeline\n",
    "from sklearn.model_selection import GridSearchCV\n",
    "from sklearn.preprocessing import StandardScaler\n",
    "from sklearn.decomposition import PCA\n",
    "from sklearn.ensemble import RandomForestClassifier\n",
    "from sklearn.metrics import mean_squared_error"
   ]
  },
  {
   "cell_type": "code",
   "execution_count": 3,
   "metadata": {},
   "outputs": [],
   "source": [
    "data= pd.read_csv(\"color_survey_answers.csv\",  sep='\\t')"
   ]
  },
  {
   "cell_type": "code",
   "execution_count": 4,
   "metadata": {},
   "outputs": [
    {
     "data": {
      "text/html": [
       "<div>\n",
       "<style scoped>\n",
       "    .dataframe tbody tr th:only-of-type {\n",
       "        vertical-align: middle;\n",
       "    }\n",
       "\n",
       "    .dataframe tbody tr th {\n",
       "        vertical-align: top;\n",
       "    }\n",
       "\n",
       "    .dataframe thead th {\n",
       "        text-align: right;\n",
       "    }\n",
       "</style>\n",
       "<table border=\"1\" class=\"dataframe\">\n",
       "  <thead>\n",
       "    <tr style=\"text-align: right;\">\n",
       "      <th></th>\n",
       "      <th>id</th>\n",
       "      <th>user_id</th>\n",
       "      <th>datestamp</th>\n",
       "      <th>r</th>\n",
       "      <th>g</th>\n",
       "      <th>b</th>\n",
       "      <th>colorname</th>\n",
       "    </tr>\n",
       "  </thead>\n",
       "  <tbody>\n",
       "    <tr>\n",
       "      <th>0</th>\n",
       "      <td>1</td>\n",
       "      <td>1</td>\n",
       "      <td>1.267419e+09</td>\n",
       "      <td>72</td>\n",
       "      <td>100</td>\n",
       "      <td>175</td>\n",
       "      <td>pastel blue</td>\n",
       "    </tr>\n",
       "    <tr>\n",
       "      <th>1</th>\n",
       "      <td>2</td>\n",
       "      <td>1</td>\n",
       "      <td>1.267419e+09</td>\n",
       "      <td>204</td>\n",
       "      <td>177</td>\n",
       "      <td>246</td>\n",
       "      <td>faint violet</td>\n",
       "    </tr>\n",
       "    <tr>\n",
       "      <th>2</th>\n",
       "      <td>3</td>\n",
       "      <td>1</td>\n",
       "      <td>1.267419e+09</td>\n",
       "      <td>182</td>\n",
       "      <td>226</td>\n",
       "      <td>245</td>\n",
       "      <td>baby blue</td>\n",
       "    </tr>\n",
       "    <tr>\n",
       "      <th>3</th>\n",
       "      <td>4</td>\n",
       "      <td>1</td>\n",
       "      <td>1.267419e+09</td>\n",
       "      <td>130</td>\n",
       "      <td>64</td>\n",
       "      <td>234</td>\n",
       "      <td>purple</td>\n",
       "    </tr>\n",
       "    <tr>\n",
       "      <th>4</th>\n",
       "      <td>5</td>\n",
       "      <td>2</td>\n",
       "      <td>1.267419e+09</td>\n",
       "      <td>75</td>\n",
       "      <td>49</td>\n",
       "      <td>234</td>\n",
       "      <td>blue</td>\n",
       "    </tr>\n",
       "  </tbody>\n",
       "</table>\n",
       "</div>"
      ],
      "text/plain": [
       "   id  user_id     datestamp    r    g    b     colorname\n",
       "0   1        1  1.267419e+09   72  100  175   pastel blue\n",
       "1   2        1  1.267419e+09  204  177  246  faint violet\n",
       "2   3        1  1.267419e+09  182  226  245     baby blue\n",
       "3   4        1  1.267419e+09  130   64  234        purple\n",
       "4   5        2  1.267419e+09   75   49  234          blue"
      ]
     },
     "execution_count": 4,
     "metadata": {},
     "output_type": "execute_result"
    }
   ],
   "source": [
    "data.head()\n"
   ]
  },
  {
   "cell_type": "code",
   "execution_count": 5,
   "metadata": {},
   "outputs": [
    {
     "data": {
      "text/plain": [
       "Index(['id', 'user_id', 'datestamp', 'r', 'g', 'b', 'colorname'], dtype='object')"
      ]
     },
     "execution_count": 5,
     "metadata": {},
     "output_type": "execute_result"
    }
   ],
   "source": [
    "data.columns"
   ]
  },
  {
   "cell_type": "code",
   "execution_count": 6,
   "metadata": {},
   "outputs": [
    {
     "name": "stdout",
     "output_type": "stream",
     "text": [
      "<class 'pandas.core.frame.DataFrame'>\n",
      "RangeIndex: 3363127 entries, 0 to 3363126\n",
      "Data columns (total 7 columns):\n",
      "id           int64\n",
      "user_id      int64\n",
      "datestamp    float64\n",
      "r            int64\n",
      "g            int64\n",
      "b            int64\n",
      "colorname    object\n",
      "dtypes: float64(1), int64(5), object(1)\n",
      "memory usage: 179.6+ MB\n"
     ]
    }
   ],
   "source": [
    "data.info()"
   ]
  },
  {
   "cell_type": "code",
   "execution_count": 7,
   "metadata": {},
   "outputs": [],
   "source": [
    "#converting date from float to datetime\n",
    "from datetime import datetime\n",
    "data['datestamp'] = pd.to_datetime(data['datestamp'],unit='s')"
   ]
  },
  {
   "cell_type": "code",
   "execution_count": 8,
   "metadata": {},
   "outputs": [
    {
     "name": "stdout",
     "output_type": "stream",
     "text": [
      "1734\n"
     ]
    }
   ],
   "source": [
    "# to check the null value in the dataset\n",
    "print(data.isnull().values.sum())"
   ]
  },
  {
   "cell_type": "code",
   "execution_count": 9,
   "metadata": {},
   "outputs": [],
   "source": [
    "#data[\"colorname\"].value_counts()"
   ]
  },
  {
   "cell_type": "code",
   "execution_count": 10,
   "metadata": {},
   "outputs": [],
   "source": [
    "data = data.fillna({\"colorname\": \"green\"})"
   ]
  },
  {
   "cell_type": "code",
   "execution_count": 11,
   "metadata": {},
   "outputs": [],
   "source": [
    "#extracting new colours into another dataframe from original"
   ]
  },
  {
   "cell_type": "code",
   "execution_count": 12,
   "metadata": {},
   "outputs": [],
   "source": [
    "new_colour = data[data['colorname'] == 'impatiens juice'].copy()"
   ]
  },
  {
   "cell_type": "code",
   "execution_count": 13,
   "metadata": {},
   "outputs": [],
   "source": [
    "new_colour = data[data['colorname'] == 'caribbean surf'].append(new_colour)"
   ]
  },
  {
   "cell_type": "code",
   "execution_count": 14,
   "metadata": {},
   "outputs": [],
   "source": [
    "new_colour = data[data['colorname'] == 'medium tan leather'].append(new_colour)"
   ]
  },
  {
   "cell_type": "code",
   "execution_count": 15,
   "metadata": {},
   "outputs": [],
   "source": [
    "new_colour = data[data['colorname'] == 'babypoo'].append(new_colour)"
   ]
  },
  {
   "cell_type": "code",
   "execution_count": 16,
   "metadata": {},
   "outputs": [],
   "source": [
    "#new_colour.tail()"
   ]
  },
  {
   "cell_type": "code",
   "execution_count": 17,
   "metadata": {},
   "outputs": [
    {
     "name": "stdout",
     "output_type": "stream",
     "text": [
      "<class 'pandas.core.frame.DataFrame'>\n",
      "Int64Index: 8 entries, 185291 to 3170468\n",
      "Data columns (total 7 columns):\n",
      "id           8 non-null int64\n",
      "user_id      8 non-null int64\n",
      "datestamp    8 non-null datetime64[ns]\n",
      "r            8 non-null int64\n",
      "g            8 non-null int64\n",
      "b            8 non-null int64\n",
      "colorname    8 non-null object\n",
      "dtypes: datetime64[ns](1), int64(5), object(1)\n",
      "memory usage: 512.0+ bytes\n"
     ]
    }
   ],
   "source": [
    "new_colour.info()"
   ]
  },
  {
   "cell_type": "code",
   "execution_count": 18,
   "metadata": {},
   "outputs": [],
   "source": [
    "#increasing the occurance of new colours\n",
    "new_colour = new_colour.append([new_colour]*20)"
   ]
  },
  {
   "cell_type": "code",
   "execution_count": 19,
   "metadata": {},
   "outputs": [
    {
     "name": "stdout",
     "output_type": "stream",
     "text": [
      "<class 'pandas.core.frame.DataFrame'>\n",
      "Int64Index: 168 entries, 185291 to 3170468\n",
      "Data columns (total 7 columns):\n",
      "id           168 non-null int64\n",
      "user_id      168 non-null int64\n",
      "datestamp    168 non-null datetime64[ns]\n",
      "r            168 non-null int64\n",
      "g            168 non-null int64\n",
      "b            168 non-null int64\n",
      "colorname    168 non-null object\n",
      "dtypes: datetime64[ns](1), int64(5), object(1)\n",
      "memory usage: 10.5+ KB\n"
     ]
    }
   ],
   "source": [
    "new_colour.info()"
   ]
  },
  {
   "cell_type": "code",
   "execution_count": 20,
   "metadata": {},
   "outputs": [],
   "source": [
    "#filtering the unwanted colours which have occurance of 20 or less\n",
    "data = data.groupby('colorname').filter(lambda x: len(x) > 21)"
   ]
  },
  {
   "cell_type": "code",
   "execution_count": 21,
   "metadata": {},
   "outputs": [],
   "source": [
    "#combining new colours to the filtered original dataset\n",
    "data = pd.concat([data,new_colour],ignore_index=True)"
   ]
  },
  {
   "cell_type": "code",
   "execution_count": 22,
   "metadata": {},
   "outputs": [
    {
     "data": {
      "text/plain": [
       "green                 311798\n",
       "blue                  284220\n",
       "purple                245832\n",
       "pink                  129286\n",
       "brown                  74782\n",
       "red                    68985\n",
       "light blue             57381\n",
       "teal                   56336\n",
       "orange                 51449\n",
       "light green            49073\n",
       "yellow                 43494\n",
       "magenta                43139\n",
       "grey                   35664\n",
       "sky blue               34043\n",
       "violet                 32407\n",
       "lime green             30918\n",
       "light purple           29221\n",
       "turquoise              25925\n",
       "lavender               25447\n",
       "cyan                   24421\n",
       "tan                    23710\n",
       "dark green             23624\n",
       "dark blue              23116\n",
       "aqua                   23036\n",
       "forest green           19112\n",
       "mauve                  18899\n",
       "bright green           18578\n",
       "gray                   18003\n",
       "olive                  17339\n",
       "dark purple            16653\n",
       "                       ...  \n",
       "orchid pink               22\n",
       "baby food green           22\n",
       "bright purple-blue        22\n",
       "violetish blue            22\n",
       "light-orange              22\n",
       "petunia                   22\n",
       "dull maroon               22\n",
       "dirty grey                22\n",
       "80s pink                  22\n",
       "tits                      22\n",
       "fiery orange              22\n",
       "in                        22\n",
       "bog green                 22\n",
       "new grass green           22\n",
       "light yellow brown        22\n",
       "iris blue                 22\n",
       "purplink                  22\n",
       "lighter violet            22\n",
       "fghj                      22\n",
       "rosewood                  22\n",
       "dark green yellow         22\n",
       "medium cyan               22\n",
       "medium-dark green         22\n",
       "brue                      22\n",
       "bad                       22\n",
       "off-grey                  22\n",
       "soft light green          22\n",
       "medium tan leather        21\n",
       "impatiens juice           21\n",
       "caribbean surf            21\n",
       "Name: colorname, Length: 4217, dtype: int64"
      ]
     },
     "execution_count": 22,
     "metadata": {},
     "output_type": "execute_result"
    }
   ],
   "source": [
    "data['colorname'].value_counts()"
   ]
  },
  {
   "cell_type": "code",
   "execution_count": 23,
   "metadata": {},
   "outputs": [],
   "source": [
    "#shuffling the dataset to have equal distribution of each colour in the dataset\n",
    "#data= data.sample(frac = 1,random_state= 10).reset_index(drop = True)"
   ]
  },
  {
   "cell_type": "code",
   "execution_count": 24,
   "metadata": {},
   "outputs": [],
   "source": [
    "##taking a subset of dataset\n",
    "small_data = data.sample(2500,random_state= 10)"
   ]
  },
  {
   "cell_type": "code",
   "execution_count": 25,
   "metadata": {},
   "outputs": [
    {
     "data": {
      "text/html": [
       "<div>\n",
       "<style scoped>\n",
       "    .dataframe tbody tr th:only-of-type {\n",
       "        vertical-align: middle;\n",
       "    }\n",
       "\n",
       "    .dataframe tbody tr th {\n",
       "        vertical-align: top;\n",
       "    }\n",
       "\n",
       "    .dataframe thead th {\n",
       "        text-align: right;\n",
       "    }\n",
       "</style>\n",
       "<table border=\"1\" class=\"dataframe\">\n",
       "  <thead>\n",
       "    <tr style=\"text-align: right;\">\n",
       "      <th></th>\n",
       "      <th>id</th>\n",
       "      <th>user_id</th>\n",
       "      <th>datestamp</th>\n",
       "      <th>r</th>\n",
       "      <th>g</th>\n",
       "      <th>b</th>\n",
       "      <th>colorname</th>\n",
       "    </tr>\n",
       "  </thead>\n",
       "  <tbody>\n",
       "    <tr>\n",
       "      <th>2865370</th>\n",
       "      <td>3185369</td>\n",
       "      <td>141804</td>\n",
       "      <td>2010-03-31 03:30:54</td>\n",
       "      <td>197</td>\n",
       "      <td>80</td>\n",
       "      <td>165</td>\n",
       "      <td>mauve</td>\n",
       "    </tr>\n",
       "    <tr>\n",
       "      <th>662610</th>\n",
       "      <td>732457</td>\n",
       "      <td>33970</td>\n",
       "      <td>2010-03-03 19:01:05</td>\n",
       "      <td>222</td>\n",
       "      <td>78</td>\n",
       "      <td>201</td>\n",
       "      <td>purple</td>\n",
       "    </tr>\n",
       "    <tr>\n",
       "      <th>2692584</th>\n",
       "      <td>2993683</td>\n",
       "      <td>133589</td>\n",
       "      <td>2010-03-27 22:35:50</td>\n",
       "      <td>222</td>\n",
       "      <td>174</td>\n",
       "      <td>70</td>\n",
       "      <td>butternut squash</td>\n",
       "    </tr>\n",
       "    <tr>\n",
       "      <th>1282872</th>\n",
       "      <td>1431425</td>\n",
       "      <td>65598</td>\n",
       "      <td>2010-03-08 21:09:40</td>\n",
       "      <td>228</td>\n",
       "      <td>187</td>\n",
       "      <td>6</td>\n",
       "      <td>goldenrod</td>\n",
       "    </tr>\n",
       "    <tr>\n",
       "      <th>932594</th>\n",
       "      <td>1047073</td>\n",
       "      <td>47641</td>\n",
       "      <td>2010-03-05 15:35:28</td>\n",
       "      <td>123</td>\n",
       "      <td>185</td>\n",
       "      <td>243</td>\n",
       "      <td>sky blue</td>\n",
       "    </tr>\n",
       "  </tbody>\n",
       "</table>\n",
       "</div>"
      ],
      "text/plain": [
       "              id  user_id           datestamp    r    g    b         colorname\n",
       "2865370  3185369   141804 2010-03-31 03:30:54  197   80  165             mauve\n",
       "662610    732457    33970 2010-03-03 19:01:05  222   78  201            purple\n",
       "2692584  2993683   133589 2010-03-27 22:35:50  222  174   70  butternut squash\n",
       "1282872  1431425    65598 2010-03-08 21:09:40  228  187    6         goldenrod\n",
       "932594   1047073    47641 2010-03-05 15:35:28  123  185  243          sky blue"
      ]
     },
     "execution_count": 25,
     "metadata": {},
     "output_type": "execute_result"
    }
   ],
   "source": [
    "small_data.head()"
   ]
  },
  {
   "cell_type": "code",
   "execution_count": 26,
   "metadata": {
    "scrolled": true
   },
   "outputs": [
    {
     "data": {
      "text/html": [
       "<div>\n",
       "<style scoped>\n",
       "    .dataframe tbody tr th:only-of-type {\n",
       "        vertical-align: middle;\n",
       "    }\n",
       "\n",
       "    .dataframe tbody tr th {\n",
       "        vertical-align: top;\n",
       "    }\n",
       "\n",
       "    .dataframe thead th {\n",
       "        text-align: right;\n",
       "    }\n",
       "</style>\n",
       "<table border=\"1\" class=\"dataframe\">\n",
       "  <thead>\n",
       "    <tr style=\"text-align: right;\">\n",
       "      <th></th>\n",
       "      <th>id</th>\n",
       "      <th>user_id</th>\n",
       "      <th>datestamp</th>\n",
       "      <th>r</th>\n",
       "      <th>g</th>\n",
       "      <th>b</th>\n",
       "      <th>colorname_ blue</th>\n",
       "      <th>colorname_!</th>\n",
       "      <th>colorname_3</th>\n",
       "      <th>colorname_5</th>\n",
       "      <th>...</th>\n",
       "      <th>colorname_y</th>\n",
       "      <th>colorname_yello</th>\n",
       "      <th>colorname_yellow</th>\n",
       "      <th>colorname_yellow brown</th>\n",
       "      <th>colorname_yellow green</th>\n",
       "      <th>colorname_yellow orange</th>\n",
       "      <th>colorname_yellow-brown</th>\n",
       "      <th>colorname_yellow-green</th>\n",
       "      <th>colorname_yellow/green</th>\n",
       "      <th>colorname_yellowish green</th>\n",
       "    </tr>\n",
       "  </thead>\n",
       "  <tbody>\n",
       "    <tr>\n",
       "      <th>2865370</th>\n",
       "      <td>3185369</td>\n",
       "      <td>141804</td>\n",
       "      <td>2010-03-31 03:30:54</td>\n",
       "      <td>197</td>\n",
       "      <td>80</td>\n",
       "      <td>165</td>\n",
       "      <td>0</td>\n",
       "      <td>0</td>\n",
       "      <td>0</td>\n",
       "      <td>0</td>\n",
       "      <td>...</td>\n",
       "      <td>0</td>\n",
       "      <td>0</td>\n",
       "      <td>0</td>\n",
       "      <td>0</td>\n",
       "      <td>0</td>\n",
       "      <td>0</td>\n",
       "      <td>0</td>\n",
       "      <td>0</td>\n",
       "      <td>0</td>\n",
       "      <td>0</td>\n",
       "    </tr>\n",
       "    <tr>\n",
       "      <th>662610</th>\n",
       "      <td>732457</td>\n",
       "      <td>33970</td>\n",
       "      <td>2010-03-03 19:01:05</td>\n",
       "      <td>222</td>\n",
       "      <td>78</td>\n",
       "      <td>201</td>\n",
       "      <td>0</td>\n",
       "      <td>0</td>\n",
       "      <td>0</td>\n",
       "      <td>0</td>\n",
       "      <td>...</td>\n",
       "      <td>0</td>\n",
       "      <td>0</td>\n",
       "      <td>0</td>\n",
       "      <td>0</td>\n",
       "      <td>0</td>\n",
       "      <td>0</td>\n",
       "      <td>0</td>\n",
       "      <td>0</td>\n",
       "      <td>0</td>\n",
       "      <td>0</td>\n",
       "    </tr>\n",
       "    <tr>\n",
       "      <th>2692584</th>\n",
       "      <td>2993683</td>\n",
       "      <td>133589</td>\n",
       "      <td>2010-03-27 22:35:50</td>\n",
       "      <td>222</td>\n",
       "      <td>174</td>\n",
       "      <td>70</td>\n",
       "      <td>0</td>\n",
       "      <td>0</td>\n",
       "      <td>0</td>\n",
       "      <td>0</td>\n",
       "      <td>...</td>\n",
       "      <td>0</td>\n",
       "      <td>0</td>\n",
       "      <td>0</td>\n",
       "      <td>0</td>\n",
       "      <td>0</td>\n",
       "      <td>0</td>\n",
       "      <td>0</td>\n",
       "      <td>0</td>\n",
       "      <td>0</td>\n",
       "      <td>0</td>\n",
       "    </tr>\n",
       "    <tr>\n",
       "      <th>1282872</th>\n",
       "      <td>1431425</td>\n",
       "      <td>65598</td>\n",
       "      <td>2010-03-08 21:09:40</td>\n",
       "      <td>228</td>\n",
       "      <td>187</td>\n",
       "      <td>6</td>\n",
       "      <td>0</td>\n",
       "      <td>0</td>\n",
       "      <td>0</td>\n",
       "      <td>0</td>\n",
       "      <td>...</td>\n",
       "      <td>0</td>\n",
       "      <td>0</td>\n",
       "      <td>0</td>\n",
       "      <td>0</td>\n",
       "      <td>0</td>\n",
       "      <td>0</td>\n",
       "      <td>0</td>\n",
       "      <td>0</td>\n",
       "      <td>0</td>\n",
       "      <td>0</td>\n",
       "    </tr>\n",
       "    <tr>\n",
       "      <th>932594</th>\n",
       "      <td>1047073</td>\n",
       "      <td>47641</td>\n",
       "      <td>2010-03-05 15:35:28</td>\n",
       "      <td>123</td>\n",
       "      <td>185</td>\n",
       "      <td>243</td>\n",
       "      <td>0</td>\n",
       "      <td>0</td>\n",
       "      <td>0</td>\n",
       "      <td>0</td>\n",
       "      <td>...</td>\n",
       "      <td>0</td>\n",
       "      <td>0</td>\n",
       "      <td>0</td>\n",
       "      <td>0</td>\n",
       "      <td>0</td>\n",
       "      <td>0</td>\n",
       "      <td>0</td>\n",
       "      <td>0</td>\n",
       "      <td>0</td>\n",
       "      <td>0</td>\n",
       "    </tr>\n",
       "  </tbody>\n",
       "</table>\n",
       "<p>5 rows × 555 columns</p>\n",
       "</div>"
      ],
      "text/plain": [
       "              id  user_id           datestamp    r    g    b  colorname_ blue  \\\n",
       "2865370  3185369   141804 2010-03-31 03:30:54  197   80  165                0   \n",
       "662610    732457    33970 2010-03-03 19:01:05  222   78  201                0   \n",
       "2692584  2993683   133589 2010-03-27 22:35:50  222  174   70                0   \n",
       "1282872  1431425    65598 2010-03-08 21:09:40  228  187    6                0   \n",
       "932594   1047073    47641 2010-03-05 15:35:28  123  185  243                0   \n",
       "\n",
       "         colorname_!  colorname_3  colorname_5            ...              \\\n",
       "2865370            0            0            0            ...               \n",
       "662610             0            0            0            ...               \n",
       "2692584            0            0            0            ...               \n",
       "1282872            0            0            0            ...               \n",
       "932594             0            0            0            ...               \n",
       "\n",
       "         colorname_y  colorname_yello  colorname_yellow  \\\n",
       "2865370            0                0                 0   \n",
       "662610             0                0                 0   \n",
       "2692584            0                0                 0   \n",
       "1282872            0                0                 0   \n",
       "932594             0                0                 0   \n",
       "\n",
       "         colorname_yellow brown  colorname_yellow green  \\\n",
       "2865370                       0                       0   \n",
       "662610                        0                       0   \n",
       "2692584                       0                       0   \n",
       "1282872                       0                       0   \n",
       "932594                        0                       0   \n",
       "\n",
       "         colorname_yellow orange  colorname_yellow-brown  \\\n",
       "2865370                        0                       0   \n",
       "662610                         0                       0   \n",
       "2692584                        0                       0   \n",
       "1282872                        0                       0   \n",
       "932594                         0                       0   \n",
       "\n",
       "         colorname_yellow-green  colorname_yellow/green  \\\n",
       "2865370                       0                       0   \n",
       "662610                        0                       0   \n",
       "2692584                       0                       0   \n",
       "1282872                       0                       0   \n",
       "932594                        0                       0   \n",
       "\n",
       "         colorname_yellowish green  \n",
       "2865370                          0  \n",
       "662610                           0  \n",
       "2692584                          0  \n",
       "1282872                          0  \n",
       "932594                           0  \n",
       "\n",
       "[5 rows x 555 columns]"
      ]
     },
     "execution_count": 26,
     "metadata": {},
     "output_type": "execute_result"
    }
   ],
   "source": [
    "# on_hot_encoding\n",
    "pd.get_dummies(small_data, columns=[\"colorname\"], prefix = ['colorname']).head()"
   ]
  },
  {
   "cell_type": "code",
   "execution_count": 27,
   "metadata": {},
   "outputs": [],
   "source": [
    "# Split the data into features and target label\n",
    "y = np.array(small_data['colorname'])\n",
    "X = np.array(small_data.drop(['colorname', 'datestamp'], axis = 1))"
   ]
  },
  {
   "cell_type": "code",
   "execution_count": 28,
   "metadata": {},
   "outputs": [],
   "source": [
    "# train and test splitting the data\n",
    "X_train, X_test, y_train, y_test = train_test_split(X, y, test_size = 0.33, random_state = 0)"
   ]
  },
  {
   "cell_type": "code",
   "execution_count": 29,
   "metadata": {},
   "outputs": [],
   "source": [
    "#creating pipeline with PCA and classifier\n",
    "pca_rf = Pipeline([('preprocessing', StandardScaler()),('pca', PCA(n_components= 'mle')), ('classifier', RandomForestClassifier(max_features='auto',n_estimators=1500,random_state=47))])"
   ]
  },
  {
   "cell_type": "code",
   "execution_count": 30,
   "metadata": {},
   "outputs": [],
   "source": [
    "param_grid = [\n",
    "{'classifier': [RandomForestClassifier(max_features='auto',n_estimators=1500,random_state=47)],\n",
    "'classifier__min_samples_leaf': [4,6,8], 'classifier__max_depth': [4,6,8],'classifier__max_leaf_nodes': [4,6,8]},\n",
    "]"
   ]
  },
  {
   "cell_type": "code",
   "execution_count": 31,
   "metadata": {
    "scrolled": true
   },
   "outputs": [
    {
     "name": "stdout",
     "output_type": "stream",
     "text": [
      "Fitting 2 folds for each of 27 candidates, totalling 54 fits\n"
     ]
    },
    {
     "name": "stderr",
     "output_type": "stream",
     "text": [
      "/Users/emmanuelraj/anaconda3/lib/python3.7/site-packages/sklearn/model_selection/_split.py:652: Warning: The least populated class in y has only 1 members, which is too few. The minimum number of members in any class cannot be less than n_splits=2.\n",
      "  % (min_groups, self.n_splits)), Warning)\n",
      "[Parallel(n_jobs=-1)]: Using backend LokyBackend with 8 concurrent workers.\n",
      "[Parallel(n_jobs=-1)]: Done  34 tasks      | elapsed:   42.1s\n",
      "[Parallel(n_jobs=-1)]: Done  54 out of  54 | elapsed:  1.1min finished\n",
      "/Users/emmanuelraj/anaconda3/lib/python3.7/site-packages/sklearn/model_selection/_search.py:841: DeprecationWarning: The default of the `iid` parameter will change from True to False in version 0.22 and will be removed in 0.24. This will change numeric results when test-set sizes are unequal.\n",
      "  DeprecationWarning)\n",
      "/Users/emmanuelraj/anaconda3/lib/python3.7/site-packages/sklearn/utils/validation.py:595: DataConversionWarning: Data with input dtype int64 was converted to float64 by StandardScaler.\n",
      "  warnings.warn(msg, DataConversionWarning)\n",
      "/Users/emmanuelraj/anaconda3/lib/python3.7/site-packages/sklearn/utils/validation.py:595: DataConversionWarning: Data with input dtype int64 was converted to float64 by StandardScaler.\n",
      "  warnings.warn(msg, DataConversionWarning)\n",
      "/Users/emmanuelraj/anaconda3/lib/python3.7/site-packages/sklearn/utils/validation.py:595: DataConversionWarning: Data with input dtype int64 was converted to float64 by StandardScaler.\n",
      "  warnings.warn(msg, DataConversionWarning)\n"
     ]
    },
    {
     "name": "stdout",
     "output_type": "stream",
     "text": [
      "Accuracy: 0.34\n"
     ]
    }
   ],
   "source": [
    "grid = GridSearchCV(pca_rf, param_grid, cv=2,n_jobs=-1, verbose=1)\n",
    "\n",
    "grid.fit(X_train,y_train)\n",
    "\n",
    "print(\"Accuracy: {:.2f}\".format(grid.score(X_test, y_test)))\n"
   ]
  },
  {
   "cell_type": "code",
   "execution_count": 32,
   "metadata": {},
   "outputs": [],
   "source": [
    "# custom binary encoding"
   ]
  },
  {
   "cell_type": "code",
   "execution_count": 33,
   "metadata": {},
   "outputs": [],
   "source": [
    "small_data['color_green'] = np.where(small_data['colorname'].str.contains('green'), 1, 0)"
   ]
  },
  {
   "cell_type": "code",
   "execution_count": 34,
   "metadata": {},
   "outputs": [],
   "source": [
    "small_data['color_red'] = np.where(small_data['colorname'].str.contains('red'), 1, 0)"
   ]
  },
  {
   "cell_type": "code",
   "execution_count": 35,
   "metadata": {},
   "outputs": [],
   "source": [
    "small_data['color_pink'] = np.where(small_data['colorname'].str.contains('pink'), 1, 0)"
   ]
  },
  {
   "cell_type": "code",
   "execution_count": 36,
   "metadata": {},
   "outputs": [],
   "source": [
    "small_data['color_blue'] = np.where(small_data['colorname'].str.contains('blue'), 1, 0)"
   ]
  },
  {
   "cell_type": "code",
   "execution_count": 37,
   "metadata": {},
   "outputs": [],
   "source": [
    "small_data['color_orange'] = np.where(small_data['colorname'].str.contains('orange'), 1, 0)"
   ]
  },
  {
   "cell_type": "code",
   "execution_count": 38,
   "metadata": {},
   "outputs": [],
   "source": [
    "small_data['color_yellow'] = np.where(small_data['colorname'].str.contains('yellow'), 1, 0)"
   ]
  },
  {
   "cell_type": "code",
   "execution_count": 39,
   "metadata": {},
   "outputs": [],
   "source": [
    "small_data['color_purple'] = np.where(small_data['colorname'].str.contains('purple'), 1, 0)"
   ]
  },
  {
   "cell_type": "code",
   "execution_count": 40,
   "metadata": {},
   "outputs": [],
   "source": [
    "small_data['color_tan'] = np.where(small_data['colorname'].str.contains('tan'), 1, 0)"
   ]
  },
  {
   "cell_type": "code",
   "execution_count": 41,
   "metadata": {},
   "outputs": [],
   "source": [
    "#small_data"
   ]
  },
  {
   "cell_type": "code",
   "execution_count": 42,
   "metadata": {},
   "outputs": [],
   "source": [
    "# Split the data into features and target label\n",
    "y1 = np.array(small_data['colorname'])\n",
    "X1 = np.array(small_data.drop(['colorname', 'datestamp'], axis = 1))"
   ]
  },
  {
   "cell_type": "code",
   "execution_count": 43,
   "metadata": {},
   "outputs": [],
   "source": [
    "# train and test splitting the data\n",
    "X1_train, X1_test, y1_train, y1_test = train_test_split(X1, y1, test_size = 0.33, random_state = 0)"
   ]
  },
  {
   "cell_type": "code",
   "execution_count": 44,
   "metadata": {
    "scrolled": true
   },
   "outputs": [
    {
     "name": "stdout",
     "output_type": "stream",
     "text": [
      "Fitting 2 folds for each of 27 candidates, totalling 54 fits\n"
     ]
    },
    {
     "name": "stderr",
     "output_type": "stream",
     "text": [
      "/Users/emmanuelraj/anaconda3/lib/python3.7/site-packages/sklearn/model_selection/_split.py:652: Warning: The least populated class in y has only 1 members, which is too few. The minimum number of members in any class cannot be less than n_splits=2.\n",
      "  % (min_groups, self.n_splits)), Warning)\n",
      "[Parallel(n_jobs=-1)]: Using backend LokyBackend with 8 concurrent workers.\n",
      "/Users/emmanuelraj/anaconda3/lib/python3.7/site-packages/sklearn/externals/joblib/externals/loky/process_executor.py:706: UserWarning: A worker stopped while some jobs were given to the executor. This can be caused by a too short worker timeout or by a memory leak.\n",
      "  \"timeout or by a memory leak.\", UserWarning\n",
      "[Parallel(n_jobs=-1)]: Done  34 tasks      | elapsed:  1.2min\n",
      "[Parallel(n_jobs=-1)]: Done  54 out of  54 | elapsed:  1.9min finished\n",
      "/Users/emmanuelraj/anaconda3/lib/python3.7/site-packages/sklearn/model_selection/_search.py:841: DeprecationWarning: The default of the `iid` parameter will change from True to False in version 0.22 and will be removed in 0.24. This will change numeric results when test-set sizes are unequal.\n",
      "  DeprecationWarning)\n",
      "/Users/emmanuelraj/anaconda3/lib/python3.7/site-packages/sklearn/utils/validation.py:595: DataConversionWarning: Data with input dtype int64 was converted to float64 by StandardScaler.\n",
      "  warnings.warn(msg, DataConversionWarning)\n",
      "/Users/emmanuelraj/anaconda3/lib/python3.7/site-packages/sklearn/utils/validation.py:595: DataConversionWarning: Data with input dtype int64 was converted to float64 by StandardScaler.\n",
      "  warnings.warn(msg, DataConversionWarning)\n"
     ]
    },
    {
     "data": {
      "text/plain": [
       "GridSearchCV(cv=2, error_score='raise-deprecating',\n",
       "       estimator=Pipeline(memory=None,\n",
       "     steps=[('preprocessing', StandardScaler(copy=True, with_mean=True, with_std=True)), ('pca', PCA(copy=True, iterated_power='auto', n_components='mle', random_state=None,\n",
       "  svd_solver='auto', tol=0.0, whiten=False)), ('classifier', RandomForestClassifier(bootstrap=True, class_weight=None, criterion='g...tors=1500, n_jobs=None,\n",
       "            oob_score=False, random_state=47, verbose=0, warm_start=False))]),\n",
       "       fit_params=None, iid='warn', n_jobs=-1,\n",
       "       param_grid=[{'classifier': [RandomForestClassifier(bootstrap=True, class_weight=None, criterion='gini',\n",
       "            max_depth=4, max_features='auto', max_leaf_nodes=8,\n",
       "            min_impurity_decrease=0.0, min_impurity_split=None,\n",
       "            min_samples_leaf=4, min_samples_split=2,\n",
       "            min...ples_leaf': [4, 6, 8], 'classifier__max_depth': [4, 6, 8], 'classifier__max_leaf_nodes': [4, 6, 8]}],\n",
       "       pre_dispatch='2*n_jobs', refit=True, return_train_score='warn',\n",
       "       scoring=None, verbose=1)"
      ]
     },
     "execution_count": 44,
     "metadata": {},
     "output_type": "execute_result"
    }
   ],
   "source": [
    "grid = GridSearchCV(pca_rf, param_grid, cv=2,n_jobs=-1, verbose=1)\n",
    "\n",
    "grid.fit(X1_train,y1_train)"
   ]
  },
  {
   "cell_type": "code",
   "execution_count": 45,
   "metadata": {},
   "outputs": [
    {
     "name": "stderr",
     "output_type": "stream",
     "text": [
      "/Users/emmanuelraj/anaconda3/lib/python3.7/site-packages/sklearn/utils/validation.py:595: DataConversionWarning: Data with input dtype int64 was converted to float64 by StandardScaler.\n",
      "  warnings.warn(msg, DataConversionWarning)\n"
     ]
    },
    {
     "name": "stdout",
     "output_type": "stream",
     "text": [
      "Accuracy: 0.45\n",
      "Best parameters: {'classifier': RandomForestClassifier(bootstrap=True, class_weight=None, criterion='gini',\n",
      "            max_depth=4, max_features='auto', max_leaf_nodes=8,\n",
      "            min_impurity_decrease=0.0, min_impurity_split=None,\n",
      "            min_samples_leaf=4, min_samples_split=2,\n",
      "            min_weight_fraction_leaf=0.0, n_estimators=1500, n_jobs=None,\n",
      "            oob_score=False, random_state=47, verbose=0, warm_start=False), 'classifier__max_depth': 4, 'classifier__max_leaf_nodes': 8, 'classifier__min_samples_leaf': 4}\n"
     ]
    }
   ],
   "source": [
    "print(\"Accuracy: {:.2f}\".format(grid.score(X1_test, y1_test)))\n",
    "print(\"Best parameters: {}\".format(grid.best_params_))"
   ]
  },
  {
   "cell_type": "code",
   "execution_count": 46,
   "metadata": {},
   "outputs": [
    {
     "name": "stderr",
     "output_type": "stream",
     "text": [
      "/Users/emmanuelraj/anaconda3/lib/python3.7/site-packages/sklearn/utils/validation.py:595: DataConversionWarning: Data with input dtype int64 was converted to float64 by StandardScaler.\n",
      "  warnings.warn(msg, DataConversionWarning)\n"
     ]
    }
   ],
   "source": [
    "pred = grid.predict(X1_test)"
   ]
  },
  {
   "cell_type": "code",
   "execution_count": null,
   "metadata": {},
   "outputs": [],
   "source": []
  },
  {
   "cell_type": "code",
   "execution_count": null,
   "metadata": {},
   "outputs": [],
   "source": []
  },
  {
   "cell_type": "code",
   "execution_count": null,
   "metadata": {},
   "outputs": [],
   "source": []
  },
  {
   "cell_type": "code",
   "execution_count": null,
   "metadata": {},
   "outputs": [],
   "source": []
  },
  {
   "cell_type": "code",
   "execution_count": null,
   "metadata": {},
   "outputs": [],
   "source": []
  }
 ],
 "metadata": {
  "kernelspec": {
   "display_name": "Python 3",
   "language": "python",
   "name": "python3"
  },
  "language_info": {
   "codemirror_mode": {
    "name": "ipython",
    "version": 3
   },
   "file_extension": ".py",
   "mimetype": "text/x-python",
   "name": "python",
   "nbconvert_exporter": "python",
   "pygments_lexer": "ipython3",
   "version": "3.6.5"
  }
 },
 "nbformat": 4,
 "nbformat_minor": 2
}
