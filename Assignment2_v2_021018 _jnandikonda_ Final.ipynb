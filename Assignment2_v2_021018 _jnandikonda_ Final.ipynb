{
 "cells": [
  {
   "cell_type": "code",
   "execution_count": 1,
   "metadata": {},
   "outputs": [],
   "source": [
    "#########################################################################################################################\n",
    "# Set up the most basic analytics pipeline for the forecast project.                                 04-10.2018         #         \n",
    "#–Use close price as input                                                                                              #\n",
    "#–Create a label 1-day ahead                                                                                            # \n",
    "#–Train your linear model                                                                                               #\n",
    "#–Create a prediction                                                                                                   #\n",
    "#–Visualize prediction and price in same chart          \n",
    "########################################################################################################################\n",
    "# In this Assignment, we mainly focus on features and determining a decision, by\n",
    "# forecasting the Stock Prediction one-stepahead on the CLOSE(ed price) column\n",
    "# Applied a few averaging techniques that can be used for one-step ahead predictions\n",
    "########################################################################################################################                                                                                                                       #\n",
    "#                                                      Assignment -2    \n",
    "#\n",
    "#                                                                          Jyothi Nandikonda                                                    \n",
    "#                                                                                                   Course 1\n",
    "#########################################################################################################################\n"
   ]
  },
  {
   "cell_type": "code",
   "execution_count": 2,
   "metadata": {},
   "outputs": [],
   "source": [
    "#####################################################################################\n",
    "## Make sure that you have all these libaries available to run the code successfully\n",
    "####################################################################################\n",
    "\n",
    "import datetime as dt\n",
    "import pandas as pd\n",
    "import numpy as np\n",
    "import matplotlib\n",
    "import matplotlib.pyplot as plt"
   ]
  },
  {
   "cell_type": "code",
   "execution_count": 3,
   "metadata": {},
   "outputs": [],
   "source": [
    "##########################################\n",
    "# Importing the Data reader Library\n",
    "##########################################\n",
    "\n",
    "pd.core.common.is_list_like = pd.api.types.is_list_like\n",
    "from pandas_datareader.data import DataReader"
   ]
  },
  {
   "cell_type": "code",
   "execution_count": 4,
   "metadata": {},
   "outputs": [
    {
     "name": "stdout",
     "output_type": "stream",
     "text": [
      "2018-10-03 22:34:01.495205\n"
     ]
    }
   ],
   "source": [
    "###############################################\n",
    "# Retreiving the today's date from datetime\n",
    "#############################################\n",
    "end = dt.datetime.now()\n",
    "print(end) # to test what date it will print"
   ]
  },
  {
   "cell_type": "code",
   "execution_count": 5,
   "metadata": {},
   "outputs": [
    {
     "name": "stdout",
     "output_type": "stream",
     "text": [
      "2013-10-04 22:34:01.495205\n"
     ]
    }
   ],
   "source": [
    "########################################################\n",
    "# Taking 5 Years of Data , Eg: Staring from Today\n",
    "# Define the time frame of Stock , 5 yrs back from today\n",
    "#########################################################\n",
    "start = end - dt.timedelta(days=5*365) \n",
    "print(start)"
   ]
  },
  {
   "cell_type": "code",
   "execution_count": 6,
   "metadata": {},
   "outputs": [
    {
     "name": "stdout",
     "output_type": "stream",
     "text": [
      "5y\n"
     ]
    }
   ],
   "source": [
    "# Use DataReader to get APPLES Stock data from IEX\n",
    "# You get data from IEX in OHLC (OPEN,HIGH,LOW,CLOSE) + Vol format\n",
    "# Analyze data for a single stock 'AAPL'\n",
    "#\n",
    "df = DataReader('AAPL','iex',start,end)\n",
    "df = df.sort_values('date')"
   ]
  },
  {
   "cell_type": "code",
   "execution_count": 7,
   "metadata": {},
   "outputs": [
    {
     "data": {
      "text/html": [
       "<div>\n",
       "<style scoped>\n",
       "    .dataframe tbody tr th:only-of-type {\n",
       "        vertical-align: middle;\n",
       "    }\n",
       "\n",
       "    .dataframe tbody tr th {\n",
       "        vertical-align: top;\n",
       "    }\n",
       "\n",
       "    .dataframe thead th {\n",
       "        text-align: right;\n",
       "    }\n",
       "</style>\n",
       "<table border=\"1\" class=\"dataframe\">\n",
       "  <thead>\n",
       "    <tr style=\"text-align: right;\">\n",
       "      <th></th>\n",
       "      <th>open</th>\n",
       "      <th>high</th>\n",
       "      <th>low</th>\n",
       "      <th>close</th>\n",
       "      <th>volume</th>\n",
       "    </tr>\n",
       "    <tr>\n",
       "      <th>date</th>\n",
       "      <th></th>\n",
       "      <th></th>\n",
       "      <th></th>\n",
       "      <th></th>\n",
       "      <th></th>\n",
       "    </tr>\n",
       "  </thead>\n",
       "  <tbody>\n",
       "    <tr>\n",
       "      <th>2013-10-04</th>\n",
       "      <td>63.2909</td>\n",
       "      <td>63.3877</td>\n",
       "      <td>62.6029</td>\n",
       "      <td>63.1823</td>\n",
       "      <td>64673329</td>\n",
       "    </tr>\n",
       "    <tr>\n",
       "      <th>2013-10-07</th>\n",
       "      <td>63.6441</td>\n",
       "      <td>64.4407</td>\n",
       "      <td>63.4858</td>\n",
       "      <td>63.7997</td>\n",
       "      <td>77919884</td>\n",
       "    </tr>\n",
       "    <tr>\n",
       "      <th>2013-10-08</th>\n",
       "      <td>64.0862</td>\n",
       "      <td>64.1777</td>\n",
       "      <td>62.8566</td>\n",
       "      <td>62.9089</td>\n",
       "      <td>72418815</td>\n",
       "    </tr>\n",
       "    <tr>\n",
       "      <th>2013-10-09</th>\n",
       "      <td>63.3929</td>\n",
       "      <td>63.8050</td>\n",
       "      <td>62.5610</td>\n",
       "      <td>63.6477</td>\n",
       "      <td>75311488</td>\n",
       "    </tr>\n",
       "    <tr>\n",
       "      <th>2013-10-10</th>\n",
       "      <td>64.2667</td>\n",
       "      <td>64.4053</td>\n",
       "      <td>63.7068</td>\n",
       "      <td>64.0467</td>\n",
       "      <td>69650490</td>\n",
       "    </tr>\n",
       "  </tbody>\n",
       "</table>\n",
       "</div>"
      ],
      "text/plain": [
       "               open     high      low    close    volume\n",
       "date                                                    \n",
       "2013-10-04  63.2909  63.3877  62.6029  63.1823  64673329\n",
       "2013-10-07  63.6441  64.4407  63.4858  63.7997  77919884\n",
       "2013-10-08  64.0862  64.1777  62.8566  62.9089  72418815\n",
       "2013-10-09  63.3929  63.8050  62.5610  63.6477  75311488\n",
       "2013-10-10  64.2667  64.4053  63.7068  64.0467  69650490"
      ]
     },
     "execution_count": 7,
     "metadata": {},
     "output_type": "execute_result"
    }
   ],
   "source": [
    "df.head()\n",
    "#######################################################################\n",
    "# Prints the  First 5 rows of Open, High, Low, Close : Basically price \n",
    "#Stock prices come in several different flavours. \n",
    "#Each day has a record for:\n",
    "#Open: Opening stock price of the day\n",
    "#Close: Closing stock price of the day\n",
    "#High: Highest stock price of the data\n",
    "#Low: Lowest stock price of the day\n",
    "#– Each day also have a volume\n",
    "#######################################################################"
   ]
  },
  {
   "cell_type": "code",
   "execution_count": 8,
   "metadata": {},
   "outputs": [
    {
     "data": {
      "text/html": [
       "<div>\n",
       "<style scoped>\n",
       "    .dataframe tbody tr th:only-of-type {\n",
       "        vertical-align: middle;\n",
       "    }\n",
       "\n",
       "    .dataframe tbody tr th {\n",
       "        vertical-align: top;\n",
       "    }\n",
       "\n",
       "    .dataframe thead th {\n",
       "        text-align: right;\n",
       "    }\n",
       "</style>\n",
       "<table border=\"1\" class=\"dataframe\">\n",
       "  <thead>\n",
       "    <tr style=\"text-align: right;\">\n",
       "      <th></th>\n",
       "      <th>open</th>\n",
       "      <th>high</th>\n",
       "      <th>low</th>\n",
       "      <th>close</th>\n",
       "      <th>volume</th>\n",
       "      <th>label</th>\n",
       "    </tr>\n",
       "    <tr>\n",
       "      <th>date</th>\n",
       "      <th></th>\n",
       "      <th></th>\n",
       "      <th></th>\n",
       "      <th></th>\n",
       "      <th></th>\n",
       "      <th></th>\n",
       "    </tr>\n",
       "  </thead>\n",
       "  <tbody>\n",
       "    <tr>\n",
       "      <th>2013-10-04</th>\n",
       "      <td>63.2909</td>\n",
       "      <td>63.3877</td>\n",
       "      <td>62.6029</td>\n",
       "      <td>63.1823</td>\n",
       "      <td>64673329</td>\n",
       "      <td>63.7997</td>\n",
       "    </tr>\n",
       "    <tr>\n",
       "      <th>2013-10-07</th>\n",
       "      <td>63.6441</td>\n",
       "      <td>64.4407</td>\n",
       "      <td>63.4858</td>\n",
       "      <td>63.7997</td>\n",
       "      <td>77919884</td>\n",
       "      <td>62.9089</td>\n",
       "    </tr>\n",
       "    <tr>\n",
       "      <th>2013-10-08</th>\n",
       "      <td>64.0862</td>\n",
       "      <td>64.1777</td>\n",
       "      <td>62.8566</td>\n",
       "      <td>62.9089</td>\n",
       "      <td>72418815</td>\n",
       "      <td>63.6477</td>\n",
       "    </tr>\n",
       "    <tr>\n",
       "      <th>2013-10-09</th>\n",
       "      <td>63.3929</td>\n",
       "      <td>63.8050</td>\n",
       "      <td>62.5610</td>\n",
       "      <td>63.6477</td>\n",
       "      <td>75311488</td>\n",
       "      <td>64.0467</td>\n",
       "    </tr>\n",
       "    <tr>\n",
       "      <th>2013-10-10</th>\n",
       "      <td>64.2667</td>\n",
       "      <td>64.4053</td>\n",
       "      <td>63.7068</td>\n",
       "      <td>64.0467</td>\n",
       "      <td>69650490</td>\n",
       "      <td>64.4619</td>\n",
       "    </tr>\n",
       "  </tbody>\n",
       "</table>\n",
       "</div>"
      ],
      "text/plain": [
       "               open     high      low    close    volume    label\n",
       "date                                                             \n",
       "2013-10-04  63.2909  63.3877  62.6029  63.1823  64673329  63.7997\n",
       "2013-10-07  63.6441  64.4407  63.4858  63.7997  77919884  62.9089\n",
       "2013-10-08  64.0862  64.1777  62.8566  62.9089  72418815  63.6477\n",
       "2013-10-09  63.3929  63.8050  62.5610  63.6477  75311488  64.0467\n",
       "2013-10-10  64.2667  64.4053  63.7068  64.0467  69650490  64.4619"
      ]
     },
     "execution_count": 8,
     "metadata": {},
     "output_type": "execute_result"
    }
   ],
   "source": [
    "############################################################################ \n",
    "#creating a 1 day ahead forecast column for close price called label\n",
    "############################################################################\n",
    "df['label'] = df['close'].shift(-1)\n",
    "df.head()"
   ]
  },
  {
   "cell_type": "code",
   "execution_count": 9,
   "metadata": {},
   "outputs": [
    {
     "data": {
      "text/html": [
       "<div>\n",
       "<style scoped>\n",
       "    .dataframe tbody tr th:only-of-type {\n",
       "        vertical-align: middle;\n",
       "    }\n",
       "\n",
       "    .dataframe tbody tr th {\n",
       "        vertical-align: top;\n",
       "    }\n",
       "\n",
       "    .dataframe thead th {\n",
       "        text-align: right;\n",
       "    }\n",
       "</style>\n",
       "<table border=\"1\" class=\"dataframe\">\n",
       "  <thead>\n",
       "    <tr style=\"text-align: right;\">\n",
       "      <th></th>\n",
       "      <th>open</th>\n",
       "      <th>high</th>\n",
       "      <th>low</th>\n",
       "      <th>close</th>\n",
       "      <th>volume</th>\n",
       "      <th>label</th>\n",
       "    </tr>\n",
       "  </thead>\n",
       "  <tbody>\n",
       "    <tr>\n",
       "      <th>count</th>\n",
       "      <td>1258.000000</td>\n",
       "      <td>1258.000000</td>\n",
       "      <td>1258.000000</td>\n",
       "      <td>1258.000000</td>\n",
       "      <td>1.258000e+03</td>\n",
       "      <td>1257.000000</td>\n",
       "    </tr>\n",
       "    <tr>\n",
       "      <th>mean</th>\n",
       "      <td>121.139326</td>\n",
       "      <td>122.143403</td>\n",
       "      <td>120.163178</td>\n",
       "      <td>121.184956</td>\n",
       "      <td>4.468358e+07</td>\n",
       "      <td>121.231100</td>\n",
       "    </tr>\n",
       "    <tr>\n",
       "      <th>std</th>\n",
       "      <td>37.752974</td>\n",
       "      <td>38.039135</td>\n",
       "      <td>37.520671</td>\n",
       "      <td>37.789678</td>\n",
       "      <td>2.524602e+07</td>\n",
       "      <td>37.769247</td>\n",
       "    </tr>\n",
       "    <tr>\n",
       "      <th>min</th>\n",
       "      <td>63.290900</td>\n",
       "      <td>63.387700</td>\n",
       "      <td>62.561000</td>\n",
       "      <td>62.908900</td>\n",
       "      <td>1.147592e+07</td>\n",
       "      <td>62.908900</td>\n",
       "    </tr>\n",
       "    <tr>\n",
       "      <th>25%</th>\n",
       "      <td>93.773125</td>\n",
       "      <td>94.622950</td>\n",
       "      <td>93.140700</td>\n",
       "      <td>93.886650</td>\n",
       "      <td>2.663289e+07</td>\n",
       "      <td>93.899400</td>\n",
       "    </tr>\n",
       "    <tr>\n",
       "      <th>50%</th>\n",
       "      <td>110.657000</td>\n",
       "      <td>111.673300</td>\n",
       "      <td>109.745400</td>\n",
       "      <td>110.625350</td>\n",
       "      <td>3.783897e+07</td>\n",
       "      <td>110.677700</td>\n",
       "    </tr>\n",
       "    <tr>\n",
       "      <th>75%</th>\n",
       "      <td>150.256125</td>\n",
       "      <td>151.080750</td>\n",
       "      <td>148.876550</td>\n",
       "      <td>149.849300</td>\n",
       "      <td>5.583796e+07</td>\n",
       "      <td>149.876300</td>\n",
       "    </tr>\n",
       "    <tr>\n",
       "      <th>max</th>\n",
       "      <td>228.990000</td>\n",
       "      <td>230.000000</td>\n",
       "      <td>226.630000</td>\n",
       "      <td>229.280000</td>\n",
       "      <td>2.668336e+08</td>\n",
       "      <td>229.280000</td>\n",
       "    </tr>\n",
       "  </tbody>\n",
       "</table>\n",
       "</div>"
      ],
      "text/plain": [
       "              open         high          low        close        volume  \\\n",
       "count  1258.000000  1258.000000  1258.000000  1258.000000  1.258000e+03   \n",
       "mean    121.139326   122.143403   120.163178   121.184956  4.468358e+07   \n",
       "std      37.752974    38.039135    37.520671    37.789678  2.524602e+07   \n",
       "min      63.290900    63.387700    62.561000    62.908900  1.147592e+07   \n",
       "25%      93.773125    94.622950    93.140700    93.886650  2.663289e+07   \n",
       "50%     110.657000   111.673300   109.745400   110.625350  3.783897e+07   \n",
       "75%     150.256125   151.080750   148.876550   149.849300  5.583796e+07   \n",
       "max     228.990000   230.000000   226.630000   229.280000  2.668336e+08   \n",
       "\n",
       "             label  \n",
       "count  1257.000000  \n",
       "mean    121.231100  \n",
       "std      37.769247  \n",
       "min      62.908900  \n",
       "25%      93.899400  \n",
       "50%     110.677700  \n",
       "75%     149.876300  \n",
       "max     229.280000  "
      ]
     },
     "execution_count": 9,
     "metadata": {},
     "output_type": "execute_result"
    }
   ],
   "source": [
    "#####################################################################################\n",
    "# Look at data statistics, by running df.describe() on your columns in your dataframe.\n",
    "#####################################################################################\n",
    "df.describe()"
   ]
  },
  {
   "cell_type": "code",
   "execution_count": 10,
   "metadata": {},
   "outputs": [
    {
     "data": {
      "text/plain": [
       "(1258, 6)"
      ]
     },
     "execution_count": 10,
     "metadata": {},
     "output_type": "execute_result"
    }
   ],
   "source": [
    "df.shape"
   ]
  },
  {
   "cell_type": "code",
   "execution_count": 11,
   "metadata": {},
   "outputs": [
    {
     "data": {
      "text/html": [
       "<div>\n",
       "<style scoped>\n",
       "    .dataframe tbody tr th:only-of-type {\n",
       "        vertical-align: middle;\n",
       "    }\n",
       "\n",
       "    .dataframe tbody tr th {\n",
       "        vertical-align: top;\n",
       "    }\n",
       "\n",
       "    .dataframe thead th {\n",
       "        text-align: right;\n",
       "    }\n",
       "</style>\n",
       "<table border=\"1\" class=\"dataframe\">\n",
       "  <thead>\n",
       "    <tr style=\"text-align: right;\">\n",
       "      <th></th>\n",
       "      <th>open</th>\n",
       "      <th>high</th>\n",
       "      <th>low</th>\n",
       "      <th>close</th>\n",
       "      <th>volume</th>\n",
       "      <th>label</th>\n",
       "    </tr>\n",
       "    <tr>\n",
       "      <th>date</th>\n",
       "      <th></th>\n",
       "      <th></th>\n",
       "      <th></th>\n",
       "      <th></th>\n",
       "      <th></th>\n",
       "      <th></th>\n",
       "    </tr>\n",
       "  </thead>\n",
       "  <tbody>\n",
       "    <tr>\n",
       "      <th>2018-09-26</th>\n",
       "      <td>221.00</td>\n",
       "      <td>223.75</td>\n",
       "      <td>219.76</td>\n",
       "      <td>220.42</td>\n",
       "      <td>23984706</td>\n",
       "      <td>224.95</td>\n",
       "    </tr>\n",
       "    <tr>\n",
       "      <th>2018-09-27</th>\n",
       "      <td>223.82</td>\n",
       "      <td>226.44</td>\n",
       "      <td>223.54</td>\n",
       "      <td>224.95</td>\n",
       "      <td>30181227</td>\n",
       "      <td>225.74</td>\n",
       "    </tr>\n",
       "    <tr>\n",
       "      <th>2018-09-28</th>\n",
       "      <td>224.79</td>\n",
       "      <td>225.84</td>\n",
       "      <td>224.02</td>\n",
       "      <td>225.74</td>\n",
       "      <td>22929364</td>\n",
       "      <td>227.26</td>\n",
       "    </tr>\n",
       "    <tr>\n",
       "      <th>2018-10-01</th>\n",
       "      <td>227.95</td>\n",
       "      <td>229.42</td>\n",
       "      <td>226.35</td>\n",
       "      <td>227.26</td>\n",
       "      <td>23600802</td>\n",
       "      <td>229.28</td>\n",
       "    </tr>\n",
       "    <tr>\n",
       "      <th>2018-10-02</th>\n",
       "      <td>227.25</td>\n",
       "      <td>230.00</td>\n",
       "      <td>226.63</td>\n",
       "      <td>229.28</td>\n",
       "      <td>24788170</td>\n",
       "      <td>NaN</td>\n",
       "    </tr>\n",
       "  </tbody>\n",
       "</table>\n",
       "</div>"
      ],
      "text/plain": [
       "              open    high     low   close    volume   label\n",
       "date                                                        \n",
       "2018-09-26  221.00  223.75  219.76  220.42  23984706  224.95\n",
       "2018-09-27  223.82  226.44  223.54  224.95  30181227  225.74\n",
       "2018-09-28  224.79  225.84  224.02  225.74  22929364  227.26\n",
       "2018-10-01  227.95  229.42  226.35  227.26  23600802  229.28\n",
       "2018-10-02  227.25  230.00  226.63  229.28  24788170     NaN"
      ]
     },
     "execution_count": 11,
     "metadata": {},
     "output_type": "execute_result"
    }
   ],
   "source": [
    "#########################################################\n",
    "# Checking the Data Frame whether it has any NaN Values\n",
    "#########################################################\n",
    "df.tail()"
   ]
  },
  {
   "cell_type": "code",
   "execution_count": 12,
   "metadata": {},
   "outputs": [
    {
     "data": {
      "text/html": [
       "<div>\n",
       "<style scoped>\n",
       "    .dataframe tbody tr th:only-of-type {\n",
       "        vertical-align: middle;\n",
       "    }\n",
       "\n",
       "    .dataframe tbody tr th {\n",
       "        vertical-align: top;\n",
       "    }\n",
       "\n",
       "    .dataframe thead th {\n",
       "        text-align: right;\n",
       "    }\n",
       "</style>\n",
       "<table border=\"1\" class=\"dataframe\">\n",
       "  <thead>\n",
       "    <tr style=\"text-align: right;\">\n",
       "      <th></th>\n",
       "      <th>open</th>\n",
       "      <th>high</th>\n",
       "      <th>low</th>\n",
       "      <th>close</th>\n",
       "      <th>volume</th>\n",
       "      <th>label</th>\n",
       "    </tr>\n",
       "    <tr>\n",
       "      <th>date</th>\n",
       "      <th></th>\n",
       "      <th></th>\n",
       "      <th></th>\n",
       "      <th></th>\n",
       "      <th></th>\n",
       "      <th></th>\n",
       "    </tr>\n",
       "  </thead>\n",
       "  <tbody>\n",
       "    <tr>\n",
       "      <th>2018-09-25</th>\n",
       "      <td>219.75</td>\n",
       "      <td>222.82</td>\n",
       "      <td>219.70</td>\n",
       "      <td>222.19</td>\n",
       "      <td>24554379</td>\n",
       "      <td>220.42</td>\n",
       "    </tr>\n",
       "    <tr>\n",
       "      <th>2018-09-26</th>\n",
       "      <td>221.00</td>\n",
       "      <td>223.75</td>\n",
       "      <td>219.76</td>\n",
       "      <td>220.42</td>\n",
       "      <td>23984706</td>\n",
       "      <td>224.95</td>\n",
       "    </tr>\n",
       "    <tr>\n",
       "      <th>2018-09-27</th>\n",
       "      <td>223.82</td>\n",
       "      <td>226.44</td>\n",
       "      <td>223.54</td>\n",
       "      <td>224.95</td>\n",
       "      <td>30181227</td>\n",
       "      <td>225.74</td>\n",
       "    </tr>\n",
       "    <tr>\n",
       "      <th>2018-09-28</th>\n",
       "      <td>224.79</td>\n",
       "      <td>225.84</td>\n",
       "      <td>224.02</td>\n",
       "      <td>225.74</td>\n",
       "      <td>22929364</td>\n",
       "      <td>227.26</td>\n",
       "    </tr>\n",
       "    <tr>\n",
       "      <th>2018-10-01</th>\n",
       "      <td>227.95</td>\n",
       "      <td>229.42</td>\n",
       "      <td>226.35</td>\n",
       "      <td>227.26</td>\n",
       "      <td>23600802</td>\n",
       "      <td>229.28</td>\n",
       "    </tr>\n",
       "  </tbody>\n",
       "</table>\n",
       "</div>"
      ],
      "text/plain": [
       "              open    high     low   close    volume   label\n",
       "date                                                        \n",
       "2018-09-25  219.75  222.82  219.70  222.19  24554379  220.42\n",
       "2018-09-26  221.00  223.75  219.76  220.42  23984706  224.95\n",
       "2018-09-27  223.82  226.44  223.54  224.95  30181227  225.74\n",
       "2018-09-28  224.79  225.84  224.02  225.74  22929364  227.26\n",
       "2018-10-01  227.95  229.42  226.35  227.26  23600802  229.28"
      ]
     },
     "execution_count": 12,
     "metadata": {},
     "output_type": "execute_result"
    }
   ],
   "source": [
    "######################################################\n",
    "# Seems to be having Null Values, So good idea to drop the NaN's\n",
    "##############################################################\n",
    "df.dropna(inplace =True)\n",
    "df.tail() # Re Check, if they are gone"
   ]
  },
  {
   "cell_type": "code",
   "execution_count": 13,
   "metadata": {},
   "outputs": [],
   "source": [
    "from sklearn import model_selection\n",
    "from sklearn import preprocessing\n",
    "from sklearn.linear_model import LinearRegression, ElasticNet, ridge\n",
    "from sklearn.neural_network import MLPClassifier"
   ]
  },
  {
   "cell_type": "code",
   "execution_count": 14,
   "metadata": {},
   "outputs": [
    {
     "data": {
      "text/plain": [
       "1257"
      ]
     },
     "execution_count": 14,
     "metadata": {},
     "output_type": "execute_result"
    }
   ],
   "source": [
    "######################################\n",
    "# Lets Look at the lenth of the Data frame before we scale and preprocessing\n",
    "############################################################################\n",
    "#reshaping to make sure y has only 1 column to avoid errors\n",
    "len(df) "
   ]
  },
  {
   "cell_type": "code",
   "execution_count": 15,
   "metadata": {},
   "outputs": [
    {
     "name": "stdout",
     "output_type": "stream",
     "text": [
      "[[6.3290900e+01 6.3387700e+01 6.2602900e+01 6.3182300e+01 6.4673329e+07]\n",
      " [6.3644100e+01 6.4440700e+01 6.3485800e+01 6.3799700e+01 7.7919884e+07]\n",
      " [6.4086200e+01 6.4177700e+01 6.2856600e+01 6.2908900e+01 7.2418815e+07]\n",
      " ...\n",
      " [2.2382000e+02 2.2644000e+02 2.2354000e+02 2.2495000e+02 3.0181227e+07]\n",
      " [2.2479000e+02 2.2584000e+02 2.2402000e+02 2.2574000e+02 2.2929364e+07]\n",
      " [2.2795000e+02 2.2942000e+02 2.2635000e+02 2.2726000e+02 2.3600802e+07]]\n"
     ]
    }
   ],
   "source": [
    "###################################################\n",
    "# Assume, X will have the Input Data\n",
    "###################################################\n",
    "\n",
    "X = np.array(df.drop(['label'],1))\n",
    "###################################################\n",
    "# Printing to see what it contains\n",
    "print(X)"
   ]
  },
  {
   "cell_type": "code",
   "execution_count": 16,
   "metadata": {},
   "outputs": [
    {
     "name": "stdout",
     "output_type": "stream",
     "text": [
      "[ 63.7997  62.9089  63.6477 ... 225.74   227.26   229.28  ]\n"
     ]
    }
   ],
   "source": [
    "#######################################\n",
    "# here y will be the target\n",
    "############################################3\n",
    "y = np.array(df['label'])\n",
    "print(y)"
   ]
  },
  {
   "cell_type": "code",
   "execution_count": 17,
   "metadata": {},
   "outputs": [
    {
     "data": {
      "text/plain": [
       "array([[ 63.7997],\n",
       "       [ 62.9089],\n",
       "       [ 63.6477],\n",
       "       ...,\n",
       "       [225.74  ],\n",
       "       [227.26  ],\n",
       "       [229.28  ]])"
      ]
     },
     "execution_count": 17,
     "metadata": {},
     "output_type": "execute_result"
    }
   ],
   "source": [
    "#reshaping to make sure y has only 1 column to avoid errors\n",
    "y = y.reshape(-1,1)\n",
    "y"
   ]
  },
  {
   "cell_type": "code",
   "execution_count": 18,
   "metadata": {},
   "outputs": [],
   "source": [
    "from sklearn import model_selection\n",
    "from sklearn import preprocessing, svm\n",
    "from sklearn.model_selection import TimeSeriesSplit\n",
    "from sklearn.linear_model import LinearRegression, ElasticNet, ridge\n",
    "from sklearn.neural_network import MLPClassifier"
   ]
  },
  {
   "cell_type": "code",
   "execution_count": 19,
   "metadata": {},
   "outputs": [],
   "source": [
    "scalerx = preprocessing.StandardScaler().fit(X)\n",
    "scalery = preprocessing.StandardScaler().fit(y)"
   ]
  },
  {
   "cell_type": "code",
   "execution_count": 20,
   "metadata": {},
   "outputs": [],
   "source": [
    "X = scalerx.transform(X)\n",
    "y = scalery.transform(y)"
   ]
  },
  {
   "cell_type": "code",
   "execution_count": 21,
   "metadata": {},
   "outputs": [
    {
     "name": "stdout",
     "output_type": "stream",
     "text": [
      "[[-1.53488649 -1.54731635 -1.53677142 -1.53762185  0.79136682]\n",
      " [-1.52550137 -1.51954531 -1.5131646  -1.52123058  1.31619535]\n",
      " [-1.51375403 -1.52648148 -1.52998804 -1.54488031  1.09824299]\n",
      " ...\n",
      " [ 2.73064052  2.75290396  2.76633506  2.75712761 -0.57521032]\n",
      " [ 2.75641504  2.73708001  2.77916921  2.77810122 -0.86252914]\n",
      " [ 2.84038153  2.83149627  2.84146832  2.8184555  -0.83592676]]\n"
     ]
    }
   ],
   "source": [
    "############################\n",
    "# Print X\n",
    "#########################\n",
    "print (X)"
   ]
  },
  {
   "cell_type": "code",
   "execution_count": 22,
   "metadata": {},
   "outputs": [
    {
     "name": "stdout",
     "output_type": "stream",
     "text": [
      "[[-1.5211915 ]\n",
      " [-1.54478621]\n",
      " [-1.52521754]\n",
      " ...\n",
      " [ 2.7681382 ]\n",
      " [ 2.8083986 ]\n",
      " [ 2.86190255]]\n"
     ]
    }
   ],
   "source": [
    "############################\n",
    "# Print y\n",
    "#########################\n",
    "print(y)"
   ]
  },
  {
   "cell_type": "code",
   "execution_count": 23,
   "metadata": {},
   "outputs": [],
   "source": [
    "from sklearn.model_selection import TimeSeriesSplit"
   ]
  },
  {
   "cell_type": "code",
   "execution_count": 24,
   "metadata": {},
   "outputs": [],
   "source": [
    "################################################################\n",
    "# You need to split your dataset into two parts to understand how\n",
    "#  well your model perform.\n",
    "####################################################################\n",
    "tscv = TimeSeriesSplit(n_splits=5)"
   ]
  },
  {
   "cell_type": "code",
   "execution_count": 25,
   "metadata": {},
   "outputs": [],
   "source": [
    "#################################3333\n",
    "# Train on the In-Sample.\n",
    "# Test model based on out-of-sample. \n",
    "# Split the Data set into TRAIN and TEST\n",
    "########################################33\n",
    "for train_index, test_index in tscv.split(X):\n",
    "    X_train, X_test = X[train_index], X[test_index] # X_train and y_train follow the same ordering index\n",
    "    y_train, y_test = y[train_index], y[test_index] # Same for x_test and y_test"
   ]
  },
  {
   "cell_type": "code",
   "execution_count": 26,
   "metadata": {},
   "outputs": [],
   "source": [
    "#######################################\n",
    "# Two Arrays hold our Data here\n",
    "# X: Train data\n",
    "# y: Expected output\n",
    "#######################################"
   ]
  },
  {
   "cell_type": "code",
   "execution_count": 27,
   "metadata": {},
   "outputs": [
    {
     "data": {
      "text/plain": [
       "array([[-1.53488649, -1.54731635, -1.53677142, -1.53762185,  0.79136682],\n",
       "       [-1.52550137, -1.51954531, -1.5131646 , -1.52123058,  1.31619535],\n",
       "       [-1.51375403, -1.52648148, -1.52998804, -1.54488031,  1.09824299],\n",
       "       ...,\n",
       "       [ 1.36222585,  1.3404736 ,  1.33235126,  1.32760377, -0.7238814 ],\n",
       "       [ 1.31835601,  1.2896286 ,  1.20811132,  1.23337652, -0.12016917],\n",
       "       [ 1.26056262,  1.26928954,  1.24194803,  1.29558052, -0.12568213]])"
      ]
     },
     "execution_count": 27,
     "metadata": {},
     "output_type": "execute_result"
    }
   ],
   "source": [
    "X_train # Train Data"
   ]
  },
  {
   "cell_type": "code",
   "execution_count": 28,
   "metadata": {},
   "outputs": [
    {
     "data": {
      "text/plain": [
       "1048"
      ]
     },
     "execution_count": 28,
     "metadata": {},
     "output_type": "execute_result"
    }
   ],
   "source": [
    "len(X_train) # 80% Train Data: INPUT DATA"
   ]
  },
  {
   "cell_type": "code",
   "execution_count": 29,
   "metadata": {},
   "outputs": [
    {
     "data": {
      "text/plain": [
       "array([[ 1.2479517 ,  1.25703653,  1.24353358,  1.27458302, -0.19572752],\n",
       "       [ 1.31441543,  1.28180629,  1.2734024 ,  1.24177393, -0.48166123],\n",
       "       [ 1.22457129,  1.25312537,  1.24088921,  1.2375739 , -0.68737743],\n",
       "       ...,\n",
       "       [ 2.73064052,  2.75290396,  2.76633506,  2.75712761, -0.57521032],\n",
       "       [ 2.75641504,  2.73708001,  2.77916921,  2.77810122, -0.86252914],\n",
       "       [ 2.84038153,  2.83149627,  2.84146832,  2.8184555 , -0.83592676]])"
      ]
     },
     "execution_count": 29,
     "metadata": {},
     "output_type": "execute_result"
    }
   ],
   "source": [
    "X_test "
   ]
  },
  {
   "cell_type": "code",
   "execution_count": 30,
   "metadata": {},
   "outputs": [
    {
     "data": {
      "text/plain": [
       "209"
      ]
     },
     "execution_count": 30,
     "metadata": {},
     "output_type": "execute_result"
    }
   ],
   "source": [
    "len(X_test)"
   ]
  },
  {
   "cell_type": "code",
   "execution_count": 31,
   "metadata": {},
   "outputs": [
    {
     "data": {
      "text/plain": [
       "array([[-1.5211915 ],\n",
       "       [-1.54478621],\n",
       "       [-1.52521754],\n",
       "       ...,\n",
       "       [ 1.2270072 ],\n",
       "       [ 1.28906648],\n",
       "       [ 1.26811783]])"
      ]
     },
     "execution_count": 31,
     "metadata": {},
     "output_type": "execute_result"
    }
   ],
   "source": [
    "y_train"
   ]
  },
  {
   "cell_type": "code",
   "execution_count": 32,
   "metadata": {},
   "outputs": [
    {
     "data": {
      "text/plain": [
       "1048"
      ]
     },
     "execution_count": 32,
     "metadata": {},
     "output_type": "execute_result"
    }
   ],
   "source": [
    "len(y_train)"
   ]
  },
  {
   "cell_type": "code",
   "execution_count": 33,
   "metadata": {},
   "outputs": [
    {
     "data": {
      "text/plain": [
       "209"
      ]
     },
     "execution_count": 33,
     "metadata": {},
     "output_type": "execute_result"
    }
   ],
   "source": [
    "len(y_test)"
   ]
  },
  {
   "cell_type": "code",
   "execution_count": 34,
   "metadata": {},
   "outputs": [
    {
     "data": {
      "text/plain": [
       "0.9820748247342613"
      ]
     },
     "execution_count": 34,
     "metadata": {},
     "output_type": "execute_result"
    }
   ],
   "source": [
    "###############################################################################\n",
    "# Creating the  Model:  Linear Regression model\n",
    "#\n",
    "###############################################################################\n",
    "linear = LinearRegression()\n",
    "linear.fit(X_train,y_train)\n",
    "linear.score(X_test, y_test)"
   ]
  },
  {
   "cell_type": "code",
   "execution_count": 35,
   "metadata": {},
   "outputs": [
    {
     "data": {
      "text/plain": [
       "array([[ 1.2479517 ,  1.25703653,  1.24353358,  1.27458302, -0.19572752],\n",
       "       [ 1.31441543,  1.28180629,  1.2734024 ,  1.24177393, -0.48166123],\n",
       "       [ 1.22457129,  1.25312537,  1.24088921,  1.2375739 , -0.68737743],\n",
       "       [ 1.18358979,  1.21882959,  1.18960608,  1.22103926, -0.63944333],\n",
       "       [ 1.22378477,  1.22496665,  1.25437042,  1.22917649, -0.75381407]])"
      ]
     },
     "execution_count": 35,
     "metadata": {},
     "output_type": "execute_result"
    }
   ],
   "source": [
    "# First 5 features of the Testing data\n",
    "X_test[:5] #***"
   ]
  },
  {
   "cell_type": "code",
   "execution_count": 36,
   "metadata": {},
   "outputs": [],
   "source": [
    "###########################################################\n",
    "# .predict() is the model to predict the values of the input\n",
    "###########################################################\n",
    "prediction =  linear.predict(X_test)"
   ]
  },
  {
   "cell_type": "code",
   "execution_count": 37,
   "metadata": {},
   "outputs": [
    {
     "data": {
      "text/plain": [
       "array([[1.26548252],\n",
       "       [1.24231582],\n",
       "       [1.2401678 ],\n",
       "       [1.21659664],\n",
       "       [1.23086022]])"
      ]
     },
     "execution_count": 37,
     "metadata": {},
     "output_type": "execute_result"
    }
   ],
   "source": [
    "###########################################################\n",
    "# the first 5 predictions, compare to the feature set above\n",
    "###############################################################\n",
    "prediction[:5]"
   ]
  },
  {
   "cell_type": "code",
   "execution_count": 38,
   "metadata": {},
   "outputs": [
    {
     "data": {
      "text/plain": [
       "array([[1.23538507],\n",
       "       [1.23119481],\n",
       "       [1.21469864],\n",
       "       [1.22281694],\n",
       "       [1.2241254 ]])"
      ]
     },
     "execution_count": 38,
     "metadata": {},
     "output_type": "execute_result"
    }
   ],
   "source": [
    "# Here we can see actual labels were the featureset\n",
    "y_test[:5]"
   ]
  },
  {
   "cell_type": "code",
   "execution_count": 39,
   "metadata": {},
   "outputs": [
    {
     "data": {
      "image/png": "[encoded data removed]",
      "text/plain": [
       "<Figure size 432x288 with 1 Axes>"
      ]
     },
     "metadata": {},
     "output_type": "display_data"
    }
   ],
   "source": [
    "#scatter plot of observed and predicted values. There is a increasing linear regression between them.\n",
    "#####################################################33\n",
    "# Linear Regression Model\n",
    "#####################################################3\n",
    "import matplotlib.pyplot as plt\n",
    "plt.scatter(y_test,prediction)\n",
    "plt.xlabel(\"Input Observation values\")\n",
    "plt.ylabel(\"predicted values one step ahead\")\n",
    "plt.title(\"Linear Regression Model between oberved and predicted closing price\")\n",
    "plt.show()"
   ]
  },
  {
   "cell_type": "code",
   "execution_count": 40,
   "metadata": {},
   "outputs": [
    {
     "name": "stderr",
     "output_type": "stream",
     "text": [
      "C:\\Users\\jnandikonda\\Anaconda3\\lib\\site-packages\\matplotlib\\axes\\_axes.py:6462: UserWarning: The 'normed' kwarg is deprecated, and has been replaced by the 'density' kwarg.\n",
      "  warnings.warn(\"The 'normed' kwarg is deprecated, and has been \"\n"
     ]
    },
    {
     "data": {
      "text/plain": [
       "<matplotlib.axes._subplots.AxesSubplot at 0x18d4b00d438>"
      ]
     },
     "execution_count": 40,
     "metadata": {},
     "output_type": "execute_result"
    },
    {
     "data": {
      "image/png": "[encoded data removed]",
      "text/plain": [
       "<Figure size 432x288 with 1 Axes>"
      ]
     },
     "metadata": {},
     "output_type": "display_data"
    }
   ],
   "source": [
    "# Histogram plot of the residuals show that they are normally distributed.\n",
    "import seaborn as sns\n",
    "sns.distplot((y_test-prediction),axlabel = 'Residual')"
   ]
  },
  {
   "cell_type": "code",
   "execution_count": 41,
   "metadata": {},
   "outputs": [],
   "source": [
    "#scaling back the observed and predicted values from the model to the original range\n",
    "y_test_inv = scalery.inverse_transform(y_test)\n",
    "predict_inv = scalery.inverse_transform(prediction)"
   ]
  },
  {
   "cell_type": "code",
   "execution_count": 42,
   "metadata": {},
   "outputs": [],
   "source": [
    "#resetting the index\n",
    "df.reset_index(inplace=True)"
   ]
  },
  {
   "cell_type": "code",
   "execution_count": 43,
   "metadata": {},
   "outputs": [
    {
     "data": {
      "text/html": [
       "<iframe id=\"igraph\" scrolling=\"no\" style=\"border:none;\" seamless=\"seamless\" src=\"https://plot.ly/~jnandikonda/10.embed\" height=\"525px\" width=\"100%\"></iframe>"
      ],
      "text/plain": [
       "<plotly.tools.PlotlyDisplay object>"
      ]
     },
     "execution_count": 43,
     "metadata": {},
     "output_type": "execute_result"
    }
   ],
   "source": [
    "#################################################################################3333333333333333\n",
    "#\n",
    "# Visualizing the Price (Close price) and Prediction(+1 day forecast) on the same chart\n",
    "##########################################################################################33\n",
    "import plotly\n",
    "plotly.__version__\n",
    "import plotly.plotly as py\n",
    "plotly.tools.set_credentials_file(username='jnandikonda', api_key='LFuC6vc5wjwuPKQNvrXf')\n",
    "import plotly.graph_objs as go\n",
    "\n",
    "\n",
    "trace1 = go.Scatter(x=df.date,y=y_test_inv,name = 'observed close price')\n",
    "trace2 = go.Scatter(x=df.date,y=predict_inv,name = 'predicted price')\n",
    "data = [trace1,trace2]\n",
    "layout = go.Layout(title=\"Observed Vs predicted close price\", xaxis={'title':'Date'}, yaxis={'title':'Prices'})\n",
    "figure = go.Figure(data=data,layout=layout)\n",
    "py.iplot(figure,filename =\"Actual Vs predicted close price\")"
   ]
  },
  {
   "cell_type": "code",
   "execution_count": null,
   "metadata": {},
   "outputs": [],
   "source": []
  }
 ],
 "metadata": {
  "kernelspec": {
   "display_name": "Python 3",
   "language": "python",
   "name": "python3"
  },
  "language_info": {
   "codemirror_mode": {
    "name": "ipython",
    "version": 3
   },
   "file_extension": ".py",
   "mimetype": "text/x-python",
   "name": "python",
   "nbconvert_exporter": "python",
   "pygments_lexer": "ipython3",
   "version": "3.6.5"
  }
 },
 "nbformat": 4,
 "nbformat_minor": 2
}
