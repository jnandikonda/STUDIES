{
 "cells": [
  {
   "cell_type": "code",
   "execution_count": null,
   "metadata": {},
   "outputs": [],
   "source": [
    "##################################################################################################################3333\n",
    "#\n",
    "#                         COURSE: 2\n",
    "#                         Course Name: Machine Learning for Predictive Problems\n",
    "#                         Student Name: Jyothi Nandikonda\n",
    "#                         Homework: 1\n",
    "#                         Due Date: 02.11.18\n",
    "#\n",
    "##########################################################################################################################3"
   ]
  },
  {
   "cell_type": "markdown",
   "metadata": {},
   "source": [
    "Download the two different datasets (for white and red wines): https://archive.ics.uci.edu/ml/datasets/Wine+Quality. Create a new column for the type of wine (eg. 1 for red and 0 for white). Fuse them into one dataset (hint: Use pandas). Tasks:\n",
    "\n",
    "Use regression to predict the alcohol level of the wine.\n",
    "Use binary classification to predict the type of wine.\n",
    "Use multiclass classification to predict the quality of the wine.\n",
    "For each task test two classifiers, report accuracy with the default parameters. Perform some manual optimization of the parameters (at least 5 different values for each parameter) and plot the new obtained accuracy as a function of the chosen parameter (max. 2). Using your best result, plot the feature importance for the binary classification or the coefficient magnitudes for regression (hint: choose your classifier accordingly).\n",
    "\n",
    "You can work in small groups but you should submit your notebook individually."
   ]
  },
  {
   "cell_type": "code",
   "execution_count": 3,
   "metadata": {},
   "outputs": [],
   "source": [
    "import pandas as pd\n",
    "import numpy as np"
   ]
  },
  {
   "cell_type": "code",
   "execution_count": 4,
   "metadata": {},
   "outputs": [],
   "source": [
    "df_white_wine = pd.read_csv('winequality-white.csv', sep=';')"
   ]
  },
  {
   "cell_type": "code",
   "execution_count": 5,
   "metadata": {},
   "outputs": [],
   "source": [
    "df_red_wine = pd.read_csv('winequality-red.csv', sep=';')"
   ]
  },
  {
   "cell_type": "code",
   "execution_count": 6,
   "metadata": {},
   "outputs": [
    {
     "data": {
      "text/html": [
       "<div>\n",
       "<style scoped>\n",
       "    .dataframe tbody tr th:only-of-type {\n",
       "        vertical-align: middle;\n",
       "    }\n",
       "\n",
       "    .dataframe tbody tr th {\n",
       "        vertical-align: top;\n",
       "    }\n",
       "\n",
       "    .dataframe thead th {\n",
       "        text-align: right;\n",
       "    }\n",
       "</style>\n",
       "<table border=\"1\" class=\"dataframe\">\n",
       "  <thead>\n",
       "    <tr style=\"text-align: right;\">\n",
       "      <th></th>\n",
       "      <th>fixed acidity</th>\n",
       "      <th>volatile acidity</th>\n",
       "      <th>citric acid</th>\n",
       "      <th>residual sugar</th>\n",
       "      <th>chlorides</th>\n",
       "      <th>free sulfur dioxide</th>\n",
       "      <th>total sulfur dioxide</th>\n",
       "      <th>density</th>\n",
       "      <th>pH</th>\n",
       "      <th>sulphates</th>\n",
       "      <th>alcohol</th>\n",
       "      <th>quality</th>\n",
       "    </tr>\n",
       "  </thead>\n",
       "  <tbody>\n",
       "    <tr>\n",
       "      <th>0</th>\n",
       "      <td>7.4</td>\n",
       "      <td>0.70</td>\n",
       "      <td>0.00</td>\n",
       "      <td>1.9</td>\n",
       "      <td>0.076</td>\n",
       "      <td>11.0</td>\n",
       "      <td>34.0</td>\n",
       "      <td>0.9978</td>\n",
       "      <td>3.51</td>\n",
       "      <td>0.56</td>\n",
       "      <td>9.4</td>\n",
       "      <td>5</td>\n",
       "    </tr>\n",
       "    <tr>\n",
       "      <th>1</th>\n",
       "      <td>7.8</td>\n",
       "      <td>0.88</td>\n",
       "      <td>0.00</td>\n",
       "      <td>2.6</td>\n",
       "      <td>0.098</td>\n",
       "      <td>25.0</td>\n",
       "      <td>67.0</td>\n",
       "      <td>0.9968</td>\n",
       "      <td>3.20</td>\n",
       "      <td>0.68</td>\n",
       "      <td>9.8</td>\n",
       "      <td>5</td>\n",
       "    </tr>\n",
       "    <tr>\n",
       "      <th>2</th>\n",
       "      <td>7.8</td>\n",
       "      <td>0.76</td>\n",
       "      <td>0.04</td>\n",
       "      <td>2.3</td>\n",
       "      <td>0.092</td>\n",
       "      <td>15.0</td>\n",
       "      <td>54.0</td>\n",
       "      <td>0.9970</td>\n",
       "      <td>3.26</td>\n",
       "      <td>0.65</td>\n",
       "      <td>9.8</td>\n",
       "      <td>5</td>\n",
       "    </tr>\n",
       "    <tr>\n",
       "      <th>3</th>\n",
       "      <td>11.2</td>\n",
       "      <td>0.28</td>\n",
       "      <td>0.56</td>\n",
       "      <td>1.9</td>\n",
       "      <td>0.075</td>\n",
       "      <td>17.0</td>\n",
       "      <td>60.0</td>\n",
       "      <td>0.9980</td>\n",
       "      <td>3.16</td>\n",
       "      <td>0.58</td>\n",
       "      <td>9.8</td>\n",
       "      <td>6</td>\n",
       "    </tr>\n",
       "    <tr>\n",
       "      <th>4</th>\n",
       "      <td>7.4</td>\n",
       "      <td>0.70</td>\n",
       "      <td>0.00</td>\n",
       "      <td>1.9</td>\n",
       "      <td>0.076</td>\n",
       "      <td>11.0</td>\n",
       "      <td>34.0</td>\n",
       "      <td>0.9978</td>\n",
       "      <td>3.51</td>\n",
       "      <td>0.56</td>\n",
       "      <td>9.4</td>\n",
       "      <td>5</td>\n",
       "    </tr>\n",
       "  </tbody>\n",
       "</table>\n",
       "</div>"
      ],
      "text/plain": [
       "   fixed acidity  volatile acidity  citric acid  residual sugar  chlorides  \\\n",
       "0            7.4              0.70         0.00             1.9      0.076   \n",
       "1            7.8              0.88         0.00             2.6      0.098   \n",
       "2            7.8              0.76         0.04             2.3      0.092   \n",
       "3           11.2              0.28         0.56             1.9      0.075   \n",
       "4            7.4              0.70         0.00             1.9      0.076   \n",
       "\n",
       "   free sulfur dioxide  total sulfur dioxide  density    pH  sulphates  \\\n",
       "0                 11.0                  34.0   0.9978  3.51       0.56   \n",
       "1                 25.0                  67.0   0.9968  3.20       0.68   \n",
       "2                 15.0                  54.0   0.9970  3.26       0.65   \n",
       "3                 17.0                  60.0   0.9980  3.16       0.58   \n",
       "4                 11.0                  34.0   0.9978  3.51       0.56   \n",
       "\n",
       "   alcohol  quality  \n",
       "0      9.4        5  \n",
       "1      9.8        5  \n",
       "2      9.8        5  \n",
       "3      9.8        6  \n",
       "4      9.4        5  "
      ]
     },
     "execution_count": 6,
     "metadata": {},
     "output_type": "execute_result"
    }
   ],
   "source": [
    "df_red_wine.head()"
   ]
  },
  {
   "cell_type": "code",
   "execution_count": 7,
   "metadata": {},
   "outputs": [],
   "source": [
    "df_white_wine[\"wine_type\"] = 0\n",
    "df_red_wine[\"wine_type\"] = 1"
   ]
  },
  {
   "cell_type": "code",
   "execution_count": 8,
   "metadata": {},
   "outputs": [
    {
     "data": {
      "text/plain": [
       "4898"
      ]
     },
     "execution_count": 8,
     "metadata": {},
     "output_type": "execute_result"
    }
   ],
   "source": [
    "len(df_white_wine)"
   ]
  },
  {
   "cell_type": "code",
   "execution_count": 9,
   "metadata": {},
   "outputs": [
    {
     "data": {
      "text/plain": [
       "1599"
      ]
     },
     "execution_count": 9,
     "metadata": {},
     "output_type": "execute_result"
    }
   ],
   "source": [
    "len(df_red_wine)"
   ]
  },
  {
   "cell_type": "code",
   "execution_count": 10,
   "metadata": {},
   "outputs": [],
   "source": [
    "df = pd.concat([df_red_wine, df_white_wine], ignore_index=True, sort=True)"
   ]
  },
  {
   "cell_type": "code",
   "execution_count": 11,
   "metadata": {},
   "outputs": [
    {
     "data": {
      "text/html": [
       "<div>\n",
       "<style scoped>\n",
       "    .dataframe tbody tr th:only-of-type {\n",
       "        vertical-align: middle;\n",
       "    }\n",
       "\n",
       "    .dataframe tbody tr th {\n",
       "        vertical-align: top;\n",
       "    }\n",
       "\n",
       "    .dataframe thead th {\n",
       "        text-align: right;\n",
       "    }\n",
       "</style>\n",
       "<table border=\"1\" class=\"dataframe\">\n",
       "  <thead>\n",
       "    <tr style=\"text-align: right;\">\n",
       "      <th></th>\n",
       "      <th>alcohol</th>\n",
       "      <th>chlorides</th>\n",
       "      <th>citric acid</th>\n",
       "      <th>density</th>\n",
       "      <th>fixed acidity</th>\n",
       "      <th>free sulfur dioxide</th>\n",
       "      <th>pH</th>\n",
       "      <th>quality</th>\n",
       "      <th>residual sugar</th>\n",
       "      <th>sulphates</th>\n",
       "      <th>total sulfur dioxide</th>\n",
       "      <th>volatile acidity</th>\n",
       "      <th>wine_type</th>\n",
       "    </tr>\n",
       "  </thead>\n",
       "  <tbody>\n",
       "    <tr>\n",
       "      <th>0</th>\n",
       "      <td>9.4</td>\n",
       "      <td>0.076</td>\n",
       "      <td>0.00</td>\n",
       "      <td>0.9978</td>\n",
       "      <td>7.4</td>\n",
       "      <td>11.0</td>\n",
       "      <td>3.51</td>\n",
       "      <td>5</td>\n",
       "      <td>1.9</td>\n",
       "      <td>0.56</td>\n",
       "      <td>34.0</td>\n",
       "      <td>0.70</td>\n",
       "      <td>1</td>\n",
       "    </tr>\n",
       "    <tr>\n",
       "      <th>1</th>\n",
       "      <td>9.8</td>\n",
       "      <td>0.098</td>\n",
       "      <td>0.00</td>\n",
       "      <td>0.9968</td>\n",
       "      <td>7.8</td>\n",
       "      <td>25.0</td>\n",
       "      <td>3.20</td>\n",
       "      <td>5</td>\n",
       "      <td>2.6</td>\n",
       "      <td>0.68</td>\n",
       "      <td>67.0</td>\n",
       "      <td>0.88</td>\n",
       "      <td>1</td>\n",
       "    </tr>\n",
       "    <tr>\n",
       "      <th>2</th>\n",
       "      <td>9.8</td>\n",
       "      <td>0.092</td>\n",
       "      <td>0.04</td>\n",
       "      <td>0.9970</td>\n",
       "      <td>7.8</td>\n",
       "      <td>15.0</td>\n",
       "      <td>3.26</td>\n",
       "      <td>5</td>\n",
       "      <td>2.3</td>\n",
       "      <td>0.65</td>\n",
       "      <td>54.0</td>\n",
       "      <td>0.76</td>\n",
       "      <td>1</td>\n",
       "    </tr>\n",
       "    <tr>\n",
       "      <th>3</th>\n",
       "      <td>9.8</td>\n",
       "      <td>0.075</td>\n",
       "      <td>0.56</td>\n",
       "      <td>0.9980</td>\n",
       "      <td>11.2</td>\n",
       "      <td>17.0</td>\n",
       "      <td>3.16</td>\n",
       "      <td>6</td>\n",
       "      <td>1.9</td>\n",
       "      <td>0.58</td>\n",
       "      <td>60.0</td>\n",
       "      <td>0.28</td>\n",
       "      <td>1</td>\n",
       "    </tr>\n",
       "    <tr>\n",
       "      <th>4</th>\n",
       "      <td>9.4</td>\n",
       "      <td>0.076</td>\n",
       "      <td>0.00</td>\n",
       "      <td>0.9978</td>\n",
       "      <td>7.4</td>\n",
       "      <td>11.0</td>\n",
       "      <td>3.51</td>\n",
       "      <td>5</td>\n",
       "      <td>1.9</td>\n",
       "      <td>0.56</td>\n",
       "      <td>34.0</td>\n",
       "      <td>0.70</td>\n",
       "      <td>1</td>\n",
       "    </tr>\n",
       "  </tbody>\n",
       "</table>\n",
       "</div>"
      ],
      "text/plain": [
       "   alcohol  chlorides  citric acid  density  fixed acidity  \\\n",
       "0      9.4      0.076         0.00   0.9978            7.4   \n",
       "1      9.8      0.098         0.00   0.9968            7.8   \n",
       "2      9.8      0.092         0.04   0.9970            7.8   \n",
       "3      9.8      0.075         0.56   0.9980           11.2   \n",
       "4      9.4      0.076         0.00   0.9978            7.4   \n",
       "\n",
       "   free sulfur dioxide    pH  quality  residual sugar  sulphates  \\\n",
       "0                 11.0  3.51        5             1.9       0.56   \n",
       "1                 25.0  3.20        5             2.6       0.68   \n",
       "2                 15.0  3.26        5             2.3       0.65   \n",
       "3                 17.0  3.16        6             1.9       0.58   \n",
       "4                 11.0  3.51        5             1.9       0.56   \n",
       "\n",
       "   total sulfur dioxide  volatile acidity  wine_type  \n",
       "0                  34.0              0.70          1  \n",
       "1                  67.0              0.88          1  \n",
       "2                  54.0              0.76          1  \n",
       "3                  60.0              0.28          1  \n",
       "4                  34.0              0.70          1  "
      ]
     },
     "execution_count": 11,
     "metadata": {},
     "output_type": "execute_result"
    }
   ],
   "source": [
    "df.head()"
   ]
  },
  {
   "cell_type": "code",
   "execution_count": 12,
   "metadata": {},
   "outputs": [
    {
     "data": {
      "text/html": [
       "<div>\n",
       "<style scoped>\n",
       "    .dataframe tbody tr th:only-of-type {\n",
       "        vertical-align: middle;\n",
       "    }\n",
       "\n",
       "    .dataframe tbody tr th {\n",
       "        vertical-align: top;\n",
       "    }\n",
       "\n",
       "    .dataframe thead th {\n",
       "        text-align: right;\n",
       "    }\n",
       "</style>\n",
       "<table border=\"1\" class=\"dataframe\">\n",
       "  <thead>\n",
       "    <tr style=\"text-align: right;\">\n",
       "      <th></th>\n",
       "      <th>alcohol</th>\n",
       "      <th>chlorides</th>\n",
       "      <th>citric acid</th>\n",
       "      <th>density</th>\n",
       "      <th>fixed acidity</th>\n",
       "      <th>free sulfur dioxide</th>\n",
       "      <th>pH</th>\n",
       "      <th>quality</th>\n",
       "      <th>residual sugar</th>\n",
       "      <th>sulphates</th>\n",
       "      <th>total sulfur dioxide</th>\n",
       "      <th>volatile acidity</th>\n",
       "      <th>wine_type</th>\n",
       "    </tr>\n",
       "  </thead>\n",
       "  <tbody>\n",
       "    <tr>\n",
       "      <th>6492</th>\n",
       "      <td>11.2</td>\n",
       "      <td>0.039</td>\n",
       "      <td>0.29</td>\n",
       "      <td>0.99114</td>\n",
       "      <td>6.2</td>\n",
       "      <td>24.0</td>\n",
       "      <td>3.27</td>\n",
       "      <td>6</td>\n",
       "      <td>1.6</td>\n",
       "      <td>0.50</td>\n",
       "      <td>92.0</td>\n",
       "      <td>0.21</td>\n",
       "      <td>0</td>\n",
       "    </tr>\n",
       "    <tr>\n",
       "      <th>6493</th>\n",
       "      <td>9.6</td>\n",
       "      <td>0.047</td>\n",
       "      <td>0.36</td>\n",
       "      <td>0.99490</td>\n",
       "      <td>6.6</td>\n",
       "      <td>57.0</td>\n",
       "      <td>3.15</td>\n",
       "      <td>5</td>\n",
       "      <td>8.0</td>\n",
       "      <td>0.46</td>\n",
       "      <td>168.0</td>\n",
       "      <td>0.32</td>\n",
       "      <td>0</td>\n",
       "    </tr>\n",
       "    <tr>\n",
       "      <th>6494</th>\n",
       "      <td>9.4</td>\n",
       "      <td>0.041</td>\n",
       "      <td>0.19</td>\n",
       "      <td>0.99254</td>\n",
       "      <td>6.5</td>\n",
       "      <td>30.0</td>\n",
       "      <td>2.99</td>\n",
       "      <td>6</td>\n",
       "      <td>1.2</td>\n",
       "      <td>0.46</td>\n",
       "      <td>111.0</td>\n",
       "      <td>0.24</td>\n",
       "      <td>0</td>\n",
       "    </tr>\n",
       "    <tr>\n",
       "      <th>6495</th>\n",
       "      <td>12.8</td>\n",
       "      <td>0.022</td>\n",
       "      <td>0.30</td>\n",
       "      <td>0.98869</td>\n",
       "      <td>5.5</td>\n",
       "      <td>20.0</td>\n",
       "      <td>3.34</td>\n",
       "      <td>7</td>\n",
       "      <td>1.1</td>\n",
       "      <td>0.38</td>\n",
       "      <td>110.0</td>\n",
       "      <td>0.29</td>\n",
       "      <td>0</td>\n",
       "    </tr>\n",
       "    <tr>\n",
       "      <th>6496</th>\n",
       "      <td>11.8</td>\n",
       "      <td>0.020</td>\n",
       "      <td>0.38</td>\n",
       "      <td>0.98941</td>\n",
       "      <td>6.0</td>\n",
       "      <td>22.0</td>\n",
       "      <td>3.26</td>\n",
       "      <td>6</td>\n",
       "      <td>0.8</td>\n",
       "      <td>0.32</td>\n",
       "      <td>98.0</td>\n",
       "      <td>0.21</td>\n",
       "      <td>0</td>\n",
       "    </tr>\n",
       "  </tbody>\n",
       "</table>\n",
       "</div>"
      ],
      "text/plain": [
       "      alcohol  chlorides  citric acid  density  fixed acidity  \\\n",
       "6492     11.2      0.039         0.29  0.99114            6.2   \n",
       "6493      9.6      0.047         0.36  0.99490            6.6   \n",
       "6494      9.4      0.041         0.19  0.99254            6.5   \n",
       "6495     12.8      0.022         0.30  0.98869            5.5   \n",
       "6496     11.8      0.020         0.38  0.98941            6.0   \n",
       "\n",
       "      free sulfur dioxide    pH  quality  residual sugar  sulphates  \\\n",
       "6492                 24.0  3.27        6             1.6       0.50   \n",
       "6493                 57.0  3.15        5             8.0       0.46   \n",
       "6494                 30.0  2.99        6             1.2       0.46   \n",
       "6495                 20.0  3.34        7             1.1       0.38   \n",
       "6496                 22.0  3.26        6             0.8       0.32   \n",
       "\n",
       "      total sulfur dioxide  volatile acidity  wine_type  \n",
       "6492                  92.0              0.21          0  \n",
       "6493                 168.0              0.32          0  \n",
       "6494                 111.0              0.24          0  \n",
       "6495                 110.0              0.29          0  \n",
       "6496                  98.0              0.21          0  "
      ]
     },
     "execution_count": 12,
     "metadata": {},
     "output_type": "execute_result"
    }
   ],
   "source": [
    "df.tail()"
   ]
  },
  {
   "cell_type": "code",
   "execution_count": 13,
   "metadata": {},
   "outputs": [
    {
     "data": {
      "text/plain": [
       "6497"
      ]
     },
     "execution_count": 13,
     "metadata": {},
     "output_type": "execute_result"
    }
   ],
   "source": [
    "len(df)"
   ]
  },
  {
   "cell_type": "code",
   "execution_count": 14,
   "metadata": {},
   "outputs": [],
   "source": [
    "from sklearn.utils import shuffle\n",
    "df = shuffle(df)"
   ]
  },
  {
   "cell_type": "code",
   "execution_count": 15,
   "metadata": {},
   "outputs": [
    {
     "data": {
      "text/html": [
       "<div>\n",
       "<style scoped>\n",
       "    .dataframe tbody tr th:only-of-type {\n",
       "        vertical-align: middle;\n",
       "    }\n",
       "\n",
       "    .dataframe tbody tr th {\n",
       "        vertical-align: top;\n",
       "    }\n",
       "\n",
       "    .dataframe thead th {\n",
       "        text-align: right;\n",
       "    }\n",
       "</style>\n",
       "<table border=\"1\" class=\"dataframe\">\n",
       "  <thead>\n",
       "    <tr style=\"text-align: right;\">\n",
       "      <th></th>\n",
       "      <th>alcohol</th>\n",
       "      <th>chlorides</th>\n",
       "      <th>citric acid</th>\n",
       "      <th>density</th>\n",
       "      <th>fixed acidity</th>\n",
       "      <th>free sulfur dioxide</th>\n",
       "      <th>pH</th>\n",
       "      <th>quality</th>\n",
       "      <th>residual sugar</th>\n",
       "      <th>sulphates</th>\n",
       "      <th>total sulfur dioxide</th>\n",
       "      <th>volatile acidity</th>\n",
       "      <th>wine_type</th>\n",
       "    </tr>\n",
       "  </thead>\n",
       "  <tbody>\n",
       "    <tr>\n",
       "      <th>2320</th>\n",
       "      <td>10.4</td>\n",
       "      <td>0.046</td>\n",
       "      <td>0.44</td>\n",
       "      <td>0.99455</td>\n",
       "      <td>6.0</td>\n",
       "      <td>15.0</td>\n",
       "      <td>3.50</td>\n",
       "      <td>5</td>\n",
       "      <td>1.5</td>\n",
       "      <td>0.52</td>\n",
       "      <td>182.0</td>\n",
       "      <td>0.30</td>\n",
       "      <td>0</td>\n",
       "    </tr>\n",
       "    <tr>\n",
       "      <th>1905</th>\n",
       "      <td>9.9</td>\n",
       "      <td>0.058</td>\n",
       "      <td>0.24</td>\n",
       "      <td>0.99500</td>\n",
       "      <td>7.2</td>\n",
       "      <td>40.0</td>\n",
       "      <td>3.20</td>\n",
       "      <td>5</td>\n",
       "      <td>6.7</td>\n",
       "      <td>0.41</td>\n",
       "      <td>163.0</td>\n",
       "      <td>0.43</td>\n",
       "      <td>0</td>\n",
       "    </tr>\n",
       "    <tr>\n",
       "      <th>2472</th>\n",
       "      <td>9.6</td>\n",
       "      <td>0.037</td>\n",
       "      <td>0.47</td>\n",
       "      <td>0.99390</td>\n",
       "      <td>10.3</td>\n",
       "      <td>5.0</td>\n",
       "      <td>2.89</td>\n",
       "      <td>3</td>\n",
       "      <td>1.4</td>\n",
       "      <td>0.28</td>\n",
       "      <td>33.0</td>\n",
       "      <td>0.17</td>\n",
       "      <td>0</td>\n",
       "    </tr>\n",
       "    <tr>\n",
       "      <th>2078</th>\n",
       "      <td>10.4</td>\n",
       "      <td>0.041</td>\n",
       "      <td>0.33</td>\n",
       "      <td>0.99280</td>\n",
       "      <td>6.3</td>\n",
       "      <td>67.0</td>\n",
       "      <td>3.32</td>\n",
       "      <td>6</td>\n",
       "      <td>1.7</td>\n",
       "      <td>0.56</td>\n",
       "      <td>164.0</td>\n",
       "      <td>0.22</td>\n",
       "      <td>0</td>\n",
       "    </tr>\n",
       "    <tr>\n",
       "      <th>3594</th>\n",
       "      <td>8.9</td>\n",
       "      <td>0.055</td>\n",
       "      <td>0.38</td>\n",
       "      <td>1.00040</td>\n",
       "      <td>8.4</td>\n",
       "      <td>51.0</td>\n",
       "      <td>3.34</td>\n",
       "      <td>6</td>\n",
       "      <td>11.8</td>\n",
       "      <td>0.82</td>\n",
       "      <td>170.0</td>\n",
       "      <td>0.20</td>\n",
       "      <td>0</td>\n",
       "    </tr>\n",
       "  </tbody>\n",
       "</table>\n",
       "</div>"
      ],
      "text/plain": [
       "      alcohol  chlorides  citric acid  density  fixed acidity  \\\n",
       "2320     10.4      0.046         0.44  0.99455            6.0   \n",
       "1905      9.9      0.058         0.24  0.99500            7.2   \n",
       "2472      9.6      0.037         0.47  0.99390           10.3   \n",
       "2078     10.4      0.041         0.33  0.99280            6.3   \n",
       "3594      8.9      0.055         0.38  1.00040            8.4   \n",
       "\n",
       "      free sulfur dioxide    pH  quality  residual sugar  sulphates  \\\n",
       "2320                 15.0  3.50        5             1.5       0.52   \n",
       "1905                 40.0  3.20        5             6.7       0.41   \n",
       "2472                  5.0  2.89        3             1.4       0.28   \n",
       "2078                 67.0  3.32        6             1.7       0.56   \n",
       "3594                 51.0  3.34        6            11.8       0.82   \n",
       "\n",
       "      total sulfur dioxide  volatile acidity  wine_type  \n",
       "2320                 182.0              0.30          0  \n",
       "1905                 163.0              0.43          0  \n",
       "2472                  33.0              0.17          0  \n",
       "2078                 164.0              0.22          0  \n",
       "3594                 170.0              0.20          0  "
      ]
     },
     "execution_count": 15,
     "metadata": {},
     "output_type": "execute_result"
    }
   ],
   "source": [
    "df.head()"
   ]
  },
  {
   "cell_type": "code",
   "execution_count": 16,
   "metadata": {},
   "outputs": [],
   "source": [
    "df.reset_index(drop=True, inplace=True)"
   ]
  },
  {
   "cell_type": "code",
   "execution_count": 17,
   "metadata": {},
   "outputs": [
    {
     "data": {
      "text/html": [
       "<div>\n",
       "<style scoped>\n",
       "    .dataframe tbody tr th:only-of-type {\n",
       "        vertical-align: middle;\n",
       "    }\n",
       "\n",
       "    .dataframe tbody tr th {\n",
       "        vertical-align: top;\n",
       "    }\n",
       "\n",
       "    .dataframe thead th {\n",
       "        text-align: right;\n",
       "    }\n",
       "</style>\n",
       "<table border=\"1\" class=\"dataframe\">\n",
       "  <thead>\n",
       "    <tr style=\"text-align: right;\">\n",
       "      <th></th>\n",
       "      <th>alcohol</th>\n",
       "      <th>chlorides</th>\n",
       "      <th>citric acid</th>\n",
       "      <th>density</th>\n",
       "      <th>fixed acidity</th>\n",
       "      <th>free sulfur dioxide</th>\n",
       "      <th>pH</th>\n",
       "      <th>quality</th>\n",
       "      <th>residual sugar</th>\n",
       "      <th>sulphates</th>\n",
       "      <th>total sulfur dioxide</th>\n",
       "      <th>volatile acidity</th>\n",
       "      <th>wine_type</th>\n",
       "    </tr>\n",
       "  </thead>\n",
       "  <tbody>\n",
       "    <tr>\n",
       "      <th>0</th>\n",
       "      <td>10.4</td>\n",
       "      <td>0.046</td>\n",
       "      <td>0.44</td>\n",
       "      <td>0.99455</td>\n",
       "      <td>6.0</td>\n",
       "      <td>15.0</td>\n",
       "      <td>3.50</td>\n",
       "      <td>5</td>\n",
       "      <td>1.50</td>\n",
       "      <td>0.52</td>\n",
       "      <td>182.0</td>\n",
       "      <td>0.300</td>\n",
       "      <td>0</td>\n",
       "    </tr>\n",
       "    <tr>\n",
       "      <th>1</th>\n",
       "      <td>9.9</td>\n",
       "      <td>0.058</td>\n",
       "      <td>0.24</td>\n",
       "      <td>0.99500</td>\n",
       "      <td>7.2</td>\n",
       "      <td>40.0</td>\n",
       "      <td>3.20</td>\n",
       "      <td>5</td>\n",
       "      <td>6.70</td>\n",
       "      <td>0.41</td>\n",
       "      <td>163.0</td>\n",
       "      <td>0.430</td>\n",
       "      <td>0</td>\n",
       "    </tr>\n",
       "    <tr>\n",
       "      <th>2</th>\n",
       "      <td>9.6</td>\n",
       "      <td>0.037</td>\n",
       "      <td>0.47</td>\n",
       "      <td>0.99390</td>\n",
       "      <td>10.3</td>\n",
       "      <td>5.0</td>\n",
       "      <td>2.89</td>\n",
       "      <td>3</td>\n",
       "      <td>1.40</td>\n",
       "      <td>0.28</td>\n",
       "      <td>33.0</td>\n",
       "      <td>0.170</td>\n",
       "      <td>0</td>\n",
       "    </tr>\n",
       "    <tr>\n",
       "      <th>3</th>\n",
       "      <td>10.4</td>\n",
       "      <td>0.041</td>\n",
       "      <td>0.33</td>\n",
       "      <td>0.99280</td>\n",
       "      <td>6.3</td>\n",
       "      <td>67.0</td>\n",
       "      <td>3.32</td>\n",
       "      <td>6</td>\n",
       "      <td>1.70</td>\n",
       "      <td>0.56</td>\n",
       "      <td>164.0</td>\n",
       "      <td>0.220</td>\n",
       "      <td>0</td>\n",
       "    </tr>\n",
       "    <tr>\n",
       "      <th>4</th>\n",
       "      <td>8.9</td>\n",
       "      <td>0.055</td>\n",
       "      <td>0.38</td>\n",
       "      <td>1.00040</td>\n",
       "      <td>8.4</td>\n",
       "      <td>51.0</td>\n",
       "      <td>3.34</td>\n",
       "      <td>6</td>\n",
       "      <td>11.80</td>\n",
       "      <td>0.82</td>\n",
       "      <td>170.0</td>\n",
       "      <td>0.200</td>\n",
       "      <td>0</td>\n",
       "    </tr>\n",
       "    <tr>\n",
       "      <th>5</th>\n",
       "      <td>11.1</td>\n",
       "      <td>0.030</td>\n",
       "      <td>0.25</td>\n",
       "      <td>0.99120</td>\n",
       "      <td>6.2</td>\n",
       "      <td>35.0</td>\n",
       "      <td>3.30</td>\n",
       "      <td>7</td>\n",
       "      <td>1.40</td>\n",
       "      <td>0.44</td>\n",
       "      <td>105.0</td>\n",
       "      <td>0.250</td>\n",
       "      <td>0</td>\n",
       "    </tr>\n",
       "    <tr>\n",
       "      <th>6</th>\n",
       "      <td>9.5</td>\n",
       "      <td>0.073</td>\n",
       "      <td>0.02</td>\n",
       "      <td>0.99680</td>\n",
       "      <td>7.8</td>\n",
       "      <td>9.0</td>\n",
       "      <td>3.36</td>\n",
       "      <td>7</td>\n",
       "      <td>2.00</td>\n",
       "      <td>0.57</td>\n",
       "      <td>18.0</td>\n",
       "      <td>0.580</td>\n",
       "      <td>1</td>\n",
       "    </tr>\n",
       "    <tr>\n",
       "      <th>7</th>\n",
       "      <td>11.4</td>\n",
       "      <td>0.036</td>\n",
       "      <td>0.33</td>\n",
       "      <td>0.99058</td>\n",
       "      <td>6.7</td>\n",
       "      <td>36.0</td>\n",
       "      <td>3.10</td>\n",
       "      <td>6</td>\n",
       "      <td>1.20</td>\n",
       "      <td>0.76</td>\n",
       "      <td>86.0</td>\n",
       "      <td>0.220</td>\n",
       "      <td>0</td>\n",
       "    </tr>\n",
       "    <tr>\n",
       "      <th>8</th>\n",
       "      <td>12.3</td>\n",
       "      <td>0.074</td>\n",
       "      <td>0.46</td>\n",
       "      <td>0.99649</td>\n",
       "      <td>9.7</td>\n",
       "      <td>5.0</td>\n",
       "      <td>3.27</td>\n",
       "      <td>6</td>\n",
       "      <td>2.10</td>\n",
       "      <td>0.74</td>\n",
       "      <td>16.0</td>\n",
       "      <td>0.420</td>\n",
       "      <td>1</td>\n",
       "    </tr>\n",
       "    <tr>\n",
       "      <th>9</th>\n",
       "      <td>8.7</td>\n",
       "      <td>0.056</td>\n",
       "      <td>0.40</td>\n",
       "      <td>0.99670</td>\n",
       "      <td>7.9</td>\n",
       "      <td>11.0</td>\n",
       "      <td>3.32</td>\n",
       "      <td>6</td>\n",
       "      <td>1.60</td>\n",
       "      <td>0.87</td>\n",
       "      <td>25.0</td>\n",
       "      <td>0.240</td>\n",
       "      <td>1</td>\n",
       "    </tr>\n",
       "    <tr>\n",
       "      <th>10</th>\n",
       "      <td>11.3</td>\n",
       "      <td>0.031</td>\n",
       "      <td>0.24</td>\n",
       "      <td>0.99480</td>\n",
       "      <td>7.7</td>\n",
       "      <td>41.0</td>\n",
       "      <td>3.12</td>\n",
       "      <td>7</td>\n",
       "      <td>11.20</td>\n",
       "      <td>0.43</td>\n",
       "      <td>167.0</td>\n",
       "      <td>0.440</td>\n",
       "      <td>0</td>\n",
       "    </tr>\n",
       "    <tr>\n",
       "      <th>11</th>\n",
       "      <td>11.9</td>\n",
       "      <td>0.036</td>\n",
       "      <td>0.39</td>\n",
       "      <td>0.99000</td>\n",
       "      <td>6.5</td>\n",
       "      <td>41.0</td>\n",
       "      <td>3.19</td>\n",
       "      <td>7</td>\n",
       "      <td>1.90</td>\n",
       "      <td>0.43</td>\n",
       "      <td>98.0</td>\n",
       "      <td>0.230</td>\n",
       "      <td>0</td>\n",
       "    </tr>\n",
       "    <tr>\n",
       "      <th>12</th>\n",
       "      <td>10.1</td>\n",
       "      <td>0.050</td>\n",
       "      <td>0.40</td>\n",
       "      <td>0.99510</td>\n",
       "      <td>8.1</td>\n",
       "      <td>30.0</td>\n",
       "      <td>3.26</td>\n",
       "      <td>6</td>\n",
       "      <td>6.90</td>\n",
       "      <td>0.44</td>\n",
       "      <td>97.0</td>\n",
       "      <td>0.280</td>\n",
       "      <td>0</td>\n",
       "    </tr>\n",
       "    <tr>\n",
       "      <th>13</th>\n",
       "      <td>10.7</td>\n",
       "      <td>0.030</td>\n",
       "      <td>0.27</td>\n",
       "      <td>0.99388</td>\n",
       "      <td>6.2</td>\n",
       "      <td>26.0</td>\n",
       "      <td>3.20</td>\n",
       "      <td>6</td>\n",
       "      <td>10.30</td>\n",
       "      <td>0.36</td>\n",
       "      <td>108.0</td>\n",
       "      <td>0.280</td>\n",
       "      <td>0</td>\n",
       "    </tr>\n",
       "    <tr>\n",
       "      <th>14</th>\n",
       "      <td>10.3</td>\n",
       "      <td>0.060</td>\n",
       "      <td>0.29</td>\n",
       "      <td>0.99572</td>\n",
       "      <td>7.7</td>\n",
       "      <td>27.0</td>\n",
       "      <td>3.49</td>\n",
       "      <td>6</td>\n",
       "      <td>4.80</td>\n",
       "      <td>0.59</td>\n",
       "      <td>156.0</td>\n",
       "      <td>0.290</td>\n",
       "      <td>0</td>\n",
       "    </tr>\n",
       "    <tr>\n",
       "      <th>15</th>\n",
       "      <td>12.0</td>\n",
       "      <td>0.031</td>\n",
       "      <td>0.38</td>\n",
       "      <td>0.98956</td>\n",
       "      <td>6.2</td>\n",
       "      <td>20.0</td>\n",
       "      <td>3.06</td>\n",
       "      <td>7</td>\n",
       "      <td>3.20</td>\n",
       "      <td>0.33</td>\n",
       "      <td>89.0</td>\n",
       "      <td>0.360</td>\n",
       "      <td>0</td>\n",
       "    </tr>\n",
       "    <tr>\n",
       "      <th>16</th>\n",
       "      <td>11.0</td>\n",
       "      <td>0.076</td>\n",
       "      <td>0.33</td>\n",
       "      <td>0.99599</td>\n",
       "      <td>8.2</td>\n",
       "      <td>11.0</td>\n",
       "      <td>3.27</td>\n",
       "      <td>6</td>\n",
       "      <td>2.40</td>\n",
       "      <td>0.81</td>\n",
       "      <td>47.0</td>\n",
       "      <td>0.350</td>\n",
       "      <td>1</td>\n",
       "    </tr>\n",
       "    <tr>\n",
       "      <th>17</th>\n",
       "      <td>8.5</td>\n",
       "      <td>0.034</td>\n",
       "      <td>0.30</td>\n",
       "      <td>0.99642</td>\n",
       "      <td>6.3</td>\n",
       "      <td>35.0</td>\n",
       "      <td>3.47</td>\n",
       "      <td>6</td>\n",
       "      <td>5.90</td>\n",
       "      <td>0.40</td>\n",
       "      <td>152.0</td>\n",
       "      <td>0.200</td>\n",
       "      <td>0</td>\n",
       "    </tr>\n",
       "    <tr>\n",
       "      <th>18</th>\n",
       "      <td>12.4</td>\n",
       "      <td>0.093</td>\n",
       "      <td>0.48</td>\n",
       "      <td>0.99408</td>\n",
       "      <td>8.3</td>\n",
       "      <td>6.0</td>\n",
       "      <td>3.26</td>\n",
       "      <td>7</td>\n",
       "      <td>2.10</td>\n",
       "      <td>0.62</td>\n",
       "      <td>12.0</td>\n",
       "      <td>0.280</td>\n",
       "      <td>1</td>\n",
       "    </tr>\n",
       "    <tr>\n",
       "      <th>19</th>\n",
       "      <td>12.1</td>\n",
       "      <td>0.026</td>\n",
       "      <td>0.39</td>\n",
       "      <td>0.99286</td>\n",
       "      <td>6.8</td>\n",
       "      <td>34.0</td>\n",
       "      <td>3.18</td>\n",
       "      <td>6</td>\n",
       "      <td>9.60</td>\n",
       "      <td>0.35</td>\n",
       "      <td>124.0</td>\n",
       "      <td>0.320</td>\n",
       "      <td>0</td>\n",
       "    </tr>\n",
       "    <tr>\n",
       "      <th>20</th>\n",
       "      <td>12.1</td>\n",
       "      <td>0.030</td>\n",
       "      <td>0.26</td>\n",
       "      <td>0.98894</td>\n",
       "      <td>6.1</td>\n",
       "      <td>25.0</td>\n",
       "      <td>3.03</td>\n",
       "      <td>6</td>\n",
       "      <td>1.50</td>\n",
       "      <td>0.41</td>\n",
       "      <td>101.0</td>\n",
       "      <td>0.280</td>\n",
       "      <td>0</td>\n",
       "    </tr>\n",
       "    <tr>\n",
       "      <th>21</th>\n",
       "      <td>11.8</td>\n",
       "      <td>0.109</td>\n",
       "      <td>0.40</td>\n",
       "      <td>0.99614</td>\n",
       "      <td>8.8</td>\n",
       "      <td>7.0</td>\n",
       "      <td>3.31</td>\n",
       "      <td>7</td>\n",
       "      <td>2.80</td>\n",
       "      <td>0.79</td>\n",
       "      <td>16.0</td>\n",
       "      <td>0.310</td>\n",
       "      <td>1</td>\n",
       "    </tr>\n",
       "    <tr>\n",
       "      <th>22</th>\n",
       "      <td>10.4</td>\n",
       "      <td>0.056</td>\n",
       "      <td>0.57</td>\n",
       "      <td>0.99464</td>\n",
       "      <td>5.6</td>\n",
       "      <td>66.0</td>\n",
       "      <td>3.25</td>\n",
       "      <td>7</td>\n",
       "      <td>10.70</td>\n",
       "      <td>0.61</td>\n",
       "      <td>171.0</td>\n",
       "      <td>0.255</td>\n",
       "      <td>0</td>\n",
       "    </tr>\n",
       "    <tr>\n",
       "      <th>23</th>\n",
       "      <td>10.9</td>\n",
       "      <td>0.039</td>\n",
       "      <td>0.28</td>\n",
       "      <td>0.99406</td>\n",
       "      <td>6.8</td>\n",
       "      <td>29.0</td>\n",
       "      <td>3.11</td>\n",
       "      <td>7</td>\n",
       "      <td>9.80</td>\n",
       "      <td>0.45</td>\n",
       "      <td>113.0</td>\n",
       "      <td>0.180</td>\n",
       "      <td>0</td>\n",
       "    </tr>\n",
       "    <tr>\n",
       "      <th>24</th>\n",
       "      <td>9.5</td>\n",
       "      <td>0.041</td>\n",
       "      <td>0.26</td>\n",
       "      <td>0.99410</td>\n",
       "      <td>6.5</td>\n",
       "      <td>40.0</td>\n",
       "      <td>3.34</td>\n",
       "      <td>6</td>\n",
       "      <td>1.40</td>\n",
       "      <td>0.72</td>\n",
       "      <td>141.0</td>\n",
       "      <td>0.180</td>\n",
       "      <td>0</td>\n",
       "    </tr>\n",
       "    <tr>\n",
       "      <th>25</th>\n",
       "      <td>10.1</td>\n",
       "      <td>0.084</td>\n",
       "      <td>0.31</td>\n",
       "      <td>0.99824</td>\n",
       "      <td>6.8</td>\n",
       "      <td>26.0</td>\n",
       "      <td>3.38</td>\n",
       "      <td>6</td>\n",
       "      <td>8.80</td>\n",
       "      <td>0.64</td>\n",
       "      <td>45.0</td>\n",
       "      <td>0.410</td>\n",
       "      <td>1</td>\n",
       "    </tr>\n",
       "    <tr>\n",
       "      <th>26</th>\n",
       "      <td>9.5</td>\n",
       "      <td>0.078</td>\n",
       "      <td>0.24</td>\n",
       "      <td>0.99830</td>\n",
       "      <td>7.5</td>\n",
       "      <td>10.0</td>\n",
       "      <td>3.45</td>\n",
       "      <td>6</td>\n",
       "      <td>2.00</td>\n",
       "      <td>0.78</td>\n",
       "      <td>28.0</td>\n",
       "      <td>0.550</td>\n",
       "      <td>1</td>\n",
       "    </tr>\n",
       "    <tr>\n",
       "      <th>27</th>\n",
       "      <td>11.2</td>\n",
       "      <td>0.044</td>\n",
       "      <td>0.32</td>\n",
       "      <td>0.99644</td>\n",
       "      <td>7.1</td>\n",
       "      <td>31.0</td>\n",
       "      <td>3.17</td>\n",
       "      <td>5</td>\n",
       "      <td>16.20</td>\n",
       "      <td>0.37</td>\n",
       "      <td>170.0</td>\n",
       "      <td>0.260</td>\n",
       "      <td>0</td>\n",
       "    </tr>\n",
       "    <tr>\n",
       "      <th>28</th>\n",
       "      <td>9.4</td>\n",
       "      <td>0.157</td>\n",
       "      <td>0.48</td>\n",
       "      <td>0.99760</td>\n",
       "      <td>8.1</td>\n",
       "      <td>5.0</td>\n",
       "      <td>3.30</td>\n",
       "      <td>5</td>\n",
       "      <td>1.80</td>\n",
       "      <td>1.05</td>\n",
       "      <td>17.0</td>\n",
       "      <td>0.380</td>\n",
       "      <td>1</td>\n",
       "    </tr>\n",
       "    <tr>\n",
       "      <th>29</th>\n",
       "      <td>10.0</td>\n",
       "      <td>0.081</td>\n",
       "      <td>0.10</td>\n",
       "      <td>0.99830</td>\n",
       "      <td>8.3</td>\n",
       "      <td>45.0</td>\n",
       "      <td>3.48</td>\n",
       "      <td>5</td>\n",
       "      <td>2.60</td>\n",
       "      <td>0.53</td>\n",
       "      <td>87.0</td>\n",
       "      <td>0.780</td>\n",
       "      <td>1</td>\n",
       "    </tr>\n",
       "    <tr>\n",
       "      <th>...</th>\n",
       "      <td>...</td>\n",
       "      <td>...</td>\n",
       "      <td>...</td>\n",
       "      <td>...</td>\n",
       "      <td>...</td>\n",
       "      <td>...</td>\n",
       "      <td>...</td>\n",
       "      <td>...</td>\n",
       "      <td>...</td>\n",
       "      <td>...</td>\n",
       "      <td>...</td>\n",
       "      <td>...</td>\n",
       "      <td>...</td>\n",
       "    </tr>\n",
       "    <tr>\n",
       "      <th>6467</th>\n",
       "      <td>12.0</td>\n",
       "      <td>0.039</td>\n",
       "      <td>0.33</td>\n",
       "      <td>0.99008</td>\n",
       "      <td>6.5</td>\n",
       "      <td>36.0</td>\n",
       "      <td>3.22</td>\n",
       "      <td>6</td>\n",
       "      <td>1.50</td>\n",
       "      <td>0.65</td>\n",
       "      <td>110.0</td>\n",
       "      <td>0.200</td>\n",
       "      <td>0</td>\n",
       "    </tr>\n",
       "    <tr>\n",
       "      <th>6468</th>\n",
       "      <td>9.5</td>\n",
       "      <td>0.044</td>\n",
       "      <td>0.35</td>\n",
       "      <td>0.99700</td>\n",
       "      <td>8.0</td>\n",
       "      <td>53.0</td>\n",
       "      <td>3.09</td>\n",
       "      <td>7</td>\n",
       "      <td>9.20</td>\n",
       "      <td>0.56</td>\n",
       "      <td>186.0</td>\n",
       "      <td>0.230</td>\n",
       "      <td>0</td>\n",
       "    </tr>\n",
       "    <tr>\n",
       "      <th>6469</th>\n",
       "      <td>11.8</td>\n",
       "      <td>0.034</td>\n",
       "      <td>0.49</td>\n",
       "      <td>0.99580</td>\n",
       "      <td>7.6</td>\n",
       "      <td>37.0</td>\n",
       "      <td>3.14</td>\n",
       "      <td>7</td>\n",
       "      <td>14.00</td>\n",
       "      <td>0.38</td>\n",
       "      <td>156.0</td>\n",
       "      <td>0.520</td>\n",
       "      <td>0</td>\n",
       "    </tr>\n",
       "    <tr>\n",
       "      <th>6470</th>\n",
       "      <td>9.5</td>\n",
       "      <td>0.079</td>\n",
       "      <td>0.34</td>\n",
       "      <td>0.99800</td>\n",
       "      <td>9.8</td>\n",
       "      <td>32.0</td>\n",
       "      <td>3.15</td>\n",
       "      <td>5</td>\n",
       "      <td>2.00</td>\n",
       "      <td>0.53</td>\n",
       "      <td>151.0</td>\n",
       "      <td>1.240</td>\n",
       "      <td>1</td>\n",
       "    </tr>\n",
       "    <tr>\n",
       "      <th>6471</th>\n",
       "      <td>10.9</td>\n",
       "      <td>0.041</td>\n",
       "      <td>0.28</td>\n",
       "      <td>0.99418</td>\n",
       "      <td>6.5</td>\n",
       "      <td>29.0</td>\n",
       "      <td>2.98</td>\n",
       "      <td>6</td>\n",
       "      <td>11.45</td>\n",
       "      <td>0.30</td>\n",
       "      <td>109.0</td>\n",
       "      <td>0.300</td>\n",
       "      <td>0</td>\n",
       "    </tr>\n",
       "    <tr>\n",
       "      <th>6472</th>\n",
       "      <td>10.0</td>\n",
       "      <td>0.038</td>\n",
       "      <td>0.39</td>\n",
       "      <td>0.99400</td>\n",
       "      <td>7.6</td>\n",
       "      <td>21.0</td>\n",
       "      <td>3.16</td>\n",
       "      <td>6</td>\n",
       "      <td>1.20</td>\n",
       "      <td>0.67</td>\n",
       "      <td>115.0</td>\n",
       "      <td>0.280</td>\n",
       "      <td>0</td>\n",
       "    </tr>\n",
       "    <tr>\n",
       "      <th>6473</th>\n",
       "      <td>12.1</td>\n",
       "      <td>0.034</td>\n",
       "      <td>0.23</td>\n",
       "      <td>0.98871</td>\n",
       "      <td>5.8</td>\n",
       "      <td>37.0</td>\n",
       "      <td>2.96</td>\n",
       "      <td>6</td>\n",
       "      <td>1.50</td>\n",
       "      <td>0.34</td>\n",
       "      <td>121.0</td>\n",
       "      <td>0.300</td>\n",
       "      <td>0</td>\n",
       "    </tr>\n",
       "    <tr>\n",
       "      <th>6474</th>\n",
       "      <td>9.8</td>\n",
       "      <td>0.041</td>\n",
       "      <td>0.22</td>\n",
       "      <td>0.99570</td>\n",
       "      <td>6.2</td>\n",
       "      <td>26.0</td>\n",
       "      <td>3.44</td>\n",
       "      <td>7</td>\n",
       "      <td>7.30</td>\n",
       "      <td>0.64</td>\n",
       "      <td>157.0</td>\n",
       "      <td>0.280</td>\n",
       "      <td>0</td>\n",
       "    </tr>\n",
       "    <tr>\n",
       "      <th>6475</th>\n",
       "      <td>9.3</td>\n",
       "      <td>0.053</td>\n",
       "      <td>0.56</td>\n",
       "      <td>0.99810</td>\n",
       "      <td>6.6</td>\n",
       "      <td>32.0</td>\n",
       "      <td>3.11</td>\n",
       "      <td>5</td>\n",
       "      <td>15.40</td>\n",
       "      <td>0.49</td>\n",
       "      <td>141.0</td>\n",
       "      <td>0.260</td>\n",
       "      <td>0</td>\n",
       "    </tr>\n",
       "    <tr>\n",
       "      <th>6476</th>\n",
       "      <td>9.1</td>\n",
       "      <td>0.034</td>\n",
       "      <td>0.22</td>\n",
       "      <td>0.99675</td>\n",
       "      <td>6.6</td>\n",
       "      <td>27.0</td>\n",
       "      <td>3.20</td>\n",
       "      <td>5</td>\n",
       "      <td>8.90</td>\n",
       "      <td>0.51</td>\n",
       "      <td>133.0</td>\n",
       "      <td>0.560</td>\n",
       "      <td>0</td>\n",
       "    </tr>\n",
       "    <tr>\n",
       "      <th>6477</th>\n",
       "      <td>9.5</td>\n",
       "      <td>0.055</td>\n",
       "      <td>0.46</td>\n",
       "      <td>0.99880</td>\n",
       "      <td>8.7</td>\n",
       "      <td>68.0</td>\n",
       "      <td>3.36</td>\n",
       "      <td>6</td>\n",
       "      <td>13.80</td>\n",
       "      <td>0.37</td>\n",
       "      <td>198.0</td>\n",
       "      <td>0.340</td>\n",
       "      <td>0</td>\n",
       "    </tr>\n",
       "    <tr>\n",
       "      <th>6478</th>\n",
       "      <td>12.6</td>\n",
       "      <td>0.029</td>\n",
       "      <td>0.28</td>\n",
       "      <td>0.99060</td>\n",
       "      <td>7.6</td>\n",
       "      <td>7.0</td>\n",
       "      <td>3.00</td>\n",
       "      <td>6</td>\n",
       "      <td>4.20</td>\n",
       "      <td>0.41</td>\n",
       "      <td>112.0</td>\n",
       "      <td>0.380</td>\n",
       "      <td>0</td>\n",
       "    </tr>\n",
       "    <tr>\n",
       "      <th>6479</th>\n",
       "      <td>8.9</td>\n",
       "      <td>0.042</td>\n",
       "      <td>0.17</td>\n",
       "      <td>0.99590</td>\n",
       "      <td>6.9</td>\n",
       "      <td>69.0</td>\n",
       "      <td>3.13</td>\n",
       "      <td>5</td>\n",
       "      <td>7.60</td>\n",
       "      <td>0.40</td>\n",
       "      <td>219.0</td>\n",
       "      <td>0.320</td>\n",
       "      <td>0</td>\n",
       "    </tr>\n",
       "    <tr>\n",
       "      <th>6480</th>\n",
       "      <td>9.4</td>\n",
       "      <td>0.083</td>\n",
       "      <td>0.00</td>\n",
       "      <td>0.99768</td>\n",
       "      <td>7.1</td>\n",
       "      <td>18.0</td>\n",
       "      <td>3.44</td>\n",
       "      <td>5</td>\n",
       "      <td>2.30</td>\n",
       "      <td>0.54</td>\n",
       "      <td>27.0</td>\n",
       "      <td>0.670</td>\n",
       "      <td>1</td>\n",
       "    </tr>\n",
       "    <tr>\n",
       "      <th>6481</th>\n",
       "      <td>11.5</td>\n",
       "      <td>0.121</td>\n",
       "      <td>0.66</td>\n",
       "      <td>0.99780</td>\n",
       "      <td>11.6</td>\n",
       "      <td>6.0</td>\n",
       "      <td>3.05</td>\n",
       "      <td>7</td>\n",
       "      <td>3.65</td>\n",
       "      <td>0.74</td>\n",
       "      <td>14.0</td>\n",
       "      <td>0.530</td>\n",
       "      <td>1</td>\n",
       "    </tr>\n",
       "    <tr>\n",
       "      <th>6482</th>\n",
       "      <td>12.8</td>\n",
       "      <td>0.025</td>\n",
       "      <td>0.29</td>\n",
       "      <td>0.99162</td>\n",
       "      <td>7.0</td>\n",
       "      <td>35.0</td>\n",
       "      <td>3.15</td>\n",
       "      <td>7</td>\n",
       "      <td>7.60</td>\n",
       "      <td>0.65</td>\n",
       "      <td>124.0</td>\n",
       "      <td>0.320</td>\n",
       "      <td>0</td>\n",
       "    </tr>\n",
       "    <tr>\n",
       "      <th>6483</th>\n",
       "      <td>12.0</td>\n",
       "      <td>0.045</td>\n",
       "      <td>0.50</td>\n",
       "      <td>0.99040</td>\n",
       "      <td>7.8</td>\n",
       "      <td>35.0</td>\n",
       "      <td>3.16</td>\n",
       "      <td>6</td>\n",
       "      <td>1.30</td>\n",
       "      <td>0.40</td>\n",
       "      <td>140.0</td>\n",
       "      <td>0.170</td>\n",
       "      <td>0</td>\n",
       "    </tr>\n",
       "    <tr>\n",
       "      <th>6484</th>\n",
       "      <td>10.6</td>\n",
       "      <td>0.044</td>\n",
       "      <td>0.30</td>\n",
       "      <td>0.99460</td>\n",
       "      <td>6.8</td>\n",
       "      <td>42.0</td>\n",
       "      <td>3.25</td>\n",
       "      <td>6</td>\n",
       "      <td>6.95</td>\n",
       "      <td>0.56</td>\n",
       "      <td>179.0</td>\n",
       "      <td>0.230</td>\n",
       "      <td>0</td>\n",
       "    </tr>\n",
       "    <tr>\n",
       "      <th>6485</th>\n",
       "      <td>11.0</td>\n",
       "      <td>0.040</td>\n",
       "      <td>0.34</td>\n",
       "      <td>0.99634</td>\n",
       "      <td>7.7</td>\n",
       "      <td>41.0</td>\n",
       "      <td>3.07</td>\n",
       "      <td>7</td>\n",
       "      <td>14.05</td>\n",
       "      <td>0.59</td>\n",
       "      <td>114.0</td>\n",
       "      <td>0.110</td>\n",
       "      <td>0</td>\n",
       "    </tr>\n",
       "    <tr>\n",
       "      <th>6486</th>\n",
       "      <td>11.3</td>\n",
       "      <td>0.031</td>\n",
       "      <td>0.25</td>\n",
       "      <td>0.99241</td>\n",
       "      <td>5.0</td>\n",
       "      <td>24.0</td>\n",
       "      <td>3.39</td>\n",
       "      <td>6</td>\n",
       "      <td>7.80</td>\n",
       "      <td>0.40</td>\n",
       "      <td>116.0</td>\n",
       "      <td>0.350</td>\n",
       "      <td>0</td>\n",
       "    </tr>\n",
       "    <tr>\n",
       "      <th>6487</th>\n",
       "      <td>9.5</td>\n",
       "      <td>0.076</td>\n",
       "      <td>0.04</td>\n",
       "      <td>0.99745</td>\n",
       "      <td>7.2</td>\n",
       "      <td>18.0</td>\n",
       "      <td>3.53</td>\n",
       "      <td>5</td>\n",
       "      <td>2.50</td>\n",
       "      <td>0.55</td>\n",
       "      <td>88.0</td>\n",
       "      <td>0.600</td>\n",
       "      <td>1</td>\n",
       "    </tr>\n",
       "    <tr>\n",
       "      <th>6488</th>\n",
       "      <td>10.4</td>\n",
       "      <td>0.035</td>\n",
       "      <td>0.30</td>\n",
       "      <td>0.99540</td>\n",
       "      <td>7.0</td>\n",
       "      <td>72.0</td>\n",
       "      <td>2.99</td>\n",
       "      <td>6</td>\n",
       "      <td>12.30</td>\n",
       "      <td>0.57</td>\n",
       "      <td>172.0</td>\n",
       "      <td>0.240</td>\n",
       "      <td>0</td>\n",
       "    </tr>\n",
       "    <tr>\n",
       "      <th>6489</th>\n",
       "      <td>12.4</td>\n",
       "      <td>0.028</td>\n",
       "      <td>0.36</td>\n",
       "      <td>0.99272</td>\n",
       "      <td>7.3</td>\n",
       "      <td>44.0</td>\n",
       "      <td>3.14</td>\n",
       "      <td>6</td>\n",
       "      <td>8.20</td>\n",
       "      <td>0.41</td>\n",
       "      <td>111.0</td>\n",
       "      <td>0.170</td>\n",
       "      <td>0</td>\n",
       "    </tr>\n",
       "    <tr>\n",
       "      <th>6490</th>\n",
       "      <td>10.7</td>\n",
       "      <td>0.060</td>\n",
       "      <td>0.34</td>\n",
       "      <td>0.99310</td>\n",
       "      <td>7.5</td>\n",
       "      <td>26.0</td>\n",
       "      <td>3.51</td>\n",
       "      <td>6</td>\n",
       "      <td>1.20</td>\n",
       "      <td>0.47</td>\n",
       "      <td>111.0</td>\n",
       "      <td>0.210</td>\n",
       "      <td>0</td>\n",
       "    </tr>\n",
       "    <tr>\n",
       "      <th>6491</th>\n",
       "      <td>8.8</td>\n",
       "      <td>0.049</td>\n",
       "      <td>0.23</td>\n",
       "      <td>0.99754</td>\n",
       "      <td>6.6</td>\n",
       "      <td>45.0</td>\n",
       "      <td>3.12</td>\n",
       "      <td>5</td>\n",
       "      <td>10.40</td>\n",
       "      <td>0.51</td>\n",
       "      <td>190.0</td>\n",
       "      <td>0.280</td>\n",
       "      <td>0</td>\n",
       "    </tr>\n",
       "    <tr>\n",
       "      <th>6492</th>\n",
       "      <td>9.4</td>\n",
       "      <td>0.033</td>\n",
       "      <td>0.17</td>\n",
       "      <td>0.99754</td>\n",
       "      <td>6.9</td>\n",
       "      <td>59.0</td>\n",
       "      <td>3.08</td>\n",
       "      <td>5</td>\n",
       "      <td>12.90</td>\n",
       "      <td>0.49</td>\n",
       "      <td>186.0</td>\n",
       "      <td>0.400</td>\n",
       "      <td>0</td>\n",
       "    </tr>\n",
       "    <tr>\n",
       "      <th>6493</th>\n",
       "      <td>9.8</td>\n",
       "      <td>0.078</td>\n",
       "      <td>0.31</td>\n",
       "      <td>0.99800</td>\n",
       "      <td>8.5</td>\n",
       "      <td>32.0</td>\n",
       "      <td>3.33</td>\n",
       "      <td>5</td>\n",
       "      <td>2.25</td>\n",
       "      <td>0.54</td>\n",
       "      <td>58.0</td>\n",
       "      <td>0.460</td>\n",
       "      <td>1</td>\n",
       "    </tr>\n",
       "    <tr>\n",
       "      <th>6494</th>\n",
       "      <td>11.9</td>\n",
       "      <td>0.046</td>\n",
       "      <td>0.30</td>\n",
       "      <td>0.99620</td>\n",
       "      <td>6.3</td>\n",
       "      <td>49.0</td>\n",
       "      <td>3.74</td>\n",
       "      <td>6</td>\n",
       "      <td>10.00</td>\n",
       "      <td>0.55</td>\n",
       "      <td>212.0</td>\n",
       "      <td>0.310</td>\n",
       "      <td>0</td>\n",
       "    </tr>\n",
       "    <tr>\n",
       "      <th>6495</th>\n",
       "      <td>10.7</td>\n",
       "      <td>0.044</td>\n",
       "      <td>0.28</td>\n",
       "      <td>0.99200</td>\n",
       "      <td>5.8</td>\n",
       "      <td>52.0</td>\n",
       "      <td>3.35</td>\n",
       "      <td>7</td>\n",
       "      <td>4.20</td>\n",
       "      <td>0.44</td>\n",
       "      <td>158.0</td>\n",
       "      <td>0.280</td>\n",
       "      <td>0</td>\n",
       "    </tr>\n",
       "    <tr>\n",
       "      <th>6496</th>\n",
       "      <td>10.3</td>\n",
       "      <td>0.243</td>\n",
       "      <td>0.18</td>\n",
       "      <td>0.99612</td>\n",
       "      <td>6.9</td>\n",
       "      <td>5.5</td>\n",
       "      <td>3.40</td>\n",
       "      <td>6</td>\n",
       "      <td>2.40</td>\n",
       "      <td>0.60</td>\n",
       "      <td>48.0</td>\n",
       "      <td>0.765</td>\n",
       "      <td>1</td>\n",
       "    </tr>\n",
       "  </tbody>\n",
       "</table>\n",
       "<p>6497 rows × 13 columns</p>\n",
       "</div>"
      ],
      "text/plain": [
       "      alcohol  chlorides  citric acid  density  fixed acidity  \\\n",
       "0        10.4      0.046         0.44  0.99455            6.0   \n",
       "1         9.9      0.058         0.24  0.99500            7.2   \n",
       "2         9.6      0.037         0.47  0.99390           10.3   \n",
       "3        10.4      0.041         0.33  0.99280            6.3   \n",
       "4         8.9      0.055         0.38  1.00040            8.4   \n",
       "5        11.1      0.030         0.25  0.99120            6.2   \n",
       "6         9.5      0.073         0.02  0.99680            7.8   \n",
       "7        11.4      0.036         0.33  0.99058            6.7   \n",
       "8        12.3      0.074         0.46  0.99649            9.7   \n",
       "9         8.7      0.056         0.40  0.99670            7.9   \n",
       "10       11.3      0.031         0.24  0.99480            7.7   \n",
       "11       11.9      0.036         0.39  0.99000            6.5   \n",
       "12       10.1      0.050         0.40  0.99510            8.1   \n",
       "13       10.7      0.030         0.27  0.99388            6.2   \n",
       "14       10.3      0.060         0.29  0.99572            7.7   \n",
       "15       12.0      0.031         0.38  0.98956            6.2   \n",
       "16       11.0      0.076         0.33  0.99599            8.2   \n",
       "17        8.5      0.034         0.30  0.99642            6.3   \n",
       "18       12.4      0.093         0.48  0.99408            8.3   \n",
       "19       12.1      0.026         0.39  0.99286            6.8   \n",
       "20       12.1      0.030         0.26  0.98894            6.1   \n",
       "21       11.8      0.109         0.40  0.99614            8.8   \n",
       "22       10.4      0.056         0.57  0.99464            5.6   \n",
       "23       10.9      0.039         0.28  0.99406            6.8   \n",
       "24        9.5      0.041         0.26  0.99410            6.5   \n",
       "25       10.1      0.084         0.31  0.99824            6.8   \n",
       "26        9.5      0.078         0.24  0.99830            7.5   \n",
       "27       11.2      0.044         0.32  0.99644            7.1   \n",
       "28        9.4      0.157         0.48  0.99760            8.1   \n",
       "29       10.0      0.081         0.10  0.99830            8.3   \n",
       "...       ...        ...          ...      ...            ...   \n",
       "6467     12.0      0.039         0.33  0.99008            6.5   \n",
       "6468      9.5      0.044         0.35  0.99700            8.0   \n",
       "6469     11.8      0.034         0.49  0.99580            7.6   \n",
       "6470      9.5      0.079         0.34  0.99800            9.8   \n",
       "6471     10.9      0.041         0.28  0.99418            6.5   \n",
       "6472     10.0      0.038         0.39  0.99400            7.6   \n",
       "6473     12.1      0.034         0.23  0.98871            5.8   \n",
       "6474      9.8      0.041         0.22  0.99570            6.2   \n",
       "6475      9.3      0.053         0.56  0.99810            6.6   \n",
       "6476      9.1      0.034         0.22  0.99675            6.6   \n",
       "6477      9.5      0.055         0.46  0.99880            8.7   \n",
       "6478     12.6      0.029         0.28  0.99060            7.6   \n",
       "6479      8.9      0.042         0.17  0.99590            6.9   \n",
       "6480      9.4      0.083         0.00  0.99768            7.1   \n",
       "6481     11.5      0.121         0.66  0.99780           11.6   \n",
       "6482     12.8      0.025         0.29  0.99162            7.0   \n",
       "6483     12.0      0.045         0.50  0.99040            7.8   \n",
       "6484     10.6      0.044         0.30  0.99460            6.8   \n",
       "6485     11.0      0.040         0.34  0.99634            7.7   \n",
       "6486     11.3      0.031         0.25  0.99241            5.0   \n",
       "6487      9.5      0.076         0.04  0.99745            7.2   \n",
       "6488     10.4      0.035         0.30  0.99540            7.0   \n",
       "6489     12.4      0.028         0.36  0.99272            7.3   \n",
       "6490     10.7      0.060         0.34  0.99310            7.5   \n",
       "6491      8.8      0.049         0.23  0.99754            6.6   \n",
       "6492      9.4      0.033         0.17  0.99754            6.9   \n",
       "6493      9.8      0.078         0.31  0.99800            8.5   \n",
       "6494     11.9      0.046         0.30  0.99620            6.3   \n",
       "6495     10.7      0.044         0.28  0.99200            5.8   \n",
       "6496     10.3      0.243         0.18  0.99612            6.9   \n",
       "\n",
       "      free sulfur dioxide    pH  quality  residual sugar  sulphates  \\\n",
       "0                    15.0  3.50        5            1.50       0.52   \n",
       "1                    40.0  3.20        5            6.70       0.41   \n",
       "2                     5.0  2.89        3            1.40       0.28   \n",
       "3                    67.0  3.32        6            1.70       0.56   \n",
       "4                    51.0  3.34        6           11.80       0.82   \n",
       "5                    35.0  3.30        7            1.40       0.44   \n",
       "6                     9.0  3.36        7            2.00       0.57   \n",
       "7                    36.0  3.10        6            1.20       0.76   \n",
       "8                     5.0  3.27        6            2.10       0.74   \n",
       "9                    11.0  3.32        6            1.60       0.87   \n",
       "10                   41.0  3.12        7           11.20       0.43   \n",
       "11                   41.0  3.19        7            1.90       0.43   \n",
       "12                   30.0  3.26        6            6.90       0.44   \n",
       "13                   26.0  3.20        6           10.30       0.36   \n",
       "14                   27.0  3.49        6            4.80       0.59   \n",
       "15                   20.0  3.06        7            3.20       0.33   \n",
       "16                   11.0  3.27        6            2.40       0.81   \n",
       "17                   35.0  3.47        6            5.90       0.40   \n",
       "18                    6.0  3.26        7            2.10       0.62   \n",
       "19                   34.0  3.18        6            9.60       0.35   \n",
       "20                   25.0  3.03        6            1.50       0.41   \n",
       "21                    7.0  3.31        7            2.80       0.79   \n",
       "22                   66.0  3.25        7           10.70       0.61   \n",
       "23                   29.0  3.11        7            9.80       0.45   \n",
       "24                   40.0  3.34        6            1.40       0.72   \n",
       "25                   26.0  3.38        6            8.80       0.64   \n",
       "26                   10.0  3.45        6            2.00       0.78   \n",
       "27                   31.0  3.17        5           16.20       0.37   \n",
       "28                    5.0  3.30        5            1.80       1.05   \n",
       "29                   45.0  3.48        5            2.60       0.53   \n",
       "...                   ...   ...      ...             ...        ...   \n",
       "6467                 36.0  3.22        6            1.50       0.65   \n",
       "6468                 53.0  3.09        7            9.20       0.56   \n",
       "6469                 37.0  3.14        7           14.00       0.38   \n",
       "6470                 32.0  3.15        5            2.00       0.53   \n",
       "6471                 29.0  2.98        6           11.45       0.30   \n",
       "6472                 21.0  3.16        6            1.20       0.67   \n",
       "6473                 37.0  2.96        6            1.50       0.34   \n",
       "6474                 26.0  3.44        7            7.30       0.64   \n",
       "6475                 32.0  3.11        5           15.40       0.49   \n",
       "6476                 27.0  3.20        5            8.90       0.51   \n",
       "6477                 68.0  3.36        6           13.80       0.37   \n",
       "6478                  7.0  3.00        6            4.20       0.41   \n",
       "6479                 69.0  3.13        5            7.60       0.40   \n",
       "6480                 18.0  3.44        5            2.30       0.54   \n",
       "6481                  6.0  3.05        7            3.65       0.74   \n",
       "6482                 35.0  3.15        7            7.60       0.65   \n",
       "6483                 35.0  3.16        6            1.30       0.40   \n",
       "6484                 42.0  3.25        6            6.95       0.56   \n",
       "6485                 41.0  3.07        7           14.05       0.59   \n",
       "6486                 24.0  3.39        6            7.80       0.40   \n",
       "6487                 18.0  3.53        5            2.50       0.55   \n",
       "6488                 72.0  2.99        6           12.30       0.57   \n",
       "6489                 44.0  3.14        6            8.20       0.41   \n",
       "6490                 26.0  3.51        6            1.20       0.47   \n",
       "6491                 45.0  3.12        5           10.40       0.51   \n",
       "6492                 59.0  3.08        5           12.90       0.49   \n",
       "6493                 32.0  3.33        5            2.25       0.54   \n",
       "6494                 49.0  3.74        6           10.00       0.55   \n",
       "6495                 52.0  3.35        7            4.20       0.44   \n",
       "6496                  5.5  3.40        6            2.40       0.60   \n",
       "\n",
       "      total sulfur dioxide  volatile acidity  wine_type  \n",
       "0                    182.0             0.300          0  \n",
       "1                    163.0             0.430          0  \n",
       "2                     33.0             0.170          0  \n",
       "3                    164.0             0.220          0  \n",
       "4                    170.0             0.200          0  \n",
       "5                    105.0             0.250          0  \n",
       "6                     18.0             0.580          1  \n",
       "7                     86.0             0.220          0  \n",
       "8                     16.0             0.420          1  \n",
       "9                     25.0             0.240          1  \n",
       "10                   167.0             0.440          0  \n",
       "11                    98.0             0.230          0  \n",
       "12                    97.0             0.280          0  \n",
       "13                   108.0             0.280          0  \n",
       "14                   156.0             0.290          0  \n",
       "15                    89.0             0.360          0  \n",
       "16                    47.0             0.350          1  \n",
       "17                   152.0             0.200          0  \n",
       "18                    12.0             0.280          1  \n",
       "19                   124.0             0.320          0  \n",
       "20                   101.0             0.280          0  \n",
       "21                    16.0             0.310          1  \n",
       "22                   171.0             0.255          0  \n",
       "23                   113.0             0.180          0  \n",
       "24                   141.0             0.180          0  \n",
       "25                    45.0             0.410          1  \n",
       "26                    28.0             0.550          1  \n",
       "27                   170.0             0.260          0  \n",
       "28                    17.0             0.380          1  \n",
       "29                    87.0             0.780          1  \n",
       "...                    ...               ...        ...  \n",
       "6467                 110.0             0.200          0  \n",
       "6468                 186.0             0.230          0  \n",
       "6469                 156.0             0.520          0  \n",
       "6470                 151.0             1.240          1  \n",
       "6471                 109.0             0.300          0  \n",
       "6472                 115.0             0.280          0  \n",
       "6473                 121.0             0.300          0  \n",
       "6474                 157.0             0.280          0  \n",
       "6475                 141.0             0.260          0  \n",
       "6476                 133.0             0.560          0  \n",
       "6477                 198.0             0.340          0  \n",
       "6478                 112.0             0.380          0  \n",
       "6479                 219.0             0.320          0  \n",
       "6480                  27.0             0.670          1  \n",
       "6481                  14.0             0.530          1  \n",
       "6482                 124.0             0.320          0  \n",
       "6483                 140.0             0.170          0  \n",
       "6484                 179.0             0.230          0  \n",
       "6485                 114.0             0.110          0  \n",
       "6486                 116.0             0.350          0  \n",
       "6487                  88.0             0.600          1  \n",
       "6488                 172.0             0.240          0  \n",
       "6489                 111.0             0.170          0  \n",
       "6490                 111.0             0.210          0  \n",
       "6491                 190.0             0.280          0  \n",
       "6492                 186.0             0.400          0  \n",
       "6493                  58.0             0.460          1  \n",
       "6494                 212.0             0.310          0  \n",
       "6495                 158.0             0.280          0  \n",
       "6496                  48.0             0.765          1  \n",
       "\n",
       "[6497 rows x 13 columns]"
      ]
     },
     "execution_count": 17,
     "metadata": {},
     "output_type": "execute_result"
    }
   ],
   "source": [
    "df.dropna()"
   ]
  },
  {
   "cell_type": "code",
   "execution_count": 18,
   "metadata": {},
   "outputs": [
    {
     "data": {
      "text/html": [
       "<div>\n",
       "<style scoped>\n",
       "    .dataframe tbody tr th:only-of-type {\n",
       "        vertical-align: middle;\n",
       "    }\n",
       "\n",
       "    .dataframe tbody tr th {\n",
       "        vertical-align: top;\n",
       "    }\n",
       "\n",
       "    .dataframe thead th {\n",
       "        text-align: right;\n",
       "    }\n",
       "</style>\n",
       "<table border=\"1\" class=\"dataframe\">\n",
       "  <thead>\n",
       "    <tr style=\"text-align: right;\">\n",
       "      <th></th>\n",
       "      <th>alcohol</th>\n",
       "      <th>chlorides</th>\n",
       "      <th>citric acid</th>\n",
       "      <th>density</th>\n",
       "      <th>fixed acidity</th>\n",
       "      <th>free sulfur dioxide</th>\n",
       "      <th>pH</th>\n",
       "      <th>quality</th>\n",
       "      <th>residual sugar</th>\n",
       "      <th>sulphates</th>\n",
       "      <th>total sulfur dioxide</th>\n",
       "      <th>volatile acidity</th>\n",
       "      <th>wine_type</th>\n",
       "    </tr>\n",
       "  </thead>\n",
       "  <tbody>\n",
       "    <tr>\n",
       "      <th>6492</th>\n",
       "      <td>9.4</td>\n",
       "      <td>0.033</td>\n",
       "      <td>0.17</td>\n",
       "      <td>0.99754</td>\n",
       "      <td>6.9</td>\n",
       "      <td>59.0</td>\n",
       "      <td>3.08</td>\n",
       "      <td>5</td>\n",
       "      <td>12.90</td>\n",
       "      <td>0.49</td>\n",
       "      <td>186.0</td>\n",
       "      <td>0.400</td>\n",
       "      <td>0</td>\n",
       "    </tr>\n",
       "    <tr>\n",
       "      <th>6493</th>\n",
       "      <td>9.8</td>\n",
       "      <td>0.078</td>\n",
       "      <td>0.31</td>\n",
       "      <td>0.99800</td>\n",
       "      <td>8.5</td>\n",
       "      <td>32.0</td>\n",
       "      <td>3.33</td>\n",
       "      <td>5</td>\n",
       "      <td>2.25</td>\n",
       "      <td>0.54</td>\n",
       "      <td>58.0</td>\n",
       "      <td>0.460</td>\n",
       "      <td>1</td>\n",
       "    </tr>\n",
       "    <tr>\n",
       "      <th>6494</th>\n",
       "      <td>11.9</td>\n",
       "      <td>0.046</td>\n",
       "      <td>0.30</td>\n",
       "      <td>0.99620</td>\n",
       "      <td>6.3</td>\n",
       "      <td>49.0</td>\n",
       "      <td>3.74</td>\n",
       "      <td>6</td>\n",
       "      <td>10.00</td>\n",
       "      <td>0.55</td>\n",
       "      <td>212.0</td>\n",
       "      <td>0.310</td>\n",
       "      <td>0</td>\n",
       "    </tr>\n",
       "    <tr>\n",
       "      <th>6495</th>\n",
       "      <td>10.7</td>\n",
       "      <td>0.044</td>\n",
       "      <td>0.28</td>\n",
       "      <td>0.99200</td>\n",
       "      <td>5.8</td>\n",
       "      <td>52.0</td>\n",
       "      <td>3.35</td>\n",
       "      <td>7</td>\n",
       "      <td>4.20</td>\n",
       "      <td>0.44</td>\n",
       "      <td>158.0</td>\n",
       "      <td>0.280</td>\n",
       "      <td>0</td>\n",
       "    </tr>\n",
       "    <tr>\n",
       "      <th>6496</th>\n",
       "      <td>10.3</td>\n",
       "      <td>0.243</td>\n",
       "      <td>0.18</td>\n",
       "      <td>0.99612</td>\n",
       "      <td>6.9</td>\n",
       "      <td>5.5</td>\n",
       "      <td>3.40</td>\n",
       "      <td>6</td>\n",
       "      <td>2.40</td>\n",
       "      <td>0.60</td>\n",
       "      <td>48.0</td>\n",
       "      <td>0.765</td>\n",
       "      <td>1</td>\n",
       "    </tr>\n",
       "  </tbody>\n",
       "</table>\n",
       "</div>"
      ],
      "text/plain": [
       "      alcohol  chlorides  citric acid  density  fixed acidity  \\\n",
       "6492      9.4      0.033         0.17  0.99754            6.9   \n",
       "6493      9.8      0.078         0.31  0.99800            8.5   \n",
       "6494     11.9      0.046         0.30  0.99620            6.3   \n",
       "6495     10.7      0.044         0.28  0.99200            5.8   \n",
       "6496     10.3      0.243         0.18  0.99612            6.9   \n",
       "\n",
       "      free sulfur dioxide    pH  quality  residual sugar  sulphates  \\\n",
       "6492                 59.0  3.08        5           12.90       0.49   \n",
       "6493                 32.0  3.33        5            2.25       0.54   \n",
       "6494                 49.0  3.74        6           10.00       0.55   \n",
       "6495                 52.0  3.35        7            4.20       0.44   \n",
       "6496                  5.5  3.40        6            2.40       0.60   \n",
       "\n",
       "      total sulfur dioxide  volatile acidity  wine_type  \n",
       "6492                 186.0             0.400          0  \n",
       "6493                  58.0             0.460          1  \n",
       "6494                 212.0             0.310          0  \n",
       "6495                 158.0             0.280          0  \n",
       "6496                  48.0             0.765          1  "
      ]
     },
     "execution_count": 18,
     "metadata": {},
     "output_type": "execute_result"
    }
   ],
   "source": [
    "df.tail()"
   ]
  },
  {
   "cell_type": "markdown",
   "metadata": {},
   "source": [
    "# Using regression to predict the alcohol level of the wine."
   ]
  },
  {
   "cell_type": "markdown",
   "metadata": {},
   "source": [
    "Prepring dependent and independent variables for regression"
   ]
  },
  {
   "cell_type": "code",
   "execution_count": 19,
   "metadata": {},
   "outputs": [],
   "source": [
    "X = np.array(df.drop(columns=['alcohol']))"
   ]
  },
  {
   "cell_type": "code",
   "execution_count": 20,
   "metadata": {},
   "outputs": [],
   "source": [
    "y = np.array(df.alcohol)"
   ]
  },
  {
   "cell_type": "code",
   "execution_count": 21,
   "metadata": {},
   "outputs": [],
   "source": [
    "y = y.reshape(-1, 1)"
   ]
  },
  {
   "cell_type": "code",
   "execution_count": 22,
   "metadata": {},
   "outputs": [],
   "source": [
    "from sklearn import preprocessing"
   ]
  },
  {
   "cell_type": "code",
   "execution_count": 23,
   "metadata": {},
   "outputs": [],
   "source": [
    "scaler = preprocessing.StandardScaler().fit(y)"
   ]
  },
  {
   "cell_type": "code",
   "execution_count": 24,
   "metadata": {},
   "outputs": [],
   "source": [
    "X = scaler.transform(X)\n",
    "y = scaler.transform(y)"
   ]
  },
  {
   "cell_type": "code",
   "execution_count": 25,
   "metadata": {},
   "outputs": [
    {
     "data": {
      "text/plain": [
       "array([[ -8.75870035,  -8.42833526,  -7.96335059, ..., 143.80792332,\n",
       "         -8.54572388,  -8.7972709 ],\n",
       "       [ -8.74863847,  -8.59603328,  -7.96297327, ..., 127.87661183,\n",
       "         -8.43672016,  -8.7972709 ],\n",
       "       [ -8.76624677,  -8.40318056,  -7.96389561, ...,  18.87290168,\n",
       "         -8.65472759,  -8.7972709 ],\n",
       "       ...,\n",
       "       [ -8.75870035,  -8.54572388,  -7.96196708, ..., 168.96262566,\n",
       "         -8.53733897,  -8.7972709 ],\n",
       "       [ -8.76037734,  -8.56249368,  -7.96548874, ..., 123.68416144,\n",
       "         -8.56249368,  -8.7972709 ],\n",
       "       [ -8.59351781,  -8.64634268,  -7.96203416, ...,  31.45025285,\n",
       "         -8.15582599,  -7.95878082]])"
      ]
     },
     "execution_count": 25,
     "metadata": {},
     "output_type": "execute_result"
    }
   ],
   "source": [
    "X"
   ]
  },
  {
   "cell_type": "code",
   "execution_count": 26,
   "metadata": {},
   "outputs": [],
   "source": [
    "from sklearn.linear_model import LinearRegression\n",
    "from sklearn.model_selection import train_test_split"
   ]
  },
  {
   "cell_type": "code",
   "execution_count": 27,
   "metadata": {},
   "outputs": [],
   "source": [
    "X_train, X_test, y_train, y_test = train_test_split(X, y, test_size=0.25, random_state=42)"
   ]
  },
  {
   "cell_type": "code",
   "execution_count": 28,
   "metadata": {},
   "outputs": [
    {
     "data": {
      "text/plain": [
       "4872"
      ]
     },
     "execution_count": 28,
     "metadata": {},
     "output_type": "execute_result"
    }
   ],
   "source": [
    "len(X_train)"
   ]
  },
  {
   "cell_type": "code",
   "execution_count": 29,
   "metadata": {},
   "outputs": [
    {
     "data": {
      "text/plain": [
       "1625"
      ]
     },
     "execution_count": 29,
     "metadata": {},
     "output_type": "execute_result"
    }
   ],
   "source": [
    "len(X_test)"
   ]
  },
  {
   "cell_type": "code",
   "execution_count": 30,
   "metadata": {},
   "outputs": [],
   "source": [
    "linear = LinearRegression()"
   ]
  },
  {
   "cell_type": "code",
   "execution_count": 31,
   "metadata": {},
   "outputs": [
    {
     "data": {
      "text/plain": [
       "LinearRegression(copy_X=True, fit_intercept=True, n_jobs=1, normalize=False)"
      ]
     },
     "execution_count": 31,
     "metadata": {},
     "output_type": "execute_result"
    }
   ],
   "source": [
    "linear.fit(X_train, y_train)"
   ]
  },
  {
   "cell_type": "code",
   "execution_count": 32,
   "metadata": {},
   "outputs": [
    {
     "data": {
      "text/plain": [
       "0.8462625092278473"
      ]
     },
     "execution_count": 32,
     "metadata": {},
     "output_type": "execute_result"
    }
   ],
   "source": [
    "linear.score(X_test, y_test)"
   ]
  },
  {
   "cell_type": "code",
   "execution_count": 33,
   "metadata": {},
   "outputs": [],
   "source": [
    "forecast_set = linear.predict(X_test)"
   ]
  },
  {
   "cell_type": "code",
   "execution_count": 34,
   "metadata": {},
   "outputs": [
    {
     "data": {
      "text/plain": [
       "array([[ 1.33238907],\n",
       "       [-0.48564943],\n",
       "       [ 0.25643479],\n",
       "       [ 1.19224427],\n",
       "       [-0.45919073]])"
      ]
     },
     "execution_count": 34,
     "metadata": {},
     "output_type": "execute_result"
    }
   ],
   "source": [
    "#First 5 predictions\n",
    "forecast_set[: 5]"
   ]
  },
  {
   "cell_type": "code",
   "execution_count": 35,
   "metadata": {},
   "outputs": [
    {
     "data": {
      "text/plain": [
       "array([[ 1.68385508],\n",
       "       [-0.91546416],\n",
       "       [-0.07697409],\n",
       "       [ 1.26461004],\n",
       "       [-0.49621913]])"
      ]
     },
     "execution_count": 35,
     "metadata": {},
     "output_type": "execute_result"
    }
   ],
   "source": [
    "#Actual values\n",
    "y_test[: 5]"
   ]
  },
  {
   "cell_type": "code",
   "execution_count": 36,
   "metadata": {},
   "outputs": [],
   "source": [
    "y_test_inv = scaler.inverse_transform(y_test)\n",
    "forecast_set_inv = scaler.inverse_transform(forecast_set)"
   ]
  },
  {
   "cell_type": "code",
   "execution_count": 37,
   "metadata": {},
   "outputs": [
    {
     "data": {
      "text/plain": [
       "array([[12.08083463],\n",
       "       [ 9.91260562],\n",
       "       [10.79763008],\n",
       "       [11.91369514],\n",
       "       [ 9.94416081],\n",
       "       [10.70266846],\n",
       "       [ 9.65501082],\n",
       "       [ 9.92436774],\n",
       "       [11.98300614],\n",
       "       [ 9.56010583]])"
      ]
     },
     "execution_count": 37,
     "metadata": {},
     "output_type": "execute_result"
    }
   ],
   "source": [
    "#First 10 predicted alcohol levels\n",
    "forecast_set_inv[: 10]"
   ]
  },
  {
   "cell_type": "code",
   "execution_count": 38,
   "metadata": {},
   "outputs": [
    {
     "data": {
      "text/plain": [
       "array([[12.5],\n",
       "       [ 9.4],\n",
       "       [10.4],\n",
       "       [12. ],\n",
       "       [ 9.9],\n",
       "       [ 9.6],\n",
       "       [ 9.5],\n",
       "       [ 9.9],\n",
       "       [12. ],\n",
       "       [10.1]])"
      ]
     },
     "execution_count": 38,
     "metadata": {},
     "output_type": "execute_result"
    }
   ],
   "source": [
    "#First 10 actual alcohol levels\n",
    "y_test_inv[: 10]"
   ]
  },
  {
   "cell_type": "markdown",
   "metadata": {},
   "source": [
    "# Binary classification to predict the type of wine."
   ]
  },
  {
   "cell_type": "code",
   "execution_count": 39,
   "metadata": {},
   "outputs": [],
   "source": [
    "from sklearn.utils import shuffle\n",
    "df = shuffle(df)"
   ]
  },
  {
   "cell_type": "code",
   "execution_count": 40,
   "metadata": {},
   "outputs": [],
   "source": [
    "df.reset_index(drop=True, inplace=True)"
   ]
  },
  {
   "cell_type": "code",
   "execution_count": 41,
   "metadata": {},
   "outputs": [
    {
     "data": {
      "text/html": [
       "<div>\n",
       "<style scoped>\n",
       "    .dataframe tbody tr th:only-of-type {\n",
       "        vertical-align: middle;\n",
       "    }\n",
       "\n",
       "    .dataframe tbody tr th {\n",
       "        vertical-align: top;\n",
       "    }\n",
       "\n",
       "    .dataframe thead th {\n",
       "        text-align: right;\n",
       "    }\n",
       "</style>\n",
       "<table border=\"1\" class=\"dataframe\">\n",
       "  <thead>\n",
       "    <tr style=\"text-align: right;\">\n",
       "      <th></th>\n",
       "      <th>alcohol</th>\n",
       "      <th>chlorides</th>\n",
       "      <th>citric acid</th>\n",
       "      <th>density</th>\n",
       "      <th>fixed acidity</th>\n",
       "      <th>free sulfur dioxide</th>\n",
       "      <th>pH</th>\n",
       "      <th>quality</th>\n",
       "      <th>residual sugar</th>\n",
       "      <th>sulphates</th>\n",
       "      <th>total sulfur dioxide</th>\n",
       "      <th>volatile acidity</th>\n",
       "      <th>wine_type</th>\n",
       "    </tr>\n",
       "  </thead>\n",
       "  <tbody>\n",
       "    <tr>\n",
       "      <th>0</th>\n",
       "      <td>9.5</td>\n",
       "      <td>0.053</td>\n",
       "      <td>0.37</td>\n",
       "      <td>0.9992</td>\n",
       "      <td>6.9</td>\n",
       "      <td>59.0</td>\n",
       "      <td>3.37</td>\n",
       "      <td>7</td>\n",
       "      <td>15.0</td>\n",
       "      <td>0.82</td>\n",
       "      <td>178.0</td>\n",
       "      <td>0.22</td>\n",
       "      <td>0</td>\n",
       "    </tr>\n",
       "    <tr>\n",
       "      <th>1</th>\n",
       "      <td>12.4</td>\n",
       "      <td>0.035</td>\n",
       "      <td>0.32</td>\n",
       "      <td>0.9906</td>\n",
       "      <td>6.6</td>\n",
       "      <td>49.0</td>\n",
       "      <td>3.35</td>\n",
       "      <td>8</td>\n",
       "      <td>1.4</td>\n",
       "      <td>0.64</td>\n",
       "      <td>186.0</td>\n",
       "      <td>0.16</td>\n",
       "      <td>0</td>\n",
       "    </tr>\n",
       "    <tr>\n",
       "      <th>2</th>\n",
       "      <td>9.4</td>\n",
       "      <td>0.080</td>\n",
       "      <td>0.42</td>\n",
       "      <td>0.9974</td>\n",
       "      <td>8.3</td>\n",
       "      <td>11.0</td>\n",
       "      <td>3.21</td>\n",
       "      <td>6</td>\n",
       "      <td>2.0</td>\n",
       "      <td>0.80</td>\n",
       "      <td>27.0</td>\n",
       "      <td>0.26</td>\n",
       "      <td>1</td>\n",
       "    </tr>\n",
       "    <tr>\n",
       "      <th>3</th>\n",
       "      <td>10.3</td>\n",
       "      <td>0.031</td>\n",
       "      <td>0.49</td>\n",
       "      <td>0.9932</td>\n",
       "      <td>8.5</td>\n",
       "      <td>17.0</td>\n",
       "      <td>3.03</td>\n",
       "      <td>6</td>\n",
       "      <td>1.5</td>\n",
       "      <td>0.40</td>\n",
       "      <td>122.0</td>\n",
       "      <td>0.15</td>\n",
       "      <td>0</td>\n",
       "    </tr>\n",
       "    <tr>\n",
       "      <th>4</th>\n",
       "      <td>11.9</td>\n",
       "      <td>0.033</td>\n",
       "      <td>0.26</td>\n",
       "      <td>0.9903</td>\n",
       "      <td>6.1</td>\n",
       "      <td>61.0</td>\n",
       "      <td>3.19</td>\n",
       "      <td>7</td>\n",
       "      <td>1.7</td>\n",
       "      <td>0.81</td>\n",
       "      <td>134.0</td>\n",
       "      <td>0.24</td>\n",
       "      <td>0</td>\n",
       "    </tr>\n",
       "  </tbody>\n",
       "</table>\n",
       "</div>"
      ],
      "text/plain": [
       "   alcohol  chlorides  citric acid  density  fixed acidity  \\\n",
       "0      9.5      0.053         0.37   0.9992            6.9   \n",
       "1     12.4      0.035         0.32   0.9906            6.6   \n",
       "2      9.4      0.080         0.42   0.9974            8.3   \n",
       "3     10.3      0.031         0.49   0.9932            8.5   \n",
       "4     11.9      0.033         0.26   0.9903            6.1   \n",
       "\n",
       "   free sulfur dioxide    pH  quality  residual sugar  sulphates  \\\n",
       "0                 59.0  3.37        7            15.0       0.82   \n",
       "1                 49.0  3.35        8             1.4       0.64   \n",
       "2                 11.0  3.21        6             2.0       0.80   \n",
       "3                 17.0  3.03        6             1.5       0.40   \n",
       "4                 61.0  3.19        7             1.7       0.81   \n",
       "\n",
       "   total sulfur dioxide  volatile acidity  wine_type  \n",
       "0                 178.0              0.22          0  \n",
       "1                 186.0              0.16          0  \n",
       "2                  27.0              0.26          1  \n",
       "3                 122.0              0.15          0  \n",
       "4                 134.0              0.24          0  "
      ]
     },
     "execution_count": 41,
     "metadata": {},
     "output_type": "execute_result"
    }
   ],
   "source": [
    "df.head()"
   ]
  },
  {
   "cell_type": "code",
   "execution_count": 42,
   "metadata": {},
   "outputs": [],
   "source": [
    "X = np.array(df.drop(columns=['wine_type']))"
   ]
  },
  {
   "cell_type": "code",
   "execution_count": 43,
   "metadata": {},
   "outputs": [],
   "source": [
    "y = np.array(df.wine_type)"
   ]
  },
  {
   "cell_type": "code",
   "execution_count": 44,
   "metadata": {},
   "outputs": [
    {
     "data": {
      "text/plain": [
       "array([0, 0, 1, ..., 0, 0, 0], dtype=int64)"
      ]
     },
     "execution_count": 44,
     "metadata": {},
     "output_type": "execute_result"
    }
   ],
   "source": [
    "y"
   ]
  },
  {
   "cell_type": "code",
   "execution_count": 45,
   "metadata": {},
   "outputs": [],
   "source": [
    "y = y.reshape(-1,1)"
   ]
  },
  {
   "cell_type": "code",
   "execution_count": 46,
   "metadata": {},
   "outputs": [
    {
     "data": {
      "text/plain": [
       "array([[0],\n",
       "       [0],\n",
       "       [1],\n",
       "       ...,\n",
       "       [0],\n",
       "       [0],\n",
       "       [0]], dtype=int64)"
      ]
     },
     "execution_count": 46,
     "metadata": {},
     "output_type": "execute_result"
    }
   ],
   "source": [
    "y"
   ]
  },
  {
   "cell_type": "code",
   "execution_count": 47,
   "metadata": {},
   "outputs": [],
   "source": [
    "from sklearn import preprocessing"
   ]
  },
  {
   "cell_type": "code",
   "execution_count": 48,
   "metadata": {},
   "outputs": [
    {
     "name": "stderr",
     "output_type": "stream",
     "text": [
      "C:\\Users\\jnandikonda\\Anaconda3\\lib\\site-packages\\sklearn\\utils\\validation.py:475: DataConversionWarning: Data with input dtype int64 was converted to float64 by StandardScaler.\n",
      "  warnings.warn(msg, DataConversionWarning)\n"
     ]
    }
   ],
   "source": [
    "scaler = preprocessing.StandardScaler().fit(y)"
   ]
  },
  {
   "cell_type": "code",
   "execution_count": 49,
   "metadata": {},
   "outputs": [],
   "source": [
    "X = scaler.transform(X)"
   ]
  },
  {
   "cell_type": "code",
   "execution_count": 50,
   "metadata": {},
   "outputs": [
    {
     "data": {
      "text/plain": [
       "array([[0],\n",
       "       [0],\n",
       "       [1],\n",
       "       ...,\n",
       "       [0],\n",
       "       [0],\n",
       "       [0]], dtype=int64)"
      ]
     },
     "execution_count": 50,
     "metadata": {},
     "output_type": "execute_result"
    }
   ],
   "source": [
    "y"
   ]
  },
  {
   "cell_type": "code",
   "execution_count": 51,
   "metadata": {},
   "outputs": [],
   "source": [
    "from sklearn.model_selection import train_test_split"
   ]
  },
  {
   "cell_type": "code",
   "execution_count": 52,
   "metadata": {},
   "outputs": [],
   "source": [
    "X_train, X_test, y_train, y_test = train_test_split(X, y, test_size=0.25, random_state=42)"
   ]
  },
  {
   "cell_type": "code",
   "execution_count": 53,
   "metadata": {},
   "outputs": [
    {
     "data": {
      "text/plain": [
       "array([[ 2.54300654e+01, -2.76528923e-01,  1.01884775e-01, ...,\n",
       "         1.10015404e+00,  3.65735363e+01,  5.42980497e-01],\n",
       "       [ 2.14834195e+01, -4.55288768e-01,  1.25100340e-01, ...,\n",
       "         2.87609290e-01,  3.52305211e+02, -1.99917561e-01],\n",
       "       [ 2.28763534e+01, -3.85642075e-01,  4.26902675e-01, ...,\n",
       "         7.51920576e-01,  1.94439374e+02,  1.80822875e+00],\n",
       "       ...,\n",
       "       [ 2.03226413e+01, -3.46175616e-01, -5.71366589e-01, ...,\n",
       "         7.75136140e-01,  8.76477777e+01,  8.91213961e-01],\n",
       "       [ 2.54300654e+01, -4.39037873e-01,  4.03687111e-01, ...,\n",
       "         1.03050735e+00,  6.90753263e+01, -1.30270868e-01],\n",
       "       [ 2.26441977e+01, -4.39037873e-01,  1.94747032e-01, ...,\n",
       "         7.05489447e-01,  2.94266300e+02,  3.22380824e-02]])"
      ]
     },
     "execution_count": 53,
     "metadata": {},
     "output_type": "execute_result"
    }
   ],
   "source": [
    "X_train"
   ]
  },
  {
   "cell_type": "code",
   "execution_count": 54,
   "metadata": {},
   "outputs": [],
   "source": [
    "from sklearn import svm"
   ]
  },
  {
   "cell_type": "code",
   "execution_count": 55,
   "metadata": {},
   "outputs": [],
   "source": [
    "clf = svm.SVC()"
   ]
  },
  {
   "cell_type": "code",
   "execution_count": 56,
   "metadata": {},
   "outputs": [
    {
     "name": "stderr",
     "output_type": "stream",
     "text": [
      "C:\\Users\\jnandikonda\\Anaconda3\\lib\\site-packages\\sklearn\\utils\\validation.py:578: DataConversionWarning: A column-vector y was passed when a 1d array was expected. Please change the shape of y to (n_samples, ), for example using ravel().\n",
      "  y = column_or_1d(y, warn=True)\n"
     ]
    },
    {
     "data": {
      "text/plain": [
       "SVC(C=1.0, cache_size=200, class_weight=None, coef0=0.0,\n",
       "  decision_function_shape='ovr', degree=3, gamma='auto', kernel='rbf',\n",
       "  max_iter=-1, probability=False, random_state=None, shrinking=True,\n",
       "  tol=0.001, verbose=False)"
      ]
     },
     "execution_count": 56,
     "metadata": {},
     "output_type": "execute_result"
    }
   ],
   "source": [
    "clf.fit(X_train, y_train)"
   ]
  },
  {
   "cell_type": "code",
   "execution_count": 57,
   "metadata": {},
   "outputs": [
    {
     "data": {
      "text/plain": [
       "0.8726153846153846"
      ]
     },
     "execution_count": 57,
     "metadata": {},
     "output_type": "execute_result"
    }
   ],
   "source": [
    "clf.score(X_test, y_test)"
   ]
  },
  {
   "cell_type": "code",
   "execution_count": 58,
   "metadata": {},
   "outputs": [],
   "source": [
    "forecast_set = clf.predict(X_test)"
   ]
  },
  {
   "cell_type": "code",
   "execution_count": 59,
   "metadata": {},
   "outputs": [
    {
     "data": {
      "text/plain": [
       "array([0, 0, 0, 0, 0, 0, 0, 1, 0, 0], dtype=int64)"
      ]
     },
     "execution_count": 59,
     "metadata": {},
     "output_type": "execute_result"
    }
   ],
   "source": [
    "forecast_set[: 10]"
   ]
  },
  {
   "cell_type": "code",
   "execution_count": 60,
   "metadata": {},
   "outputs": [],
   "source": [
    "actual_set = y_test"
   ]
  },
  {
   "cell_type": "code",
   "execution_count": 61,
   "metadata": {},
   "outputs": [
    {
     "data": {
      "text/plain": [
       "array([[0],\n",
       "       [1],\n",
       "       [0],\n",
       "       [0],\n",
       "       [0],\n",
       "       [0],\n",
       "       [0],\n",
       "       [1],\n",
       "       [0],\n",
       "       [1]], dtype=int64)"
      ]
     },
     "execution_count": 61,
     "metadata": {},
     "output_type": "execute_result"
    }
   ],
   "source": [
    "actual_set[: 10]"
   ]
  },
  {
   "cell_type": "markdown",
   "metadata": {},
   "source": [
    "# Multiclass classification to predict the quality of the wine."
   ]
  },
  {
   "cell_type": "code",
   "execution_count": 62,
   "metadata": {},
   "outputs": [],
   "source": [
    "from sklearn.utils import shuffle\n",
    "df = shuffle(df)"
   ]
  },
  {
   "cell_type": "code",
   "execution_count": 63,
   "metadata": {},
   "outputs": [],
   "source": [
    "df.reset_index(drop=True, inplace=True)"
   ]
  },
  {
   "cell_type": "code",
   "execution_count": 64,
   "metadata": {},
   "outputs": [
    {
     "data": {
      "text/plain": [
       "(6497, 13)"
      ]
     },
     "execution_count": 64,
     "metadata": {},
     "output_type": "execute_result"
    }
   ],
   "source": [
    "df.shape"
   ]
  },
  {
   "cell_type": "code",
   "execution_count": 65,
   "metadata": {},
   "outputs": [],
   "source": [
    "X = np.array(df.drop(columns=['quality']))"
   ]
  },
  {
   "cell_type": "code",
   "execution_count": 66,
   "metadata": {},
   "outputs": [],
   "source": [
    "y = np.array(df.quality)"
   ]
  },
  {
   "cell_type": "code",
   "execution_count": 67,
   "metadata": {},
   "outputs": [
    {
     "data": {
      "text/plain": [
       "array([3, 4, 5, 6, 7, 8, 9], dtype=int64)"
      ]
     },
     "execution_count": 67,
     "metadata": {},
     "output_type": "execute_result"
    }
   ],
   "source": [
    "np.unique(df.quality)"
   ]
  },
  {
   "cell_type": "code",
   "execution_count": 68,
   "metadata": {},
   "outputs": [],
   "source": [
    "le = preprocessing.LabelEncoder()"
   ]
  },
  {
   "cell_type": "code",
   "execution_count": 69,
   "metadata": {},
   "outputs": [
    {
     "data": {
      "text/plain": [
       "array([3, 3, 2, ..., 3, 2, 3], dtype=int64)"
      ]
     },
     "execution_count": 69,
     "metadata": {},
     "output_type": "execute_result"
    }
   ],
   "source": [
    "le.fit_transform(y)"
   ]
  },
  {
   "cell_type": "code",
   "execution_count": 70,
   "metadata": {},
   "outputs": [
    {
     "data": {
      "text/plain": [
       "array([3, 4, 5, 6, 7, 8, 9], dtype=int64)"
      ]
     },
     "execution_count": 70,
     "metadata": {},
     "output_type": "execute_result"
    }
   ],
   "source": [
    "np.unique(y)"
   ]
  },
  {
   "cell_type": "code",
   "execution_count": null,
   "metadata": {},
   "outputs": [],
   "source": []
  },
  {
   "cell_type": "code",
   "execution_count": 71,
   "metadata": {},
   "outputs": [],
   "source": [
    "y = y.reshape(-1, 1)"
   ]
  },
  {
   "cell_type": "code",
   "execution_count": 72,
   "metadata": {},
   "outputs": [
    {
     "data": {
      "text/plain": [
       "array([[6],\n",
       "       [6],\n",
       "       [5],\n",
       "       ...,\n",
       "       [6],\n",
       "       [5],\n",
       "       [6]], dtype=int64)"
      ]
     },
     "execution_count": 72,
     "metadata": {},
     "output_type": "execute_result"
    }
   ],
   "source": [
    "y"
   ]
  },
  {
   "cell_type": "code",
   "execution_count": 73,
   "metadata": {},
   "outputs": [
    {
     "name": "stderr",
     "output_type": "stream",
     "text": [
      "C:\\Users\\jnandikonda\\Anaconda3\\lib\\site-packages\\sklearn\\utils\\validation.py:475: DataConversionWarning: Data with input dtype int64 was converted to float64 by StandardScaler.\n",
      "  warnings.warn(msg, DataConversionWarning)\n"
     ]
    }
   ],
   "source": [
    "scaler_multiclass = preprocessing.StandardScaler().fit(y)"
   ]
  },
  {
   "cell_type": "code",
   "execution_count": 74,
   "metadata": {},
   "outputs": [],
   "source": [
    "X = scaler_multiclass.transform(X)"
   ]
  },
  {
   "cell_type": "code",
   "execution_count": 75,
   "metadata": {},
   "outputs": [
    {
     "data": {
      "text/plain": [
       "array([[  4.67439084,  -6.61298287,  -6.35416119, ..., 112.44040807,\n",
       "         -6.53739778,  -6.66337293],\n",
       "       [  6.8503253 ,  -6.59465921,  -6.20528147, ...,  16.24120034,\n",
       "         -6.06785403,  -5.51814427],\n",
       "       [  3.52916217,  -6.62558039,  -6.17092461, ..., 256.73921967,\n",
       "         -6.36561348,  -6.66337293],\n",
       "       ...,\n",
       "       [  6.96484816,  -6.62099947,  -6.30835205, ...,  20.82211499,\n",
       "         -6.23963833,  -6.66337293],\n",
       "       [  4.21629937,  -6.6141281 ,  -6.36561348, ..., 146.79726797,\n",
       "         -6.26826904,  -6.66337293],\n",
       "       [  6.5067567 ,  -6.61756379,  -6.31980433, ...,  91.82629213,\n",
       "         -6.35416119,  -6.66337293]])"
      ]
     },
     "execution_count": 75,
     "metadata": {},
     "output_type": "execute_result"
    }
   ],
   "source": [
    "X"
   ]
  },
  {
   "cell_type": "code",
   "execution_count": 76,
   "metadata": {},
   "outputs": [],
   "source": [
    "X_train, X_test, y_train, y_test = train_test_split(X, y, test_size=0.25, random_state=42)"
   ]
  },
  {
   "cell_type": "code",
   "execution_count": 77,
   "metadata": {},
   "outputs": [],
   "source": [
    "clf = svm.SVC()"
   ]
  },
  {
   "cell_type": "code",
   "execution_count": 78,
   "metadata": {},
   "outputs": [
    {
     "name": "stderr",
     "output_type": "stream",
     "text": [
      "C:\\Users\\jnandikonda\\Anaconda3\\lib\\site-packages\\sklearn\\utils\\validation.py:578: DataConversionWarning: A column-vector y was passed when a 1d array was expected. Please change the shape of y to (n_samples, ), for example using ravel().\n",
      "  y = column_or_1d(y, warn=True)\n"
     ]
    },
    {
     "data": {
      "text/plain": [
       "SVC(C=1.0, cache_size=200, class_weight=None, coef0=0.0,\n",
       "  decision_function_shape='ovr', degree=3, gamma='auto', kernel='rbf',\n",
       "  max_iter=-1, probability=False, random_state=None, shrinking=True,\n",
       "  tol=0.001, verbose=False)"
      ]
     },
     "execution_count": 78,
     "metadata": {},
     "output_type": "execute_result"
    }
   ],
   "source": [
    "clf.fit(X_train, y_train)"
   ]
  },
  {
   "cell_type": "code",
   "execution_count": 79,
   "metadata": {},
   "outputs": [
    {
     "data": {
      "text/plain": [
       "0.5661538461538461"
      ]
     },
     "execution_count": 79,
     "metadata": {},
     "output_type": "execute_result"
    }
   ],
   "source": [
    "clf.score(X_test, y_test)"
   ]
  },
  {
   "cell_type": "code",
   "execution_count": 80,
   "metadata": {},
   "outputs": [],
   "source": [
    "forecast_set = clf.predict(X_test)"
   ]
  },
  {
   "cell_type": "code",
   "execution_count": 81,
   "metadata": {},
   "outputs": [
    {
     "data": {
      "text/plain": [
       "array([[5],\n",
       "       [6],\n",
       "       [5],\n",
       "       [6],\n",
       "       [5],\n",
       "       [7],\n",
       "       [5],\n",
       "       [6],\n",
       "       [5],\n",
       "       [6]], dtype=int64)"
      ]
     },
     "execution_count": 81,
     "metadata": {},
     "output_type": "execute_result"
    }
   ],
   "source": [
    "forecast_set[: 10].reshape(-1, 1)"
   ]
  },
  {
   "cell_type": "code",
   "execution_count": 82,
   "metadata": {},
   "outputs": [],
   "source": [
    "actual_set = y_test"
   ]
  },
  {
   "cell_type": "code",
   "execution_count": 83,
   "metadata": {},
   "outputs": [
    {
     "data": {
      "text/plain": [
       "array([[5],\n",
       "       [5],\n",
       "       [5],\n",
       "       [6],\n",
       "       [6],\n",
       "       [7],\n",
       "       [5],\n",
       "       [7],\n",
       "       [5],\n",
       "       [7]], dtype=int64)"
      ]
     },
     "execution_count": 83,
     "metadata": {},
     "output_type": "execute_result"
    }
   ],
   "source": [
    "actual_set[: 10]"
   ]
  },
  {
   "cell_type": "code",
   "execution_count": null,
   "metadata": {},
   "outputs": [],
   "source": []
  },
  {
   "cell_type": "code",
   "execution_count": null,
   "metadata": {},
   "outputs": [],
   "source": []
  }
 ],
 "metadata": {
  "kernelspec": {
   "display_name": "Python 3",
   "language": "python",
   "name": "python3"
  },
  "language_info": {
   "codemirror_mode": {
    "name": "ipython",
    "version": 3
   },
   "file_extension": ".py",
   "mimetype": "text/x-python",
   "name": "python",
   "nbconvert_exporter": "python",
   "pygments_lexer": "ipython3",
   "version": "3.6.5"
  }
 },
 "nbformat": 4,
 "nbformat_minor": 2
}
